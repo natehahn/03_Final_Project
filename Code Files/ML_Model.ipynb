{
 "cells": [
  {
   "cell_type": "code",
   "execution_count": 1,
   "id": "17100192",
   "metadata": {},
   "outputs": [],
   "source": [
    "import pandas as pd\n",
    "from pathlib import Path\n",
    "import matplotlib.pyplot as plt\n",
    "from sklearn.linear_model import LinearRegression"
   ]
  },
  {
   "cell_type": "code",
   "execution_count": 2,
   "id": "ea237f86",
   "metadata": {},
   "outputs": [],
   "source": [
    "from sklearn.metrics import balanced_accuracy_score\n",
    "from sklearn.metrics import confusion_matrix\n",
    "from imblearn.metrics import classification_report_imbalanced\n",
    "from sklearn import metrics as ms\n",
    "import numpy as np"
   ]
  },
  {
   "cell_type": "code",
   "execution_count": 3,
   "id": "0b8d67e1",
   "metadata": {},
   "outputs": [
    {
     "data": {
      "text/html": [
       "<div>\n",
       "<style scoped>\n",
       "    .dataframe tbody tr th:only-of-type {\n",
       "        vertical-align: middle;\n",
       "    }\n",
       "\n",
       "    .dataframe tbody tr th {\n",
       "        vertical-align: top;\n",
       "    }\n",
       "\n",
       "    .dataframe thead th {\n",
       "        text-align: right;\n",
       "    }\n",
       "</style>\n",
       "<table border=\"1\" class=\"dataframe\">\n",
       "  <thead>\n",
       "    <tr style=\"text-align: right;\">\n",
       "      <th></th>\n",
       "      <th>country_code</th>\n",
       "      <th>area</th>\n",
       "      <th>year_pc</th>\n",
       "      <th>CO2_emissions_tonnes</th>\n",
       "      <th>Population</th>\n",
       "      <th>category_code_1</th>\n",
       "      <th>food_product_categories_1</th>\n",
       "      <th>production_tonnes_1</th>\n",
       "      <th>total_kgs_CO2_1</th>\n",
       "      <th>category_code_2</th>\n",
       "      <th>...</th>\n",
       "      <th>production_tonnes_41</th>\n",
       "      <th>total_kgs_CO2_41</th>\n",
       "      <th>category_code_42</th>\n",
       "      <th>food_product_categories_42</th>\n",
       "      <th>production_tonnes_42</th>\n",
       "      <th>total_kgs_CO2_42</th>\n",
       "      <th>category_code_43</th>\n",
       "      <th>food_product_categories_43</th>\n",
       "      <th>production_tonnes_43</th>\n",
       "      <th>total_kgs_CO2_43</th>\n",
       "    </tr>\n",
       "  </thead>\n",
       "  <tbody>\n",
       "    <tr>\n",
       "      <th>0</th>\n",
       "      <td>0</td>\n",
       "      <td>Afghanistan</td>\n",
       "      <td>2000</td>\n",
       "      <td>71679740.0</td>\n",
       "      <td>19542982.0</td>\n",
       "      <td>1</td>\n",
       "      <td>Apples</td>\n",
       "      <td>40540.06</td>\n",
       "      <td>58783.0870</td>\n",
       "      <td>2</td>\n",
       "      <td>...</td>\n",
       "      <td>0.0</td>\n",
       "      <td>0.0</td>\n",
       "      <td>42</td>\n",
       "      <td>Wheat &amp; Rye (Bread)</td>\n",
       "      <td>1470000.0</td>\n",
       "      <td>10518040.0</td>\n",
       "      <td>43</td>\n",
       "      <td>Wine</td>\n",
       "      <td>0.0</td>\n",
       "      <td>0.0</td>\n",
       "    </tr>\n",
       "    <tr>\n",
       "      <th>1</th>\n",
       "      <td>0</td>\n",
       "      <td>Afghanistan</td>\n",
       "      <td>2001</td>\n",
       "      <td>72477702.0</td>\n",
       "      <td>19688632.0</td>\n",
       "      <td>1</td>\n",
       "      <td>Apples</td>\n",
       "      <td>39541.74</td>\n",
       "      <td>57335.5230</td>\n",
       "      <td>2</td>\n",
       "      <td>...</td>\n",
       "      <td>0.0</td>\n",
       "      <td>0.0</td>\n",
       "      <td>42</td>\n",
       "      <td>Wheat &amp; Rye (Bread)</td>\n",
       "      <td>1600000.0</td>\n",
       "      <td>11434520.0</td>\n",
       "      <td>43</td>\n",
       "      <td>Wine</td>\n",
       "      <td>0.0</td>\n",
       "      <td>0.0</td>\n",
       "    </tr>\n",
       "    <tr>\n",
       "      <th>2</th>\n",
       "      <td>0</td>\n",
       "      <td>Afghanistan</td>\n",
       "      <td>2002</td>\n",
       "      <td>73529311.0</td>\n",
       "      <td>21000256.0</td>\n",
       "      <td>1</td>\n",
       "      <td>Apples</td>\n",
       "      <td>35630.08</td>\n",
       "      <td>51663.6160</td>\n",
       "      <td>2</td>\n",
       "      <td>...</td>\n",
       "      <td>0.0</td>\n",
       "      <td>0.0</td>\n",
       "      <td>42</td>\n",
       "      <td>Wheat &amp; Rye (Bread)</td>\n",
       "      <td>2690000.0</td>\n",
       "      <td>19231760.0</td>\n",
       "      <td>43</td>\n",
       "      <td>Wine</td>\n",
       "      <td>0.0</td>\n",
       "      <td>0.0</td>\n",
       "    </tr>\n",
       "    <tr>\n",
       "      <th>3</th>\n",
       "      <td>0</td>\n",
       "      <td>Afghanistan</td>\n",
       "      <td>2003</td>\n",
       "      <td>74715262.0</td>\n",
       "      <td>22645130.0</td>\n",
       "      <td>1</td>\n",
       "      <td>Apples</td>\n",
       "      <td>28042.99</td>\n",
       "      <td>40662.3355</td>\n",
       "      <td>2</td>\n",
       "      <td>...</td>\n",
       "      <td>0.0</td>\n",
       "      <td>0.0</td>\n",
       "      <td>42</td>\n",
       "      <td>Wheat &amp; Rye (Bread)</td>\n",
       "      <td>3480000.0</td>\n",
       "      <td>24916800.0</td>\n",
       "      <td>43</td>\n",
       "      <td>Wine</td>\n",
       "      <td>0.0</td>\n",
       "      <td>0.0</td>\n",
       "    </tr>\n",
       "    <tr>\n",
       "      <th>4</th>\n",
       "      <td>0</td>\n",
       "      <td>Afghanistan</td>\n",
       "      <td>2004</td>\n",
       "      <td>75604429.0</td>\n",
       "      <td>23553551.0</td>\n",
       "      <td>1</td>\n",
       "      <td>Apples</td>\n",
       "      <td>16691.83</td>\n",
       "      <td>24203.1535</td>\n",
       "      <td>2</td>\n",
       "      <td>...</td>\n",
       "      <td>0.0</td>\n",
       "      <td>0.0</td>\n",
       "      <td>42</td>\n",
       "      <td>Wheat &amp; Rye (Bread)</td>\n",
       "      <td>2390000.0</td>\n",
       "      <td>17112400.0</td>\n",
       "      <td>43</td>\n",
       "      <td>Wine</td>\n",
       "      <td>0.0</td>\n",
       "      <td>0.0</td>\n",
       "    </tr>\n",
       "  </tbody>\n",
       "</table>\n",
       "<p>5 rows × 161 columns</p>\n",
       "</div>"
      ],
      "text/plain": [
       "   country_code         area  year_pc  CO2_emissions_tonnes  Population  \\\n",
       "0             0  Afghanistan     2000            71679740.0  19542982.0   \n",
       "1             0  Afghanistan     2001            72477702.0  19688632.0   \n",
       "2             0  Afghanistan     2002            73529311.0  21000256.0   \n",
       "3             0  Afghanistan     2003            74715262.0  22645130.0   \n",
       "4             0  Afghanistan     2004            75604429.0  23553551.0   \n",
       "\n",
       "   category_code_1 food_product_categories_1  production_tonnes_1  \\\n",
       "0                1                    Apples             40540.06   \n",
       "1                1                    Apples             39541.74   \n",
       "2                1                    Apples             35630.08   \n",
       "3                1                    Apples             28042.99   \n",
       "4                1                    Apples             16691.83   \n",
       "\n",
       "   total_kgs_CO2_1  category_code_2  ... production_tonnes_41  \\\n",
       "0       58783.0870                2  ...                  0.0   \n",
       "1       57335.5230                2  ...                  0.0   \n",
       "2       51663.6160                2  ...                  0.0   \n",
       "3       40662.3355                2  ...                  0.0   \n",
       "4       24203.1535                2  ...                  0.0   \n",
       "\n",
       "   total_kgs_CO2_41  category_code_42  food_product_categories_42  \\\n",
       "0               0.0                42         Wheat & Rye (Bread)   \n",
       "1               0.0                42         Wheat & Rye (Bread)   \n",
       "2               0.0                42         Wheat & Rye (Bread)   \n",
       "3               0.0                42         Wheat & Rye (Bread)   \n",
       "4               0.0                42         Wheat & Rye (Bread)   \n",
       "\n",
       "  production_tonnes_42  total_kgs_CO2_42  category_code_43  \\\n",
       "0            1470000.0        10518040.0                43   \n",
       "1            1600000.0        11434520.0                43   \n",
       "2            2690000.0        19231760.0                43   \n",
       "3            3480000.0        24916800.0                43   \n",
       "4            2390000.0        17112400.0                43   \n",
       "\n",
       "   food_product_categories_43 production_tonnes_43  total_kgs_CO2_43  \n",
       "0                        Wine                  0.0               0.0  \n",
       "1                        Wine                  0.0               0.0  \n",
       "2                        Wine                  0.0               0.0  \n",
       "3                        Wine                  0.0               0.0  \n",
       "4                        Wine                  0.0               0.0  \n",
       "\n",
       "[5 rows x 161 columns]"
      ]
     },
     "execution_count": 3,
     "metadata": {},
     "output_type": "execute_result"
    }
   ],
   "source": [
    "# Read in the files\n",
    "df=pd.read_csv('..//ML_Table.csv')\n",
    "df.head()"
   ]
  },
  {
   "cell_type": "code",
   "execution_count": 4,
   "id": "ac0e7750",
   "metadata": {},
   "outputs": [
    {
     "data": {
      "text/plain": [
       "(4201, 38)"
      ]
     },
     "execution_count": 4,
     "metadata": {},
     "output_type": "execute_result"
    }
   ],
   "source": [
    "# Set variables\n",
    "y = df ['CO2_emissions_tonnes']\n",
    "X = df [['total_kgs_CO2_1','total_kgs_CO2_2','total_kgs_CO2_3','total_kgs_CO2_4','total_kgs_CO2_6','total_kgs_CO2_','total_kgs_CO2_8','total_kgs_CO2_9','total_kgs_CO2_10','total_kgs_CO2_11','total_kgs_CO2_12','total_kgs_CO2_13','total_kgs_CO2_14','total_kgs_CO2_15','total_kgs_CO2_18','total_kgs_CO2_19','total_kgs_CO2_20','total_kgs_CO2_21','total_kgs_CO2_22','total_kgs_CO2_23','total_kgs_CO2_24','total_kgs_CO2_25','total_kgs_CO2_26','total_kgs_CO2_27','total_kgs_CO2_28','total_kgs_CO2_29','total_kgs_CO2_30','total_kgs_CO2_31','total_kgs_CO2_32','total_kgs_CO_33','total_kgs_CO2_34','total_kgs_CO2_35','total_kgs_CO2_37','total_kgs_CO2_39','total_kgs_CO2_40','total_kgs_CO2_41','total_kgs_CO2_42','total_kgs_CO2_43']]\n",
    "X.shape"
   ]
  },
  {
   "cell_type": "code",
   "execution_count": 5,
   "id": "5521d32e",
   "metadata": {},
   "outputs": [
    {
     "data": {
      "text/plain": [
       "(3150, 38)"
      ]
     },
     "execution_count": 5,
     "metadata": {},
     "output_type": "execute_result"
    }
   ],
   "source": [
    "# Split data into training and testing\n",
    "from sklearn.model_selection import train_test_split\n",
    "X_train, X_test, y_train, y_test = train_test_split(X, y, random_state=1)\n",
    "X_train.shape"
   ]
  },
  {
   "cell_type": "code",
   "execution_count": 6,
   "id": "aa27ee3d",
   "metadata": {},
   "outputs": [
    {
     "name": "stdout",
     "output_type": "stream",
     "text": [
      "Random Forest Regressor\n"
     ]
    }
   ],
   "source": [
    "txt = \"Random Forest Regressor\"\n",
    "\n",
    "x = txt.title()\n",
    "\n",
    "print(x)"
   ]
  },
  {
   "cell_type": "code",
   "execution_count": 7,
   "id": "83fe1937",
   "metadata": {},
   "outputs": [
    {
     "data": {
      "text/plain": [
       "RandomForestRegressor(n_estimators=10, random_state=0)"
      ]
     },
     "execution_count": 7,
     "metadata": {},
     "output_type": "execute_result"
    }
   ],
   "source": [
    "# Fitting Random Forest Regression to the dataset\n",
    "from sklearn.ensemble import RandomForestRegressor\n",
    "regressor = RandomForestRegressor(n_estimators = 10, random_state = 0)\n",
    "regressor.fit(X_train, y_train)"
   ]
  },
  {
   "cell_type": "code",
   "execution_count": 8,
   "id": "316e9344",
   "metadata": {},
   "outputs": [
    {
     "data": {
      "text/plain": [
       "array([4.52797702e+07, 3.78274272e+07, 4.98235618e+07, ...,\n",
       "       8.63382350e+10, 4.04652160e+06, 2.01340464e+07])"
      ]
     },
     "execution_count": 8,
     "metadata": {},
     "output_type": "execute_result"
    }
   ],
   "source": [
    "y_pred = regressor.predict(X_test)\n",
    "y_pred"
   ]
  },
  {
   "cell_type": "code",
   "execution_count": 9,
   "id": "9868a492",
   "metadata": {},
   "outputs": [
    {
     "data": {
      "text/html": [
       "<div>\n",
       "<style scoped>\n",
       "    .dataframe tbody tr th:only-of-type {\n",
       "        vertical-align: middle;\n",
       "    }\n",
       "\n",
       "    .dataframe tbody tr th {\n",
       "        vertical-align: top;\n",
       "    }\n",
       "\n",
       "    .dataframe thead th {\n",
       "        text-align: right;\n",
       "    }\n",
       "</style>\n",
       "<table border=\"1\" class=\"dataframe\">\n",
       "  <thead>\n",
       "    <tr style=\"text-align: right;\">\n",
       "      <th></th>\n",
       "      <th>Real Values</th>\n",
       "      <th>Predicted Values</th>\n",
       "    </tr>\n",
       "  </thead>\n",
       "  <tbody>\n",
       "    <tr>\n",
       "      <th>3604</th>\n",
       "      <td>4.245974e+07</td>\n",
       "      <td>4.527977e+07</td>\n",
       "    </tr>\n",
       "    <tr>\n",
       "      <th>781</th>\n",
       "      <td>3.788563e+07</td>\n",
       "      <td>3.782743e+07</td>\n",
       "    </tr>\n",
       "    <tr>\n",
       "      <th>2165</th>\n",
       "      <td>4.881502e+07</td>\n",
       "      <td>4.982356e+07</td>\n",
       "    </tr>\n",
       "    <tr>\n",
       "      <th>1217</th>\n",
       "      <td>4.942875e+07</td>\n",
       "      <td>4.399466e+07</td>\n",
       "    </tr>\n",
       "    <tr>\n",
       "      <th>1006</th>\n",
       "      <td>7.199476e+08</td>\n",
       "      <td>1.518572e+09</td>\n",
       "    </tr>\n",
       "    <tr>\n",
       "      <th>...</th>\n",
       "      <td>...</td>\n",
       "      <td>...</td>\n",
       "    </tr>\n",
       "    <tr>\n",
       "      <th>2907</th>\n",
       "      <td>2.624575e+10</td>\n",
       "      <td>4.270512e+10</td>\n",
       "    </tr>\n",
       "    <tr>\n",
       "      <th>3630</th>\n",
       "      <td>3.550416e+06</td>\n",
       "      <td>3.275250e+06</td>\n",
       "    </tr>\n",
       "    <tr>\n",
       "      <th>3000</th>\n",
       "      <td>8.785206e+10</td>\n",
       "      <td>8.633823e+10</td>\n",
       "    </tr>\n",
       "    <tr>\n",
       "      <th>982</th>\n",
       "      <td>4.187952e+06</td>\n",
       "      <td>4.046522e+06</td>\n",
       "    </tr>\n",
       "    <tr>\n",
       "      <th>1176</th>\n",
       "      <td>1.725011e+07</td>\n",
       "      <td>2.013405e+07</td>\n",
       "    </tr>\n",
       "  </tbody>\n",
       "</table>\n",
       "<p>1051 rows × 2 columns</p>\n",
       "</div>"
      ],
      "text/plain": [
       "       Real Values  Predicted Values\n",
       "3604  4.245974e+07      4.527977e+07\n",
       "781   3.788563e+07      3.782743e+07\n",
       "2165  4.881502e+07      4.982356e+07\n",
       "1217  4.942875e+07      4.399466e+07\n",
       "1006  7.199476e+08      1.518572e+09\n",
       "...            ...               ...\n",
       "2907  2.624575e+10      4.270512e+10\n",
       "3630  3.550416e+06      3.275250e+06\n",
       "3000  8.785206e+10      8.633823e+10\n",
       "982   4.187952e+06      4.046522e+06\n",
       "1176  1.725011e+07      2.013405e+07\n",
       "\n",
       "[1051 rows x 2 columns]"
      ]
     },
     "execution_count": 9,
     "metadata": {},
     "output_type": "execute_result"
    }
   ],
   "source": [
    "pred_df = pd.DataFrame({'Real Values':y_test, 'Predicted Values':y_pred})\n",
    "pred_df"
   ]
  },
  {
   "cell_type": "code",
   "execution_count": 10,
   "id": "efda2c6a",
   "metadata": {},
   "outputs": [
    {
     "data": {
      "image/png": "[encoded data removed]",
      "text/plain": [
       "<Figure size 500x500 with 1 Axes>"
      ]
     },
     "metadata": {},
     "output_type": "display_data"
    }
   ],
   "source": [
    "# Plot real values vs predicted\n",
    "plt.figure(figsize=(5,5))\n",
    "plt.scatter(pred_df['Real Values'], pred_df['Predicted Values'])\n",
    "plt.show()                                            "
   ]
  },
  {
   "cell_type": "code",
   "execution_count": 11,
   "id": "7b5eff0c",
   "metadata": {},
   "outputs": [
    {
     "name": "stdout",
     "output_type": "stream",
     "text": [
      "total_kgs_CO2_32: (0.3829163226248903)\n",
      "total_kgs_CO2_19: (0.3713238332773105)\n",
      "total_kgs_CO2_3: (0.11906291247969591)\n",
      "total_kgs_CO_33: (0.05257237969863006)\n",
      "total_kgs_CO2_39: (0.028644740527340312)\n",
      "total_kgs_CO2_4: (0.0065279124317180245)\n",
      "total_kgs_CO2_8: (0.0044324793176801405)\n",
      "total_kgs_CO2_6: (0.00409624006195224)\n",
      "total_kgs_CO2_29: (0.003799460280543747)\n",
      "total_kgs_CO2_31: (0.003615561979289842)\n",
      "total_kgs_CO2_23: (0.002994254325689148)\n",
      "total_kgs_CO2_25: (0.0022541039019453816)\n",
      "total_kgs_CO2_18: (0.0020499997991848397)\n",
      "total_kgs_CO2_30: (0.001871503911575716)\n",
      "total_kgs_CO2_1: (0.001708065116176341)\n",
      "total_kgs_CO2_15: (0.0016285217820676688)\n",
      "total_kgs_CO2_20: (0.0013019797640675388)\n",
      "total_kgs_CO2_22: (0.001270691914832161)\n",
      "total_kgs_CO2_21: (0.0010855079645691018)\n",
      "total_kgs_CO2_24: (0.0010541451740806093)\n",
      "total_kgs_CO2_35: (0.0008016539017839587)\n",
      "total_kgs_CO2_: (0.0006339659285094808)\n",
      "total_kgs_CO2_9: (0.0005825881688420241)\n",
      "total_kgs_CO2_11: (0.0005103970466823654)\n",
      "total_kgs_CO2_27: (0.000505086323006053)\n",
      "total_kgs_CO2_2: (0.00047944343467605424)\n",
      "total_kgs_CO2_37: (0.00043804209202212476)\n",
      "total_kgs_CO2_43: (0.00034822699158995596)\n",
      "total_kgs_CO2_13: (0.000315437148787773)\n",
      "total_kgs_CO2_28: (0.0002478194844618299)\n",
      "total_kgs_CO2_34: (0.00023944652605550586)\n",
      "total_kgs_CO2_42: (0.00021222835923670482)\n",
      "total_kgs_CO2_40: (0.0001887680980602595)\n",
      "total_kgs_CO2_12: (0.00010616207931231503)\n",
      "total_kgs_CO2_41: (7.989867303800671e-05)\n",
      "total_kgs_CO2_26: (7.06260854569886e-05)\n",
      "total_kgs_CO2_10: (2.4098912813335527e-05)\n",
      "total_kgs_CO2_14: (5.494412425669942e-06)\n"
     ]
    }
   ],
   "source": [
    "# List the features sorted in descending order by feature importance\n",
    "importance_sorted_idx = regressor.feature_importances_.argsort()[::-1]\n",
    "for i in importance_sorted_idx:\n",
    "    print(f\"{X.columns[i]}: ({regressor.feature_importances_[i]})\")"
   ]
  },
  {
   "cell_type": "code",
   "execution_count": 12,
   "id": "a61d4bb5",
   "metadata": {},
   "outputs": [],
   "source": [
    "# Import library for metrics\n",
    "from sklearn.metrics import mean_squared_error, r2_score, mean_absolute_error"
   ]
  },
  {
   "cell_type": "code",
   "execution_count": 13,
   "id": "37ede0e9",
   "metadata": {},
   "outputs": [
    {
     "name": "stdout",
     "output_type": "stream",
     "text": [
      "Mean Absolute Error: 481368602.38\n",
      "Mean Squared Error: 8.93989705992044e+18\n",
      "R-squared scores: 0.99\n"
     ]
    }
   ],
   "source": [
    "# Mean absolute error (MAE)\n",
    "mae = mean_absolute_error(y_test, y_pred)\n",
    "\n",
    "# Mean squared error (MSE)\n",
    "mse = mean_squared_error(y_test, y_pred)\n",
    "\n",
    "# R-squared scores\n",
    "r2 = r2_score(y_test, y_pred)\n",
    "\n",
    "# Print metrics\n",
    "print('Mean Absolute Error:', round(mae, 2))\n",
    "print('Mean Squared Error:', round(mse, 2))\n",
    "print('R-squared scores:', round(r2, 2))"
   ]
  },
  {
   "cell_type": "code",
   "execution_count": 14,
   "id": "417ca010",
   "metadata": {},
   "outputs": [
    {
     "data": {
      "text/plain": [
       "ExtraTreesRegressor(n_estimators=10, random_state=0)"
      ]
     },
     "execution_count": 14,
     "metadata": {},
     "output_type": "execute_result"
    }
   ],
   "source": [
    "# Fitting Extra Trees Regressor to the dataset\n",
    "from sklearn.ensemble import ExtraTreesRegressor\n",
    "etr = ExtraTreesRegressor(n_estimators = 10, random_state = 0)\n",
    "etr.fit(X_train, y_train)"
   ]
  },
  {
   "cell_type": "code",
   "execution_count": 15,
   "id": "1f0516ee",
   "metadata": {},
   "outputs": [
    {
     "data": {
      "text/plain": [
       "array([2.26449501e+08, 3.90939604e+07, 4.81097071e+07, ...,\n",
       "       8.86245140e+10, 3.96682120e+06, 2.10024144e+07])"
      ]
     },
     "execution_count": 15,
     "metadata": {},
     "output_type": "execute_result"
    }
   ],
   "source": [
    "y_pred = etr.predict(X_test)\n",
    "y_pred"
   ]
  },
  {
   "cell_type": "code",
   "execution_count": 16,
   "id": "42d62613",
   "metadata": {},
   "outputs": [
    {
     "data": {
      "text/html": [
       "<div>\n",
       "<style scoped>\n",
       "    .dataframe tbody tr th:only-of-type {\n",
       "        vertical-align: middle;\n",
       "    }\n",
       "\n",
       "    .dataframe tbody tr th {\n",
       "        vertical-align: top;\n",
       "    }\n",
       "\n",
       "    .dataframe thead th {\n",
       "        text-align: right;\n",
       "    }\n",
       "</style>\n",
       "<table border=\"1\" class=\"dataframe\">\n",
       "  <thead>\n",
       "    <tr style=\"text-align: right;\">\n",
       "      <th></th>\n",
       "      <th>Real Values</th>\n",
       "      <th>Predicted Values</th>\n",
       "    </tr>\n",
       "  </thead>\n",
       "  <tbody>\n",
       "    <tr>\n",
       "      <th>3604</th>\n",
       "      <td>4.245974e+07</td>\n",
       "      <td>2.264495e+08</td>\n",
       "    </tr>\n",
       "    <tr>\n",
       "      <th>781</th>\n",
       "      <td>3.788563e+07</td>\n",
       "      <td>3.909396e+07</td>\n",
       "    </tr>\n",
       "    <tr>\n",
       "      <th>2165</th>\n",
       "      <td>4.881502e+07</td>\n",
       "      <td>4.810971e+07</td>\n",
       "    </tr>\n",
       "    <tr>\n",
       "      <th>1217</th>\n",
       "      <td>4.942875e+07</td>\n",
       "      <td>2.259480e+08</td>\n",
       "    </tr>\n",
       "    <tr>\n",
       "      <th>1006</th>\n",
       "      <td>7.199476e+08</td>\n",
       "      <td>6.803526e+08</td>\n",
       "    </tr>\n",
       "    <tr>\n",
       "      <th>...</th>\n",
       "      <td>...</td>\n",
       "      <td>...</td>\n",
       "    </tr>\n",
       "    <tr>\n",
       "      <th>2907</th>\n",
       "      <td>2.624575e+10</td>\n",
       "      <td>2.686362e+10</td>\n",
       "    </tr>\n",
       "    <tr>\n",
       "      <th>3630</th>\n",
       "      <td>3.550416e+06</td>\n",
       "      <td>3.751776e+06</td>\n",
       "    </tr>\n",
       "    <tr>\n",
       "      <th>3000</th>\n",
       "      <td>8.785206e+10</td>\n",
       "      <td>8.862451e+10</td>\n",
       "    </tr>\n",
       "    <tr>\n",
       "      <th>982</th>\n",
       "      <td>4.187952e+06</td>\n",
       "      <td>3.966821e+06</td>\n",
       "    </tr>\n",
       "    <tr>\n",
       "      <th>1176</th>\n",
       "      <td>1.725011e+07</td>\n",
       "      <td>2.100241e+07</td>\n",
       "    </tr>\n",
       "  </tbody>\n",
       "</table>\n",
       "<p>1051 rows × 2 columns</p>\n",
       "</div>"
      ],
      "text/plain": [
       "       Real Values  Predicted Values\n",
       "3604  4.245974e+07      2.264495e+08\n",
       "781   3.788563e+07      3.909396e+07\n",
       "2165  4.881502e+07      4.810971e+07\n",
       "1217  4.942875e+07      2.259480e+08\n",
       "1006  7.199476e+08      6.803526e+08\n",
       "...            ...               ...\n",
       "2907  2.624575e+10      2.686362e+10\n",
       "3630  3.550416e+06      3.751776e+06\n",
       "3000  8.785206e+10      8.862451e+10\n",
       "982   4.187952e+06      3.966821e+06\n",
       "1176  1.725011e+07      2.100241e+07\n",
       "\n",
       "[1051 rows x 2 columns]"
      ]
     },
     "execution_count": 16,
     "metadata": {},
     "output_type": "execute_result"
    }
   ],
   "source": [
    "pred_df = pd.DataFrame({'Real Values':y_test, 'Predicted Values':y_pred})\n",
    "pred_df"
   ]
  },
  {
   "cell_type": "code",
   "execution_count": 17,
   "id": "42dc1fb5",
   "metadata": {},
   "outputs": [
    {
     "data": {
      "image/png": "[encoded data removed]",
      "text/plain": [
       "<Figure size 500x500 with 1 Axes>"
      ]
     },
     "metadata": {},
     "output_type": "display_data"
    }
   ],
   "source": [
    "# Plot real values vs predicted\n",
    "plt.figure(figsize=(5,5))\n",
    "plt.scatter(pred_df['Real Values'], pred_df['Predicted Values'])\n",
    "plt.show() "
   ]
  },
  {
   "cell_type": "code",
   "execution_count": 19,
   "id": "d1bb7276",
   "metadata": {},
   "outputs": [
    {
     "name": "stdout",
     "output_type": "stream",
     "text": [
      "total_kgs_CO2_19: (0.4207381956512852)\n",
      "total_kgs_CO2_32: (0.1356238947451423)\n",
      "total_kgs_CO2_3: (0.11210502925121384)\n",
      "total_kgs_CO2_11: (0.09877727956845431)\n",
      "total_kgs_CO2_4: (0.0687684793460572)\n",
      "total_kgs_CO_33: (0.02937452752956473)\n",
      "total_kgs_CO2_23: (0.018779484765349626)\n",
      "total_kgs_CO2_18: (0.012174755475440344)\n",
      "total_kgs_CO2_15: (0.011327117050498652)\n",
      "total_kgs_CO2_6: (0.009292426645725542)\n",
      "total_kgs_CO2_8: (0.007852060899869263)\n",
      "total_kgs_CO2_30: (0.006789026345250688)\n",
      "total_kgs_CO2_29: (0.006716343243549366)\n",
      "total_kgs_CO2_27: (0.006545925289845465)\n",
      "total_kgs_CO2_40: (0.006222185595158248)\n",
      "total_kgs_CO2_21: (0.005845869356753944)\n",
      "total_kgs_CO2_10: (0.005542144989503107)\n",
      "total_kgs_CO2_: (0.004348259394504023)\n",
      "total_kgs_CO2_20: (0.003995871119545557)\n",
      "total_kgs_CO2_2: (0.003934148619672602)\n",
      "total_kgs_CO2_22: (0.0037351694750661557)\n",
      "total_kgs_CO2_25: (0.0030419550106730343)\n",
      "total_kgs_CO2_12: (0.0029266974276105392)\n",
      "total_kgs_CO2_35: (0.0022780146541760715)\n",
      "total_kgs_CO2_39: (0.0020455821396754867)\n",
      "total_kgs_CO2_41: (0.001987088784383333)\n",
      "total_kgs_CO2_31: (0.001943969413121195)\n",
      "total_kgs_CO2_42: (0.0015367795305627511)\n",
      "total_kgs_CO2_13: (0.0011897116896724543)\n",
      "total_kgs_CO2_26: (0.0011045249286043897)\n",
      "total_kgs_CO2_24: (0.0007062691626813462)\n",
      "total_kgs_CO2_37: (0.000699224726462578)\n",
      "total_kgs_CO2_43: (0.0006384229540194266)\n",
      "total_kgs_CO2_34: (0.0005480995353709957)\n",
      "total_kgs_CO2_1: (0.00040647345686113515)\n",
      "total_kgs_CO2_9: (0.00036620503852345746)\n",
      "total_kgs_CO2_28: (6.327839364987043e-05)\n",
      "total_kgs_CO2_14: (2.9508796501497505e-05)\n"
     ]
    }
   ],
   "source": [
    "# List the features of Extra Trees Regressor sorted in descending order by feature importance\n",
    "importance_sorted_idx = etr.feature_importances_.argsort()[::-1]\n",
    "for i in importance_sorted_idx:\n",
    "    print(f\"{X.columns[i]}: ({etr.feature_importances_[i]})\")"
   ]
  },
  {
   "cell_type": "code",
   "execution_count": 20,
   "id": "d926f0e9",
   "metadata": {},
   "outputs": [
    {
     "name": "stdout",
     "output_type": "stream",
     "text": [
      "Mean Absolute Error: 354679247.23\n",
      "Mean Squared Error: 3.7943319568033756e+18\n",
      "R-squared scores: 1.0\n"
     ]
    }
   ],
   "source": [
    "# Mean absolute error (MAE)\n",
    "mae = mean_absolute_error(y_test, y_pred)\n",
    "\n",
    "# Mean squared error (MSE)\n",
    "mse = mean_squared_error(y_test, y_pred)\n",
    "\n",
    "# R-squared scores\n",
    "r2 = r2_score(y_test, y_pred)\n",
    "\n",
    "# Print metrics\n",
    "print('Mean Absolute Error:', round(mae, 2))\n",
    "print('Mean Squared Error:', round(mse, 2))\n",
    "print('R-squared scores:', round(r2, 2))"
   ]
  },
  {
   "cell_type": "code",
   "execution_count": 21,
   "id": "91db6709",
   "metadata": {},
   "outputs": [
    {
     "data": {
      "text/plain": [
       "XGBRegressor(base_score=0.5, booster='gbtree', callbacks=None,\n",
       "             colsample_bylevel=1, colsample_bynode=1, colsample_bytree=1,\n",
       "             early_stopping_rounds=None, enable_categorical=False,\n",
       "             eval_metric=None, gamma=0, gpu_id=-1, grow_policy='depthwise',\n",
       "             importance_type=None, interaction_constraints='',\n",
       "             learning_rate=0.300000012, max_bin=256, max_cat_to_onehot=4,\n",
       "             max_delta_step=0, max_depth=6, max_leaves=0, min_child_weight=1,\n",
       "             missing=nan, monotone_constraints='()', n_estimators=10, n_jobs=0,\n",
       "             num_parallel_tree=1, predictor='auto', random_state=0, reg_alpha=0,\n",
       "             reg_lambda=1, ...)"
      ]
     },
     "execution_count": 21,
     "metadata": {},
     "output_type": "execute_result"
    }
   ],
   "source": [
    "# Fitting XG Boost Regressor to the dataset\n",
    "import xgboost as xg\n",
    "xgbr = xg.XGBRegressor(n_estimators = 10, random_state = 0)\n",
    "xgbr.fit(X_train, y_train)"
   ]
  },
  {
   "cell_type": "code",
   "execution_count": 22,
   "id": "66a31afb",
   "metadata": {},
   "outputs": [
    {
     "data": {
      "text/plain": [
       "array([4.2407946e+08, 1.6831638e+08, 1.6831638e+08, ..., 8.4865884e+10,\n",
       "       8.2262960e+07, 1.8913299e+08], dtype=float32)"
      ]
     },
     "execution_count": 22,
     "metadata": {},
     "output_type": "execute_result"
    }
   ],
   "source": [
    "y_pred = xgbr.predict(X_test)\n",
    "y_pred"
   ]
  },
  {
   "cell_type": "code",
   "execution_count": 23,
   "id": "986d6315",
   "metadata": {},
   "outputs": [
    {
     "data": {
      "text/html": [
       "<div>\n",
       "<style scoped>\n",
       "    .dataframe tbody tr th:only-of-type {\n",
       "        vertical-align: middle;\n",
       "    }\n",
       "\n",
       "    .dataframe tbody tr th {\n",
       "        vertical-align: top;\n",
       "    }\n",
       "\n",
       "    .dataframe thead th {\n",
       "        text-align: right;\n",
       "    }\n",
       "</style>\n",
       "<table border=\"1\" class=\"dataframe\">\n",
       "  <thead>\n",
       "    <tr style=\"text-align: right;\">\n",
       "      <th></th>\n",
       "      <th>Real Values</th>\n",
       "      <th>Predicted Values</th>\n",
       "    </tr>\n",
       "  </thead>\n",
       "  <tbody>\n",
       "    <tr>\n",
       "      <th>3604</th>\n",
       "      <td>4.245974e+07</td>\n",
       "      <td>4.240795e+08</td>\n",
       "    </tr>\n",
       "    <tr>\n",
       "      <th>781</th>\n",
       "      <td>3.788563e+07</td>\n",
       "      <td>1.683164e+08</td>\n",
       "    </tr>\n",
       "    <tr>\n",
       "      <th>2165</th>\n",
       "      <td>4.881502e+07</td>\n",
       "      <td>1.683164e+08</td>\n",
       "    </tr>\n",
       "    <tr>\n",
       "      <th>1217</th>\n",
       "      <td>4.942875e+07</td>\n",
       "      <td>1.683164e+08</td>\n",
       "    </tr>\n",
       "    <tr>\n",
       "      <th>1006</th>\n",
       "      <td>7.199476e+08</td>\n",
       "      <td>2.068750e+09</td>\n",
       "    </tr>\n",
       "    <tr>\n",
       "      <th>...</th>\n",
       "      <td>...</td>\n",
       "      <td>...</td>\n",
       "    </tr>\n",
       "    <tr>\n",
       "      <th>2907</th>\n",
       "      <td>2.624575e+10</td>\n",
       "      <td>3.570316e+10</td>\n",
       "    </tr>\n",
       "    <tr>\n",
       "      <th>3630</th>\n",
       "      <td>3.550416e+06</td>\n",
       "      <td>9.183214e+07</td>\n",
       "    </tr>\n",
       "    <tr>\n",
       "      <th>3000</th>\n",
       "      <td>8.785206e+10</td>\n",
       "      <td>8.486588e+10</td>\n",
       "    </tr>\n",
       "    <tr>\n",
       "      <th>982</th>\n",
       "      <td>4.187952e+06</td>\n",
       "      <td>8.226296e+07</td>\n",
       "    </tr>\n",
       "    <tr>\n",
       "      <th>1176</th>\n",
       "      <td>1.725011e+07</td>\n",
       "      <td>1.891330e+08</td>\n",
       "    </tr>\n",
       "  </tbody>\n",
       "</table>\n",
       "<p>1051 rows × 2 columns</p>\n",
       "</div>"
      ],
      "text/plain": [
       "       Real Values  Predicted Values\n",
       "3604  4.245974e+07      4.240795e+08\n",
       "781   3.788563e+07      1.683164e+08\n",
       "2165  4.881502e+07      1.683164e+08\n",
       "1217  4.942875e+07      1.683164e+08\n",
       "1006  7.199476e+08      2.068750e+09\n",
       "...            ...               ...\n",
       "2907  2.624575e+10      3.570316e+10\n",
       "3630  3.550416e+06      9.183214e+07\n",
       "3000  8.785206e+10      8.486588e+10\n",
       "982   4.187952e+06      8.226296e+07\n",
       "1176  1.725011e+07      1.891330e+08\n",
       "\n",
       "[1051 rows x 2 columns]"
      ]
     },
     "execution_count": 23,
     "metadata": {},
     "output_type": "execute_result"
    }
   ],
   "source": [
    "pred_df = pd.DataFrame({'Real Values':y_test, 'Predicted Values':y_pred})\n",
    "pred_df"
   ]
  },
  {
   "cell_type": "code",
   "execution_count": 24,
   "id": "19fb2f01",
   "metadata": {},
   "outputs": [
    {
     "data": {
      "image/png": "[encoded data removed]",
      "text/plain": [
       "<Figure size 500x500 with 1 Axes>"
      ]
     },
     "metadata": {},
     "output_type": "display_data"
    }
   ],
   "source": [
    "# Plot real values vs predicted\n",
    "plt.figure(figsize=(5,5))\n",
    "plt.scatter(pred_df['Real Values'], pred_df['Predicted Values'])\n",
    "plt.show() "
   ]
  },
  {
   "cell_type": "code",
   "execution_count": 26,
   "id": "0eb39729",
   "metadata": {},
   "outputs": [
    {
     "name": "stdout",
     "output_type": "stream",
     "text": [
      "total_kgs_CO2_19: (0.7769873142242432)\n",
      "total_kgs_CO2_3: (0.07589844614267349)\n",
      "total_kgs_CO_33: (0.05980156362056732)\n",
      "total_kgs_CO2_39: (0.023133641108870506)\n",
      "total_kgs_CO2_1: (0.01229135598987341)\n",
      "total_kgs_CO2_26: (0.012278268113732338)\n",
      "total_kgs_CO2_31: (0.009784840047359467)\n",
      "total_kgs_CO2_40: (0.004197007976472378)\n",
      "total_kgs_CO2_25: (0.0030843843705952168)\n",
      "total_kgs_CO2_8: (0.0029300733003765345)\n",
      "total_kgs_CO2_: (0.0020167494658380747)\n",
      "total_kgs_CO2_15: (0.0018721258966252208)\n",
      "total_kgs_CO2_32: (0.001755588105879724)\n",
      "total_kgs_CO2_41: (0.0016538266791030765)\n",
      "total_kgs_CO2_11: (0.0016121836379170418)\n",
      "total_kgs_CO2_37: (0.001365048810839653)\n",
      "total_kgs_CO2_42: (0.0013355916598811746)\n",
      "total_kgs_CO2_30: (0.00120867311488837)\n",
      "total_kgs_CO2_23: (0.0010575371561571956)\n",
      "total_kgs_CO2_4: (0.001030527986586094)\n",
      "total_kgs_CO2_34: (0.0009208206320181489)\n",
      "total_kgs_CO2_29: (0.0008374936296604574)\n",
      "total_kgs_CO2_20: (0.0007784460322000086)\n",
      "total_kgs_CO2_2: (0.0004463207733351737)\n",
      "total_kgs_CO2_9: (0.0003933160624001175)\n",
      "total_kgs_CO2_22: (0.00029981593252159655)\n",
      "total_kgs_CO2_10: (0.0002636721183080226)\n",
      "total_kgs_CO2_21: (0.00021872662182431668)\n",
      "total_kgs_CO2_18: (0.00020883169781882316)\n",
      "total_kgs_CO2_6: (0.0001511930167907849)\n",
      "total_kgs_CO2_24: (0.00012317506480030715)\n",
      "total_kgs_CO2_35: (3.1752511858940125e-05)\n",
      "total_kgs_CO2_28: (3.159108018735424e-05)\n",
      "total_kgs_CO2_13: (0.0)\n",
      "total_kgs_CO2_12: (0.0)\n",
      "total_kgs_CO2_14: (0.0)\n",
      "total_kgs_CO2_27: (0.0)\n",
      "total_kgs_CO2_43: (0.0)\n"
     ]
    }
   ],
   "source": [
    "# List the features of XG Boost Regressor sorted in descending order by feature importance\n",
    "importance_sorted_idx = xgbr.feature_importances_.argsort()[::-1]\n",
    "for i in importance_sorted_idx:\n",
    "    print(f\"{X.columns[i]}: ({xgbr.feature_importances_[i]})\")"
   ]
  },
  {
   "cell_type": "code",
   "execution_count": 27,
   "id": "b20a3325",
   "metadata": {},
   "outputs": [
    {
     "name": "stdout",
     "output_type": "stream",
     "text": [
      "Mean Absolute Error: 1041042237.78\n",
      "Mean Squared Error: 1.6076770609070854e+19\n",
      "R-squared scores: 0.99\n",
      "RMSE: 4009584842.48\n"
     ]
    }
   ],
   "source": [
    "# Mean absolute error (MAE)\n",
    "mae = mean_absolute_error(y_test, y_pred)\n",
    "\n",
    "# Mean squared error (MSE)\n",
    "mse = mean_squared_error(y_test, y_pred)\n",
    "\n",
    "# R-squared scores\n",
    "r2 = r2_score(y_test, y_pred)\n",
    "\n",
    "RMSE = np.sqrt(ms.mean_squared_error(y_test,y_pred))\n",
    "\n",
    "# Print metrics\n",
    "print('Mean Absolute Error:', round(mae, 2))\n",
    "print('Mean Squared Error:', round(mse, 2))\n",
    "print('R-squared scores:', round(r2, 2))\n",
    "print('RMSE:', round(RMSE,2))"
   ]
  },
  {
   "cell_type": "code",
   "execution_count": null,
   "id": "293a89f2",
   "metadata": {},
   "outputs": [],
   "source": []
  }
 ],
 "metadata": {
  "kernelspec": {
   "display_name": "mlenv",
   "language": "python",
   "name": "mlenv"
  },
  "language_info": {
   "codemirror_mode": {
    "name": "ipython",
    "version": 3
   },
   "file_extension": ".py",
   "mimetype": "text/x-python",
   "name": "python",
   "nbconvert_exporter": "python",
   "pygments_lexer": "ipython3",
   "version": "3.7.13"
  }
 },
 "nbformat": 4,
 "nbformat_minor": 5
}
