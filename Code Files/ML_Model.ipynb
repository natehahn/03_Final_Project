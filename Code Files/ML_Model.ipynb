{
 "cells": [
  {
   "cell_type": "code",
   "execution_count": 1,
   "id": "554d0dde",
   "metadata": {},
   "outputs": [],
   "source": [
    "import pandas as pd\n",
    "from pathlib import Path\n",
    "import matplotlib.pyplot as plt\n",
    "from sklearn.linear_model import LinearRegression"
   ]
  },
  {
   "cell_type": "code",
   "execution_count": 28,
   "id": "b5d5d352",
   "metadata": {},
   "outputs": [],
   "source": [
    "from sklearn.metrics import balanced_accuracy_score\n",
    "from sklearn.metrics import confusion_matrix\n",
    "from imblearn.metrics import classification_report_imbalanced\n",
    "from sklearn import metrics as ms"
   ]
  },
  {
   "cell_type": "code",
   "execution_count": 3,
   "id": "e2b4202e",
   "metadata": {},
   "outputs": [
    {
     "data": {
      "text/html": [
       "<div>\n",
       "<style scoped>\n",
       "    .dataframe tbody tr th:only-of-type {\n",
       "        vertical-align: middle;\n",
       "    }\n",
       "\n",
       "    .dataframe tbody tr th {\n",
       "        vertical-align: top;\n",
       "    }\n",
       "\n",
       "    .dataframe thead th {\n",
       "        text-align: right;\n",
       "    }\n",
       "</style>\n",
       "<table border=\"1\" class=\"dataframe\">\n",
       "  <thead>\n",
       "    <tr style=\"text-align: right;\">\n",
       "      <th></th>\n",
       "      <th>country_code</th>\n",
       "      <th>area</th>\n",
       "      <th>year_pc</th>\n",
       "      <th>CO2_emissions_tonnes</th>\n",
       "      <th>Population</th>\n",
       "      <th>category_code_1</th>\n",
       "      <th>food_product_categories_1</th>\n",
       "      <th>production_tonnes_1</th>\n",
       "      <th>total_kgs_CO2_1</th>\n",
       "      <th>category_code_2</th>\n",
       "      <th>...</th>\n",
       "      <th>production_tonnes_41</th>\n",
       "      <th>total_kgs_CO2_41</th>\n",
       "      <th>category_code_42</th>\n",
       "      <th>food_product_categories_42</th>\n",
       "      <th>production_tonnes_42</th>\n",
       "      <th>total_kgs_CO2_42</th>\n",
       "      <th>category_code_43</th>\n",
       "      <th>food_product_categories_43</th>\n",
       "      <th>production_tonnes_43</th>\n",
       "      <th>total_kgs_CO2_43</th>\n",
       "    </tr>\n",
       "  </thead>\n",
       "  <tbody>\n",
       "    <tr>\n",
       "      <th>0</th>\n",
       "      <td>0</td>\n",
       "      <td>Afghanistan</td>\n",
       "      <td>2000</td>\n",
       "      <td>71679740.0</td>\n",
       "      <td>19542982.0</td>\n",
       "      <td>1</td>\n",
       "      <td>Apples</td>\n",
       "      <td>40540.06</td>\n",
       "      <td>58783.0870</td>\n",
       "      <td>2</td>\n",
       "      <td>...</td>\n",
       "      <td>0.0</td>\n",
       "      <td>0.0</td>\n",
       "      <td>42</td>\n",
       "      <td>Wheat &amp; Rye (Bread)</td>\n",
       "      <td>1470000.0</td>\n",
       "      <td>10518040.0</td>\n",
       "      <td>43</td>\n",
       "      <td>Wine</td>\n",
       "      <td>0.0</td>\n",
       "      <td>0.0</td>\n",
       "    </tr>\n",
       "    <tr>\n",
       "      <th>1</th>\n",
       "      <td>0</td>\n",
       "      <td>Afghanistan</td>\n",
       "      <td>2001</td>\n",
       "      <td>72477702.0</td>\n",
       "      <td>19688632.0</td>\n",
       "      <td>1</td>\n",
       "      <td>Apples</td>\n",
       "      <td>39541.74</td>\n",
       "      <td>57335.5230</td>\n",
       "      <td>2</td>\n",
       "      <td>...</td>\n",
       "      <td>0.0</td>\n",
       "      <td>0.0</td>\n",
       "      <td>42</td>\n",
       "      <td>Wheat &amp; Rye (Bread)</td>\n",
       "      <td>1600000.0</td>\n",
       "      <td>11434520.0</td>\n",
       "      <td>43</td>\n",
       "      <td>Wine</td>\n",
       "      <td>0.0</td>\n",
       "      <td>0.0</td>\n",
       "    </tr>\n",
       "    <tr>\n",
       "      <th>2</th>\n",
       "      <td>0</td>\n",
       "      <td>Afghanistan</td>\n",
       "      <td>2002</td>\n",
       "      <td>73529311.0</td>\n",
       "      <td>21000256.0</td>\n",
       "      <td>1</td>\n",
       "      <td>Apples</td>\n",
       "      <td>35630.08</td>\n",
       "      <td>51663.6160</td>\n",
       "      <td>2</td>\n",
       "      <td>...</td>\n",
       "      <td>0.0</td>\n",
       "      <td>0.0</td>\n",
       "      <td>42</td>\n",
       "      <td>Wheat &amp; Rye (Bread)</td>\n",
       "      <td>2690000.0</td>\n",
       "      <td>19231760.0</td>\n",
       "      <td>43</td>\n",
       "      <td>Wine</td>\n",
       "      <td>0.0</td>\n",
       "      <td>0.0</td>\n",
       "    </tr>\n",
       "    <tr>\n",
       "      <th>3</th>\n",
       "      <td>0</td>\n",
       "      <td>Afghanistan</td>\n",
       "      <td>2003</td>\n",
       "      <td>74715262.0</td>\n",
       "      <td>22645130.0</td>\n",
       "      <td>1</td>\n",
       "      <td>Apples</td>\n",
       "      <td>28042.99</td>\n",
       "      <td>40662.3355</td>\n",
       "      <td>2</td>\n",
       "      <td>...</td>\n",
       "      <td>0.0</td>\n",
       "      <td>0.0</td>\n",
       "      <td>42</td>\n",
       "      <td>Wheat &amp; Rye (Bread)</td>\n",
       "      <td>3480000.0</td>\n",
       "      <td>24916800.0</td>\n",
       "      <td>43</td>\n",
       "      <td>Wine</td>\n",
       "      <td>0.0</td>\n",
       "      <td>0.0</td>\n",
       "    </tr>\n",
       "    <tr>\n",
       "      <th>4</th>\n",
       "      <td>0</td>\n",
       "      <td>Afghanistan</td>\n",
       "      <td>2004</td>\n",
       "      <td>75604429.0</td>\n",
       "      <td>23553551.0</td>\n",
       "      <td>1</td>\n",
       "      <td>Apples</td>\n",
       "      <td>16691.83</td>\n",
       "      <td>24203.1535</td>\n",
       "      <td>2</td>\n",
       "      <td>...</td>\n",
       "      <td>0.0</td>\n",
       "      <td>0.0</td>\n",
       "      <td>42</td>\n",
       "      <td>Wheat &amp; Rye (Bread)</td>\n",
       "      <td>2390000.0</td>\n",
       "      <td>17112400.0</td>\n",
       "      <td>43</td>\n",
       "      <td>Wine</td>\n",
       "      <td>0.0</td>\n",
       "      <td>0.0</td>\n",
       "    </tr>\n",
       "  </tbody>\n",
       "</table>\n",
       "<p>5 rows × 161 columns</p>\n",
       "</div>"
      ],
      "text/plain": [
       "   country_code         area  year_pc  CO2_emissions_tonnes  Population  \\\n",
       "0             0  Afghanistan     2000            71679740.0  19542982.0   \n",
       "1             0  Afghanistan     2001            72477702.0  19688632.0   \n",
       "2             0  Afghanistan     2002            73529311.0  21000256.0   \n",
       "3             0  Afghanistan     2003            74715262.0  22645130.0   \n",
       "4             0  Afghanistan     2004            75604429.0  23553551.0   \n",
       "\n",
       "   category_code_1 food_product_categories_1  production_tonnes_1  \\\n",
       "0                1                    Apples             40540.06   \n",
       "1                1                    Apples             39541.74   \n",
       "2                1                    Apples             35630.08   \n",
       "3                1                    Apples             28042.99   \n",
       "4                1                    Apples             16691.83   \n",
       "\n",
       "   total_kgs_CO2_1  category_code_2  ... production_tonnes_41  \\\n",
       "0       58783.0870                2  ...                  0.0   \n",
       "1       57335.5230                2  ...                  0.0   \n",
       "2       51663.6160                2  ...                  0.0   \n",
       "3       40662.3355                2  ...                  0.0   \n",
       "4       24203.1535                2  ...                  0.0   \n",
       "\n",
       "   total_kgs_CO2_41  category_code_42  food_product_categories_42  \\\n",
       "0               0.0                42         Wheat & Rye (Bread)   \n",
       "1               0.0                42         Wheat & Rye (Bread)   \n",
       "2               0.0                42         Wheat & Rye (Bread)   \n",
       "3               0.0                42         Wheat & Rye (Bread)   \n",
       "4               0.0                42         Wheat & Rye (Bread)   \n",
       "\n",
       "  production_tonnes_42  total_kgs_CO2_42  category_code_43  \\\n",
       "0            1470000.0        10518040.0                43   \n",
       "1            1600000.0        11434520.0                43   \n",
       "2            2690000.0        19231760.0                43   \n",
       "3            3480000.0        24916800.0                43   \n",
       "4            2390000.0        17112400.0                43   \n",
       "\n",
       "   food_product_categories_43 production_tonnes_43  total_kgs_CO2_43  \n",
       "0                        Wine                  0.0               0.0  \n",
       "1                        Wine                  0.0               0.0  \n",
       "2                        Wine                  0.0               0.0  \n",
       "3                        Wine                  0.0               0.0  \n",
       "4                        Wine                  0.0               0.0  \n",
       "\n",
       "[5 rows x 161 columns]"
      ]
     },
     "execution_count": 3,
     "metadata": {},
     "output_type": "execute_result"
    }
   ],
   "source": [
    "# Read in the files\n",
    "df=pd.read_csv('..//ML_Table.csv')\n",
    "df.head()"
   ]
  },
  {
   "cell_type": "code",
   "execution_count": 8,
   "id": "886813ce",
   "metadata": {},
   "outputs": [
    {
     "data": {
      "text/plain": [
       "(4201, 38)"
      ]
     },
     "execution_count": 8,
     "metadata": {},
     "output_type": "execute_result"
    }
   ],
   "source": [
    "# Set variables\n",
    "y = df ['CO2_emissions_tonnes']\n",
    "X = df [['total_kgs_CO2_1','total_kgs_CO2_2','total_kgs_CO2_3','total_kgs_CO2_4','total_kgs_CO2_6','total_kgs_CO2_','total_kgs_CO2_8','total_kgs_CO2_9','total_kgs_CO2_10','total_kgs_CO2_11','total_kgs_CO2_12','total_kgs_CO2_13','total_kgs_CO2_14','total_kgs_CO2_15','total_kgs_CO2_18','total_kgs_CO2_19','total_kgs_CO2_20','total_kgs_CO2_21','total_kgs_CO2_22','total_kgs_CO2_23','total_kgs_CO2_24','total_kgs_CO2_25','total_kgs_CO2_26','total_kgs_CO2_27','total_kgs_CO2_28','total_kgs_CO2_29','total_kgs_CO2_30','total_kgs_CO2_31','total_kgs_CO2_32','total_kgs_CO_33','total_kgs_CO2_34','total_kgs_CO2_35','total_kgs_CO2_37','total_kgs_CO2_39','total_kgs_CO2_40','total_kgs_CO2_41','total_kgs_CO2_42','total_kgs_CO2_43']]\n",
    "X.shape"
   ]
  },
  {
   "cell_type": "code",
   "execution_count": 9,
   "id": "937da7ab",
   "metadata": {},
   "outputs": [
    {
     "data": {
      "text/plain": [
       "(3150, 38)"
      ]
     },
     "execution_count": 9,
     "metadata": {},
     "output_type": "execute_result"
    }
   ],
   "source": [
    "# Split data into training and testing\n",
    "from sklearn.model_selection import train_test_split\n",
    "X_train, X_test, y_train, y_test = train_test_split(X, y, random_state=1)\n",
    "X_train.shape"
   ]
  },
  {
   "cell_type": "code",
   "execution_count": 17,
   "id": "8fce15e0",
   "metadata": {},
   "outputs": [
    {
     "data": {
      "text/plain": [
       "RandomForestRegressor(n_estimators=10, random_state=0)"
      ]
     },
     "execution_count": 17,
     "metadata": {},
     "output_type": "execute_result"
    }
   ],
   "source": [
    "# Fitting Random Forest Regression to the dataset\n",
    "from sklearn.ensemble import RandomForestRegressor\n",
    "regressor = RandomForestRegressor(n_estimators = 10, random_state = 0)\n",
    "regressor.fit(X_train, y_train)"
   ]
  },
  {
   "cell_type": "code",
   "execution_count": 20,
   "id": "89a4e155",
   "metadata": {},
   "outputs": [
    {
     "data": {
      "text/plain": [
       "array([4.52797702e+07, 3.78274272e+07, 4.98235618e+07, ...,\n",
       "       8.63382350e+10, 4.04652160e+06, 2.01340464e+07])"
      ]
     },
     "execution_count": 20,
     "metadata": {},
     "output_type": "execute_result"
    }
   ],
   "source": [
    "y_pred = regressor.predict(X_test)\n",
    "y_pred"
   ]
  },
  {
   "cell_type": "code",
   "execution_count": 21,
   "id": "0156bf9a",
   "metadata": {},
   "outputs": [
    {
     "data": {
      "text/html": [
       "<div>\n",
       "<style scoped>\n",
       "    .dataframe tbody tr th:only-of-type {\n",
       "        vertical-align: middle;\n",
       "    }\n",
       "\n",
       "    .dataframe tbody tr th {\n",
       "        vertical-align: top;\n",
       "    }\n",
       "\n",
       "    .dataframe thead th {\n",
       "        text-align: right;\n",
       "    }\n",
       "</style>\n",
       "<table border=\"1\" class=\"dataframe\">\n",
       "  <thead>\n",
       "    <tr style=\"text-align: right;\">\n",
       "      <th></th>\n",
       "      <th>Real Values</th>\n",
       "      <th>Predicted Values</th>\n",
       "    </tr>\n",
       "  </thead>\n",
       "  <tbody>\n",
       "    <tr>\n",
       "      <th>3604</th>\n",
       "      <td>4.245974e+07</td>\n",
       "      <td>4.527977e+07</td>\n",
       "    </tr>\n",
       "    <tr>\n",
       "      <th>781</th>\n",
       "      <td>3.788563e+07</td>\n",
       "      <td>3.782743e+07</td>\n",
       "    </tr>\n",
       "    <tr>\n",
       "      <th>2165</th>\n",
       "      <td>4.881502e+07</td>\n",
       "      <td>4.982356e+07</td>\n",
       "    </tr>\n",
       "    <tr>\n",
       "      <th>1217</th>\n",
       "      <td>4.942875e+07</td>\n",
       "      <td>4.399466e+07</td>\n",
       "    </tr>\n",
       "    <tr>\n",
       "      <th>1006</th>\n",
       "      <td>7.199476e+08</td>\n",
       "      <td>1.518572e+09</td>\n",
       "    </tr>\n",
       "    <tr>\n",
       "      <th>...</th>\n",
       "      <td>...</td>\n",
       "      <td>...</td>\n",
       "    </tr>\n",
       "    <tr>\n",
       "      <th>2907</th>\n",
       "      <td>2.624575e+10</td>\n",
       "      <td>4.270512e+10</td>\n",
       "    </tr>\n",
       "    <tr>\n",
       "      <th>3630</th>\n",
       "      <td>3.550416e+06</td>\n",
       "      <td>3.275250e+06</td>\n",
       "    </tr>\n",
       "    <tr>\n",
       "      <th>3000</th>\n",
       "      <td>8.785206e+10</td>\n",
       "      <td>8.633823e+10</td>\n",
       "    </tr>\n",
       "    <tr>\n",
       "      <th>982</th>\n",
       "      <td>4.187952e+06</td>\n",
       "      <td>4.046522e+06</td>\n",
       "    </tr>\n",
       "    <tr>\n",
       "      <th>1176</th>\n",
       "      <td>1.725011e+07</td>\n",
       "      <td>2.013405e+07</td>\n",
       "    </tr>\n",
       "  </tbody>\n",
       "</table>\n",
       "<p>1051 rows × 2 columns</p>\n",
       "</div>"
      ],
      "text/plain": [
       "       Real Values  Predicted Values\n",
       "3604  4.245974e+07      4.527977e+07\n",
       "781   3.788563e+07      3.782743e+07\n",
       "2165  4.881502e+07      4.982356e+07\n",
       "1217  4.942875e+07      4.399466e+07\n",
       "1006  7.199476e+08      1.518572e+09\n",
       "...            ...               ...\n",
       "2907  2.624575e+10      4.270512e+10\n",
       "3630  3.550416e+06      3.275250e+06\n",
       "3000  8.785206e+10      8.633823e+10\n",
       "982   4.187952e+06      4.046522e+06\n",
       "1176  1.725011e+07      2.013405e+07\n",
       "\n",
       "[1051 rows x 2 columns]"
      ]
     },
     "execution_count": 21,
     "metadata": {},
     "output_type": "execute_result"
    }
   ],
   "source": [
    "pred_df = pd.DataFrame({'Real Values':y_test, 'Predicted Values':y_pred})\n",
    "pred_df"
   ]
  },
  {
   "cell_type": "code",
   "execution_count": 23,
   "id": "1a19e603",
   "metadata": {},
   "outputs": [
    {
     "name": "stdout",
     "output_type": "stream",
     "text": [
      "total_kgs_CO2_32: (0.040330214275450964)\n",
      "total_kgs_CO2_19: (0.03269564544119355)\n",
      "total_kgs_CO2_3: (0.03124897684935494)\n",
      "total_kgs_CO_33: (0.018587147645349654)\n",
      "total_kgs_CO2_39: (0.01670871857884809)\n",
      "total_kgs_CO2_4: (0.03927242844653627)\n",
      "total_kgs_CO2_8: (0.02755746459206066)\n",
      "total_kgs_CO2_6: (0.010903793228779135)\n",
      "total_kgs_CO2_29: (0.02002339726542317)\n",
      "total_kgs_CO2_31: (0.030135556177606222)\n",
      "total_kgs_CO2_23: (0.010386863048471135)\n",
      "total_kgs_CO2_25: (0.04849836300553227)\n",
      "total_kgs_CO2_18: (0.03668007702238424)\n",
      "total_kgs_CO2_30: (0.03404831807835963)\n",
      "total_kgs_CO2_1: (0.016882222814020825)\n",
      "total_kgs_CO2_15: (0.038767879803003294)\n",
      "total_kgs_CO2_20: (0.03703638163258076)\n",
      "total_kgs_CO2_22: (0.01431035427264372)\n",
      "total_kgs_CO2_21: (0.023320068400621865)\n",
      "total_kgs_CO2_24: (0.027717950207491713)\n",
      "total_kgs_CO2_35: (0.0415226731833536)\n",
      "total_kgs_CO2_: (0.01930147209778548)\n",
      "total_kgs_CO2_9: (0.02664169547122294)\n",
      "total_kgs_CO2_11: (0.018685914943141715)\n",
      "total_kgs_CO2_27: (0.0405186433075222)\n",
      "total_kgs_CO2_2: (0.032848924899330466)\n",
      "total_kgs_CO2_37: (0.018988460100251976)\n",
      "total_kgs_CO2_43: (0.01468129296247533)\n",
      "total_kgs_CO2_13: (0.018846965241217144)\n",
      "total_kgs_CO2_28: (0.012366532776504149)\n",
      "total_kgs_CO2_34: (0.02361515735919)\n",
      "total_kgs_CO2_42: (0.02189095489169829)\n",
      "total_kgs_CO2_40: (0.018790558417674148)\n",
      "total_kgs_CO2_12: (0.02775572178371186)\n",
      "total_kgs_CO2_41: (0.0318223495547301)\n",
      "total_kgs_CO2_26: (0.038163467568829025)\n",
      "total_kgs_CO2_10: (0.022922811477512392)\n",
      "total_kgs_CO2_14: (0.015524583178137217)\n"
     ]
    }
   ],
   "source": [
    "# List the features sorted in descending order by feature importance\n",
    "importance_sorted_idx = regressor.feature_importances_.argsort()[::-1]\n",
    "for i in importance_sorted_idx:\n",
    "    print(f\"{X.columns[i]}: ({brf.feature_importances_[i]})\")"
   ]
  },
  {
   "cell_type": "code",
   "execution_count": 30,
   "id": "76d1a0a7",
   "metadata": {},
   "outputs": [],
   "source": [
    "# Import library for metrics\n",
    "from sklearn.metrics import mean_squared_error, r2_score, mean_absolute_error"
   ]
  },
  {
   "cell_type": "code",
   "execution_count": 33,
   "id": "19cd6689",
   "metadata": {},
   "outputs": [
    {
     "name": "stdout",
     "output_type": "stream",
     "text": [
      "Mean Absolute Error: 481368602.38\n",
      "Mean Squared Error: 8.93989705992044e+18\n",
      "R-squared scores: 0.99\n"
     ]
    }
   ],
   "source": [
    "# Mean absolute error (MAE)\n",
    "mae = mean_absolute_error(y_test, y_pred)\n",
    "\n",
    "# Mean squared error (MSE)\n",
    "mse = mean_squared_error(y_test, y_pred)\n",
    "\n",
    "# R-squared scores\n",
    "r2 = r2_score(y_test, y_pred)\n",
    "\n",
    "# Print metrics\n",
    "print('Mean Absolute Error:', round(mae, 2))\n",
    "print('Mean Squared Error:', round(mse, 2))\n",
    "print('R-squared scores:', round(r2, 2))"
   ]
  },
  {
   "cell_type": "code",
   "execution_count": 34,
   "id": "29106f85",
   "metadata": {},
   "outputs": [
    {
     "data": {
      "text/plain": [
       "ExtraTreesRegressor(n_estimators=10, random_state=0)"
      ]
     },
     "execution_count": 34,
     "metadata": {},
     "output_type": "execute_result"
    }
   ],
   "source": [
    "# Fitting Extra Trees Regressor to the dataset\n",
    "from sklearn.ensemble import ExtraTreesRegressor\n",
    "etr = ExtraTreesRegressor(n_estimators = 10, random_state = 0)\n",
    "etr.fit(X_train, y_train)"
   ]
  },
  {
   "cell_type": "code",
   "execution_count": 35,
   "id": "4645af04",
   "metadata": {},
   "outputs": [
    {
     "data": {
      "text/plain": [
       "array([2.26449501e+08, 3.90939604e+07, 4.81097071e+07, ...,\n",
       "       8.86245140e+10, 3.96682120e+06, 2.10024144e+07])"
      ]
     },
     "execution_count": 35,
     "metadata": {},
     "output_type": "execute_result"
    }
   ],
   "source": [
    "y_pred = etr.predict(X_test)\n",
    "y_pred"
   ]
  },
  {
   "cell_type": "code",
   "execution_count": 36,
   "id": "a7e13eea",
   "metadata": {},
   "outputs": [
    {
     "data": {
      "text/html": [
       "<div>\n",
       "<style scoped>\n",
       "    .dataframe tbody tr th:only-of-type {\n",
       "        vertical-align: middle;\n",
       "    }\n",
       "\n",
       "    .dataframe tbody tr th {\n",
       "        vertical-align: top;\n",
       "    }\n",
       "\n",
       "    .dataframe thead th {\n",
       "        text-align: right;\n",
       "    }\n",
       "</style>\n",
       "<table border=\"1\" class=\"dataframe\">\n",
       "  <thead>\n",
       "    <tr style=\"text-align: right;\">\n",
       "      <th></th>\n",
       "      <th>Real Values</th>\n",
       "      <th>Predicted Values</th>\n",
       "    </tr>\n",
       "  </thead>\n",
       "  <tbody>\n",
       "    <tr>\n",
       "      <th>3604</th>\n",
       "      <td>4.245974e+07</td>\n",
       "      <td>2.264495e+08</td>\n",
       "    </tr>\n",
       "    <tr>\n",
       "      <th>781</th>\n",
       "      <td>3.788563e+07</td>\n",
       "      <td>3.909396e+07</td>\n",
       "    </tr>\n",
       "    <tr>\n",
       "      <th>2165</th>\n",
       "      <td>4.881502e+07</td>\n",
       "      <td>4.810971e+07</td>\n",
       "    </tr>\n",
       "    <tr>\n",
       "      <th>1217</th>\n",
       "      <td>4.942875e+07</td>\n",
       "      <td>2.259480e+08</td>\n",
       "    </tr>\n",
       "    <tr>\n",
       "      <th>1006</th>\n",
       "      <td>7.199476e+08</td>\n",
       "      <td>6.803526e+08</td>\n",
       "    </tr>\n",
       "    <tr>\n",
       "      <th>...</th>\n",
       "      <td>...</td>\n",
       "      <td>...</td>\n",
       "    </tr>\n",
       "    <tr>\n",
       "      <th>2907</th>\n",
       "      <td>2.624575e+10</td>\n",
       "      <td>2.686362e+10</td>\n",
       "    </tr>\n",
       "    <tr>\n",
       "      <th>3630</th>\n",
       "      <td>3.550416e+06</td>\n",
       "      <td>3.751776e+06</td>\n",
       "    </tr>\n",
       "    <tr>\n",
       "      <th>3000</th>\n",
       "      <td>8.785206e+10</td>\n",
       "      <td>8.862451e+10</td>\n",
       "    </tr>\n",
       "    <tr>\n",
       "      <th>982</th>\n",
       "      <td>4.187952e+06</td>\n",
       "      <td>3.966821e+06</td>\n",
       "    </tr>\n",
       "    <tr>\n",
       "      <th>1176</th>\n",
       "      <td>1.725011e+07</td>\n",
       "      <td>2.100241e+07</td>\n",
       "    </tr>\n",
       "  </tbody>\n",
       "</table>\n",
       "<p>1051 rows × 2 columns</p>\n",
       "</div>"
      ],
      "text/plain": [
       "       Real Values  Predicted Values\n",
       "3604  4.245974e+07      2.264495e+08\n",
       "781   3.788563e+07      3.909396e+07\n",
       "2165  4.881502e+07      4.810971e+07\n",
       "1217  4.942875e+07      2.259480e+08\n",
       "1006  7.199476e+08      6.803526e+08\n",
       "...            ...               ...\n",
       "2907  2.624575e+10      2.686362e+10\n",
       "3630  3.550416e+06      3.751776e+06\n",
       "3000  8.785206e+10      8.862451e+10\n",
       "982   4.187952e+06      3.966821e+06\n",
       "1176  1.725011e+07      2.100241e+07\n",
       "\n",
       "[1051 rows x 2 columns]"
      ]
     },
     "execution_count": 36,
     "metadata": {},
     "output_type": "execute_result"
    }
   ],
   "source": [
    "pred_df = pd.DataFrame({'Real Values':y_test, 'Predicted Values':y_pred})\n",
    "pred_df"
   ]
  },
  {
   "cell_type": "code",
   "execution_count": 37,
   "id": "3d252d36",
   "metadata": {},
   "outputs": [
    {
     "name": "stdout",
     "output_type": "stream",
     "text": [
      "total_kgs_CO2_19: (0.03269564544119355)\n",
      "total_kgs_CO2_32: (0.040330214275450964)\n",
      "total_kgs_CO2_3: (0.03124897684935494)\n",
      "total_kgs_CO2_11: (0.018685914943141715)\n",
      "total_kgs_CO2_4: (0.03927242844653627)\n",
      "total_kgs_CO_33: (0.018587147645349654)\n",
      "total_kgs_CO2_23: (0.010386863048471135)\n",
      "total_kgs_CO2_18: (0.03668007702238424)\n",
      "total_kgs_CO2_15: (0.038767879803003294)\n",
      "total_kgs_CO2_6: (0.010903793228779135)\n",
      "total_kgs_CO2_8: (0.02755746459206066)\n",
      "total_kgs_CO2_30: (0.03404831807835963)\n",
      "total_kgs_CO2_29: (0.02002339726542317)\n",
      "total_kgs_CO2_27: (0.0405186433075222)\n",
      "total_kgs_CO2_40: (0.018790558417674148)\n",
      "total_kgs_CO2_21: (0.023320068400621865)\n",
      "total_kgs_CO2_10: (0.022922811477512392)\n",
      "total_kgs_CO2_: (0.01930147209778548)\n",
      "total_kgs_CO2_20: (0.03703638163258076)\n",
      "total_kgs_CO2_2: (0.032848924899330466)\n",
      "total_kgs_CO2_22: (0.01431035427264372)\n",
      "total_kgs_CO2_25: (0.04849836300553227)\n",
      "total_kgs_CO2_12: (0.02775572178371186)\n",
      "total_kgs_CO2_35: (0.0415226731833536)\n",
      "total_kgs_CO2_39: (0.01670871857884809)\n",
      "total_kgs_CO2_41: (0.0318223495547301)\n",
      "total_kgs_CO2_31: (0.030135556177606222)\n",
      "total_kgs_CO2_42: (0.02189095489169829)\n",
      "total_kgs_CO2_13: (0.018846965241217144)\n",
      "total_kgs_CO2_26: (0.038163467568829025)\n",
      "total_kgs_CO2_24: (0.027717950207491713)\n",
      "total_kgs_CO2_37: (0.018988460100251976)\n",
      "total_kgs_CO2_43: (0.01468129296247533)\n",
      "total_kgs_CO2_34: (0.02361515735919)\n",
      "total_kgs_CO2_1: (0.016882222814020825)\n",
      "total_kgs_CO2_9: (0.02664169547122294)\n",
      "total_kgs_CO2_28: (0.012366532776504149)\n",
      "total_kgs_CO2_14: (0.015524583178137217)\n"
     ]
    }
   ],
   "source": [
    "# List the features of Extra Trees Regressor sorted in descending order by feature importance\n",
    "importance_sorted_idx = etr.feature_importances_.argsort()[::-1]\n",
    "for i in importance_sorted_idx:\n",
    "    print(f\"{X.columns[i]}: ({brf.feature_importances_[i]})\")"
   ]
  },
  {
   "cell_type": "code",
   "execution_count": 38,
   "id": "4b7a9d3f",
   "metadata": {},
   "outputs": [
    {
     "name": "stdout",
     "output_type": "stream",
     "text": [
      "Mean Absolute Error: 354679247.23\n",
      "Mean Squared Error: 3.7943319568033756e+18\n",
      "R-squared scores: 1.0\n"
     ]
    }
   ],
   "source": [
    "# Mean absolute error (MAE)\n",
    "mae = mean_absolute_error(y_test, y_pred)\n",
    "\n",
    "# Mean squared error (MSE)\n",
    "mse = mean_squared_error(y_test, y_pred)\n",
    "\n",
    "# R-squared scores\n",
    "r2 = r2_score(y_test, y_pred)\n",
    "\n",
    "# Print metrics\n",
    "print('Mean Absolute Error:', round(mae, 2))\n",
    "print('Mean Squared Error:', round(mse, 2))\n",
    "print('R-squared scores:', round(r2, 2))"
   ]
  },
  {
   "cell_type": "code",
   "execution_count": null,
   "id": "a141c9d0",
   "metadata": {},
   "outputs": [],
   "source": []
  }
 ],
 "metadata": {
  "kernelspec": {
   "display_name": "mlenv",
   "language": "python",
   "name": "mlenv"
  },
  "language_info": {
   "codemirror_mode": {
    "name": "ipython",
    "version": 3
   },
   "file_extension": ".py",
   "mimetype": "text/x-python",
   "name": "python",
   "nbconvert_exporter": "python",
   "pygments_lexer": "ipython3",
   "version": "3.7.13"
  }
 },
 "nbformat": 4,
 "nbformat_minor": 5
}
