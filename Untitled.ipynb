{
 "cells": [
  {
   "cell_type": "code",
   "execution_count": 1,
   "id": "cf3e504d",
   "metadata": {},
   "outputs": [],
   "source": [
    "# Add the Pandas dependency.\n",
    "import pandas as pd"
   ]
  },
  {
   "cell_type": "code",
   "execution_count": 2,
   "id": "87aa681c",
   "metadata": {},
   "outputs": [
    {
     "name": "stdout",
     "output_type": "stream",
     "text": [
      "        country_code            area  year_pc  category_code  \\\n",
      "0                  0     Afghanistan     2000              1   \n",
      "1                  0     Afghanistan     2000              3   \n",
      "2                  0     Afghanistan     2000              4   \n",
      "3                  0     Afghanistan     2000              4   \n",
      "4                  0     Afghanistan     2000              4   \n",
      "...              ...             ...      ...            ...   \n",
      "328008           901  Sudan (former)     2011             35   \n",
      "328009           901  Sudan (former)     2011             39   \n",
      "328010           901  Sudan (former)     2011             39   \n",
      "328011           901  Sudan (former)     2011             41   \n",
      "328012           901  Sudan (former)     2011             42   \n",
      "\n",
      "       food_product_categories  production  total_kgs_CO2  \n",
      "0                       Apples    40540.06   5.878309e+04  \n",
      "1                Barley (Beer)    74000.00   1.724200e+05  \n",
      "2             Beef (beef herd)     3090.57   9.315287e+05  \n",
      "3             Beef (beef herd)    22109.43   6.664003e+06  \n",
      "4             Beef (beef herd)   126000.00   3.797766e+07  \n",
      "...                        ...         ...            ...  \n",
      "328008         Root Vegetables   225000.00   3.622500e+05  \n",
      "328009           Sunflower Oil    37008.12   1.874831e+06  \n",
      "328010           Sunflower Oil   124000.00   6.281840e+06  \n",
      "328011                Tomatoes   529200.00   3.974292e+06  \n",
      "328012     Wheat & Rye (Bread)   292000.00   2.090720e+06  \n",
      "\n",
      "[328013 rows x 7 columns]\n"
     ]
    }
   ],
   "source": [
    "df = pd.read_csv(r'C:\\Users\\Granger\\Desktop\\Data Tables_03_Final_Project\\CO2.csv')\n",
    "print(df)"
   ]
  },
  {
   "cell_type": "markdown",
   "id": "98cae931",
   "metadata": {},
   "source": [
    "grouped_df = df.groupby(['country_code', 'year_pc', 'category_code']).sum(['production', total_kgs_CO2'])\n",
    "print(grouped_df)"
   ]
  },
  {
   "cell_type": "code",
   "execution_count": null,
   "id": "dd7d4157",
   "metadata": {},
   "outputs": [],
   "source": []
  }
 ],
 "metadata": {
  "kernelspec": {
   "display_name": "Python 3 (ipykernel)",
   "language": "python",
   "name": "python3"
  },
  "language_info": {
   "codemirror_mode": {
    "name": "ipython",
    "version": 3
   },
   "file_extension": ".py",
   "mimetype": "text/x-python",
   "name": "python",
   "nbconvert_exporter": "python",
   "pygments_lexer": "ipython3",
   "version": "3.9.13"
  }
 },
 "nbformat": 4,
 "nbformat_minor": 5
}
