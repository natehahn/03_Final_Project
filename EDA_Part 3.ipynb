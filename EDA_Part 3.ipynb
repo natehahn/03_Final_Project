{
 "cells": [
  {
   "cell_type": "markdown",
   "id": "b7735d78",
   "metadata": {},
   "source": [
    "# Exploratory Data Analysis\n",
    "### Part 3\n",
    "***\n",
    "\n",
    "## Machine Learning \n",
    "\n",
    "The conclusion to this analysis will look to imputing the data into the best fitting machine learning model and the overall findings from the whole analysis comparing CO2 emissions and food products being produced. Compared will be the following algorithms:\n",
    "\n",
    "- Extra Trees Regressor\n",
    "- XG Boost Regressor\n",
    "- Random Forest Regressor\n",
    "\n",
    "\n",
    "#### Model Testing "
   ]
  },
  {
   "cell_type": "code",
   "execution_count": 4,
   "id": "d7f39e3f",
   "metadata": {},
   "outputs": [],
   "source": [
    "import pandas as pd\n",
    "from pathlib import Path\n",
    "import matplotlib.pyplot as plt\n",
    "from sklearn.linear_model import LinearRegression"
   ]
  },
  {
   "cell_type": "code",
   "execution_count": null,
   "id": "fe7b4413",
   "metadata": {},
   "outputs": [],
   "source": [
    "from sklearn.metrics import balanced_accuracy_score\n",
    "from sklearn.metrics import confusion_matrix\n",
    "from imblearn.metrics import classification_report_imbalanced\n",
    "from sklearn import metrics as ms\n",
    "import numpy as np"
   ]
  },
  {
   "cell_type": "code",
   "execution_count": 32,
   "id": "59ed200c",
   "metadata": {},
   "outputs": [],
   "source": [
    "#Import Dependencies \n",
    "\n",
    "import pandas as pd\n",
    "import numpy as np\n",
    "import matplotlib.pyplot as plt\n",
    "import seaborn as sns\n",
    "import matplotlib.colors as colors, matplotlib.colorbar as colorbar \n",
    "import matplotlib.cm as cm, matplotlib.font_manager as fm\n",
    "from matplotlib.patches import Polygon\n",
    "from matplotlib.collections import PatchCollection\n",
    "%matplotlib inline\n",
    "import plotly.express as px\n",
    "\n",
    "#to ignore warnings\n",
    "import warnings\n",
    "warnings.filterwarnings('ignore')"
   ]
  },
  {
   "cell_type": "code",
   "execution_count": 7,
   "id": "86b804af",
   "metadata": {},
   "outputs": [
    {
     "data": {
      "text/html": [
       "<div>\n",
       "<style scoped>\n",
       "    .dataframe tbody tr th:only-of-type {\n",
       "        vertical-align: middle;\n",
       "    }\n",
       "\n",
       "    .dataframe tbody tr th {\n",
       "        vertical-align: top;\n",
       "    }\n",
       "\n",
       "    .dataframe thead th {\n",
       "        text-align: right;\n",
       "    }\n",
       "</style>\n",
       "<table border=\"1\" class=\"dataframe\">\n",
       "  <thead>\n",
       "    <tr style=\"text-align: right;\">\n",
       "      <th></th>\n",
       "      <th>country_code</th>\n",
       "      <th>area</th>\n",
       "      <th>year_pc</th>\n",
       "      <th>CO2_emissions_tonnes</th>\n",
       "      <th>Population</th>\n",
       "      <th>category_code_1</th>\n",
       "      <th>food_product_categories_1</th>\n",
       "      <th>production_tonnes_1</th>\n",
       "      <th>total_kgs_CO2_1</th>\n",
       "      <th>category_code_2</th>\n",
       "      <th>...</th>\n",
       "      <th>production_tonnes_41</th>\n",
       "      <th>total_kgs_CO2_41</th>\n",
       "      <th>category_code_42</th>\n",
       "      <th>food_product_categories_42</th>\n",
       "      <th>production_tonnes_42</th>\n",
       "      <th>total_kgs_CO2_42</th>\n",
       "      <th>category_code_43</th>\n",
       "      <th>food_product_categories_43</th>\n",
       "      <th>production_tonnes_43</th>\n",
       "      <th>total_kgs_CO2_43</th>\n",
       "    </tr>\n",
       "  </thead>\n",
       "  <tbody>\n",
       "    <tr>\n",
       "      <th>0</th>\n",
       "      <td>0</td>\n",
       "      <td>Afghanistan</td>\n",
       "      <td>2000</td>\n",
       "      <td>71679740.0</td>\n",
       "      <td>19542982</td>\n",
       "      <td>1</td>\n",
       "      <td>Apples</td>\n",
       "      <td>40540.06</td>\n",
       "      <td>58783.0870</td>\n",
       "      <td>2</td>\n",
       "      <td>...</td>\n",
       "      <td>0.0</td>\n",
       "      <td>0.0</td>\n",
       "      <td>42</td>\n",
       "      <td>Wheat &amp; Rye (Bread)</td>\n",
       "      <td>1470000.0</td>\n",
       "      <td>10518040.0</td>\n",
       "      <td>43</td>\n",
       "      <td>Wine</td>\n",
       "      <td>0.0</td>\n",
       "      <td>0.0</td>\n",
       "    </tr>\n",
       "    <tr>\n",
       "      <th>1</th>\n",
       "      <td>0</td>\n",
       "      <td>Afghanistan</td>\n",
       "      <td>2001</td>\n",
       "      <td>72477702.0</td>\n",
       "      <td>19688632</td>\n",
       "      <td>1</td>\n",
       "      <td>Apples</td>\n",
       "      <td>39541.74</td>\n",
       "      <td>57335.5230</td>\n",
       "      <td>2</td>\n",
       "      <td>...</td>\n",
       "      <td>0.0</td>\n",
       "      <td>0.0</td>\n",
       "      <td>42</td>\n",
       "      <td>Wheat &amp; Rye (Bread)</td>\n",
       "      <td>1600000.0</td>\n",
       "      <td>11434520.0</td>\n",
       "      <td>43</td>\n",
       "      <td>Wine</td>\n",
       "      <td>0.0</td>\n",
       "      <td>0.0</td>\n",
       "    </tr>\n",
       "    <tr>\n",
       "      <th>2</th>\n",
       "      <td>0</td>\n",
       "      <td>Afghanistan</td>\n",
       "      <td>2002</td>\n",
       "      <td>73529311.0</td>\n",
       "      <td>21000256</td>\n",
       "      <td>1</td>\n",
       "      <td>Apples</td>\n",
       "      <td>35630.08</td>\n",
       "      <td>51663.6160</td>\n",
       "      <td>2</td>\n",
       "      <td>...</td>\n",
       "      <td>0.0</td>\n",
       "      <td>0.0</td>\n",
       "      <td>42</td>\n",
       "      <td>Wheat &amp; Rye (Bread)</td>\n",
       "      <td>2690000.0</td>\n",
       "      <td>19231760.0</td>\n",
       "      <td>43</td>\n",
       "      <td>Wine</td>\n",
       "      <td>0.0</td>\n",
       "      <td>0.0</td>\n",
       "    </tr>\n",
       "    <tr>\n",
       "      <th>3</th>\n",
       "      <td>0</td>\n",
       "      <td>Afghanistan</td>\n",
       "      <td>2003</td>\n",
       "      <td>74715262.0</td>\n",
       "      <td>22645130</td>\n",
       "      <td>1</td>\n",
       "      <td>Apples</td>\n",
       "      <td>28042.99</td>\n",
       "      <td>40662.3355</td>\n",
       "      <td>2</td>\n",
       "      <td>...</td>\n",
       "      <td>0.0</td>\n",
       "      <td>0.0</td>\n",
       "      <td>42</td>\n",
       "      <td>Wheat &amp; Rye (Bread)</td>\n",
       "      <td>3480000.0</td>\n",
       "      <td>24916800.0</td>\n",
       "      <td>43</td>\n",
       "      <td>Wine</td>\n",
       "      <td>0.0</td>\n",
       "      <td>0.0</td>\n",
       "    </tr>\n",
       "    <tr>\n",
       "      <th>4</th>\n",
       "      <td>0</td>\n",
       "      <td>Afghanistan</td>\n",
       "      <td>2004</td>\n",
       "      <td>75604429.0</td>\n",
       "      <td>23553551</td>\n",
       "      <td>1</td>\n",
       "      <td>Apples</td>\n",
       "      <td>16691.83</td>\n",
       "      <td>24203.1535</td>\n",
       "      <td>2</td>\n",
       "      <td>...</td>\n",
       "      <td>0.0</td>\n",
       "      <td>0.0</td>\n",
       "      <td>42</td>\n",
       "      <td>Wheat &amp; Rye (Bread)</td>\n",
       "      <td>2390000.0</td>\n",
       "      <td>17112400.0</td>\n",
       "      <td>43</td>\n",
       "      <td>Wine</td>\n",
       "      <td>0.0</td>\n",
       "      <td>0.0</td>\n",
       "    </tr>\n",
       "  </tbody>\n",
       "</table>\n",
       "<p>5 rows × 161 columns</p>\n",
       "</div>"
      ],
      "text/plain": [
       "   country_code         area  year_pc  CO2_emissions_tonnes  Population  \\\n",
       "0             0  Afghanistan     2000            71679740.0    19542982   \n",
       "1             0  Afghanistan     2001            72477702.0    19688632   \n",
       "2             0  Afghanistan     2002            73529311.0    21000256   \n",
       "3             0  Afghanistan     2003            74715262.0    22645130   \n",
       "4             0  Afghanistan     2004            75604429.0    23553551   \n",
       "\n",
       "   category_code_1 food_product_categories_1  production_tonnes_1  \\\n",
       "0                1                    Apples             40540.06   \n",
       "1                1                    Apples             39541.74   \n",
       "2                1                    Apples             35630.08   \n",
       "3                1                    Apples             28042.99   \n",
       "4                1                    Apples             16691.83   \n",
       "\n",
       "   total_kgs_CO2_1  category_code_2  ... production_tonnes_41  \\\n",
       "0       58783.0870                2  ...                  0.0   \n",
       "1       57335.5230                2  ...                  0.0   \n",
       "2       51663.6160                2  ...                  0.0   \n",
       "3       40662.3355                2  ...                  0.0   \n",
       "4       24203.1535                2  ...                  0.0   \n",
       "\n",
       "   total_kgs_CO2_41  category_code_42  food_product_categories_42  \\\n",
       "0               0.0                42         Wheat & Rye (Bread)   \n",
       "1               0.0                42         Wheat & Rye (Bread)   \n",
       "2               0.0                42         Wheat & Rye (Bread)   \n",
       "3               0.0                42         Wheat & Rye (Bread)   \n",
       "4               0.0                42         Wheat & Rye (Bread)   \n",
       "\n",
       "  production_tonnes_42  total_kgs_CO2_42  category_code_43  \\\n",
       "0            1470000.0        10518040.0                43   \n",
       "1            1600000.0        11434520.0                43   \n",
       "2            2690000.0        19231760.0                43   \n",
       "3            3480000.0        24916800.0                43   \n",
       "4            2390000.0        17112400.0                43   \n",
       "\n",
       "   food_product_categories_43 production_tonnes_43  total_kgs_CO2_43  \n",
       "0                        Wine                  0.0               0.0  \n",
       "1                        Wine                  0.0               0.0  \n",
       "2                        Wine                  0.0               0.0  \n",
       "3                        Wine                  0.0               0.0  \n",
       "4                        Wine                  0.0               0.0  \n",
       "\n",
       "[5 rows x 161 columns]"
      ]
     },
     "execution_count": 7,
     "metadata": {},
     "output_type": "execute_result"
    }
   ],
   "source": [
    "# Read in the files\n",
    "df=pd.read_csv('..//ML_Table.csv')\n",
    "df.head()"
   ]
  },
  {
   "cell_type": "code",
   "execution_count": 8,
   "id": "5224bd50",
   "metadata": {},
   "outputs": [
    {
     "data": {
      "text/plain": [
       "(4201, 39)"
      ]
     },
     "execution_count": 8,
     "metadata": {},
     "output_type": "execute_result"
    }
   ],
   "source": [
    "# Set variables\n",
    "y = df ['CO2_emissions_tonnes']\n",
    "X = df [['total_kgs_CO2_1','total_kgs_CO2_2','total_kgs_CO2_3','total_kgs_CO2_4','total_kgs_CO2_6','total_kgs_CO2_','total_kgs_CO2_8','total_kgs_CO2_9','total_kgs_CO2_10','total_kgs_CO2_11','total_kgs_CO2_12','total_kgs_CO2_13','total_kgs_CO2_14','total_kgs_CO2_15','total_kgs_CO2_17','total_kgs_CO2_18','total_kgs_CO2_19','total_kgs_CO2_20','total_kgs_CO2_21','total_kgs_CO2_22','total_kgs_CO2_23','total_kgs_CO2_24','total_kgs_CO2_25','total_kgs_CO2_26','total_kgs_CO2_27','total_kgs_CO2_28','total_kgs_CO2_29','total_kgs_CO2_30','total_kgs_CO2_31','total_kgs_CO2_32','total_kgs_CO_33','total_kgs_CO2_34','total_kgs_CO2_35','total_kgs_CO2_37','total_kgs_CO2_39','total_kgs_CO2_40','total_kgs_CO2_41','total_kgs_CO2_42','total_kgs_CO2_43']]\n",
    "X.shape"
   ]
  },
  {
   "cell_type": "code",
   "execution_count": 9,
   "id": "9f2d6a8e",
   "metadata": {},
   "outputs": [
    {
     "data": {
      "text/plain": [
       "(3150, 39)"
      ]
     },
     "execution_count": 9,
     "metadata": {},
     "output_type": "execute_result"
    }
   ],
   "source": [
    "# Split data into training and testing\n",
    "from sklearn.model_selection import train_test_split\n",
    "X_train, X_test, y_train, y_test = train_test_split(X, y, random_state=1)\n",
    "X_train.shape"
   ]
  },
  {
   "cell_type": "code",
   "execution_count": 10,
   "id": "045ca013",
   "metadata": {},
   "outputs": [
    {
     "data": {
      "text/plain": [
       "RandomForestRegressor(n_estimators=10, random_state=0)"
      ]
     },
     "execution_count": 10,
     "metadata": {},
     "output_type": "execute_result"
    }
   ],
   "source": [
    "# Fitting Random Forest Regression to the dataset\n",
    "from sklearn.ensemble import RandomForestRegressor\n",
    "regressor = RandomForestRegressor(n_estimators = 10, random_state = 0)\n",
    "regressor.fit(X_train, y_train)"
   ]
  },
  {
   "cell_type": "code",
   "execution_count": 11,
   "id": "eb7f7cfc",
   "metadata": {},
   "outputs": [
    {
     "data": {
      "text/plain": [
       "array([4.73274667e+07, 3.74072179e+07, 5.20436725e+07, ...,\n",
       "       8.77050348e+10, 3.99595840e+06, 2.02820720e+07])"
      ]
     },
     "execution_count": 11,
     "metadata": {},
     "output_type": "execute_result"
    }
   ],
   "source": [
    "y_pred = regressor.predict(X_test)\n",
    "y_pred"
   ]
  },
  {
   "cell_type": "code",
   "execution_count": 12,
   "id": "d7387c0b",
   "metadata": {},
   "outputs": [
    {
     "data": {
      "text/html": [
       "<div>\n",
       "<style scoped>\n",
       "    .dataframe tbody tr th:only-of-type {\n",
       "        vertical-align: middle;\n",
       "    }\n",
       "\n",
       "    .dataframe tbody tr th {\n",
       "        vertical-align: top;\n",
       "    }\n",
       "\n",
       "    .dataframe thead th {\n",
       "        text-align: right;\n",
       "    }\n",
       "</style>\n",
       "<table border=\"1\" class=\"dataframe\">\n",
       "  <thead>\n",
       "    <tr style=\"text-align: right;\">\n",
       "      <th></th>\n",
       "      <th>Real Values</th>\n",
       "      <th>Predicted Values</th>\n",
       "    </tr>\n",
       "  </thead>\n",
       "  <tbody>\n",
       "    <tr>\n",
       "      <th>3604</th>\n",
       "      <td>4.245974e+07</td>\n",
       "      <td>4.732747e+07</td>\n",
       "    </tr>\n",
       "    <tr>\n",
       "      <th>781</th>\n",
       "      <td>3.788563e+07</td>\n",
       "      <td>3.740722e+07</td>\n",
       "    </tr>\n",
       "    <tr>\n",
       "      <th>2165</th>\n",
       "      <td>4.881502e+07</td>\n",
       "      <td>5.204367e+07</td>\n",
       "    </tr>\n",
       "    <tr>\n",
       "      <th>1217</th>\n",
       "      <td>4.942875e+07</td>\n",
       "      <td>4.437258e+07</td>\n",
       "    </tr>\n",
       "    <tr>\n",
       "      <th>1006</th>\n",
       "      <td>7.199476e+08</td>\n",
       "      <td>1.397920e+09</td>\n",
       "    </tr>\n",
       "    <tr>\n",
       "      <th>...</th>\n",
       "      <td>...</td>\n",
       "      <td>...</td>\n",
       "    </tr>\n",
       "    <tr>\n",
       "      <th>2907</th>\n",
       "      <td>2.624575e+10</td>\n",
       "      <td>3.838209e+10</td>\n",
       "    </tr>\n",
       "    <tr>\n",
       "      <th>3630</th>\n",
       "      <td>3.550416e+06</td>\n",
       "      <td>3.814430e+06</td>\n",
       "    </tr>\n",
       "    <tr>\n",
       "      <th>3000</th>\n",
       "      <td>8.785206e+10</td>\n",
       "      <td>8.770503e+10</td>\n",
       "    </tr>\n",
       "    <tr>\n",
       "      <th>982</th>\n",
       "      <td>4.187952e+06</td>\n",
       "      <td>3.995958e+06</td>\n",
       "    </tr>\n",
       "    <tr>\n",
       "      <th>1176</th>\n",
       "      <td>1.725011e+07</td>\n",
       "      <td>2.028207e+07</td>\n",
       "    </tr>\n",
       "  </tbody>\n",
       "</table>\n",
       "<p>1051 rows × 2 columns</p>\n",
       "</div>"
      ],
      "text/plain": [
       "       Real Values  Predicted Values\n",
       "3604  4.245974e+07      4.732747e+07\n",
       "781   3.788563e+07      3.740722e+07\n",
       "2165  4.881502e+07      5.204367e+07\n",
       "1217  4.942875e+07      4.437258e+07\n",
       "1006  7.199476e+08      1.397920e+09\n",
       "...            ...               ...\n",
       "2907  2.624575e+10      3.838209e+10\n",
       "3630  3.550416e+06      3.814430e+06\n",
       "3000  8.785206e+10      8.770503e+10\n",
       "982   4.187952e+06      3.995958e+06\n",
       "1176  1.725011e+07      2.028207e+07\n",
       "\n",
       "[1051 rows x 2 columns]"
      ]
     },
     "execution_count": 12,
     "metadata": {},
     "output_type": "execute_result"
    }
   ],
   "source": [
    "pred_df = pd.DataFrame({'Real Values':y_test, 'Predicted Values':y_pred})\n",
    "pred_df"
   ]
  },
  {
   "cell_type": "code",
   "execution_count": 13,
   "id": "149abec7",
   "metadata": {},
   "outputs": [
    {
     "data": {
      "image/png": "[encoded data removed]",
      "text/plain": [
       "<Figure size 360x360 with 1 Axes>"
      ]
     },
     "metadata": {
      "needs_background": "light"
     },
     "output_type": "display_data"
    }
   ],
   "source": [
    "# Plot real values vs predicted\n",
    "plt.figure(figsize=(5,5))\n",
    "plt.scatter(pred_df['Real Values'], pred_df['Predicted Values'])\n",
    "plt.xlabel(\"Real Values\")\n",
    "plt.ylabel(\"Predicted Values\")\n",
    "plt.show() "
   ]
  },
  {
   "cell_type": "code",
   "execution_count": 14,
   "id": "9b86c59c",
   "metadata": {},
   "outputs": [
    {
     "name": "stdout",
     "output_type": "stream",
     "text": [
      "total_kgs_CO2_19: (0.5137630653294117)\n",
      "total_kgs_CO2_32: (0.2369290194693125)\n",
      "total_kgs_CO2_3: (0.11734813665498753)\n",
      "total_kgs_CO_33: (0.052730428535790186)\n",
      "total_kgs_CO2_39: (0.013370095823080661)\n",
      "total_kgs_CO2_: (0.010162750735284835)\n",
      "total_kgs_CO2_4: (0.007418826332820842)\n",
      "total_kgs_CO2_1: (0.006810781451972475)\n",
      "total_kgs_CO2_29: (0.006805639139443457)\n",
      "total_kgs_CO2_21: (0.00477775129651004)\n",
      "total_kgs_CO2_11: (0.004413108775804443)\n",
      "total_kgs_CO2_31: (0.00354534503537851)\n",
      "total_kgs_CO2_12: (0.003301425384496289)\n",
      "total_kgs_CO2_15: (0.0032476330023086973)\n",
      "total_kgs_CO2_27: (0.002401274772795817)\n",
      "total_kgs_CO2_42: (0.0019071898549874963)\n",
      "total_kgs_CO2_30: (0.0016835849162191966)\n",
      "total_kgs_CO2_18: (0.001637651933288939)\n",
      "total_kgs_CO2_20: (0.0014203552754377701)\n",
      "total_kgs_CO2_2: (0.001287569167397487)\n",
      "total_kgs_CO2_23: (0.0008135087817725404)\n",
      "total_kgs_CO2_13: (0.0007250660830378071)\n",
      "total_kgs_CO2_37: (0.00043674855356068203)\n",
      "total_kgs_CO2_6: (0.00040986777104316157)\n",
      "total_kgs_CO2_9: (0.0003438003036989161)\n",
      "total_kgs_CO2_8: (0.0003289953440732475)\n",
      "total_kgs_CO2_34: (0.0003161090476588812)\n",
      "total_kgs_CO2_22: (0.0003078406319566357)\n",
      "total_kgs_CO2_24: (0.0002706813946011616)\n",
      "total_kgs_CO2_35: (0.0002704361327469933)\n",
      "total_kgs_CO2_43: (0.0002184329090559528)\n",
      "total_kgs_CO2_40: (0.00017430438769768455)\n",
      "total_kgs_CO2_41: (0.00010069397646171625)\n",
      "total_kgs_CO2_25: (8.85019193451114e-05)\n",
      "total_kgs_CO2_17: (8.341056254209817e-05)\n",
      "total_kgs_CO2_26: (6.811057058329856e-05)\n",
      "total_kgs_CO2_14: (3.3100812401572994e-05)\n",
      "total_kgs_CO2_10: (3.0654042873352765e-05)\n",
      "total_kgs_CO2_28: (1.8103888160264226e-05)\n"
     ]
    }
   ],
   "source": [
    "# List the features sorted in descending order by feature importance\n",
    "importance_sorted_idx = regressor.feature_importances_.argsort()[::-1]\n",
    "for i in importance_sorted_idx:\n",
    "    print(f\"{X.columns[i]}: ({regressor.feature_importances_[i]})\")"
   ]
  },
  {
   "cell_type": "code",
   "execution_count": 15,
   "id": "1b02504d",
   "metadata": {},
   "outputs": [
    {
     "data": {
      "text/plain": [
       "<AxesSubplot:>"
      ]
     },
     "execution_count": 15,
     "metadata": {},
     "output_type": "execute_result"
    },
    {
     "data": {
      "image/png": "[encoded data removed]",
      "text/plain": [
       "<Figure size 432x288 with 1 Axes>"
      ]
     },
     "metadata": {
      "needs_background": "light"
     },
     "output_type": "display_data"
    }
   ],
   "source": [
    "feat_importances = pd.Series(regressor.feature_importances_, index=X.columns)\n",
    "feat_importances.nlargest(20).plot(kind='barh')"
   ]
  },
  {
   "cell_type": "code",
   "execution_count": 16,
   "id": "7ea5ac5c",
   "metadata": {},
   "outputs": [],
   "source": [
    "# Import library for metrics\n",
    "from sklearn.metrics import mean_squared_error, r2_score, mean_absolute_error"
   ]
  },
  {
   "cell_type": "code",
   "execution_count": 17,
   "id": "38f1c664",
   "metadata": {},
   "outputs": [
    {
     "name": "stdout",
     "output_type": "stream",
     "text": [
      "Mean Absolute Error: 433454016.28\n",
      "Mean Squared Error: 8.118344899441254e+18\n",
      "R-squared scores: 0.99\n"
     ]
    }
   ],
   "source": [
    "# Mean absolute error (MAE)\n",
    "mae = mean_absolute_error(y_test, y_pred)\n",
    "\n",
    "# Mean squared error (MSE)\n",
    "mse = mean_squared_error(y_test, y_pred)\n",
    "\n",
    "# R-squared scores\n",
    "r2 = r2_score(y_test, y_pred)\n",
    "\n",
    "# Print metrics\n",
    "print('Mean Absolute Error:', round(mae, 2))\n",
    "print('Mean Squared Error:', round(mse, 2))\n",
    "print('R-squared scores:', round(r2, 2))"
   ]
  },
  {
   "cell_type": "code",
   "execution_count": 18,
   "id": "51de40f6",
   "metadata": {},
   "outputs": [
    {
     "data": {
      "text/plain": [
       "ExtraTreesRegressor(n_estimators=10, random_state=0)"
      ]
     },
     "execution_count": 18,
     "metadata": {},
     "output_type": "execute_result"
    }
   ],
   "source": [
    "# Fitting Extra Trees Regressor to the dataset\n",
    "from sklearn.ensemble import ExtraTreesRegressor\n",
    "etr = ExtraTreesRegressor(n_estimators = 10, random_state = 0)\n",
    "etr.fit(X_train, y_train)"
   ]
  },
  {
   "cell_type": "code",
   "execution_count": 19,
   "id": "4d6a5963",
   "metadata": {},
   "outputs": [
    {
     "data": {
      "text/plain": [
       "array([3.88637632e+07, 3.74583689e+07, 4.84010282e+07, ...,\n",
       "       8.59973620e+10, 3.97139000e+06, 2.09628432e+07])"
      ]
     },
     "execution_count": 19,
     "metadata": {},
     "output_type": "execute_result"
    }
   ],
   "source": [
    "y_pred = etr.predict(X_test)\n",
    "y_pred"
   ]
  },
  {
   "cell_type": "code",
   "execution_count": 20,
   "id": "b9d85a1b",
   "metadata": {},
   "outputs": [
    {
     "data": {
      "text/html": [
       "<div>\n",
       "<style scoped>\n",
       "    .dataframe tbody tr th:only-of-type {\n",
       "        vertical-align: middle;\n",
       "    }\n",
       "\n",
       "    .dataframe tbody tr th {\n",
       "        vertical-align: top;\n",
       "    }\n",
       "\n",
       "    .dataframe thead th {\n",
       "        text-align: right;\n",
       "    }\n",
       "</style>\n",
       "<table border=\"1\" class=\"dataframe\">\n",
       "  <thead>\n",
       "    <tr style=\"text-align: right;\">\n",
       "      <th></th>\n",
       "      <th>Real Values</th>\n",
       "      <th>Predicted Values</th>\n",
       "    </tr>\n",
       "  </thead>\n",
       "  <tbody>\n",
       "    <tr>\n",
       "      <th>3604</th>\n",
       "      <td>4.245974e+07</td>\n",
       "      <td>3.886376e+07</td>\n",
       "    </tr>\n",
       "    <tr>\n",
       "      <th>781</th>\n",
       "      <td>3.788563e+07</td>\n",
       "      <td>3.745837e+07</td>\n",
       "    </tr>\n",
       "    <tr>\n",
       "      <th>2165</th>\n",
       "      <td>4.881502e+07</td>\n",
       "      <td>4.840103e+07</td>\n",
       "    </tr>\n",
       "    <tr>\n",
       "      <th>1217</th>\n",
       "      <td>4.942875e+07</td>\n",
       "      <td>7.122149e+07</td>\n",
       "    </tr>\n",
       "    <tr>\n",
       "      <th>1006</th>\n",
       "      <td>7.199476e+08</td>\n",
       "      <td>6.941424e+08</td>\n",
       "    </tr>\n",
       "    <tr>\n",
       "      <th>...</th>\n",
       "      <td>...</td>\n",
       "      <td>...</td>\n",
       "    </tr>\n",
       "    <tr>\n",
       "      <th>2907</th>\n",
       "      <td>2.624575e+10</td>\n",
       "      <td>2.297951e+10</td>\n",
       "    </tr>\n",
       "    <tr>\n",
       "      <th>3630</th>\n",
       "      <td>3.550416e+06</td>\n",
       "      <td>3.843314e+06</td>\n",
       "    </tr>\n",
       "    <tr>\n",
       "      <th>3000</th>\n",
       "      <td>8.785206e+10</td>\n",
       "      <td>8.599736e+10</td>\n",
       "    </tr>\n",
       "    <tr>\n",
       "      <th>982</th>\n",
       "      <td>4.187952e+06</td>\n",
       "      <td>3.971390e+06</td>\n",
       "    </tr>\n",
       "    <tr>\n",
       "      <th>1176</th>\n",
       "      <td>1.725011e+07</td>\n",
       "      <td>2.096284e+07</td>\n",
       "    </tr>\n",
       "  </tbody>\n",
       "</table>\n",
       "<p>1051 rows × 2 columns</p>\n",
       "</div>"
      ],
      "text/plain": [
       "       Real Values  Predicted Values\n",
       "3604  4.245974e+07      3.886376e+07\n",
       "781   3.788563e+07      3.745837e+07\n",
       "2165  4.881502e+07      4.840103e+07\n",
       "1217  4.942875e+07      7.122149e+07\n",
       "1006  7.199476e+08      6.941424e+08\n",
       "...            ...               ...\n",
       "2907  2.624575e+10      2.297951e+10\n",
       "3630  3.550416e+06      3.843314e+06\n",
       "3000  8.785206e+10      8.599736e+10\n",
       "982   4.187952e+06      3.971390e+06\n",
       "1176  1.725011e+07      2.096284e+07\n",
       "\n",
       "[1051 rows x 2 columns]"
      ]
     },
     "execution_count": 20,
     "metadata": {},
     "output_type": "execute_result"
    }
   ],
   "source": [
    "pred_df = pd.DataFrame({'Real Values':y_test, 'Predicted Values':y_pred})\n",
    "pred_df"
   ]
  },
  {
   "cell_type": "code",
   "execution_count": 21,
   "id": "fcb1cccc",
   "metadata": {},
   "outputs": [
    {
     "data": {
      "image/png": "[encoded data removed]",
      "text/plain": [
       "<Figure size 360x360 with 1 Axes>"
      ]
     },
     "metadata": {
      "needs_background": "light"
     },
     "output_type": "display_data"
    }
   ],
   "source": [
    "# Plot real values vs predicted for Extra Trees Regressor\n",
    "plt.figure(figsize=(5,5))\n",
    "plt.scatter(pred_df['Real Values'], pred_df['Predicted Values'])\n",
    "plt.xlabel(\"Real Values\")\n",
    "plt.ylabel(\"Predicted Values\")\n",
    "plt.show() "
   ]
  },
  {
   "cell_type": "code",
   "execution_count": 22,
   "id": "33bc3b07",
   "metadata": {},
   "outputs": [
    {
     "name": "stdout",
     "output_type": "stream",
     "text": [
      "total_kgs_CO2_19: (0.34197304883233925)\n",
      "total_kgs_CO2_32: (0.13226413061942968)\n",
      "total_kgs_CO2_3: (0.1055880784060286)\n",
      "total_kgs_CO2_11: (0.08587079034990641)\n",
      "total_kgs_CO2_4: (0.06941459700014305)\n",
      "total_kgs_CO2_28: (0.0472504255728009)\n",
      "total_kgs_CO2_42: (0.030580860517151913)\n",
      "total_kgs_CO2_20: (0.021231708247344806)\n",
      "total_kgs_CO2_6: (0.016947066182193906)\n",
      "total_kgs_CO2_31: (0.015057794356941951)\n",
      "total_kgs_CO2_12: (0.014891138262388876)\n",
      "total_kgs_CO_33: (0.012787054951970803)\n",
      "total_kgs_CO2_30: (0.011237555928381184)\n",
      "total_kgs_CO2_41: (0.01011710097866447)\n",
      "total_kgs_CO2_15: (0.009982228587493546)\n",
      "total_kgs_CO2_35: (0.008042902320523494)\n",
      "total_kgs_CO2_25: (0.007723638897818951)\n",
      "total_kgs_CO2_2: (0.007377163811495524)\n",
      "total_kgs_CO2_18: (0.005347224205202364)\n",
      "total_kgs_CO2_8: (0.004897074988871589)\n",
      "total_kgs_CO2_24: (0.004805565024129052)\n",
      "total_kgs_CO2_27: (0.004577746251532198)\n",
      "total_kgs_CO2_39: (0.004569729678459401)\n",
      "total_kgs_CO2_13: (0.003226617148790917)\n",
      "total_kgs_CO2_37: (0.003147405406034484)\n",
      "total_kgs_CO2_23: (0.003073885890530753)\n",
      "total_kgs_CO2_29: (0.0028730621063907617)\n",
      "total_kgs_CO2_9: (0.0027236169742571896)\n",
      "total_kgs_CO2_43: (0.0027059439345945807)\n",
      "total_kgs_CO2_1: (0.002533618406120069)\n",
      "total_kgs_CO2_22: (0.002295801470824738)\n",
      "total_kgs_CO2_: (0.0014595989897660362)\n",
      "total_kgs_CO2_21: (0.0011921947275908046)\n",
      "total_kgs_CO2_17: (0.0007675696150914877)\n",
      "total_kgs_CO2_40: (0.0007425696212481886)\n",
      "total_kgs_CO2_34: (0.00026092839984447676)\n",
      "total_kgs_CO2_26: (0.00024973359281705405)\n",
      "total_kgs_CO2_10: (0.00020507073755174945)\n",
      "total_kgs_CO2_14: (7.759007334751445e-06)\n"
     ]
    }
   ],
   "source": [
    "# List the features of Extra Trees Regressor sorted in descending order by feature importance\n",
    "importance_sorted_idx = etr.feature_importances_.argsort()[::-1]\n",
    "for i in importance_sorted_idx:\n",
    "    print(f\"{X.columns[i]}: ({etr.feature_importances_[i]})\")"
   ]
  },
  {
   "cell_type": "code",
   "execution_count": 23,
   "id": "2b889d95",
   "metadata": {},
   "outputs": [
    {
     "data": {
      "text/plain": [
       "<AxesSubplot:>"
      ]
     },
     "execution_count": 23,
     "metadata": {},
     "output_type": "execute_result"
    },
    {
     "data": {
      "image/png": "[encoded data removed]",
      "text/plain": [
       "<Figure size 432x288 with 1 Axes>"
      ]
     },
     "metadata": {
      "needs_background": "light"
     },
     "output_type": "display_data"
    }
   ],
   "source": [
    "feat_importances = pd.Series(etr.feature_importances_, index=X.columns)\n",
    "feat_importances.nlargest(20).plot(kind='barh')"
   ]
  },
  {
   "cell_type": "code",
   "execution_count": 24,
   "id": "7fa99cf5",
   "metadata": {},
   "outputs": [
    {
     "name": "stdout",
     "output_type": "stream",
     "text": [
      "Mean Absolute Error: 335260395.91\n",
      "Mean Squared Error: 2.560554705606461e+18\n",
      "R-squared scores: 1.0\n"
     ]
    }
   ],
   "source": [
    "# Mean absolute error (MAE)\n",
    "mae = mean_absolute_error(y_test, y_pred)\n",
    "\n",
    "# Mean squared error (MSE)\n",
    "mse = mean_squared_error(y_test, y_pred)\n",
    "\n",
    "# R-squared scores\n",
    "r2 = r2_score(y_test, y_pred)\n",
    "\n",
    "# Print metrics\n",
    "print('Mean Absolute Error:', round(mae, 2))\n",
    "print('Mean Squared Error:', round(mse, 2))\n",
    "print('R-squared scores:', round(r2, 2))"
   ]
  },
  {
   "cell_type": "code",
   "execution_count": 25,
   "id": "fa05fcf8",
   "metadata": {},
   "outputs": [
    {
     "data": {
      "text/plain": [
       "XGBRegressor(base_score=None, booster=None, callbacks=None,\n",
       "             colsample_bylevel=None, colsample_bynode=None,\n",
       "             colsample_bytree=None, early_stopping_rounds=None,\n",
       "             enable_categorical=False, eval_metric=None, feature_types=None,\n",
       "             gamma=None, gpu_id=None, grow_policy=None, importance_type=None,\n",
       "             interaction_constraints=None, learning_rate=None, max_bin=None,\n",
       "             max_cat_threshold=None, max_cat_to_onehot=None,\n",
       "             max_delta_step=None, max_depth=None, max_leaves=None,\n",
       "             min_child_weight=None, missing=nan, monotone_constraints=None,\n",
       "             n_estimators=10, n_jobs=None, num_parallel_tree=None,\n",
       "             predictor=None, random_state=0, ...)"
      ]
     },
     "execution_count": 25,
     "metadata": {},
     "output_type": "execute_result"
    }
   ],
   "source": [
    "# Fitting XG Boost Regressor to the dataset\n",
    "import xgboost as xg\n",
    "xgbr = xg.XGBRegressor(n_estimators = 10, random_state = 0)\n",
    "xgbr.fit(X_train, y_train)"
   ]
  },
  {
   "cell_type": "code",
   "execution_count": 26,
   "id": "4092305b",
   "metadata": {},
   "outputs": [
    {
     "data": {
      "text/plain": [
       "array([4.2407946e+08, 1.6831638e+08, 1.6831638e+08, ..., 8.4865884e+10,\n",
       "       8.2262960e+07, 1.8913299e+08], dtype=float32)"
      ]
     },
     "execution_count": 26,
     "metadata": {},
     "output_type": "execute_result"
    }
   ],
   "source": [
    "y_pred = xgbr.predict(X_test)\n",
    "y_pred"
   ]
  },
  {
   "cell_type": "code",
   "execution_count": 27,
   "id": "6e119752",
   "metadata": {},
   "outputs": [
    {
     "data": {
      "text/html": [
       "<div>\n",
       "<style scoped>\n",
       "    .dataframe tbody tr th:only-of-type {\n",
       "        vertical-align: middle;\n",
       "    }\n",
       "\n",
       "    .dataframe tbody tr th {\n",
       "        vertical-align: top;\n",
       "    }\n",
       "\n",
       "    .dataframe thead th {\n",
       "        text-align: right;\n",
       "    }\n",
       "</style>\n",
       "<table border=\"1\" class=\"dataframe\">\n",
       "  <thead>\n",
       "    <tr style=\"text-align: right;\">\n",
       "      <th></th>\n",
       "      <th>Real Values</th>\n",
       "      <th>Predicted Values</th>\n",
       "    </tr>\n",
       "  </thead>\n",
       "  <tbody>\n",
       "    <tr>\n",
       "      <th>3604</th>\n",
       "      <td>4.245974e+07</td>\n",
       "      <td>4.240795e+08</td>\n",
       "    </tr>\n",
       "    <tr>\n",
       "      <th>781</th>\n",
       "      <td>3.788563e+07</td>\n",
       "      <td>1.683164e+08</td>\n",
       "    </tr>\n",
       "    <tr>\n",
       "      <th>2165</th>\n",
       "      <td>4.881502e+07</td>\n",
       "      <td>1.683164e+08</td>\n",
       "    </tr>\n",
       "    <tr>\n",
       "      <th>1217</th>\n",
       "      <td>4.942875e+07</td>\n",
       "      <td>1.683164e+08</td>\n",
       "    </tr>\n",
       "    <tr>\n",
       "      <th>1006</th>\n",
       "      <td>7.199476e+08</td>\n",
       "      <td>2.068750e+09</td>\n",
       "    </tr>\n",
       "    <tr>\n",
       "      <th>...</th>\n",
       "      <td>...</td>\n",
       "      <td>...</td>\n",
       "    </tr>\n",
       "    <tr>\n",
       "      <th>2907</th>\n",
       "      <td>2.624575e+10</td>\n",
       "      <td>3.570316e+10</td>\n",
       "    </tr>\n",
       "    <tr>\n",
       "      <th>3630</th>\n",
       "      <td>3.550416e+06</td>\n",
       "      <td>9.183214e+07</td>\n",
       "    </tr>\n",
       "    <tr>\n",
       "      <th>3000</th>\n",
       "      <td>8.785206e+10</td>\n",
       "      <td>8.486588e+10</td>\n",
       "    </tr>\n",
       "    <tr>\n",
       "      <th>982</th>\n",
       "      <td>4.187952e+06</td>\n",
       "      <td>8.226296e+07</td>\n",
       "    </tr>\n",
       "    <tr>\n",
       "      <th>1176</th>\n",
       "      <td>1.725011e+07</td>\n",
       "      <td>1.891330e+08</td>\n",
       "    </tr>\n",
       "  </tbody>\n",
       "</table>\n",
       "<p>1051 rows × 2 columns</p>\n",
       "</div>"
      ],
      "text/plain": [
       "       Real Values  Predicted Values\n",
       "3604  4.245974e+07      4.240795e+08\n",
       "781   3.788563e+07      1.683164e+08\n",
       "2165  4.881502e+07      1.683164e+08\n",
       "1217  4.942875e+07      1.683164e+08\n",
       "1006  7.199476e+08      2.068750e+09\n",
       "...            ...               ...\n",
       "2907  2.624575e+10      3.570316e+10\n",
       "3630  3.550416e+06      9.183214e+07\n",
       "3000  8.785206e+10      8.486588e+10\n",
       "982   4.187952e+06      8.226296e+07\n",
       "1176  1.725011e+07      1.891330e+08\n",
       "\n",
       "[1051 rows x 2 columns]"
      ]
     },
     "execution_count": 27,
     "metadata": {},
     "output_type": "execute_result"
    }
   ],
   "source": [
    "pred_df = pd.DataFrame({'Real Values':y_test, 'Predicted Values':y_pred})\n",
    "pred_df"
   ]
  },
  {
   "cell_type": "code",
   "execution_count": 24,
   "id": "f61d2a0a",
   "metadata": {},
   "outputs": [
    {
     "data": {
      "image/png": "[encoded data removed]",
      "text/plain": [
       "<Figure size 360x360 with 1 Axes>"
      ]
     },
     "metadata": {
      "needs_background": "light"
     },
     "output_type": "display_data"
    }
   ],
   "source": [
    "# Plot real values vs predicted\n",
    "plt.figure(figsize=(5,5))\n",
    "plt.scatter(pred_df['Real Values'], pred_df['Predicted Values'])\n",
    "plt.xlabel(\"Real Values\")\n",
    "plt.ylabel(\"Predicted Values\")\n",
    "plt.show() "
   ]
  },
  {
   "cell_type": "code",
   "execution_count": 25,
   "id": "bc305b3f",
   "metadata": {},
   "outputs": [
    {
     "name": "stdout",
     "output_type": "stream",
     "text": [
      "total_kgs_CO2_19: (0.7769872546195984)\n",
      "total_kgs_CO2_3: (0.07589844614267349)\n",
      "total_kgs_CO_33: (0.05980155989527702)\n",
      "total_kgs_CO2_39: (0.023133642971515656)\n",
      "total_kgs_CO2_1: (0.01229138858616352)\n",
      "total_kgs_CO2_26: (0.012278266251087189)\n",
      "total_kgs_CO2_31: (0.009784838184714317)\n",
      "total_kgs_CO2_40: (0.004197007976472378)\n",
      "total_kgs_CO2_25: (0.0030843839049339294)\n",
      "total_kgs_CO2_8: (0.002930073067545891)\n",
      "total_kgs_CO2_: (0.002016750629991293)\n",
      "total_kgs_CO2_15: (0.0018721260130405426)\n",
      "total_kgs_CO2_32: (0.0017555889207869768)\n",
      "total_kgs_CO2_41: (0.0016538257477805018)\n",
      "total_kgs_CO2_11: (0.0016121827065944672)\n",
      "total_kgs_CO2_37: (0.0013650491600856185)\n",
      "total_kgs_CO2_42: (0.001335591427050531)\n",
      "total_kgs_CO2_30: (0.0012086732313036919)\n",
      "total_kgs_CO2_23: (0.0010575372725725174)\n",
      "total_kgs_CO2_4: (0.0010305276373401284)\n",
      "total_kgs_CO2_34: (0.0009208196424879134)\n",
      "total_kgs_CO2_29: (0.0008374933386221528)\n",
      "total_kgs_CO2_20: (0.0007784449844621122)\n",
      "total_kgs_CO2_2: (0.00044632074423134327)\n",
      "total_kgs_CO2_9: (0.00039331603329628706)\n",
      "total_kgs_CO2_22: (0.0002998159034177661)\n",
      "total_kgs_CO2_10: (0.00026367208920419216)\n",
      "total_kgs_CO2_21: (0.00021872659272048622)\n",
      "total_kgs_CO2_18: (0.00020883165416307747)\n",
      "total_kgs_CO2_6: (0.00015119303134270012)\n",
      "total_kgs_CO2_24: (0.0001231752394232899)\n",
      "total_kgs_CO2_35: (3.1752511858940125e-05)\n",
      "total_kgs_CO2_28: (3.159107654937543e-05)\n",
      "total_kgs_CO2_14: (0.0)\n",
      "total_kgs_CO2_13: (0.0)\n",
      "total_kgs_CO2_12: (0.0)\n",
      "total_kgs_CO2_17: (0.0)\n",
      "total_kgs_CO2_27: (0.0)\n",
      "total_kgs_CO2_43: (0.0)\n"
     ]
    }
   ],
   "source": [
    "# List the features of XG Boost Regressor sorted in descending order by feature importance\n",
    "importance_sorted_idx = xgbr.feature_importances_.argsort()[::-1]\n",
    "for i in importance_sorted_idx:\n",
    "    print(f\"{X.columns[i]}: ({xgbr.feature_importances_[i]})\")"
   ]
  },
  {
   "cell_type": "code",
   "execution_count": 28,
   "id": "88576d61",
   "metadata": {},
   "outputs": [
    {
     "data": {
      "text/plain": [
       "<AxesSubplot:>"
      ]
     },
     "execution_count": 28,
     "metadata": {},
     "output_type": "execute_result"
    },
    {
     "data": {
      "image/png": "[encoded data removed]",
      "text/plain": [
       "<Figure size 432x288 with 1 Axes>"
      ]
     },
     "metadata": {
      "needs_background": "light"
     },
     "output_type": "display_data"
    }
   ],
   "source": [
    "feat_importances = pd.Series(xgbr.feature_importances_, index=X.columns)\n",
    "feat_importances.nlargest(20).plot(kind='barh')"
   ]
  },
  {
   "cell_type": "code",
   "execution_count": null,
   "id": "e9eae655",
   "metadata": {},
   "outputs": [],
   "source": [
    "# Mean absolute error (MAE)\n",
    "mae = mean_absolute_error(y_test, y_pred)\n",
    "\n",
    "# Mean squared error (MSE)\n",
    "mse = mean_squared_error(y_test, y_pred)\n",
    "\n",
    "# R-squared scores\n",
    "r2 = r2_score(y_test, y_pred)\n",
    "\n",
    "RMSE = np.sqrt(ms.mean_squared_error(y_test,y_pred))\n",
    "\n",
    "# Print metrics\n",
    "print('Mean Absolute Error:', round(mae, 2))\n",
    "print('Mean Squared Error:', round(mse, 2))\n",
    "print('R-squared scores:', round(r2, 2))\n",
    "print('RMSE:', round(RMSE,2))"
   ]
  },
  {
   "cell_type": "markdown",
   "id": "f824addf",
   "metadata": {},
   "source": [
    "## Confusion Matrix"
   ]
  },
  {
   "cell_type": "code",
   "execution_count": 28,
   "id": "20666e68",
   "metadata": {},
   "outputs": [
    {
     "data": {
      "image/png": "[encoded data removed]",
      "text/plain": [
       "<Figure size 432x288 with 2 Axes>"
      ]
     },
     "metadata": {
      "needs_background": "light"
     },
     "output_type": "display_data"
    }
   ],
   "source": [
    "import pandas as pd\n",
    "import seaborn as sn\n",
    "import matplotlib.pyplot as plt\n",
    "\n",
    "corr_matrix = pred_df.corr()\n",
    "sn.heatmap(corr_matrix, annot=True)\n",
    "plt.show()"
   ]
  },
  {
   "cell_type": "markdown",
   "id": "1a522de8",
   "metadata": {},
   "source": [
    "# Findings"
   ]
  },
  {
   "cell_type": "markdown",
   "id": "fdd57105",
   "metadata": {},
   "source": [
    "In this analysis compared the CO2 emission rates of countries based on categorized food product production. Through cleaning the data, building a database and dashboard, and exploring the data with various tools and machine learning algorithms, we were able to fulfil the analysis's purpose; find correlations between selected features in our data including, the name of the country producing the most emissions, the food products whose productions most or least significant impact the rates of emission and if population plays factor into rates. \n",
    "\n",
    "The analysis consisted of almost 9 million data points that we were able to extract in an impacting and reusable code set. Rather than taking a conventional route to the data we looked to multiple sources and utilized SQL to create a composed master table of all the selected features of the 4 original data bases that made the data suitable for analysis.  \n",
    "\n",
    "We chose this dataset because we were interested in whether we could identify causality of a specific type of product with a country’s overall CO2 emissions. Population can also have an effect on this, including the level of industrial development of the country. We didn't go too far down that path because that would have been a very complex program.\n"
   ]
  },
  {
   "attachments": {},
   "cell_type": "markdown",
   "id": "f30754fd",
   "metadata": {},
   "source": [
    "### Investigative Query\n",
    "\n",
    "1. **Does the amount of agricultural production predict the CO2 emissions of a country?**\n",
    "\n",
    "2. **What products being produced by countries have the highest and lowest emissions?**\n",
    "\n",
    "3. **Can we predict the year based on CO2 emissions of a country?**\n",
    "\n",
    "4. **Is there a correlation between population and the rate of production impacting CO2 emissions?**\n",
    "\n"
   ]
  },
  {
   "cell_type": "markdown",
   "id": "9373a833",
   "metadata": {},
   "source": [
    "### Exploratory Data Analysis"
   ]
  },
  {
   "attachments": {
    "Screenshot%202023-04-05%20173715.png": {
     "image/png": "[encoded data removed]"
    }
   },
   "cell_type": "markdown",
   "id": "dcefabe1",
   "metadata": {},
   "source": [
    "2. **What products being produced by countries have the highest emissions?**\n",
    "\n",
    "Throught the Tableau dashboard we are able to see what food products have the highest and lowest impacting CO2 emissions. Using the heatmap below the foods that have the most global impact in production  are:\n",
    "\n",
    "- Sugar Cane at 34,684,911,578 Tonnes\n",
    "\n",
    "- Maize(Corn) 18,467,107,546 Tonnes\n",
    "\n",
    "- Rice 14,367,247,693 Tonnes\n",
    "\n",
    "- Wheat 14,130,705,994 Tonnes\n",
    "\n",
    "\n",
    "\n",
    "![Screenshot%202023-04-05%20173715.png](attachment:Screenshot%202023-04-05%20173715.png)"
   ]
  },
  {
   "cell_type": "markdown",
   "id": "bd142a42",
   "metadata": {},
   "source": [
    "3. **Can we predict the year based on CO2 emissions of a country?**\n"
   ]
  },
  {
   "cell_type": "markdown",
   "id": "e19b1e79",
   "metadata": {},
   "source": [
    "4. **Is there a correlation between population and the rate of production impacting CO2 emissions?**"
   ]
  },
  {
   "cell_type": "markdown",
   "id": "4f8cfcdd",
   "metadata": {},
   "source": [
    "Example below: **Cane Sugar**"
   ]
  },
  {
   "cell_type": "code",
   "execution_count": 41,
   "id": "4da86007",
   "metadata": {},
   "outputs": [],
   "source": [
    "#Load the data\n",
    "ML_data = pd.read_csv('ML_Table.csv')\n",
    "\n",
    "world_pop = pd.read_csv('World_Population_Data_2000-2021.csv')\n",
    "\n",
    "cane_sugar= ML_data.loc[:, ['country_code', 'area', 'year_pc', 'CO2_emissions_tonnes', 'Population', 'category_code_9', 'food_product_categories_9', 'production_tonnes_9', 'total_kgs_CO2_9']]\n"
   ]
  },
  {
   "cell_type": "code",
   "execution_count": 42,
   "id": "68713f23",
   "metadata": {},
   "outputs": [
    {
     "data": {
      "image/png": "[encoded data removed]",
      "text/plain": [
       "<Figure size 3600x720 with 1 Axes>"
      ]
     },
     "metadata": {
      "needs_background": "light"
     },
     "output_type": "display_data"
    }
   ],
   "source": [
    "plt.rcParams['figure.figsize'] = (50, 10)\n",
    "ax = sns.barplot(x = cane_sugar['year_pc'], y = cane_sugar['total_kgs_CO2_9'], palette = 'crest')\n",
    "ax.set_xlabel(xlabel = 'Years', fontsize = 10)\n",
    "ax.set_ylabel(ylabel = 'total_kgs_CO2_9', fontsize = 10)\n",
    "ax.set_title(label = 'Cane Sugar Through the Years', fontsize = 20)\n",
    "plt.xticks(rotation = 90)\n",
    "plt.show()"
   ]
  },
  {
   "cell_type": "code",
   "execution_count": 37,
   "id": "d7a264d6",
   "metadata": {},
   "outputs": [
    {
     "data": {
      "image/png": "[encoded data removed]",
      "text/plain": [
       "<Figure size 3600x720 with 1 Axes>"
      ]
     },
     "metadata": {
      "needs_background": "light"
     },
     "output_type": "display_data"
    }
   ],
   "source": [
    "#CO2 Emissions by year \n",
    "\n",
    "plt.rcParams['figure.figsize'] = (50, 10)\n",
    "ax = sns.barplot(x = ML_data['year_pc'], y = ML_data['CO2_emissions_tonnes'], palette = 'crest')\n",
    "ax.set_xlabel(xlabel = 'Year', fontsize = 20)\n",
    "ax.set_ylabel(ylabel = 'Total', fontsize = 20)\n",
    "ax.set_title(label = 'Food Emissions', fontsize = 30)\n",
    "plt.xticks(rotation = 90)\n",
    "plt.show()"
   ]
  },
  {
   "cell_type": "code",
   "execution_count": 44,
   "id": "5052fb81",
   "metadata": {},
   "outputs": [
    {
     "data": {
      "application/vnd.plotly.v1+json": {
       "config": {
        "plotlyServerURL": "https://plot.ly"
       },
       "data": [
        {
         "dimensions": [
          {
           "axis": {
            "matches": true
           },
           "label": "year_pc",
           "values": [
            2000,
            2001,
            2002,
            2003,
            2004,
            2005,
            2006,
            2007,
            2008,
            2009,
            2010,
            2011,
            2012,
            2013,
            2014,
            2015,
            2016,
            2017,
            2018,
            2019,
            2020
           ]
          },
          {
           "axis": {
            "matches": true
           },
           "label": "total_kgs_CO2_9",
           "values": [
            651420,
            651420,
            651420,
            1023660,
            1027890,
            653112,
            1194552,
            1270639.548,
            1084162.536,
            2106117,
            1576224.731,
            1577259.558,
            1323492.89,
            1533409.517,
            1282773.218,
            791656.1748,
            295889.346,
            573785.2872,
            435566.1456,
            627250.2876,
            687524.9112
           ]
          },
          {
           "axis": {
            "matches": true
           },
           "label": "Population",
           "values": [
            19542982,
            19688632,
            21000256,
            22645130,
            23553551,
            24411191,
            25442944,
            25903301,
            26427199,
            27385307,
            28189672,
            29249157,
            30466479,
            31541209,
            32716210,
            33753499,
            34636207,
            35643418,
            36686784,
            37769499,
            38972230
           ]
          }
         ],
         "hovertemplate": "area=Afghanistan<br>%{xaxis.title.text}=%{x}<br>%{yaxis.title.text}=%{y}<extra></extra>",
         "legendgroup": "Afghanistan",
         "marker": {
          "color": "#440154",
          "symbol": "circle"
         },
         "name": "Afghanistan",
         "showlegend": true,
         "type": "splom"
        },
        {
         "dimensions": [
          {
           "axis": {
            "matches": true
           },
           "label": "year_pc",
           "values": [
            2000,
            2001,
            2002,
            2003,
            2004,
            2005,
            2006,
            2007,
            2008,
            2009,
            2010,
            2011,
            2012,
            2013,
            2014,
            2015,
            2016,
            2017,
            2018,
            2019,
            2020
           ]
          },
          {
           "axis": {
            "matches": true
           },
           "label": "total_kgs_CO2_9",
           "values": [
            26395.2,
            25718.4,
            25718.4,
            25718.4,
            25718.4,
            25718.4,
            33840,
            26395.2,
            26395.2,
            26395.2,
            26395.2,
            26395.2,
            26395.2,
            26395.2,
            26385.894,
            21836.4444,
            20845.44,
            19694.88,
            18950.4,
            19603.6812,
            17347.5684
           ]
          },
          {
           "axis": {
            "matches": true
           },
           "label": "Population",
           "values": [
            3089027,
            3060173,
            3051010,
            3039616,
            3026939,
            3011487,
            2992547,
            2970017,
            2947314,
            2927519,
            2913021,
            2905195,
            2900401,
            2895092,
            2889104,
            2880703,
            2876101,
            2873457,
            2866376,
            2854191,
            2837849
           ]
          }
         ],
         "hovertemplate": "area=Albania<br>%{xaxis.title.text}=%{x}<br>%{yaxis.title.text}=%{y}<extra></extra>",
         "legendgroup": "Albania",
         "marker": {
          "color": "#482878",
          "symbol": "circle"
         },
         "name": "Albania",
         "showlegend": true,
         "type": "splom"
        },
        {
         "dimensions": [
          {
           "axis": {
            "matches": true
           },
           "label": "year_pc",
           "values": [
            2000,
            2001,
            2002,
            2003,
            2004,
            2005,
            2006,
            2007,
            2008,
            2009,
            2010,
            2011,
            2012,
            2013,
            2014,
            2015,
            2016,
            2017,
            2018,
            2019,
            2020
           ]
          },
          {
           "axis": {
            "matches": true
           },
           "label": "total_kgs_CO2_9",
           "values": [
            0,
            0,
            0,
            0,
            0,
            0,
            0,
            0,
            0,
            0,
            0,
            0,
            0,
            0,
            0,
            0,
            0,
            0,
            0,
            0,
            0
           ]
          },
          {
           "axis": {
            "matches": true
           },
           "label": "Population",
           "values": [
            30774621,
            31200985,
            31624696,
            32055883,
            32510186,
            32956690,
            33435080,
            33983827,
            34569592,
            35196037,
            35856344,
            36543541,
            37260563,
            38000626,
            38760168,
            39543154,
            40339329,
            41136546,
            41927007,
            42705368,
            43451666
           ]
          }
         ],
         "hovertemplate": "area=Algeria<br>%{xaxis.title.text}=%{x}<br>%{yaxis.title.text}=%{y}<extra></extra>",
         "legendgroup": "Algeria",
         "marker": {
          "color": "#3e4989",
          "symbol": "circle"
         },
         "name": "Algeria",
         "showlegend": true,
         "type": "splom"
        },
        {
         "dimensions": [
          {
           "axis": {
            "matches": true
           },
           "label": "year_pc",
           "values": [
            2000,
            2001,
            2002,
            2003,
            2004,
            2005,
            2006,
            2007,
            2008,
            2009,
            2010,
            2011,
            2012,
            2013,
            2014,
            2015,
            2016,
            2017,
            2018,
            2019,
            2020
           ]
          },
          {
           "axis": {
            "matches": true
           },
           "label": "total_kgs_CO2_9",
           "values": [
            6115797.45,
            6290534.52,
            6290534.52,
            6290534.52,
            6028429,
            6028429,
            7863168.15,
            8736853.5,
            9086327.64,
            8736853.5,
            8769606.559,
            8944854.275,
            9119714.692,
            8944998.772,
            8616900.175,
            7578197.28,
            8915132.095,
            10188225.72,
            11326603.32,
            13451400,
            15363360
           ]
          },
          {
           "axis": {
            "matches": true
           },
           "label": "Population",
           "values": [
            16394062,
            16941587,
            17516139,
            18124342,
            18771125,
            19450959,
            20162340,
            20909684,
            21691522,
            22507674,
            23364185,
            24259111,
            25188292,
            26147002,
            27128337,
            28127721,
            29154746,
            30208628,
            31273533,
            32353588,
            33428486
           ]
          }
         ],
         "hovertemplate": "area=Angola<br>%{xaxis.title.text}=%{x}<br>%{yaxis.title.text}=%{y}<extra></extra>",
         "legendgroup": "Angola",
         "marker": {
          "color": "#31688e",
          "symbol": "circle"
         },
         "name": "Angola",
         "showlegend": true,
         "type": "splom"
        },
        {
         "dimensions": [
          {
           "axis": {
            "matches": true
           },
           "label": "year_pc",
           "values": [
            2000,
            2001,
            2002,
            2003,
            2004,
            2005,
            2006,
            2007,
            2008,
            2009,
            2010,
            2011,
            2012,
            2013,
            2014,
            2015,
            2016,
            2017,
            2018,
            2019,
            2020
           ]
          },
          {
           "axis": {
            "matches": true
           },
           "label": "total_kgs_CO2_9",
           "values": [
            0,
            0,
            0,
            0,
            0,
            0,
            0,
            0,
            0,
            0,
            0,
            0,
            0,
            0,
            0,
            0,
            0,
            0,
            0,
            0,
            0
           ]
          },
          {
           "axis": {
            "matches": true
           },
           "label": "Population",
           "values": [
            75055,
            76215,
            77195,
            78075,
            78941,
            79869,
            80895,
            82016,
            83251,
            84534,
            85695,
            86729,
            87674,
            88497,
            89236,
            89941,
            90564,
            91119,
            91626,
            92117,
            92664
           ]
          }
         ],
         "hovertemplate": "area=Antigua and Barbuda<br>%{xaxis.title.text}=%{x}<br>%{yaxis.title.text}=%{y}<extra></extra>",
         "legendgroup": "Antigua and Barbuda",
         "marker": {
          "color": "#26828e",
          "symbol": "circle"
         },
         "name": "Antigua and Barbuda",
         "showlegend": true,
         "type": "splom"
        },
        {
         "dimensions": [
          {
           "axis": {
            "matches": true
           },
           "label": "year_pc",
           "values": [
            2000,
            2001,
            2002,
            2003,
            2004,
            2005,
            2006,
            2007,
            2008,
            2009,
            2010,
            2011,
            2012,
            2013,
            2014,
            2015,
            2016,
            2017,
            2018,
            2019,
            2020
           ]
          },
          {
           "axis": {
            "matches": true
           },
           "label": "total_kgs_CO2_9",
           "values": [
            320464800,
            326166840,
            335269800,
            383576400,
            363272400,
            424776600,
            460308600,
            418093200,
            467668800,
            468853200,
            330614735.8,
            346468978.8,
            346122085,
            410733000,
            367186334.4,
            313405640.6,
            322767307.4,
            329598385.2,
            323696689.2,
            324959327.3,
            326479589.3
           ]
          },
          {
           "axis": {
            "matches": true
           },
           "label": "Population",
           "values": [
            37070774,
            37480493,
            37885028,
            38278164,
            38668796,
            39070501,
            39476851,
            39876111,
            40273769,
            40684338,
            40788453,
            41261490,
            41733271,
            42202935,
            42669500,
            43131966,
            43590368,
            44044811,
            44494502,
            44938712,
            45376763
           ]
          }
         ],
         "hovertemplate": "area=Argentina<br>%{xaxis.title.text}=%{x}<br>%{yaxis.title.text}=%{y}<extra></extra>",
         "legendgroup": "Argentina",
         "marker": {
          "color": "#1f9e89",
          "symbol": "circle"
         },
         "name": "Argentina",
         "showlegend": true,
         "type": "splom"
        },
        {
         "dimensions": [
          {
           "axis": {
            "matches": true
           },
           "label": "year_pc",
           "values": [
            2000,
            2001,
            2002,
            2003,
            2004,
            2005,
            2006,
            2007,
            2008,
            2009,
            2010,
            2011,
            2012,
            2013,
            2014,
            2015,
            2016,
            2017,
            2018,
            2019,
            2020
           ]
          },
          {
           "axis": {
            "matches": true
           },
           "label": "total_kgs_CO2_9",
           "values": [
            0,
            0,
            609.12,
            947.52,
            3654.72,
            9745.92,
            11370.24,
            16920,
            19627.2,
            4466.88,
            16920,
            37900.8,
            36344.16,
            36559.7208,
            38070,
            36372.078,
            36380.8764,
            36334.008,
            35396.64,
            34736.76,
            34760.7864
           ]
          },
          {
           "axis": {
            "matches": true
           },
           "label": "Population",
           "values": [
            3168523,
            3133133,
            3105037,
            3084102,
            3065745,
            3047246,
            3026486,
            3004393,
            2983421,
            2964296,
            2946293,
            2928976,
            2914421,
            2901385,
            2889930,
            2878595,
            2865835,
            2851923,
            2836557,
            2820602,
            2805608
           ]
          }
         ],
         "hovertemplate": "area=Armenia<br>%{xaxis.title.text}=%{x}<br>%{yaxis.title.text}=%{y}<extra></extra>",
         "legendgroup": "Armenia",
         "marker": {
          "color": "#35b779",
          "symbol": "circle"
         },
         "name": "Armenia",
         "showlegend": true,
         "type": "splom"
        },
        {
         "dimensions": [
          {
           "axis": {
            "matches": true
           },
           "label": "year_pc",
           "values": [
            2000,
            2001,
            2002,
            2003,
            2004,
            2005,
            2006,
            2007,
            2008,
            2009,
            2010,
            2011,
            2012,
            2013,
            2014,
            2015,
            2016,
            2017,
            2018,
            2019,
            2020
           ]
          },
          {
           "axis": {
            "matches": true
           },
           "label": "total_kgs_CO2_9",
           "values": [
            663827419.1,
            489059074.1,
            546587470,
            643482083.5,
            643455294.1,
            657870130.7,
            645797348.7,
            633080615,
            567403792.4,
            546597385.2,
            542570662.1,
            443165492.9,
            454489676.6,
            474675067.4,
            533735478,
            565875051.8,
            600710827.7,
            635540512.3,
            585885963.6,
            565387755.8,
            529654475.5
           ]
          },
          {
           "axis": {
            "matches": true
           },
           "label": "Population",
           "values": [
            19028802,
            19274701,
            19495210,
            19720737,
            19932722,
            20176844,
            20450966,
            20827622,
            21249199,
            21691653,
            22031750,
            22340024,
            22733465,
            23128129,
            23475686,
            23815995,
            24190907,
            24594202,
            24966643,
            25340217,
            25655289
           ]
          }
         ],
         "hovertemplate": "area=Australia<br>%{xaxis.title.text}=%{x}<br>%{yaxis.title.text}=%{y}<extra></extra>",
         "legendgroup": "Australia",
         "marker": {
          "color": "#6ece58",
          "symbol": "circle"
         },
         "name": "Australia",
         "showlegend": true,
         "type": "splom"
        },
        {
         "dimensions": [
          {
           "axis": {
            "matches": true
           },
           "label": "year_pc",
           "values": [
            2000,
            2001,
            2002,
            2003,
            2004,
            2005,
            2006,
            2007,
            2008,
            2009,
            2010,
            2011,
            2012,
            2013,
            2014,
            2015,
            2016,
            2017,
            2018,
            2019,
            2020
           ]
          },
          {
           "axis": {
            "matches": true
           },
           "label": "total_kgs_CO2_9",
           "values": [
            1515693.262,
            1642804.762,
            1802473.218,
            1472077.224,
            1718138.016,
            1824092.748,
            1474872.408,
            1573112.466,
            1831431.798,
            1537318.714,
            1780643.88,
            1911666.607,
            1762079.764,
            2014089.12,
            2866248,
            3412764,
            3925440,
            3304476,
            1438200,
            1353600,
            1421280
           ]
          },
          {
           "axis": {
            "matches": true
           },
           "label": "Population",
           "values": [
            8011566,
            8042293,
            8081957,
            8121423,
            8171966,
            8227829,
            8268641,
            8295487,
            8321496,
            8343323,
            8363404,
            8391643,
            8429991,
            8479823,
            8546356,
            8642699,
            8736668,
            8797566,
            8840521,
            8879920,
            8916864
           ]
          }
         ],
         "hovertemplate": "area=Austria<br>%{xaxis.title.text}=%{x}<br>%{yaxis.title.text}=%{y}<extra></extra>",
         "legendgroup": "Austria",
         "marker": {
          "color": "#b5de2b",
          "symbol": "circle"
         },
         "name": "Austria",
         "showlegend": true,
         "type": "splom"
        },
        {
         "dimensions": [
          {
           "axis": {
            "matches": true
           },
           "label": "year_pc",
           "values": [
            2000,
            2001,
            2002,
            2003,
            2004,
            2005,
            2006,
            2007,
            2008,
            2009,
            2010,
            2011,
            2012,
            2013,
            2014,
            2015,
            2016,
            2017,
            2018,
            2019,
            2020
           ]
          },
          {
           "axis": {
            "matches": true
           },
           "label": "total_kgs_CO2_9",
           "values": [
            0,
            0,
            0,
            4492.26,
            10659.6,
            15456.42,
            92357.82,
            38580.138,
            71404.092,
            56762.37,
            103695.912,
            383999.4,
            110842.92,
            80556.12,
            6724.008,
            135360,
            135360,
            135360,
            135360,
            338400,
            304560
           ]
          },
          {
           "axis": {
            "matches": true
           },
           "label": "Population",
           "values": [
            8048600,
            8111200,
            8171950,
            8234100,
            8306500,
            8391850,
            8484550,
            8581300,
            8763400,
            8947243,
            9054332,
            9173082,
            9295784,
            9416801,
            9535079,
            9649341,
            9757812,
            9854033,
            9939771,
            10024283,
            10093121
           ]
          }
         ],
         "hovertemplate": "area=Azerbaijan<br>%{xaxis.title.text}=%{x}<br>%{yaxis.title.text}=%{y}<extra></extra>",
         "legendgroup": "Azerbaijan",
         "marker": {
          "color": "#fde725",
          "symbol": "circle"
         },
         "name": "Azerbaijan",
         "showlegend": true,
         "type": "splom"
        },
        {
         "dimensions": [
          {
           "axis": {
            "matches": true
           },
           "label": "year_pc",
           "values": [
            2000,
            2001,
            2002,
            2003,
            2004,
            2005,
            2006,
            2007,
            2008,
            2009,
            2010,
            2011,
            2012,
            2013,
            2014,
            2015,
            2016,
            2017,
            2018,
            2019,
            2020
           ]
          },
          {
           "axis": {
            "matches": true
           },
           "label": "total_kgs_CO2_9",
           "values": [
            1057500,
            1269000,
            930600,
            846000,
            846000,
            846000,
            972900,
            972900,
            972900,
            972900,
            972900,
            972900,
            972900,
            972900,
            1006539.498,
            1021201.186,
            1031231.023,
            1038397.151,
            1043622.554,
            1036198.904,
            1042543.566
           ]
          },
          {
           "axis": {
            "matches": true
           },
           "label": "Population",
           "values": [
            325014,
            329626,
            334002,
            338490,
            343089,
            347804,
            352664,
            357666,
            362795,
            368057,
            373272,
            377950,
            382061,
            385650,
            389131,
            392697,
            395976,
            399020,
            401906,
            404557,
            406471
           ]
          }
         ],
         "hovertemplate": "area=Bahamas<br>%{xaxis.title.text}=%{x}<br>%{yaxis.title.text}=%{y}<extra></extra>",
         "legendgroup": "Bahamas",
         "marker": {
          "color": "#440154",
          "symbol": "circle"
         },
         "name": "Bahamas",
         "showlegend": true,
         "type": "splom"
        },
        {
         "dimensions": [
          {
           "axis": {
            "matches": true
           },
           "label": "year_pc",
           "values": [
            2000,
            2001,
            2002,
            2003,
            2004,
            2005,
            2006,
            2007,
            2008,
            2009,
            2010,
            2011,
            2012,
            2013,
            2014,
            2015,
            2016,
            2017,
            2018,
            2019,
            2020
           ]
          },
          {
           "axis": {
            "matches": true
           },
           "label": "total_kgs_CO2_9",
           "values": [
            118406160,
            114954480,
            111807360,
            117363803.4,
            110735308.8,
            109580349.6,
            94463175.6,
            99099509.4,
            85846259.52,
            90008461.08,
            76542899.04,
            80054408.16,
            78542690.76,
            76021560,
            77392080,
            76022744.4,
            71818496.64,
            66204153,
            62413328.52,
            54041177.16,
            63161530.92
           ]
          },
          {
           "axis": {
            "matches": true
           },
           "label": "Population",
           "values": [
            711442,
            730257,
            748324,
            778256,
            833451,
            901921,
            970981,
            1040532,
            1110343,
            1179453,
            1213645,
            1212077,
            1224939,
            1261673,
            1311134,
            1362142,
            1409661,
            1456834,
            1487340,
            1494188,
            1477469
           ]
          }
         ],
         "hovertemplate": "area=Bahrain<br>%{xaxis.title.text}=%{x}<br>%{yaxis.title.text}=%{y}<extra></extra>",
         "legendgroup": "Bahrain",
         "marker": {
          "color": "#482878",
          "symbol": "circle"
         },
         "name": "Bahrain",
         "showlegend": true,
         "type": "splom"
        },
        {
         "dimensions": [
          {
           "axis": {
            "matches": true
           },
           "label": "year_pc",
           "values": [
            2000,
            2001,
            2002,
            2003,
            2004,
            2005,
            2006,
            2007,
            2008,
            2009,
            2010,
            2011,
            2012,
            2013,
            2014,
            2015,
            2016,
            2017,
            2018,
            2019,
            2020
           ]
          },
          {
           "axis": {
            "matches": true
           },
           "label": "total_kgs_CO2_9",
           "values": [
            9525960,
            7360200,
            7306851.24,
            6405150.6,
            6315170.04,
            7789968,
            6079356,
            6218100,
            5460084,
            6238404,
            4581936,
            5032177.2,
            4578552,
            3097791.77,
            2835908.579,
            2049096.6,
            1495203.48,
            2304409.248,
            2620255.903,
            1509726.085,
            1618151.645
           ]
          },
          {
           "axis": {
            "matches": true
           },
           "label": "Population",
           "values": [
            129193327,
            131670484,
            134139826,
            136503206,
            138789725,
            140912590,
            142628831,
            144135934,
            145421318,
            146706810,
            148391139,
            150211005,
            152090649,
            154030139,
            155961299,
            157830000,
            159784568,
            161793964,
            163683958,
            165516222,
            167420951
           ]
          }
         ],
         "hovertemplate": "area=Bangladesh<br>%{xaxis.title.text}=%{x}<br>%{yaxis.title.text}=%{y}<extra></extra>",
         "legendgroup": "Bangladesh",
         "marker": {
          "color": "#3e4989",
          "symbol": "circle"
         },
         "name": "Bangladesh",
         "showlegend": true,
         "type": "splom"
        },
        {
         "dimensions": [
          {
           "axis": {
            "matches": true
           },
           "label": "year_pc",
           "values": [
            2000,
            2001,
            2002,
            2003,
            2004,
            2005,
            2006,
            2007,
            2008,
            2009,
            2010,
            2011,
            2012,
            2013,
            2014,
            2015,
            2016,
            2017,
            2018,
            2019,
            2020
           ]
          },
          {
           "axis": {
            "matches": true
           },
           "label": "total_kgs_CO2_9",
           "values": [
            1026367.2,
            1038549.6,
            837540,
            1423818,
            1751220,
            2284200,
            2527848,
            2687742,
            2808804.6,
            2954993.4,
            2410712.87,
            3205483.848,
            3444371.575,
            3490733.39,
            2718759.744,
            2576861.348,
            3111185.304,
            3150620.748,
            3344909.047,
            3350120.576,
            3005971.33
           ]
          },
          {
           "axis": {
            "matches": true
           },
           "label": "Population",
           "values": [
            264657,
            265377,
            266455,
            267499,
            268505,
            269477,
            270425,
            271444,
            272635,
            273791,
            274711,
            275486,
            276197,
            276865,
            277493,
            278083,
            278649,
            279187,
            279688,
            280180,
            280693
           ]
          }
         ],
         "hovertemplate": "area=Barbados<br>%{xaxis.title.text}=%{x}<br>%{yaxis.title.text}=%{y}<extra></extra>",
         "legendgroup": "Barbados",
         "marker": {
          "color": "#31688e",
          "symbol": "circle"
         },
         "name": "Barbados",
         "showlegend": true,
         "type": "splom"
        },
        {
         "dimensions": [
          {
           "axis": {
            "matches": true
           },
           "label": "year_pc",
           "values": [
            2000,
            2001,
            2002,
            2003,
            2004,
            2005,
            2006,
            2007,
            2008,
            2009,
            2010,
            2011,
            2012,
            2013,
            2014,
            2015,
            2016,
            2017,
            2018,
            2019,
            2020
           ]
          },
          {
           "axis": {
            "matches": true
           },
           "label": "total_kgs_CO2_9",
           "values": [
            0,
            0,
            0,
            0,
            0,
            0,
            0,
            0,
            0,
            0,
            0,
            0,
            0,
            0,
            0,
            0,
            0,
            0,
            0,
            0,
            0
           ]
          },
          {
           "axis": {
            "matches": true
           },
           "label": "Population",
           "values": [
            9979610,
            9928549,
            9865548,
            9796749,
            9730146,
            9663915,
            9604924,
            9560953,
            9527985,
            9504583,
            9483836,
            9461643,
            9446836,
            9443211,
            9448515,
            9461076,
            9469379,
            9458989,
            9438785,
            9419758,
            9379952
           ]
          }
         ],
         "hovertemplate": "area=Belarus<br>%{xaxis.title.text}=%{x}<br>%{yaxis.title.text}=%{y}<extra></extra>",
         "legendgroup": "Belarus",
         "marker": {
          "color": "#26828e",
          "symbol": "circle"
         },
         "name": "Belarus",
         "showlegend": true,
         "type": "splom"
        },
        {
         "dimensions": [
          {
           "axis": {
            "matches": true
           },
           "label": "year_pc",
           "values": [
            2000,
            2001,
            2002,
            2003,
            2004,
            2005,
            2006,
            2007,
            2008,
            2009,
            2010,
            2011,
            2012,
            2013,
            2014,
            2015,
            2016,
            2017,
            2018,
            2019,
            2020
           ]
          },
          {
           "axis": {
            "matches": true
           },
           "label": "total_kgs_CO2_9",
           "values": [
            3180960,
            3045600,
            3316320,
            3908520,
            3587040,
            3722400,
            3384000,
            3468600,
            2707200,
            3045600,
            2707200,
            3045600,
            2622600,
            2504160,
            2622600,
            2199600,
            1945800,
            2876400,
            2453400,
            2453400,
            2402640
           ]
          },
          {
           "axis": {
            "matches": true
           },
           "label": "Population",
           "values": [
            10251250,
            10286570,
            10332785,
            10376133,
            10421137,
            10478617,
            10547958,
            10625700,
            10709973,
            10796493,
            10895586,
            11038264,
            11106932,
            11159407,
            11209057,
            11274196,
            11331422,
            11375158,
            11427054,
            11488980,
            11538604
           ]
          }
         ],
         "hovertemplate": "area=Belgium<br>%{xaxis.title.text}=%{x}<br>%{yaxis.title.text}=%{y}<extra></extra>",
         "legendgroup": "Belgium",
         "marker": {
          "color": "#1f9e89",
          "symbol": "circle"
         },
         "name": "Belgium",
         "showlegend": true,
         "type": "splom"
        },
        {
         "dimensions": [
          {
           "axis": {
            "matches": true
           },
           "label": "year_pc",
           "values": [
            2000,
            2001,
            2002,
            2003,
            2004,
            2005,
            2006,
            2007,
            2008,
            2009,
            2010,
            2011,
            2012,
            2013,
            2014,
            2015,
            2016,
            2017,
            2018,
            2019,
            2020
           ]
          },
          {
           "axis": {
            "matches": true
           },
           "label": "total_kgs_CO2_9",
           "values": [
            19041141.96,
            17701314.84,
            20213579.52,
            18886899.24,
            20159757,
            16368272.64,
            20548832.4,
            21117006,
            17277248.88,
            16001717.76,
            19909662.48,
            14759265.24,
            18638039.88,
            18821401.92,
            21266358.84,
            21000325.68,
            26249704.92,
            30074149.44,
            34014580.56,
            32005347.48,
            28823152.32
           ]
          },
          {
           "axis": {
            "matches": true
           },
           "label": "Population",
           "values": [
            240406,
            248100,
            255987,
            263998,
            272128,
            280375,
            288729,
            297173,
            305671,
            314171,
            322106,
            329538,
            337059,
            344688,
            352335,
            359871,
            367313,
            374693,
            382066,
            389095,
            394921
           ]
          }
         ],
         "hovertemplate": "area=Belize<br>%{xaxis.title.text}=%{x}<br>%{yaxis.title.text}=%{y}<extra></extra>",
         "legendgroup": "Belize",
         "marker": {
          "color": "#35b779",
          "symbol": "circle"
         },
         "name": "Belize",
         "showlegend": true,
         "type": "splom"
        },
        {
         "dimensions": [
          {
           "axis": {
            "matches": true
           },
           "label": "year_pc",
           "values": [
            2000,
            2001,
            2002,
            2003,
            2004,
            2005,
            2006,
            2007,
            2008,
            2009,
            2010,
            2011,
            2012,
            2013,
            2014,
            2015,
            2016,
            2017,
            2018,
            2019,
            2020
           ]
          },
          {
           "axis": {
            "matches": true
           },
           "label": "total_kgs_CO2_9",
           "values": [
            925306.578,
            1303828.974,
            1161327.888,
            1339645.23,
            1217841.534,
            1142851.248,
            1150632.756,
            717302.25,
            1129274.64,
            1223874.36,
            1481637.193,
            868491.4176,
            1243184.987,
            1117856.009,
            1282062.748,
            1632832.79,
            1479735.724,
            1284566.062,
            1283864.051,
            1325802.809,
            1325802.809
           ]
          },
          {
           "axis": {
            "matches": true
           },
           "label": "Population",
           "values": [
            6998023,
            7212041,
            7431783,
            7659208,
            7894554,
            8149419,
            8402631,
            8647761,
            8906469,
            9172514,
            9445710,
            9726380,
            10014078,
            10308730,
            10614844,
            10932783,
            11260085,
            11596779,
            11940683,
            12290444,
            12643123
           ]
          }
         ],
         "hovertemplate": "area=Benin<br>%{xaxis.title.text}=%{x}<br>%{yaxis.title.text}=%{y}<extra></extra>",
         "legendgroup": "Benin",
         "marker": {
          "color": "#6ece58",
          "symbol": "circle"
         },
         "name": "Benin",
         "showlegend": true,
         "type": "splom"
        },
        {
         "dimensions": [
          {
           "axis": {
            "matches": true
           },
           "label": "year_pc",
           "values": [
            2000,
            2001,
            2002,
            2003,
            2004,
            2005,
            2006,
            2007,
            2008,
            2009,
            2010,
            2011,
            2012,
            2013,
            2014,
            2015,
            2016,
            2017,
            2018,
            2019,
            2020
           ]
          },
          {
           "axis": {
            "matches": true
           },
           "label": "total_kgs_CO2_9",
           "values": [
            14618.5416,
            14475.2292,
            14376.2472,
            14277.2652,
            14210.9388,
            14182.8516,
            14200.956,
            24567.84,
            12891.5172,
            11562.7896,
            10277.0388,
            9020.052,
            3823.92,
            4940.64,
            5482.08,
            8595.36,
            5837.4,
            5328.7848,
            1707.9048,
            6706.0728,
            6438.2292
           ]
          },
          {
           "axis": {
            "matches": true
           },
           "label": "Population",
           "values": [
            587207,
            603234,
            619048,
            634627,
            649991,
            663323,
            673260,
            681614,
            689737,
            697678,
            705516,
            713331,
            721145,
            728889,
            736357,
            743274,
            749761,
            756121,
            762096,
            767459,
            772506
           ]
          }
         ],
         "hovertemplate": "area=Bhutan<br>%{xaxis.title.text}=%{x}<br>%{yaxis.title.text}=%{y}<extra></extra>",
         "legendgroup": "Bhutan",
         "marker": {
          "color": "#b5de2b",
          "symbol": "circle"
         },
         "name": "Bhutan",
         "showlegend": true,
         "type": "splom"
        },
        {
         "dimensions": [
          {
           "axis": {
            "matches": true
           },
           "label": "year_pc",
           "values": [
            2000,
            2001,
            2002,
            2003,
            2004,
            2005,
            2006,
            2007,
            2008,
            2009,
            2010,
            2011,
            2012,
            2013,
            2014,
            2015,
            2016,
            2017,
            2018,
            2019,
            2020
           ]
          },
          {
           "axis": {
            "matches": true
           },
           "label": "total_kgs_CO2_9",
           "values": [
            62735096.16,
            67042285.2,
            82012898.16,
            84964473.72,
            94990791.96,
            88529196.24,
            106868835,
            110361173.8,
            120625979.4,
            134155296,
            110456822.5,
            116816559.8,
            132439599.5,
            143540050.1,
            130430019.6,
            123473903,
            126472786.9,
            149854957.9,
            164825164.8,
            163590546.2,
            172692677.2
           ]
          },
          {
           "axis": {
            "matches": true
           },
           "label": "Population",
           "values": [
            8592656,
            8746084,
            8900583,
            9057378,
            9216279,
            9377388,
            9542663,
            9711152,
            9880593,
            10051317,
            10223270,
            10396246,
            10569697,
            10743349,
            10916987,
            11090085,
            11263015,
            11435533,
            11606905,
            11777315,
            11936162
           ]
          }
         ],
         "hovertemplate": "area=Bolivia (Plurinational State of)<br>%{xaxis.title.text}=%{x}<br>%{yaxis.title.text}=%{y}<extra></extra>",
         "legendgroup": "Bolivia (Plurinational State of)",
         "marker": {
          "color": "#fde725",
          "symbol": "circle"
         },
         "name": "Bolivia (Plurinational State of)",
         "showlegend": true,
         "type": "splom"
        },
        {
         "dimensions": [
          {
           "axis": {
            "matches": true
           },
           "label": "year_pc",
           "values": [
            2000,
            2001,
            2002,
            2003,
            2004,
            2005,
            2006,
            2007,
            2008,
            2009,
            2010,
            2011,
            2012,
            2013,
            2014,
            2015,
            2016,
            2017,
            2018,
            2019,
            2020
           ]
          },
          {
           "axis": {
            "matches": true
           },
           "label": "total_kgs_CO2_9",
           "values": [
            0,
            0,
            0,
            0,
            0,
            0,
            279.8568,
            0,
            57.8664,
            24.3648,
            0,
            0,
            0,
            0,
            0,
            0,
            0,
            0,
            0,
            0,
            0
           ]
          },
          {
           "axis": {
            "matches": true
           },
           "label": "Population",
           "values": [
            4179350,
            4194932,
            4198410,
            4183757,
            4142860,
            4094297,
            4058086,
            4007876,
            3943392,
            3877750,
            3811088,
            3743142,
            3674374,
            3617559,
            3571068,
            3524324,
            3480986,
            3440027,
            3400129,
            3360711,
            3318407
           ]
          }
         ],
         "hovertemplate": "area=Bosnia and Herzegovina<br>%{xaxis.title.text}=%{x}<br>%{yaxis.title.text}=%{y}<extra></extra>",
         "legendgroup": "Bosnia and Herzegovina",
         "marker": {
          "color": "#440154",
          "symbol": "circle"
         },
         "name": "Bosnia and Herzegovina",
         "showlegend": true,
         "type": "splom"
        },
        {
         "dimensions": [
          {
           "axis": {
            "matches": true
           },
           "label": "year_pc",
           "values": [
            2000,
            2001,
            2002,
            2003,
            2004,
            2005,
            2006,
            2007,
            2008,
            2009,
            2010,
            2011,
            2012,
            2013,
            2014,
            2015,
            2016,
            2017,
            2018,
            2019,
            2020
           ]
          },
          {
           "axis": {
            "matches": true
           },
           "label": "total_kgs_CO2_9",
           "values": [
            0,
            0,
            0,
            0,
            0,
            0,
            0,
            0,
            0,
            0,
            0,
            0,
            0,
            0,
            0,
            0,
            0,
            0,
            0,
            0,
            0
           ]
          },
          {
           "axis": {
            "matches": true
           },
           "label": "Population",
           "values": [
            1726985,
            1761930,
            1795130,
            1826863,
            1859085,
            1892807,
            1928704,
            1966977,
            2007320,
            2048997,
            2091664,
            2134037,
            2175425,
            2217278,
            2260376,
            2305171,
            2352416,
            2401840,
            2451409,
            2499702,
            2546402
           ]
          }
         ],
         "hovertemplate": "area=Botswana<br>%{xaxis.title.text}=%{x}<br>%{yaxis.title.text}=%{y}<extra></extra>",
         "legendgroup": "Botswana",
         "marker": {
          "color": "#482878",
          "symbol": "circle"
         },
         "name": "Botswana",
         "showlegend": true,
         "type": "splom"
        },
        {
         "dimensions": [
          {
           "axis": {
            "matches": true
           },
           "label": "year_pc",
           "values": [
            2000,
            2001,
            2002,
            2003,
            2004,
            2005,
            2006,
            2007,
            2008,
            2009,
            2010,
            2011,
            2012,
            2013,
            2014,
            2015,
            2016,
            2017,
            2018,
            2019,
            2020
           ]
          },
          {
           "axis": {
            "matches": true
           },
           "label": "total_kgs_CO2_9",
           "values": [
            5651635658,
            5981946376,
            6347358648,
            6895951747,
            7237205474,
            7370802749,
            8306208367,
            9526929516,
            11150282707,
            11940547889,
            12411899496,
            12675721212,
            12473885916,
            13263426076,
            12705371820,
            12931791876,
            13275333864,
            13105321704,
            12853393056,
            12956751583,
            13098057271
           ]
          },
          {
           "axis": {
            "matches": true
           },
           "label": "Population",
           "values": [
            175873720,
            178211881,
            180476685,
            182629278,
            184722043,
            186797334,
            188820682,
            190779453,
            192672317,
            194517549,
            196353492,
            198185302,
            199977707,
            201721767,
            203459650,
            205188205,
            206859578,
            208504960,
            210166592,
            211782878,
            213196304
           ]
          }
         ],
         "hovertemplate": "area=Brazil<br>%{xaxis.title.text}=%{x}<br>%{yaxis.title.text}=%{y}<extra></extra>",
         "legendgroup": "Brazil",
         "marker": {
          "color": "#3e4989",
          "symbol": "circle"
         },
         "name": "Brazil",
         "showlegend": true,
         "type": "splom"
        },
        {
         "dimensions": [
          {
           "axis": {
            "matches": true
           },
           "label": "year_pc",
           "values": [
            2000,
            2001,
            2002,
            2003,
            2004,
            2005,
            2006,
            2007,
            2008,
            2009,
            2010,
            2011,
            2012,
            2013,
            2014,
            2015,
            2016,
            2017,
            2018,
            2019,
            2020
           ]
          },
          {
           "axis": {
            "matches": true
           },
           "label": "total_kgs_CO2_9",
           "values": [
            0,
            0,
            0,
            0,
            0,
            0,
            0,
            0,
            0,
            0,
            0,
            0,
            0,
            0,
            0,
            0,
            0,
            0,
            0,
            0,
            0
           ]
          },
          {
           "axis": {
            "matches": true
           },
           "label": "Population",
           "values": [
            333926,
            340748,
            347463,
            354045,
            360461,
            366717,
            372808,
            378748,
            384568,
            390311,
            396053,
            401506,
            406634,
            411702,
            416656,
            421437,
            425994,
            430276,
            434274,
            438048,
            441725
           ]
          }
         ],
         "hovertemplate": "area=Brunei Darussalam<br>%{xaxis.title.text}=%{x}<br>%{yaxis.title.text}=%{y}<extra></extra>",
         "legendgroup": "Brunei Darussalam",
         "marker": {
          "color": "#31688e",
          "symbol": "circle"
         },
         "name": "Brunei Darussalam",
         "showlegend": true,
         "type": "splom"
        },
        {
         "dimensions": [
          {
           "axis": {
            "matches": true
           },
           "label": "year_pc",
           "values": [
            2000,
            2001,
            2002,
            2003,
            2004,
            2005,
            2006,
            2007,
            2008,
            2009,
            2010,
            2011,
            2012,
            2013,
            2014,
            2015,
            2016,
            2017,
            2018,
            2019,
            2020
           ]
          },
          {
           "axis": {
            "matches": true
           },
           "label": "total_kgs_CO2_9",
           "values": [
            33840,
            33840,
            33840,
            33840,
            33840,
            33840,
            16920,
            33840,
            0,
            0,
            0,
            0,
            0,
            0,
            0,
            0,
            0,
            0,
            0,
            0,
            0
           ]
          },
          {
           "axis": {
            "matches": true
           },
           "label": "Population",
           "values": [
            8170172,
            8009142,
            7837161,
            7775327,
            7716860,
            7658972,
            7601022,
            7545338,
            7492561,
            7444443,
            7395599,
            7348328,
            7305888,
            7265115,
            7223938,
            7177991,
            7127822,
            7075947,
            7025037,
            6975761,
            6934015
           ]
          }
         ],
         "hovertemplate": "area=Bulgaria<br>%{xaxis.title.text}=%{x}<br>%{yaxis.title.text}=%{y}<extra></extra>",
         "legendgroup": "Bulgaria",
         "marker": {
          "color": "#26828e",
          "symbol": "circle"
         },
         "name": "Bulgaria",
         "showlegend": true,
         "type": "splom"
        },
        {
         "dimensions": [
          {
           "axis": {
            "matches": true
           },
           "label": "year_pc",
           "values": [
            2000,
            2001,
            2002,
            2003,
            2004,
            2005,
            2006,
            2007,
            2008,
            2009,
            2010,
            2011,
            2012,
            2013,
            2014,
            2015,
            2016,
            2017,
            2018,
            2019,
            2020
           ]
          },
          {
           "axis": {
            "matches": true
           },
           "label": "total_kgs_CO2_9",
           "values": [
            7021800,
            7402500,
            7952400,
            7952400,
            7952400,
            7952400,
            7952400,
            8037000,
            8037000,
            8037000,
            9014849.1,
            8730720,
            8455338.54,
            8400483.9,
            8315241.955,
            8513370.756,
            8516220.084,
            8579148.61,
            8676809.496,
            8718888.182,
            8739464.933
           ]
          },
          {
           "axis": {
            "matches": true
           },
           "label": "Population",
           "values": [
            11882888,
            12249764,
            12632269,
            13030591,
            13445977,
            13876127,
            14316242,
            14757074,
            15197915,
            15650022,
            16116845,
            16602651,
            17113732,
            17636408,
            18169842,
            18718019,
            19275498,
            19835858,
            20392723,
            20951639,
            21522626
           ]
          }
         ],
         "hovertemplate": "area=Burkina Faso<br>%{xaxis.title.text}=%{x}<br>%{yaxis.title.text}=%{y}<extra></extra>",
         "legendgroup": "Burkina Faso",
         "marker": {
          "color": "#1f9e89",
          "symbol": "circle"
         },
         "name": "Burkina Faso",
         "showlegend": true,
         "type": "splom"
        },
        {
         "dimensions": [
          {
           "axis": {
            "matches": true
           },
           "label": "year_pc",
           "values": [
            2000,
            2001,
            2002,
            2003,
            2004,
            2005,
            2006,
            2007,
            2008,
            2009,
            2010,
            2011,
            2012,
            2013,
            2014,
            2015,
            2016,
            2017,
            2018,
            2019,
            2020
           ]
          },
          {
           "axis": {
            "matches": true
           },
           "label": "total_kgs_CO2_9",
           "values": [
            2095372.8,
            2189363.4,
            2230039.08,
            2124729,
            2169127.08,
            2227788.72,
            2078199,
            2044054.44,
            2075762.52,
            2161817.64,
            2330391.6,
            3551220.36,
            3858166.08,
            4202538.84,
            3623028.84,
            3707679.6,
            3792025.8,
            3741316.56,
            3120707.88,
            3485520,
            3639795.206
           ]
          },
          {
           "axis": {
            "matches": true
           },
           "label": "Population",
           "values": [
            6307659,
            6465729,
            6648938,
            6860846,
            7120496,
            7388874,
            7658190,
            7944609,
            8278109,
            8709366,
            9126605,
            9455733,
            9795479,
            10149577,
            10494913,
            10727148,
            10903327,
            11155593,
            11493472,
            11874838,
            12220227
           ]
          }
         ],
         "hovertemplate": "area=Burundi<br>%{xaxis.title.text}=%{x}<br>%{yaxis.title.text}=%{y}<extra></extra>",
         "legendgroup": "Burundi",
         "marker": {
          "color": "#35b779",
          "symbol": "circle"
         },
         "name": "Burundi",
         "showlegend": true,
         "type": "splom"
        },
        {
         "dimensions": [
          {
           "axis": {
            "matches": true
           },
           "label": "year_pc",
           "values": [
            2000,
            2001,
            2002,
            2003,
            2004,
            2005,
            2006,
            2007,
            2008,
            2009,
            2010,
            2011,
            2012,
            2013,
            2014,
            2015,
            2016,
            2017,
            2018,
            2019,
            2020
           ]
          },
          {
           "axis": {
            "matches": true
           },
           "label": "total_kgs_CO2_9",
           "values": [
            2881965.834,
            2972130.484,
            3668312.005,
            3041989.61,
            2289766.172,
            2071485.482,
            2482654.342,
            4937013.706,
            6634729.112,
            6036409.994,
            6303630.6,
            8117166.96,
            10046605.32,
            14335485.9,
            20500272,
            29610000,
            35371260,
            38865240,
            40303440,
            39000600,
            37374765.66
           ]
          },
          {
           "axis": {
            "matches": true
           },
           "label": "Population",
           "values": [
            12118841,
            12338192,
            12561779,
            12787710,
            13016371,
            13246583,
            13477779,
            13714791,
            13943888,
            14155740,
            14363532,
            14573885,
            14786640,
            14999683,
            15210817,
            15417523,
            15624584,
            15830689,
            16025238,
            16207746,
            16396860
           ]
          }
         ],
         "hovertemplate": "area=Cambodia<br>%{xaxis.title.text}=%{x}<br>%{yaxis.title.text}=%{y}<extra></extra>",
         "legendgroup": "Cambodia",
         "marker": {
          "color": "#6ece58",
          "symbol": "circle"
         },
         "name": "Cambodia",
         "showlegend": true,
         "type": "splom"
        },
        {
         "dimensions": [
          {
           "axis": {
            "matches": true
           },
           "label": "year_pc",
           "values": [
            2000,
            2001,
            2002,
            2003,
            2004,
            2005,
            2006,
            2007,
            2008,
            2009,
            2010,
            2011,
            2012,
            2013,
            2014,
            2015,
            2016,
            2017,
            2018,
            2019,
            2020
           ]
          },
          {
           "axis": {
            "matches": true
           },
           "label": "total_kgs_CO2_9",
           "values": [
            23476500,
            23476500,
            24474780,
            24491700,
            25337700,
            25498440,
            20008035.36,
            16423719.48,
            16850458.8,
            20422442.03,
            22114481.62,
            22114200.92,
            21217846.15,
            21374099.99,
            21048887.26,
            22351937.58,
            21673738.3,
            20802557.95,
            21047310.83,
            21108266.82,
            21323061.14
           ]
          },
          {
           "axis": {
            "matches": true
           },
           "label": "Population",
           "values": [
            15091594,
            15493253,
            15914033,
            16354326,
            16809407,
            17275171,
            17751333,
            18251866,
            18777081,
            19319274,
            19878036,
            20448873,
            21032684,
            21632850,
            22299585,
            23012646,
            23711630,
            24393181,
            25076747,
            25782341,
            26491087
           ]
          }
         ],
         "hovertemplate": "area=Cameroon<br>%{xaxis.title.text}=%{x}<br>%{yaxis.title.text}=%{y}<extra></extra>",
         "legendgroup": "Cameroon",
         "marker": {
          "color": "#b5de2b",
          "symbol": "circle"
         },
         "name": "Cameroon",
         "showlegend": true,
         "type": "splom"
        },
        {
         "dimensions": [
          {
           "axis": {
            "matches": true
           },
           "label": "year_pc",
           "values": [
            2000,
            2001,
            2002,
            2003,
            2004,
            2005,
            2006,
            2007,
            2008,
            2009,
            2010,
            2011,
            2012,
            2013,
            2014,
            2015,
            2016,
            2017,
            2018,
            2019,
            2020
           ]
          },
          {
           "axis": {
            "matches": true
           },
           "label": "total_kgs_CO2_9",
           "values": [
            744480,
            338400,
            219960,
            372240,
            423000,
            372240,
            609120,
            541440,
            203040,
            236880,
            304560,
            372240,
            338400,
            253800,
            253800,
            253800,
            253800,
            304560,
            287640,
            287640,
            152280
           ]
          },
          {
           "axis": {
            "matches": true
           },
           "label": "Population",
           "values": [
            30685730,
            31020902,
            31360079,
            31644028,
            31940655,
            32243753,
            32571174,
            32889025,
            33247118,
            33628895,
            34004889,
            34339328,
            34714222,
            35082954,
            35437435,
            35702908,
            36109487,
            36545236,
            37065084,
            37601230,
            38037204
           ]
          }
         ],
         "hovertemplate": "area=Canada<br>%{xaxis.title.text}=%{x}<br>%{yaxis.title.text}=%{y}<extra></extra>",
         "legendgroup": "Canada",
         "marker": {
          "color": "#fde725",
          "symbol": "circle"
         },
         "name": "Canada",
         "showlegend": true,
         "type": "splom"
        },
        {
         "dimensions": [
          {
           "axis": {
            "matches": true
           },
           "label": "year_pc",
           "values": [
            2000,
            2001,
            2002,
            2003,
            2004,
            2005,
            2006,
            2007,
            2008,
            2009,
            2010,
            2011,
            2012,
            2013,
            2014,
            2015,
            2016,
            2017,
            2018,
            2019,
            2020
           ]
          },
          {
           "axis": {
            "matches": true
           },
           "label": "total_kgs_CO2_9",
           "values": [
            1568863.008,
            1568863.008,
            1568863.008,
            1568863.008,
            1568863.008,
            1568808.864,
            1621120.09,
            1656021.312,
            1656021.312,
            1656021.312,
            1720807.315,
            1742050.882,
            1723819.921,
            1739018.48,
            2145666.992,
            2208364.052,
            2291999.612,
            2002793.666,
            2002793.666,
            2185669.087,
            2239321.899
           ]
          },
          {
           "axis": {
            "matches": true
           },
           "label": "Population",
           "values": [
            3759170,
            3844773,
            3930648,
            4026841,
            4115138,
            4208834,
            4294352,
            4375569,
            4467233,
            4564540,
            4660067,
            4732022,
            4773306,
            4802428,
            4798734,
            4819333,
            4904177,
            4996741,
            5094780,
            5209324,
            5343020
           ]
          }
         ],
         "hovertemplate": "area=Central African Republic<br>%{xaxis.title.text}=%{x}<br>%{yaxis.title.text}=%{y}<extra></extra>",
         "legendgroup": "Central African Republic",
         "marker": {
          "color": "#440154",
          "symbol": "circle"
         },
         "name": "Central African Republic",
         "showlegend": true,
         "type": "splom"
        },
        {
         "dimensions": [
          {
           "axis": {
            "matches": true
           },
           "label": "year_pc",
           "values": [
            2000,
            2001,
            2002,
            2003,
            2004,
            2005,
            2006,
            2007,
            2008,
            2009,
            2010,
            2011,
            2012,
            2013,
            2014,
            2015,
            2016,
            2017,
            2018,
            2019,
            2020
           ]
          },
          {
           "axis": {
            "matches": true
           },
           "label": "total_kgs_CO2_9",
           "values": [
            5779026,
            6129270,
            6216831,
            6409465.2,
            5849074.8,
            6812245.8,
            6812245.8,
            6829758,
            7092441,
            7792929,
            7698284.95,
            7377426.76,
            7523536.543,
            7594323.563,
            7755428.358,
            7917164.269,
            8011301.396,
            7536446.841,
            7179841.429,
            5718336.667,
            6630938.186
           ]
          },
          {
           "axis": {
            "matches": true
           },
           "label": "Population",
           "values": [
            8259137,
            8538804,
            8838369,
            9196366,
            9613503,
            10005012,
            10365614,
            10722731,
            11098664,
            11496128,
            11894727,
            12317730,
            12754906,
            13216766,
            13697126,
            14140274,
            14592585,
            15085884,
            15604210,
            16126866,
            16644701
           ]
          }
         ],
         "hovertemplate": "area=Chad<br>%{xaxis.title.text}=%{x}<br>%{yaxis.title.text}=%{y}<extra></extra>",
         "legendgroup": "Chad",
         "marker": {
          "color": "#482878",
          "symbol": "circle"
         },
         "name": "Chad",
         "showlegend": true,
         "type": "splom"
        },
        {
         "dimensions": [
          {
           "axis": {
            "matches": true
           },
           "label": "year_pc",
           "values": [
            2000,
            2001,
            2002,
            2003,
            2004,
            2005,
            2006,
            2007,
            2008,
            2009,
            2010,
            2011,
            2012,
            2013,
            2014,
            2015,
            2016,
            2017,
            2018,
            2019,
            2020
           ]
          },
          {
           "axis": {
            "matches": true
           },
           "label": "total_kgs_CO2_9",
           "values": [
            1844280,
            1675080,
            1861200,
            1472040,
            1522800,
            1556640,
            1252080,
            1150560,
            879840,
            1252080,
            1269000,
            1269000,
            1336680,
            1184400,
            1184400,
            1099800,
            930600,
            1015200,
            1015200,
            761400,
            761400
           ]
          },
          {
           "axis": {
            "matches": true
           },
           "label": "Population",
           "values": [
            15351799,
            15523978,
            15693790,
            15859112,
            16017966,
            16175311,
            16334575,
            16495538,
            16661462,
            16833447,
            17004162,
            17173573,
            17341771,
            17509925,
            17687108,
            17870124,
            18083879,
            18368577,
            18701450,
            19039485,
            19300315
           ]
          }
         ],
         "hovertemplate": "area=Chile<br>%{xaxis.title.text}=%{x}<br>%{yaxis.title.text}=%{y}<extra></extra>",
         "legendgroup": "Chile",
         "marker": {
          "color": "#3e4989",
          "symbol": "circle"
         },
         "name": "Chile",
         "showlegend": true,
         "type": "splom"
        },
        {
         "dimensions": [
          {
           "axis": {
            "matches": true
           },
           "label": "year_pc",
           "values": [
            2000,
            2001,
            2002,
            2003,
            2004,
            2005,
            2006,
            2007,
            2008,
            2009,
            2010,
            2011,
            2012,
            2013,
            2014,
            2015,
            2016,
            2017,
            2018,
            2019,
            2020
           ]
          },
          {
           "axis": {
            "matches": true
           },
           "label": "total_kgs_CO2_9",
           "values": [
            1188288216,
            1324797152,
            1580444680,
            1572287616,
            1561976568,
            1506438360,
            1712814984,
            1999004872,
            2174260608,
            2019177032,
            1936302872,
            2003913432,
            2159227256,
            2247001448,
            2186255128,
            1863974880,
            1805617800,
            1831662824,
            1894991000,
            1915142584,
            1895310720
           ]
          },
          {
           "axis": {
            "matches": true
           },
           "label": "Population",
           "values": [
            1241450269,
            1249516875,
            1257930384,
            1265806319,
            1273371901,
            1280923694,
            1288145025,
            1294942692,
            1301656679,
            1308215918,
            1314621917,
            1321891929,
            1330955942,
            1339909666,
            1348437487,
            1356347864,
            1364195529,
            1372549976,
            1379033815,
            1383967263,
            1387278536
           ]
          }
         ],
         "hovertemplate": "area=China, mainland<br>%{xaxis.title.text}=%{x}<br>%{yaxis.title.text}=%{y}<extra></extra>",
         "legendgroup": "China, mainland",
         "marker": {
          "color": "#31688e",
          "symbol": "circle"
         },
         "name": "China, mainland",
         "showlegend": true,
         "type": "splom"
        },
        {
         "dimensions": [
          {
           "axis": {
            "matches": true
           },
           "label": "year_pc",
           "values": [
            2000,
            2001,
            2002,
            2003,
            2004,
            2005,
            2006,
            2007,
            2008,
            2009,
            2010,
            2011,
            2012,
            2013,
            2014,
            2015,
            2016,
            2017,
            2018,
            2019,
            2020
           ]
          },
          {
           "axis": {
            "matches": true
           },
           "label": "total_kgs_CO2_9",
           "values": [
            582868670.7,
            575409674.9,
            645952048.2,
            679126736.9,
            698670927.3,
            684085312.1,
            632303868.6,
            599819719,
            550349073.7,
            625677844.3,
            554617279.1,
            594634415.7,
            568174293.7,
            594293020.9,
            650437980.1,
            615984528.6,
            591607377,
            399261020,
            569363482.1,
            575438066.7,
            438523067.9
           ]
          },
          {
           "axis": {
            "matches": true
           },
           "label": "Population",
           "values": [
            39215135,
            39837875,
            40454050,
            41057687,
            41648268,
            42220940,
            42772910,
            43306582,
            43815313,
            44313917,
            44816108,
            45308899,
            45782417,
            46237930,
            46677947,
            47119728,
            47625955,
            48351671,
            49276961,
            50187406,
            50930662
           ]
          }
         ],
         "hovertemplate": "area=Colombia<br>%{xaxis.title.text}=%{x}<br>%{yaxis.title.text}=%{y}<extra></extra>",
         "legendgroup": "Colombia",
         "marker": {
          "color": "#26828e",
          "symbol": "circle"
         },
         "name": "Colombia",
         "showlegend": true,
         "type": "splom"
        },
        {
         "dimensions": [
          {
           "axis": {
            "matches": true
           },
           "label": "year_pc",
           "values": [
            2000,
            2001,
            2002,
            2003,
            2004,
            2005,
            2006,
            2007,
            2008,
            2009,
            2010,
            2011,
            2012,
            2013,
            2014,
            2015,
            2016,
            2017,
            2018,
            2019,
            2020
           ]
          },
          {
           "axis": {
            "matches": true
           },
           "label": "total_kgs_CO2_9",
           "values": [
            0,
            0,
            0,
            0,
            0,
            0,
            0,
            0,
            0,
            0,
            0,
            0,
            0,
            0,
            0,
            0,
            0,
            0,
            0,
            0,
            0
           ]
          },
          {
           "axis": {
            "matches": true
           },
           "label": "Population",
           "values": [
            536758,
            547741,
            559047,
            570130,
            581154,
            592683,
            604658,
            616899,
            629470,
            642493,
            656024,
            670071,
            684553,
            699393,
            714612,
            730216,
            746232,
            761664,
            776313,
            790986,
            806166
           ]
          }
         ],
         "hovertemplate": "area=Comoros<br>%{xaxis.title.text}=%{x}<br>%{yaxis.title.text}=%{y}<extra></extra>",
         "legendgroup": "Comoros",
         "marker": {
          "color": "#1f9e89",
          "symbol": "circle"
         },
         "name": "Comoros",
         "showlegend": true,
         "type": "splom"
        },
        {
         "dimensions": [
          {
           "axis": {
            "matches": true
           },
           "label": "year_pc",
           "values": [
            2000,
            2001,
            2002,
            2003,
            2004,
            2005,
            2006,
            2007,
            2008,
            2009,
            2010,
            2011,
            2012,
            2013,
            2014,
            2015,
            2016,
            2017,
            2018,
            2019,
            2020
           ]
          },
          {
           "axis": {
            "matches": true
           },
           "label": "total_kgs_CO2_9",
           "values": [
            28653850.8,
            26799080.4,
            27532985.4,
            27147463.2,
            26665412.4,
            26181754.2,
            25760970.72,
            29176763.4,
            30852131.04,
            31473568.8,
            35680405.32,
            34229332.58,
            34536542.26,
            34684257.24,
            35176805.21,
            36745979.54,
            35535681.79,
            35429606.93,
            36535427.06,
            36892032.98,
            37188386.78
           ]
          },
          {
           "axis": {
            "matches": true
           },
           "label": "Population",
           "values": [
            48616317,
            50106657,
            51662071,
            53205639,
            54815607,
            56550247,
            58381630,
            60289422,
            62249724,
            64270232,
            66391257,
            68654269,
            70997870,
            73460021,
            76035588,
            78656904,
            81430977,
            84283273,
            87087355,
            89906890,
            92853164
           ]
          }
         ],
         "hovertemplate": "area=Democratic Republic of the Congo<br>%{xaxis.title.text}=%{x}<br>%{yaxis.title.text}=%{y}<extra></extra>",
         "legendgroup": "Democratic Republic of the Congo",
         "marker": {
          "color": "#35b779",
          "symbol": "circle"
         },
         "name": "Democratic Republic of the Congo",
         "showlegend": true,
         "type": "splom"
        },
        {
         "dimensions": [
          {
           "axis": {
            "matches": true
           },
           "label": "year_pc",
           "values": [
            2000,
            2001,
            2002,
            2003,
            2004,
            2005,
            2006,
            2007,
            2008,
            2009,
            2010,
            2011,
            2012,
            2013,
            2014,
            2015,
            2016,
            2017,
            2018,
            2019,
            2020
           ]
          },
          {
           "axis": {
            "matches": true
           },
           "label": "total_kgs_CO2_9",
           "values": [
            7905971.52,
            7980030.36,
            8059960.44,
            10480975.56,
            10735469.28,
            10737432,
            9762840,
            9509040,
            9999720,
            10591920,
            10942717.28,
            11218535.28,
            11190677.52,
            11563968.92,
            11106288,
            11249262,
            11636604.79,
            11758279.05,
            11848614.93,
            11810160,
            12074798.95
           ]
          },
          {
           "axis": {
            "matches": true
           },
           "label": "Population",
           "values": [
            3134030,
            3254101,
            3331158,
            3424653,
            3543012,
            3672839,
            3813323,
            3956329,
            4089602,
            4257230,
            4437884,
            4584216,
            4713257,
            4828066,
            4944861,
            5064386,
            5186824,
            5312340,
            5441062,
            5570733,
            5702174
           ]
          }
         ],
         "hovertemplate": "area=Congo<br>%{xaxis.title.text}=%{x}<br>%{yaxis.title.text}=%{y}<extra></extra>",
         "legendgroup": "Congo",
         "marker": {
          "color": "#6ece58",
          "symbol": "circle"
         },
         "name": "Congo",
         "showlegend": true,
         "type": "splom"
        },
        {
         "dimensions": [
          {
           "axis": {
            "matches": true
           },
           "label": "year_pc",
           "values": [
            2000,
            2001,
            2002,
            2003,
            2004,
            2005,
            2006,
            2007,
            2008,
            2009,
            2010,
            2011,
            2012,
            2013,
            2014,
            2015,
            2016,
            2017,
            2018,
            2019,
            2020
           ]
          },
          {
           "axis": {
            "matches": true
           },
           "label": "total_kgs_CO2_9",
           "values": [
            66698640,
            70116480,
            66664800,
            76782960,
            73585080,
            70133400,
            80065440,
            80691480,
            73297440,
            71605440,
            66135745.44,
            59933905.56,
            70399923.84,
            77968848.96,
            79306121.16,
            76783772.16,
            75394047.96,
            73659020.4,
            70944807.06,
            71232425.06,
            74356581.24
           ]
          },
          {
           "axis": {
            "matches": true
           },
           "label": "Population",
           "values": [
            3979193,
            4053222,
            4122623,
            4188610,
            4252800,
            4315887,
            4378172,
            4440019,
            4501921,
            4563127,
            4622252,
            4679926,
            4736593,
            4791535,
            4844288,
            4895242,
            4945205,
            4993842,
            5040734,
            5084532,
            5123105
           ]
          }
         ],
         "hovertemplate": "area=Costa Rica<br>%{xaxis.title.text}=%{x}<br>%{yaxis.title.text}=%{y}<extra></extra>",
         "legendgroup": "Costa Rica",
         "marker": {
          "color": "#b5de2b",
          "symbol": "circle"
         },
         "name": "Costa Rica",
         "showlegend": true,
         "type": "splom"
        },
        {
         "dimensions": [
          {
           "axis": {
            "matches": true
           },
           "label": "year_pc",
           "values": [
            2000,
            2001,
            2002,
            2003,
            2004,
            2005,
            2006,
            2007,
            2008,
            2009,
            2010,
            2011,
            2012,
            2013,
            2014,
            2015,
            2016,
            2017,
            2018,
            2019,
            2020
           ]
          },
          {
           "axis": {
            "matches": true
           },
           "label": "total_kgs_CO2_9",
           "values": [
            29390886,
            28980677.52,
            27142590.24,
            22239478.8,
            25656151.32,
            25655457.6,
            25515529.2,
            28837263.6,
            29239113.6,
            27801928.8,
            31445261.64,
            33814501.56,
            32600576.16,
            34329275.64,
            34324839.22,
            34973640,
            32097240,
            33298560,
            35384796,
            36631800,
            36631800
           ]
          },
          {
           "axis": {
            "matches": true
           },
           "label": "Population",
           "values": [
            16799670,
            17245468,
            17683897,
            18116451,
            18544903,
            18970215,
            19394057,
            19817700,
            20244449,
            20677762,
            21120042,
            21562914,
            22010712,
            22469268,
            22995555,
            23596741,
            24213622,
            24848016,
            25493988,
            26147551,
            26811790
           ]
          }
         ],
         "hovertemplate": "area=Cote d'Ivoire<br>%{xaxis.title.text}=%{x}<br>%{yaxis.title.text}=%{y}<extra></extra>",
         "legendgroup": "Cote d'Ivoire",
         "marker": {
          "color": "#fde725",
          "symbol": "circle"
         },
         "name": "Cote d'Ivoire",
         "showlegend": true,
         "type": "splom"
        },
        {
         "dimensions": [
          {
           "axis": {
            "matches": true
           },
           "label": "year_pc",
           "values": [
            2000,
            2001,
            2002,
            2003,
            2004,
            2005,
            2006,
            2007,
            2008,
            2009,
            2010,
            2011,
            2012,
            2013,
            2014,
            2015,
            2016,
            2017,
            2018,
            2019,
            2020
           ]
          },
          {
           "axis": {
            "matches": true
           },
           "label": "total_kgs_CO2_9",
           "values": [
            414540,
            940752,
            795240,
            473760,
            592200,
            947520,
            1218240,
            1184400,
            1556640,
            1116720,
            1026722.52,
            1249660.44,
            1098412.56,
            877725,
            1237122.72,
            1184400,
            930600,
            1049040,
            761400,
            930600,
            812160
           ]
          },
          {
           "axis": {
            "matches": true
           },
           "label": "Population",
           "values": [
            4468302,
            4299642,
            4302174,
            4303399,
            4304600,
            4310145,
            4311159,
            4310217,
            4309705,
            4305181,
            4295427,
            4280622,
            4267558,
            4255689,
            4238389,
            4203604,
            4174349,
            4124531,
            4087843,
            4065253,
            4047680
           ]
          }
         ],
         "hovertemplate": "area=Croatia<br>%{xaxis.title.text}=%{x}<br>%{yaxis.title.text}=%{y}<extra></extra>",
         "legendgroup": "Croatia",
         "marker": {
          "color": "#440154",
          "symbol": "circle"
         },
         "name": "Croatia",
         "showlegend": true,
         "type": "splom"
        },
        {
         "dimensions": [
          {
           "axis": {
            "matches": true
           },
           "label": "year_pc",
           "values": [
            2000,
            2001,
            2002,
            2003,
            2004,
            2005,
            2006,
            2007,
            2008,
            2009,
            2010,
            2011,
            2012,
            2013,
            2014,
            2015,
            2016,
            2017,
            2018,
            2019,
            2020
           ]
          },
          {
           "axis": {
            "matches": true
           },
           "label": "total_kgs_CO2_9",
           "values": [
            636192000,
            562251600,
            606582000,
            385776000,
            415386000,
            202701600,
            193057200,
            206931600,
            272412000,
            258368400,
            201263400,
            206339400,
            258550408.4,
            282416812.9,
            312023547.4,
            339415200,
            315388800,
            348890400,
            220636800,
            296438400,
            231443604
           ]
          },
          {
           "axis": {
            "matches": true
           },
           "label": "Population",
           "values": [
            11105791,
            11139127,
            11170051,
            11199217,
            11225294,
            11246114,
            11260630,
            11269887,
            11276609,
            11283185,
            11290417,
            11298710,
            11309290,
            11321579,
            11332026,
            11339894,
            11342012,
            11336405,
            11328244,
            11316697,
            11300698
           ]
          }
         ],
         "hovertemplate": "area=Cuba<br>%{xaxis.title.text}=%{x}<br>%{yaxis.title.text}=%{y}<extra></extra>",
         "legendgroup": "Cuba",
         "marker": {
          "color": "#482878",
          "symbol": "circle"
         },
         "name": "Cuba",
         "showlegend": true,
         "type": "splom"
        },
        {
         "dimensions": [
          {
           "axis": {
            "matches": true
           },
           "label": "year_pc",
           "values": [
            2000,
            2001,
            2002,
            2003,
            2004,
            2005,
            2006,
            2007,
            2008,
            2009,
            2010,
            2011,
            2012,
            2013,
            2014,
            2015,
            2016,
            2017,
            2018,
            2019,
            2020
           ]
          },
          {
           "axis": {
            "matches": true
           },
           "label": "total_kgs_CO2_9",
           "values": [
            0,
            0,
            0,
            0,
            0,
            0,
            0,
            0,
            0,
            0,
            0,
            0,
            0,
            0,
            0,
            0,
            0,
            0,
            0,
            0,
            0
           ]
          },
          {
           "axis": {
            "matches": true
           },
           "label": "Population",
           "values": [
            948237,
            964830,
            982194,
            1000350,
            1018684,
            1037062,
            1055438,
            1073873,
            1092390,
            1110974,
            1129686,
            1145086,
            1156556,
            1166968,
            1176995,
            1187280,
            1197881,
            1208523,
            1218831,
            1228836,
            1237537
           ]
          }
         ],
         "hovertemplate": "area=Cyprus<br>%{xaxis.title.text}=%{x}<br>%{yaxis.title.text}=%{y}<extra></extra>",
         "legendgroup": "Cyprus",
         "marker": {
          "color": "#3e4989",
          "symbol": "circle"
         },
         "name": "Cyprus",
         "showlegend": true,
         "type": "splom"
        },
        {
         "dimensions": [
          {
           "axis": {
            "matches": true
           },
           "label": "year_pc",
           "values": [
            2000,
            2001,
            2002,
            2003,
            2004,
            2005,
            2006,
            2007,
            2008,
            2009,
            2010,
            2011,
            2012,
            2013,
            2014,
            2015,
            2016,
            2017,
            2018,
            2019,
            2020
           ]
          },
          {
           "axis": {
            "matches": true
           },
           "label": "total_kgs_CO2_9",
           "values": [
            1979640,
            2724120,
            2571840,
            2588760,
            2368800,
            2216520,
            1861200,
            1658160,
            1353600,
            1319760,
            1488960,
            1319760,
            1116720,
            1015200,
            1099800,
            930600,
            1184400,
            1269000,
            1099800,
            930600,
            947520
           ]
          },
          {
           "axis": {
            "matches": true
           },
           "label": "Population",
           "values": [
            10255063,
            10216605,
            10196916,
            10193998,
            10197101,
            10211216,
            10238905,
            10298828,
            10384603,
            10443936,
            10474410,
            10496088,
            10510785,
            10514272,
            10525347,
            10546059,
            10566332,
            10594438,
            10629928,
            10671870,
            10697858
           ]
          }
         ],
         "hovertemplate": "area=Czechia<br>%{xaxis.title.text}=%{x}<br>%{yaxis.title.text}=%{y}<extra></extra>",
         "legendgroup": "Czechia",
         "marker": {
          "color": "#31688e",
          "symbol": "circle"
         },
         "name": "Czechia",
         "showlegend": true,
         "type": "splom"
        },
        {
         "dimensions": [
          {
           "axis": {
            "matches": true
           },
           "label": "year_pc",
           "values": [
            2000,
            2001,
            2002,
            2003,
            2004,
            2005,
            2006,
            2007,
            2008,
            2009,
            2010,
            2011,
            2012,
            2013,
            2014,
            2015,
            2016,
            2017,
            2018,
            2019,
            2020
           ]
          },
          {
           "axis": {
            "matches": true
           },
           "label": "total_kgs_CO2_9",
           "values": [
            1793520,
            1895040,
            1793520,
            1522800,
            1505880,
            1370520,
            1285920,
            1218240,
            1235160,
            1302840,
            1184400,
            1353600,
            1269000,
            1235160,
            1269000,
            846000,
            1099800,
            1099800,
            1049040,
            1133640,
            1269000
           ]
          },
          {
           "axis": {
            "matches": true
           },
           "label": "Population",
           "values": [
            5339616,
            5358783,
            5375931,
            5390574,
            5404523,
            5419432,
            5437272,
            5461438,
            5493621,
            5523095,
            5547683,
            5570572,
            5591572,
            5614932,
            5643475,
            5683483,
            5728010,
            5764980,
            5793636,
            5814422,
            5831404
           ]
          }
         ],
         "hovertemplate": "area=Denmark<br>%{xaxis.title.text}=%{x}<br>%{yaxis.title.text}=%{y}<extra></extra>",
         "legendgroup": "Denmark",
         "marker": {
          "color": "#26828e",
          "symbol": "circle"
         },
         "name": "Denmark",
         "showlegend": true,
         "type": "splom"
        },
        {
         "dimensions": [
          {
           "axis": {
            "matches": true
           },
           "label": "year_pc",
           "values": [
            2000,
            2001,
            2002,
            2003,
            2004,
            2005,
            2006,
            2007,
            2008,
            2009,
            2010,
            2011,
            2012,
            2013,
            2014,
            2015,
            2016,
            2017,
            2018,
            2019,
            2020
           ]
          },
          {
           "axis": {
            "matches": true
           },
           "label": "total_kgs_CO2_9",
           "values": [
            923.832,
            923.832,
            923.832,
            923.832,
            923.832,
            923.832,
            923.832,
            923.832,
            923.832,
            923.832,
            923.832,
            923.832,
            923.832,
            923.832,
            930.6,
            945.6588,
            961.3944,
            976.9608,
            958.1796,
            957.5028,
            958.3488
           ]
          },
          {
           "axis": {
            "matches": true
           },
           "label": "Population",
           "values": [
            742033,
            765490,
            789129,
            806411,
            818373,
            830861,
            846947,
            865196,
            882886,
            901103,
            919199,
            936811,
            954297,
            971753,
            989087,
            1006259,
            1023261,
            1040233,
            1057198,
            1073994,
            1090156
           ]
          }
         ],
         "hovertemplate": "area=Djibouti<br>%{xaxis.title.text}=%{x}<br>%{yaxis.title.text}=%{y}<extra></extra>",
         "legendgroup": "Djibouti",
         "marker": {
          "color": "#1f9e89",
          "symbol": "circle"
         },
         "name": "Djibouti",
         "showlegend": true,
         "type": "splom"
        },
        {
         "dimensions": [
          {
           "axis": {
            "matches": true
           },
           "label": "year_pc",
           "values": [
            2000,
            2001,
            2002,
            2003,
            2004,
            2005,
            2006,
            2007,
            2008,
            2009,
            2010,
            2011,
            2012,
            2013,
            2014,
            2015,
            2016,
            2017,
            2018,
            2019,
            2020
           ]
          },
          {
           "axis": {
            "matches": true
           },
           "label": "total_kgs_CO2_9",
           "values": [
            74448,
            74448,
            74448,
            74448,
            74448,
            74448,
            74448,
            81216,
            81216,
            81216,
            81216,
            81216,
            81216,
            81216,
            81252.378,
            81826.3044,
            82107.684,
            82359.1152,
            82524.9312,
            82778.0544,
            82977.5412
           ]
          },
          {
           "axis": {
            "matches": true
           },
           "label": "Population",
           "values": [
            68346,
            68153,
            68262,
            68442,
            68574,
            68674,
            68742,
            68775,
            68782,
            68787,
            68755,
            68742,
            68888,
            68819,
            69371,
            70007,
            70075,
            70403,
            70823,
            71428,
            71995
           ]
          }
         ],
         "hovertemplate": "area=Dominica<br>%{xaxis.title.text}=%{x}<br>%{yaxis.title.text}=%{y}<extra></extra>",
         "legendgroup": "Dominica",
         "marker": {
          "color": "#35b779",
          "symbol": "circle"
         },
         "name": "Dominica",
         "showlegend": true,
         "type": "splom"
        },
        {
         "dimensions": [
          {
           "axis": {
            "matches": true
           },
           "label": "year_pc",
           "values": [
            2000,
            2001,
            2002,
            2003,
            2004,
            2005,
            2006,
            2007,
            2008,
            2009,
            2010,
            2011,
            2012,
            2013,
            2014,
            2015,
            2016,
            2017,
            2018,
            2019,
            2020
           ]
          },
          {
           "axis": {
            "matches": true
           },
           "label": "total_kgs_CO2_9",
           "values": [
            79451345.52,
            85001545.44,
            90970363.08,
            88410790.08,
            97184453.04,
            85277798.28,
            84135512.16,
            86979053.52,
            84781653.12,
            80949933,
            80439744.24,
            81409717.08,
            85579481.88,
            83859090.12,
            88383328.92,
            79614234.36,
            69891173.28,
            96000036.12,
            102185852.8,
            86476275.72,
            93521459.16
           ]
          },
          {
           "axis": {
            "matches": true
           },
           "label": "Population",
           "values": [
            8540791,
            8669040,
            8795101,
            8919852,
            9043127,
            9164768,
            9284168,
            9402206,
            9522948,
            9648061,
            9775755,
            9903737,
            10030882,
            10157051,
            10282115,
            10405832,
            10527592,
            10647244,
            10765531,
            10881882,
            10999664
           ]
          }
         ],
         "hovertemplate": "area=Dominican Republic<br>%{xaxis.title.text}=%{x}<br>%{yaxis.title.text}=%{y}<extra></extra>",
         "legendgroup": "Dominican Republic",
         "marker": {
          "color": "#6ece58",
          "symbol": "circle"
         },
         "name": "Dominican Republic",
         "showlegend": true,
         "type": "splom"
        },
        {
         "dimensions": [
          {
           "axis": {
            "matches": true
           },
           "label": "year_pc",
           "values": [
            2000,
            2001,
            2002,
            2003,
            2004,
            2005,
            2006,
            2007,
            2008,
            2009,
            2010,
            2011,
            2012,
            2013,
            2014,
            2015,
            2016,
            2017,
            2018,
            2019,
            2020
           ]
          },
          {
           "axis": {
            "matches": true
           },
           "label": "total_kgs_CO2_9",
           "values": [
            94081561.92,
            98371864.8,
            91954227.24,
            101517089.8,
            106658705.5,
            118762765.9,
            121411372,
            144462976.9,
            161012327.4,
            146157345.7,
            143992279.4,
            140551377.5,
            127896960.2,
            124248043.8,
            142742297.5,
            173956296.6,
            149600024.3,
            155496052.1,
            129476086.9,
            159059844,
            188846945.6
           ]
          },
          {
           "axis": {
            "matches": true
           },
           "label": "Population",
           "values": [
            12626507,
            12845521,
            13070609,
            13301184,
            13534593,
            13770012,
            14009061,
            14251835,
            14496797,
            14742766,
            14989585,
            15237728,
            15483883,
            15722989,
            15957994,
            16195902,
            16439585,
            16696944,
            17015672,
            17343740,
            17588595
           ]
          }
         ],
         "hovertemplate": "area=Ecuador<br>%{xaxis.title.text}=%{x}<br>%{yaxis.title.text}=%{y}<extra></extra>",
         "legendgroup": "Ecuador",
         "marker": {
          "color": "#b5de2b",
          "symbol": "circle"
         },
         "name": "Ecuador",
         "showlegend": true,
         "type": "splom"
        },
        {
         "dimensions": [
          {
           "axis": {
            "matches": true
           },
           "label": "year_pc",
           "values": [
            2000,
            2001,
            2002,
            2003,
            2004,
            2005,
            2006,
            2007,
            2008,
            2009,
            2010,
            2011,
            2012,
            2013,
            2014,
            2015,
            2016,
            2017,
            2018,
            2019,
            2020
           ]
          },
          {
           "axis": {
            "matches": true
           },
           "label": "total_kgs_CO2_9",
           "values": [
            275014296,
            272691180,
            280647928.4,
            284517583.2,
            284263411,
            286494854.4,
            293601423.6,
            299437842.2,
            288574339.3,
            272110316.4,
            276792232.7,
            279640444,
            276032880,
            280009164.6,
            284679220,
            282112845.1,
            276515235.4,
            274564410.1,
            282024302.8,
            273189846.2,
            188900802
           ]
          },
          {
           "axis": {
            "matches": true
           },
           "label": "Population",
           "values": [
            71371371,
            72854261,
            74393759,
            75963322,
            77522427,
            79075310,
            80629670,
            82218755,
            83844783,
            85501064,
            87252413,
            89200054,
            91240376,
            93377890,
            95592324,
            97723799,
            99784030,
            101789386,
            103740765,
            105618671,
            107465134
           ]
          }
         ],
         "hovertemplate": "area=Egypt<br>%{xaxis.title.text}=%{x}<br>%{yaxis.title.text}=%{y}<extra></extra>",
         "legendgroup": "Egypt",
         "marker": {
          "color": "#fde725",
          "symbol": "circle"
         },
         "name": "Egypt",
         "showlegend": true,
         "type": "splom"
        },
        {
         "dimensions": [
          {
           "axis": {
            "matches": true
           },
           "label": "year_pc",
           "values": [
            2000,
            2001,
            2002,
            2003,
            2004,
            2005,
            2006,
            2007,
            2008,
            2009,
            2010,
            2011,
            2012,
            2013,
            2014,
            2015,
            2016,
            2017,
            2018,
            2019,
            2020
           ]
          },
          {
           "axis": {
            "matches": true
           },
           "label": "total_kgs_CO2_9",
           "values": [
            90476654.4,
            85737717.72,
            79915985.64,
            80209784.52,
            92982168,
            78083262,
            85615859.88,
            87366030.84,
            92382167.88,
            100404346,
            90669085.56,
            101926215.4,
            114098717.2,
            126290795.4,
            119620931.4,
            116857743.1,
            126986985.7,
            124761075.1,
            128515944.6,
            134941839.1,
            132412079.2
           ]
          },
          {
           "axis": {
            "matches": true
           },
           "label": "Population",
           "values": [
            5958482,
            5988095,
            6011275,
            6026849,
            6035655,
            6037817,
            6034436,
            6044131,
            6068099,
            6091188,
            6114034,
            6137349,
            6161289,
            6185642,
            6209526,
            6231066,
            6250510,
            6266654,
            6276342,
            6280217,
            6292731
           ]
          }
         ],
         "hovertemplate": "area=El Salvador<br>%{xaxis.title.text}=%{x}<br>%{yaxis.title.text}=%{y}<extra></extra>",
         "legendgroup": "El Salvador",
         "marker": {
          "color": "#440154",
          "symbol": "circle"
         },
         "name": "El Salvador",
         "showlegend": true,
         "type": "splom"
        },
        {
         "dimensions": [
          {
           "axis": {
            "matches": true
           },
           "label": "year_pc",
           "values": [
            2000,
            2001,
            2002,
            2003,
            2004,
            2005,
            2006,
            2007,
            2008,
            2009,
            2010,
            2011,
            2012,
            2013,
            2014,
            2015,
            2016,
            2017,
            2018,
            2019,
            2020
           ]
          },
          {
           "axis": {
            "matches": true
           },
           "label": "total_kgs_CO2_9",
           "values": [
            68569992,
            0,
            0,
            0,
            0,
            0,
            0,
            0,
            0,
            0,
            0,
            0,
            0,
            0,
            0,
            0,
            0,
            0,
            0,
            0,
            0
           ]
          },
          {
           "axis": {
            "matches": true
           },
           "label": "Population",
           "values": [
            684977,
            719270,
            754115,
            789681,
            826355,
            864726,
            905418,
            948814,
            994971,
            1043686,
            1094524,
            1144588,
            1193636,
            1243941,
            1295183,
            1346973,
            1398927,
            1450694,
            1502091,
            1553031,
            1596049
           ]
          }
         ],
         "hovertemplate": "area=Equatorial Guinea<br>%{xaxis.title.text}=%{x}<br>%{yaxis.title.text}=%{y}<extra></extra>",
         "legendgroup": "Equatorial Guinea",
         "marker": {
          "color": "#482878",
          "symbol": "circle"
         },
         "name": "Equatorial Guinea",
         "showlegend": true,
         "type": "splom"
        },
        {
         "dimensions": [
          {
           "axis": {
            "matches": true
           },
           "label": "year_pc",
           "values": [
            2000,
            2001,
            2002,
            2003,
            2004,
            2005,
            2006,
            2007,
            2008,
            2009,
            2010,
            2011,
            2012,
            2013,
            2014,
            2015,
            2016,
            2017,
            2018,
            2019,
            2020
           ]
          },
          {
           "axis": {
            "matches": true
           },
           "label": "total_kgs_CO2_9",
           "values": [
            0,
            0,
            0,
            0,
            0,
            0,
            0,
            0,
            0,
            0,
            0,
            0,
            0,
            0,
            0,
            0,
            0,
            0,
            0,
            0,
            0
           ]
          },
          {
           "axis": {
            "matches": true
           },
           "label": "Population",
           "values": [
            2392880,
            2461927,
            2547424,
            2653390,
            2763140,
            2831732,
            2880093,
            2926168,
            3005779,
            3083888,
            3147727,
            3207570,
            3252596,
            3296367,
            3323425,
            3340006,
            3365287,
            3396933,
            3445374,
            3498818,
            3555868
           ]
          }
         ],
         "hovertemplate": "area=Eritrea<br>%{xaxis.title.text}=%{x}<br>%{yaxis.title.text}=%{y}<extra></extra>",
         "legendgroup": "Eritrea",
         "marker": {
          "color": "#3e4989",
          "symbol": "circle"
         },
         "name": "Eritrea",
         "showlegend": true,
         "type": "splom"
        },
        {
         "dimensions": [
          {
           "axis": {
            "matches": true
           },
           "label": "year_pc",
           "values": [
            2000,
            2001,
            2002,
            2003,
            2004,
            2005,
            2006,
            2007,
            2008,
            2009,
            2010,
            2011,
            2012,
            2013,
            2014,
            2015,
            2016,
            2017,
            2018,
            2019,
            2020
           ]
          },
          {
           "axis": {
            "matches": true
           },
           "label": "total_kgs_CO2_9",
           "values": [
            0,
            0,
            0,
            0,
            0,
            0,
            0,
            0,
            0,
            0,
            0,
            0,
            0,
            0,
            0,
            0,
            0,
            0,
            0,
            0,
            0
           ]
          },
          {
           "axis": {
            "matches": true
           },
           "label": "Population",
           "values": [
            1396985,
            1388115,
            1379350,
            1370720,
            1362550,
            1354775,
            1346810,
            1340680,
            1337090,
            1334515,
            1331475,
            1327439,
            1322696,
            1317997,
            1314545,
            1315407,
            1315790,
            1317384,
            1321977,
            1326898,
            1329522
           ]
          }
         ],
         "hovertemplate": "area=Estonia<br>%{xaxis.title.text}=%{x}<br>%{yaxis.title.text}=%{y}<extra></extra>",
         "legendgroup": "Estonia",
         "marker": {
          "color": "#31688e",
          "symbol": "circle"
         },
         "name": "Estonia",
         "showlegend": true,
         "type": "splom"
        },
        {
         "dimensions": [
          {
           "axis": {
            "matches": true
           },
           "label": "year_pc",
           "values": [
            2000,
            2001,
            2002,
            2003,
            2004,
            2005,
            2006,
            2007,
            2008,
            2009,
            2010,
            2011,
            2012,
            2013,
            2014,
            2015,
            2016,
            2017,
            2018,
            2019,
            2020
           ]
          },
          {
           "axis": {
            "matches": true
           },
           "label": "total_kgs_CO2_9",
           "values": [
            0,
            70404120,
            80928360,
            81588240,
            84481560,
            91469520,
            87780960,
            87882480,
            87662520,
            87645600,
            89724458.88,
            92863922.58,
            94719276.72,
            96188821.02,
            96104271.78,
            97308468.18,
            98422379.46,
            98967152.7,
            100946945,
            101704952.5,
            101013440.6
           ]
          },
          {
           "axis": {
            "matches": true
           },
           "label": "Population",
           "values": [
            1030496,
            1041396,
            1050809,
            1058797,
            1065764,
            1071886,
            1077735,
            1084008,
            1089870,
            1094886,
            1099920,
            1105371,
            1111444,
            1118319,
            1125865,
            1133936,
            1142524,
            1151390,
            1160428,
            1169613,
            1180655
           ]
          }
         ],
         "hovertemplate": "area=Eswatini<br>%{xaxis.title.text}=%{x}<br>%{yaxis.title.text}=%{y}<extra></extra>",
         "legendgroup": "Eswatini",
         "marker": {
          "color": "#26828e",
          "symbol": "circle"
         },
         "name": "Eswatini",
         "showlegend": true,
         "type": "splom"
        },
        {
         "dimensions": [
          {
           "axis": {
            "matches": true
           },
           "label": "year_pc",
           "values": [
            2000,
            2001,
            2002,
            2003,
            2004,
            2005,
            2006,
            2007,
            2008,
            2009,
            2010,
            2011,
            2012,
            2013,
            2014,
            2015,
            2016,
            2017,
            2018,
            2019,
            2020
           ]
          },
          {
           "axis": {
            "matches": true
           },
           "label": "total_kgs_CO2_9",
           "values": [
            38638004.4,
            39645590.4,
            39292097.76,
            42215400,
            43184509.92,
            46631520,
            48611160,
            33025980.49,
            9763778.045,
            12381649.92,
            17303022.27,
            16484607.12,
            11287684.61,
            26498224.19,
            29219851.87,
            24990525.29,
            26355945.6,
            22943856.71,
            24264650.52,
            29426154.05,
            27079294.21
           ]
          },
          {
           "axis": {
            "matches": true
           },
           "label": "Population",
           "values": [
            67031867,
            69018932,
            71073215,
            73168838,
            75301026,
            77469940,
            79691050,
            81996185,
            84357105,
            86755585,
            89237791,
            91817929,
            94451280,
            97084366,
            99746766,
            102471895,
            105293228,
            108197950,
            111129438,
            114120594,
            117190911
           ]
          }
         ],
         "hovertemplate": "area=Ethiopia<br>%{xaxis.title.text}=%{x}<br>%{yaxis.title.text}=%{y}<extra></extra>",
         "legendgroup": "Ethiopia",
         "marker": {
          "color": "#1f9e89",
          "symbol": "circle"
         },
         "name": "Ethiopia",
         "showlegend": true,
         "type": "splom"
        },
        {
         "dimensions": [
          {
           "axis": {
            "matches": true
           },
           "label": "year_pc",
           "values": [
            2000,
            2001,
            2002,
            2003,
            2004,
            2005,
            2006,
            2007,
            2008,
            2009,
            2010,
            2011,
            2012,
            2013,
            2014,
            2015,
            2016,
            2017,
            2018,
            2019,
            2020
           ]
          },
          {
           "axis": {
            "matches": true
           },
           "label": "total_kgs_CO2_9",
           "values": [
            0,
            0,
            0,
            0,
            0,
            0,
            0,
            0,
            0,
            0,
            0,
            0,
            0,
            0,
            0,
            0,
            0,
            0,
            0,
            0,
            0
           ]
          },
          {
           "axis": {
            "matches": true
           },
           "label": "Population",
           "values": [
            45660,
            46245,
            46813,
            47392,
            47989,
            48291,
            48313,
            48361,
            48411,
            48429,
            48410,
            48386,
            48392,
            48418,
            48465,
            48816,
            49500,
            50230,
            50955,
            51681,
            52415
           ]
          }
         ],
         "hovertemplate": "area=Faroe Islands<br>%{xaxis.title.text}=%{x}<br>%{yaxis.title.text}=%{y}<extra></extra>",
         "legendgroup": "Faroe Islands",
         "marker": {
          "color": "#35b779",
          "symbol": "circle"
         },
         "name": "Faroe Islands",
         "showlegend": true,
         "type": "splom"
        },
        {
         "dimensions": [
          {
           "axis": {
            "matches": true
           },
           "label": "year_pc",
           "values": [
            2000,
            2001,
            2002,
            2003,
            2004,
            2005,
            2006,
            2007,
            2008,
            2009,
            2010,
            2011,
            2012,
            2013,
            2014,
            2015,
            2016,
            2017,
            2018,
            2019,
            2020
           ]
          },
          {
           "axis": {
            "matches": true
           },
           "label": "total_kgs_CO2_9",
           "values": [
            63653040,
            53856360,
            56935800,
            49474080,
            52186136.04,
            49826032.92,
            56665080,
            44465760,
            41318640,
            37562400,
            31538880,
            37596240,
            27291960,
            29102400,
            33197040,
            33049908.59,
            25143712.2,
            29074083.2,
            30151440,
            31978800,
            30608280
           ]
          },
          {
           "axis": {
            "matches": true
           },
           "label": "Population",
           "values": [
            832509,
            841320,
            849891,
            858306,
            866694,
            874923,
            883083,
            890648,
            896731,
            901383,
            905169,
            908355,
            911059,
            913453,
            915560,
            917200,
            918371,
            919019,
            918996,
            918465,
            920422
           ]
          }
         ],
         "hovertemplate": "area=Fiji<br>%{xaxis.title.text}=%{x}<br>%{yaxis.title.text}=%{y}<extra></extra>",
         "legendgroup": "Fiji",
         "marker": {
          "color": "#6ece58",
          "symbol": "circle"
         },
         "name": "Fiji",
         "showlegend": true,
         "type": "splom"
        },
        {
         "dimensions": [
          {
           "axis": {
            "matches": true
           },
           "label": "year_pc",
           "values": [
            2000,
            2001,
            2002,
            2003,
            2004,
            2005,
            2006,
            2007,
            2008,
            2009,
            2010,
            2011,
            2012,
            2013,
            2014,
            2015,
            2016,
            2017,
            2018,
            2019,
            2020
           ]
          },
          {
           "axis": {
            "matches": true
           },
           "label": "total_kgs_CO2_9",
           "values": [
            744480,
            727560,
            795240,
            642960,
            676800,
            859466.628,
            692637.7968,
            489721.3128,
            340499.6028,
            406707.5628,
            394483.878,
            491467.7952,
            290131.3008,
            349519.824,
            433071.4608,
            423000,
            380700,
            406080,
            246774.816,
            340378.9632,
            292093.6824
           ]
          },
          {
           "axis": {
            "matches": true
           },
           "label": "Population",
           "values": [
            5176209,
            5188008,
            5200598,
            5213014,
            5228172,
            5246096,
            5266268,
            5288720,
            5313399,
            5338871,
            5363352,
            5388272,
            5413971,
            5438972,
            5461512,
            5479531,
            5495303,
            5508214,
            5515525,
            5521606,
            5529543
           ]
          }
         ],
         "hovertemplate": "area=Finland<br>%{xaxis.title.text}=%{x}<br>%{yaxis.title.text}=%{y}<extra></extra>",
         "legendgroup": "Finland",
         "marker": {
          "color": "#b5de2b",
          "symbol": "circle"
         },
         "name": "Finland",
         "showlegend": true,
         "type": "splom"
        },
        {
         "dimensions": [
          {
           "axis": {
            "matches": true
           },
           "label": "year_pc",
           "values": [
            2000,
            2001,
            2002,
            2003,
            2004,
            2005,
            2006,
            2007,
            2008,
            2009,
            2010,
            2011,
            2012,
            2013,
            2014,
            2015,
            2016,
            2017,
            2018,
            2019,
            2020
           ]
          },
          {
           "axis": {
            "matches": true
           },
           "label": "total_kgs_CO2_9",
           "values": [
            16571532.6,
            14805000,
            18535860,
            16285500,
            17173800,
            17469900,
            14568120,
            15160320,
            14656950,
            16676944.2,
            15851417.4,
            18579682.8,
            16382620.8,
            16569756,
            16756887.82,
            20105942.94,
            18154806.37,
            23790799.15,
            24211709.53,
            20155614.98,
            15640479.99
           ]
          },
          {
           "axis": {
            "matches": true
           },
           "label": "Population",
           "values": [
            61396998,
            61846621,
            62288130,
            62748235,
            63221092,
            63661713,
            64055920,
            64414583,
            64746420,
            65066707,
            65381691,
            65698590,
            66038315,
            66347706,
            66583533,
            66759124,
            66952831,
            67192844,
            67421853,
            67604228,
            67782185
           ]
          }
         ],
         "hovertemplate": "area=France<br>%{xaxis.title.text}=%{x}<br>%{yaxis.title.text}=%{y}<extra></extra>",
         "legendgroup": "France",
         "marker": {
          "color": "#fde725",
          "symbol": "circle"
         },
         "name": "France",
         "showlegend": true,
         "type": "splom"
        },
        {
         "dimensions": [
          {
           "axis": {
            "matches": true
           },
           "label": "year_pc",
           "values": [
            2000,
            2001,
            2002,
            2003,
            2004,
            2005,
            2006,
            2007,
            2008,
            2009,
            2010,
            2011,
            2012,
            2013,
            2014,
            2015,
            2016,
            2017,
            2018,
            2019,
            2020
           ]
          },
          {
           "axis": {
            "matches": true
           },
           "label": "total_kgs_CO2_9",
           "values": [
            54144,
            50760,
            50760,
            52452,
            50760,
            50760,
            50760,
            50760,
            50760,
            50760,
            50760,
            50760,
            59220,
            59220,
            59220,
            58413.2544,
            57951.6768,
            57943.386,
            59155.8732,
            59840.4564,
            60322.6764
           ]
          },
          {
           "axis": {
            "matches": true
           },
           "label": "Population",
           "values": [
            250927,
            255049,
            259137,
            263173,
            267132,
            271060,
            274901,
            278178,
            280558,
            282283,
            283788,
            285265,
            286584,
            288032,
            289873,
            291787,
            293541,
            295450,
            297606,
            299717,
            60921384
           ]
          }
         ],
         "hovertemplate": "area=French Polynesia<br>%{xaxis.title.text}=%{x}<br>%{yaxis.title.text}=%{y}<extra></extra>",
         "legendgroup": "French Polynesia",
         "marker": {
          "color": "#440154",
          "symbol": "circle"
         },
         "name": "French Polynesia",
         "showlegend": true,
         "type": "splom"
        },
        {
         "dimensions": [
          {
           "axis": {
            "matches": true
           },
           "label": "year_pc",
           "values": [
            2000,
            2001,
            2002,
            2003,
            2004,
            2005,
            2006,
            2007,
            2008,
            2009,
            2010,
            2011,
            2012,
            2013,
            2014,
            2015,
            2016,
            2017,
            2018,
            2019,
            2020
           ]
          },
          {
           "axis": {
            "matches": true
           },
           "label": "total_kgs_CO2_9",
           "values": [
            4100646.6,
            4088718,
            4094640,
            3314289.6,
            3314289.6,
            3653874,
            3739658.4,
            3826035,
            3826035,
            4176871.2,
            4285448.701,
            4716510.235,
            4715844.602,
            5045397.473,
            4866985.548,
            4843120.565,
            4871515.032,
            4982143.745,
            5079387.891,
            4975022.455,
            5009525.042
           ]
          },
          {
           "axis": {
            "matches": true
           },
           "label": "Population",
           "values": [
            1272935,
            1306590,
            1341696,
            1378398,
            1417110,
            1458353,
            1502534,
            1549774,
            1599978,
            1653542,
            1711105,
            1772500,
            1836705,
            1902226,
            1966855,
            2028517,
            2086206,
            2140215,
            2192012,
            2242785,
            2292573
           ]
          }
         ],
         "hovertemplate": "area=Gabon<br>%{xaxis.title.text}=%{x}<br>%{yaxis.title.text}=%{y}<extra></extra>",
         "legendgroup": "Gabon",
         "marker": {
          "color": "#482878",
          "symbol": "circle"
         },
         "name": "Gabon",
         "showlegend": true,
         "type": "splom"
        },
        {
         "dimensions": [
          {
           "axis": {
            "matches": true
           },
           "label": "year_pc",
           "values": [
            2000,
            2001,
            2002,
            2003,
            2004,
            2005,
            2006,
            2007,
            2008,
            2009,
            2010,
            2011,
            2012,
            2013,
            2014,
            2015,
            2016,
            2017,
            2018,
            2019,
            2020
           ]
          },
          {
           "axis": {
            "matches": true
           },
           "label": "total_kgs_CO2_9",
           "values": [
            0,
            0,
            0,
            0,
            0,
            0,
            0,
            0,
            0,
            0,
            0,
            0,
            0,
            0,
            0,
            0,
            0,
            0,
            0,
            0,
            0
           ]
          },
          {
           "axis": {
            "matches": true
           },
           "label": "Population",
           "values": [
            1437539,
            1479449,
            1522223,
            1566257,
            1612225,
            1660368,
            1711294,
            1764883,
            1820542,
            1878119,
            1937275,
            1998212,
            2061014,
            2124869,
            2189019,
            2253133,
            2317206,
            2381182,
            2444916,
            2508883,
            2573995
           ]
          }
         ],
         "hovertemplate": "area=Gambia<br>%{xaxis.title.text}=%{x}<br>%{yaxis.title.text}=%{y}<extra></extra>",
         "legendgroup": "Gambia",
         "marker": {
          "color": "#3e4989",
          "symbol": "circle"
         },
         "name": "Gambia",
         "showlegend": true,
         "type": "splom"
        },
        {
         "dimensions": [
          {
           "axis": {
            "matches": true
           },
           "label": "year_pc",
           "values": [
            2000,
            2001,
            2002,
            2003,
            2004,
            2005,
            2006,
            2007,
            2008,
            2009,
            2010,
            2011,
            2012,
            2013,
            2014,
            2015,
            2016,
            2017,
            2018,
            2019,
            2020
           ]
          },
          {
           "axis": {
            "matches": true
           },
           "label": "total_kgs_CO2_9",
           "values": [
            228.42,
            268.0128,
            228.42,
            114.21,
            0,
            0,
            0,
            0,
            0,
            59.3892,
            0,
            0,
            0,
            0,
            0,
            0.5076,
            0,
            0,
            0,
            0,
            0
           ]
          },
          {
           "axis": {
            "matches": true
           },
           "label": "Population",
           "values": [
            4077131,
            4014373,
            3978515,
            3951736,
            3927340,
            3902469,
            3880347,
            3860158,
            3848449,
            3814419,
            3786695,
            3756441,
            3728874,
            3717668,
            3719414,
            3725276,
            3727505,
            3728004,
            3726549,
            3720161,
            3722716
           ]
          }
         ],
         "hovertemplate": "area=Georgia<br>%{xaxis.title.text}=%{x}<br>%{yaxis.title.text}=%{y}<extra></extra>",
         "legendgroup": "Georgia",
         "marker": {
          "color": "#31688e",
          "symbol": "circle"
         },
         "name": "Georgia",
         "showlegend": true,
         "type": "splom"
        },
        {
         "dimensions": [
          {
           "axis": {
            "matches": true
           },
           "label": "year_pc",
           "values": [
            2000,
            2001,
            2002,
            2003,
            2004,
            2005,
            2006,
            2007,
            2008,
            2009,
            2010,
            2011,
            2012,
            2013,
            2014,
            2015,
            2016,
            2017,
            2018,
            2019,
            2020
           ]
          },
          {
           "axis": {
            "matches": true
           },
           "label": "total_kgs_CO2_9",
           "values": [
            14178960,
            13705200,
            14111280,
            14060520,
            15566400,
            13485240,
            11116440,
            12486960,
            12757680,
            12994560,
            12283920,
            13654440,
            12080880,
            11082600,
            13789800,
            9729000,
            11251800,
            14635800,
            13705200,
            13045477.36,
            12689143.85
           ]
          },
          {
           "axis": {
            "matches": true
           },
           "label": "Population",
           "values": [
            82211508,
            82349925,
            82488495,
            82534176,
            82516260,
            82469422,
            82376451,
            82266372,
            82110097,
            81902307,
            81776930,
            80274983,
            80425823,
            80645605,
            80982500,
            81686611,
            82348669,
            82657002,
            82905782,
            83092962,
            83160871
           ]
          }
         ],
         "hovertemplate": "area=Germany<br>%{xaxis.title.text}=%{x}<br>%{yaxis.title.text}=%{y}<extra></extra>",
         "legendgroup": "Germany",
         "marker": {
          "color": "#26828e",
          "symbol": "circle"
         },
         "name": "Germany",
         "showlegend": true,
         "type": "splom"
        },
        {
         "dimensions": [
          {
           "axis": {
            "matches": true
           },
           "label": "year_pc",
           "values": [
            2000,
            2001,
            2002,
            2003,
            2004,
            2005,
            2006,
            2007,
            2008,
            2009,
            2010,
            2011,
            2012,
            2013,
            2014,
            2015,
            2016,
            2017,
            2018,
            2019,
            2020
           ]
          },
          {
           "axis": {
            "matches": true
           },
           "label": "total_kgs_CO2_9",
           "values": [
            2368800,
            2368800,
            2368800,
            2368800,
            2368800,
            2368800,
            2368800,
            2453400,
            2453400,
            2453400,
            2453400,
            2453400,
            2504160,
            2538000,
            2521080,
            2531161.613,
            2548501.567,
            2565159.476,
            2590405.132,
            2587057.679,
            2595996.684
           ]
          },
          {
           "axis": {
            "matches": true
           },
           "label": "Population",
           "values": [
            19665502,
            20195577,
            20758326,
            21329514,
            21906444,
            22496951,
            23098586,
            23708320,
            24326087,
            24950762,
            25574719,
            26205941,
            26858762,
            27525597,
            28196358,
            28870939,
            29554303,
            30222262,
            30870641,
            31522290,
            32180401
           ]
          }
         ],
         "hovertemplate": "area=Ghana<br>%{xaxis.title.text}=%{x}<br>%{yaxis.title.text}=%{y}<extra></extra>",
         "legendgroup": "Ghana",
         "marker": {
          "color": "#1f9e89",
          "symbol": "circle"
         },
         "name": "Ghana",
         "showlegend": true,
         "type": "splom"
        },
        {
         "dimensions": [
          {
           "axis": {
            "matches": true
           },
           "label": "year_pc",
           "values": [
            2000,
            2001,
            2002,
            2003,
            2004,
            2005,
            2006,
            2007,
            2008,
            2009,
            2010,
            2011,
            2012,
            2013,
            2014,
            2015,
            2016,
            2017,
            2018,
            2019,
            2020
           ]
          },
          {
           "axis": {
            "matches": true
           },
           "label": "total_kgs_CO2_9",
           "values": [
            2470320,
            2368800,
            2239362,
            1488960,
            1607400,
            2064240,
            1065960,
            541440,
            609120,
            1015200,
            541440,
            236880,
            338400,
            219960,
            270720,
            169200,
            203040,
            236880,
            84600,
            67680,
            67680
           ]
          },
          {
           "axis": {
            "matches": true
           },
           "label": "Population",
           "values": [
            10805808,
            10862132,
            10902022,
            10928070,
            10955141,
            10987314,
            11020362,
            11048473,
            11077841,
            11107017,
            11121341,
            11104899,
            11045011,
            10965211,
            10892413,
            10820883,
            10775971,
            10754679,
            10732882,
            10721582,
            10698599
           ]
          }
         ],
         "hovertemplate": "area=Greece<br>%{xaxis.title.text}=%{x}<br>%{yaxis.title.text}=%{y}<extra></extra>",
         "legendgroup": "Greece",
         "marker": {
          "color": "#35b779",
          "symbol": "circle"
         },
         "name": "Greece",
         "showlegend": true,
         "type": "splom"
        },
        {
         "dimensions": [
          {
           "axis": {
            "matches": true
           },
           "label": "year_pc",
           "values": [
            2000,
            2001,
            2002,
            2003,
            2004,
            2005,
            2006,
            2007,
            2008,
            2009,
            2010,
            2011,
            2012,
            2013,
            2014,
            2015,
            2016,
            2017,
            2018,
            2019,
            2020
           ]
          },
          {
           "axis": {
            "matches": true
           },
           "label": "total_kgs_CO2_9",
           "values": [
            113364,
            114210,
            114210,
            115056,
            115056,
            115056,
            121824,
            121824,
            121824,
            121824,
            121824,
            121824,
            121824,
            121824,
            122737.5108,
            123770.8152,
            124184.0016,
            109957.4964,
            97971.7068,
            82197.36,
            55531.44
           ]
          },
          {
           "axis": {
            "matches": true
           },
           "label": "Population",
           "values": [
            107432,
            107936,
            108231,
            108740,
            109516,
            110254,
            110988,
            111725,
            112478,
            113249,
            114039,
            114918,
            115912,
            116945,
            117972,
            118980,
            119966,
            120921,
            121838,
            122724,
            123663
           ]
          }
         ],
         "hovertemplate": "area=Grenada<br>%{xaxis.title.text}=%{x}<br>%{yaxis.title.text}=%{y}<extra></extra>",
         "legendgroup": "Grenada",
         "marker": {
          "color": "#6ece58",
          "symbol": "circle"
         },
         "name": "Grenada",
         "showlegend": true,
         "type": "splom"
        },
        {
         "dimensions": [
          {
           "axis": {
            "matches": true
           },
           "label": "year_pc",
           "values": [
            2000,
            2001,
            2002,
            2003,
            2004,
            2005,
            2006,
            2007,
            2008,
            2009,
            2010,
            2011,
            2012,
            2013,
            2014,
            2015,
            2016,
            2017,
            2018,
            2019,
            2020
           ]
          },
          {
           "axis": {
            "matches": true
           },
           "label": "total_kgs_CO2_9",
           "values": [
            287917488,
            294947748,
            305759628,
            305710560,
            350616240,
            312151885.6,
            305258643.8,
            351859369.3,
            351983054.5,
            372730832.3,
            387569723.1,
            356566682.5,
            423385826.8,
            468012292.9,
            575048805.1,
            586177935.1,
            579860142.4,
            450968455.4,
            480449914.2,
            517450248.7,
            479528197.2
           ]
          },
          {
           "axis": {
            "matches": true
           },
           "label": "Population",
           "values": [
            11589761,
            11871565,
            12147518,
            12415334,
            12682108,
            12948292,
            13213330,
            13477017,
            13739299,
            14000190,
            14259687,
            14521515,
            14781942,
            15043981,
            15306316,
            15567419,
            15827690,
            16087418,
            16346950,
            16604026,
            16858333
           ]
          }
         ],
         "hovertemplate": "area=Guatemala<br>%{xaxis.title.text}=%{x}<br>%{yaxis.title.text}=%{y}<extra></extra>",
         "legendgroup": "Guatemala",
         "marker": {
          "color": "#b5de2b",
          "symbol": "circle"
         },
         "name": "Guatemala",
         "showlegend": true,
         "type": "splom"
        },
        {
         "dimensions": [
          {
           "axis": {
            "matches": true
           },
           "label": "year_pc",
           "values": [
            2000,
            2001,
            2002,
            2003,
            2004,
            2005,
            2006,
            2007,
            2008,
            2009,
            2010,
            2011,
            2012,
            2013,
            2014,
            2015,
            2016,
            2017,
            2018,
            2019,
            2020
           ]
          },
          {
           "axis": {
            "matches": true
           },
           "label": "total_kgs_CO2_9",
           "values": [
            4775670,
            4775670,
            4775670,
            4953330,
            4953330,
            4953330,
            4970250,
            5004090,
            5004090,
            5004090,
            5004176.292,
            5004130.439,
            5207216.292,
            5291816.292,
            5282722.638,
            5370058.94,
            5395624.722,
            5436566.892,
            5556533.753,
            5550377.073,
            5565275.979
           ]
          },
          {
           "axis": {
            "matches": true
           },
           "label": "Population",
           "values": [
            8336967,
            8445717,
            8577790,
            8772254,
            8961039,
            9140114,
            9330625,
            9547082,
            9779785,
            10021323,
            10270728,
            10527712,
            10788692,
            11055430,
            11333365,
            11625998,
            11930985,
            12240789,
            12554864,
            12877539,
            13205153
           ]
          }
         ],
         "hovertemplate": "area=Guinea<br>%{xaxis.title.text}=%{x}<br>%{yaxis.title.text}=%{y}<extra></extra>",
         "legendgroup": "Guinea",
         "marker": {
          "color": "#fde725",
          "symbol": "circle"
         },
         "name": "Guinea",
         "showlegend": true,
         "type": "splom"
        },
        {
         "dimensions": [
          {
           "axis": {
            "matches": true
           },
           "label": "year_pc",
           "values": [
            2000,
            2001,
            2002,
            2003,
            2004,
            2005,
            2006,
            2007,
            2008,
            2009,
            2010,
            2011,
            2012,
            2013,
            2014,
            2015,
            2016,
            2017,
            2018,
            2019,
            2020
           ]
          },
          {
           "axis": {
            "matches": true
           },
           "label": "total_kgs_CO2_9",
           "values": [
            93060,
            93060,
            93060,
            93060,
            93060,
            93060,
            93060,
            93060,
            101520,
            101520,
            106596,
            106596,
            107442,
            107442,
            109033.1568,
            111913.6176,
            112983.9768,
            114303.3984,
            116777.2716,
            114688.1592,
            115256.3328
           ]
          },
          {
           "axis": {
            "matches": true
           },
           "label": "Population",
           "values": [
            1230849,
            1257380,
            1285678,
            1315653,
            1347009,
            1379713,
            1414091,
            1450572,
            1488431,
            1527196,
            1567220,
            1609017,
            1652717,
            1697753,
            1743309,
            1788919,
            1834552,
            1879826,
            1924955,
            1970457,
            2015828
           ]
          }
         ],
         "hovertemplate": "area=Guinea-Bissau<br>%{xaxis.title.text}=%{x}<br>%{yaxis.title.text}=%{y}<extra></extra>",
         "legendgroup": "Guinea-Bissau",
         "marker": {
          "color": "#440154",
          "symbol": "circle"
         },
         "name": "Guinea-Bissau",
         "showlegend": true,
         "type": "splom"
        },
        {
         "dimensions": [
          {
           "axis": {
            "matches": true
           },
           "label": "year_pc",
           "values": [
            2000,
            2001,
            2002,
            2003,
            2004,
            2005,
            2006,
            2007,
            2008,
            2009,
            2010,
            2011,
            2012,
            2013,
            2014,
            2015,
            2016,
            2017,
            2018,
            2019,
            2020
           ]
          },
          {
           "axis": {
            "matches": true
           },
           "label": "total_kgs_CO2_9",
           "values": [
            47793924,
            55142280,
            64955880,
            59380740,
            65686824,
            52820856,
            52232040,
            54384264,
            48856500,
            49084920,
            48806467.56,
            56316917.16,
            47678191.2,
            42845517.72,
            49863933.72,
            49839831.18,
            41741558.78,
            32808509.42,
            21902858.78,
            20120401.08,
            21778645.68
           ]
          },
          {
           "axis": {
            "matches": true
           },
           "label": "Population",
           "values": [
            759051,
            759809,
            760323,
            760562,
            760424,
            759709,
            758367,
            756521,
            754150,
            751258,
            747932,
            744230,
            743966,
            747420,
            751115,
            755031,
            759087,
            763252,
            785514,
            798753,
            797202
           ]
          }
         ],
         "hovertemplate": "area=Guyana<br>%{xaxis.title.text}=%{x}<br>%{yaxis.title.text}=%{y}<extra></extra>",
         "legendgroup": "Guyana",
         "marker": {
          "color": "#482878",
          "symbol": "circle"
         },
         "name": "Guyana",
         "showlegend": true,
         "type": "splom"
        },
        {
         "dimensions": [
          {
           "axis": {
            "matches": true
           },
           "label": "year_pc",
           "values": [
            2000,
            2001,
            2002,
            2003,
            2004,
            2005,
            2006,
            2007,
            2008,
            2009,
            2010,
            2011,
            2012,
            2013,
            2014,
            2015,
            2016,
            2017,
            2018,
            2019,
            2020
           ]
          },
          {
           "axis": {
            "matches": true
           },
           "label": "total_kgs_CO2_9",
           "values": [
            13647672,
            17116272,
            10126620,
            10270440,
            17884440,
            17884440,
            18307440,
            18730440,
            18899640,
            18899640,
            20762978.69,
            21975981.95,
            24114231.72,
            25304418.36,
            25916532.02,
            25588055.26,
            25504390.76,
            25555044.33,
            25295863.95,
            25088901.38,
            24961802.07
           ]
          },
          {
           "axis": {
            "matches": true
           },
           "label": "Population",
           "values": [
            8360225,
            8511728,
            8661546,
            8812245,
            8961489,
            9111900,
            9266288,
            9420826,
            9575247,
            9730638,
            9842880,
            9954312,
            10108539,
            10261206,
            10412740,
            10563757,
            10713849,
            10863543,
            11012421,
            11160438,
            11306801
           ]
          }
         ],
         "hovertemplate": "area=Haiti<br>%{xaxis.title.text}=%{x}<br>%{yaxis.title.text}=%{y}<extra></extra>",
         "legendgroup": "Haiti",
         "marker": {
          "color": "#3e4989",
          "symbol": "circle"
         },
         "name": "Haiti",
         "showlegend": true,
         "type": "splom"
        },
        {
         "dimensions": [
          {
           "axis": {
            "matches": true
           },
           "label": "year_pc",
           "values": [
            2000,
            2001,
            2002,
            2003,
            2004,
            2005,
            2006,
            2007,
            2008,
            2009,
            2010,
            2011,
            2012,
            2013,
            2014,
            2015,
            2016,
            2017,
            2018,
            2019,
            2020
           ]
          },
          {
           "axis": {
            "matches": true
           },
           "label": "total_kgs_CO2_9",
           "values": [
            69608880,
            71774640,
            64143720,
            93072740.76,
            94850982,
            97500654,
            96579360,
            105308557.2,
            106286685.5,
            119207152.8,
            77815080,
            76258440,
            86782680,
            90364644,
            94584492,
            90992376,
            93923359.92,
            94580583.48,
            96867008.46,
            94904516.88,
            88412981.22
           ]
          },
          {
           "axis": {
            "matches": true
           },
           "label": "Population",
           "values": [
            6656725,
            6837861,
            7019908,
            7201881,
            7383407,
            7564613,
            7745200,
            7924462,
            8101777,
            8277302,
            8450933,
            8622504,
            8792367,
            8960657,
            9127846,
            9294505,
            9460798,
            9626842,
            9792850,
            9958829,
            10121763
           ]
          }
         ],
         "hovertemplate": "area=Honduras<br>%{xaxis.title.text}=%{x}<br>%{yaxis.title.text}=%{y}<extra></extra>",
         "legendgroup": "Honduras",
         "marker": {
          "color": "#31688e",
          "symbol": "circle"
         },
         "name": "Honduras",
         "showlegend": true,
         "type": "splom"
        },
        {
         "dimensions": [
          {
           "axis": {
            "matches": true
           },
           "label": "year_pc",
           "values": [
            2000,
            2001,
            2002,
            2003,
            2004,
            2005,
            2006,
            2007,
            2008,
            2009,
            2010,
            2011,
            2012,
            2013,
            2014,
            2015,
            2016,
            2017,
            2018,
            2019,
            2020
           ]
          },
          {
           "axis": {
            "matches": true
           },
           "label": "total_kgs_CO2_9",
           "values": [
            0,
            0,
            0,
            0,
            0,
            0,
            0,
            0,
            0,
            0,
            0,
            0,
            0,
            0,
            0,
            0,
            0,
            0,
            0,
            0,
            0
           ]
          },
          {
           "axis": {
            "matches": true
           },
           "label": "Population",
           "values": [
            6665000,
            6714300,
            6744100,
            6730800,
            6783500,
            6813200,
            6857100,
            6916300,
            6957800,
            6972800,
            7024200,
            7071600,
            7150100,
            7178900,
            7229500,
            7291300,
            7336600,
            7393200,
            7452600,
            7507900,
            7481000
           ]
          }
         ],
         "hovertemplate": "area=China, Hong Kong SAR<br>%{xaxis.title.text}=%{x}<br>%{yaxis.title.text}=%{y}<extra></extra>",
         "legendgroup": "China, Hong Kong SAR",
         "marker": {
          "color": "#26828e",
          "symbol": "circle"
         },
         "name": "China, Hong Kong SAR",
         "showlegend": true,
         "type": "splom"
        },
        {
         "dimensions": [
          {
           "axis": {
            "matches": true
           },
           "label": "year_pc",
           "values": [
            2000,
            2001,
            2002,
            2003,
            2004,
            2005,
            2006,
            2007,
            2008,
            2009,
            2010,
            2011,
            2012,
            2013,
            2014,
            2015,
            2016,
            2017,
            2018,
            2019,
            2020
           ]
          },
          {
           "axis": {
            "matches": true
           },
           "label": "total_kgs_CO2_9",
           "values": [
            1488960,
            2131920,
            1590480,
            1235160,
            2250360,
            1928880,
            1353600,
            964440,
            253800,
            439920,
            439920,
            439920,
            423000,
            473760,
            473760,
            473760,
            592200,
            592200,
            473760,
            473760,
            456840
           ]
          },
          {
           "axis": {
            "matches": true
           },
           "label": "Population",
           "values": [
            10210971,
            10187576,
            10158608,
            10129552,
            10107146,
            10087065,
            10071370,
            10055780,
            10038188,
            10022650,
            10000023,
            9971727,
            9920362,
            9893082,
            9866468,
            9843028,
            9814023,
            9787966,
            9775564,
            9771141,
            9750149
           ]
          }
         ],
         "hovertemplate": "area=Hungary<br>%{xaxis.title.text}=%{x}<br>%{yaxis.title.text}=%{y}<extra></extra>",
         "legendgroup": "Hungary",
         "marker": {
          "color": "#1f9e89",
          "symbol": "circle"
         },
         "name": "Hungary",
         "showlegend": true,
         "type": "splom"
        },
        {
         "dimensions": [
          {
           "axis": {
            "matches": true
           },
           "label": "year_pc",
           "values": [
            2000,
            2001,
            2002,
            2003,
            2004,
            2005,
            2006,
            2007,
            2008,
            2009,
            2010,
            2011,
            2012,
            2013,
            2014,
            2015,
            2016,
            2017,
            2018,
            2019,
            2020
           ]
          },
          {
           "axis": {
            "matches": true
           },
           "label": "total_kgs_CO2_9",
           "values": [
            0,
            0,
            0,
            0,
            0,
            0,
            0,
            0,
            0,
            0,
            0,
            0,
            0,
            0,
            0,
            0,
            0,
            0,
            0,
            0,
            0
           ]
          },
          {
           "axis": {
            "matches": true
           },
           "label": "Population",
           "values": [
            281205,
            284968,
            287523,
            289521,
            292074,
            296734,
            303782,
            311566,
            317414,
            318499,
            318041,
            319014,
            320716,
            323764,
            327386,
            330815,
            335439,
            343400,
            352721,
            360563,
            366463
           ]
          }
         ],
         "hovertemplate": "area=Iceland<br>%{xaxis.title.text}=%{x}<br>%{yaxis.title.text}=%{y}<extra></extra>",
         "legendgroup": "Iceland",
         "marker": {
          "color": "#35b779",
          "symbol": "circle"
         },
         "name": "Iceland",
         "showlegend": true,
         "type": "splom"
        },
        {
         "dimensions": [
          {
           "axis": {
            "matches": true
           },
           "label": "year_pc",
           "values": [
            2000,
            2001,
            2002,
            2003,
            2004,
            2005,
            2006,
            2007,
            2008,
            2009,
            2010,
            2011,
            2012,
            2013,
            2014,
            2015,
            2016,
            2017,
            2018,
            2019,
            2020
           ]
          },
          {
           "axis": {
            "matches": true
           },
           "label": "total_kgs_CO2_9",
           "values": [
            5200292628,
            5139889920,
            5165351136,
            5012756424,
            4056854087,
            4104832608,
            4902092856,
            6236859204,
            6082755228,
            4933352556,
            5087871072,
            5978716178,
            6308402040,
            5971812480,
            6142366418,
            6341869800,
            6079711320,
            5331407400,
            6665936191,
            7098214104,
            6457100076
           ]
          },
          {
           "axis": {
            "matches": true
           },
           "label": "Population",
           "values": [
            1059633675,
            1078970907,
            1098313039,
            1117415123,
            1136264583,
            1154638713,
            1172373788,
            1189691809,
            1206734806,
            1223640160,
            1240613620,
            1257621191,
            1274487215,
            1291132063,
            1307246509,
            1322866505,
            1338636340,
            1354195680,
            1369003306,
            1383112050,
            1396387127
           ]
          }
         ],
         "hovertemplate": "area=India<br>%{xaxis.title.text}=%{x}<br>%{yaxis.title.text}=%{y}<extra></extra>",
         "legendgroup": "India",
         "marker": {
          "color": "#6ece58",
          "symbol": "circle"
         },
         "name": "India",
         "showlegend": true,
         "type": "splom"
        },
        {
         "dimensions": [
          {
           "axis": {
            "matches": true
           },
           "label": "year_pc",
           "values": [
            2000,
            2001,
            2002,
            2003,
            2004,
            2005,
            2006,
            2007,
            2008,
            2009,
            2010,
            2011,
            2012,
            2013,
            2014,
            2015,
            2016,
            2017,
            2018,
            2019,
            2020
           ]
          },
          {
           "axis": {
            "matches": true
           },
           "label": "total_kgs_CO2_9",
           "values": [
            421511040,
            445469760,
            451797840,
            432644400,
            474250680,
            518868720,
            517024440,
            451341000,
            457466040,
            470782080,
            472068000,
            428922000,
            514368000,
            506415600,
            482558400,
            480866400,
            495079200,
            494233200,
            520120800,
            513945000,
            515806200
           ]
          },
          {
           "axis": {
            "matches": true
           },
           "label": "Population",
           "values": [
            214072421,
            217112437,
            220115092,
            223080121,
            225938595,
            228805144,
            231797427,
            234858289,
            237936543,
            240981299,
            244016173,
            247099697,
            250222695,
            253275918,
            256229761,
            259091970,
            261850182,
            264498852,
            267066843,
            269582878,
            271857970
           ]
          }
         ],
         "hovertemplate": "area=Indonesia<br>%{xaxis.title.text}=%{x}<br>%{yaxis.title.text}=%{y}<extra></extra>",
         "legendgroup": "Indonesia",
         "marker": {
          "color": "#b5de2b",
          "symbol": "circle"
         },
         "name": "Indonesia",
         "showlegend": true,
         "type": "splom"
        },
        {
         "dimensions": [
          {
           "axis": {
            "matches": true
           },
           "label": "year_pc",
           "values": [
            2000,
            2001,
            2002,
            2003,
            2004,
            2005,
            2006,
            2007,
            2008,
            2009,
            2010,
            2011,
            2012,
            2013,
            2014,
            2015,
            2016,
            2017,
            2018,
            2019,
            2020
           ]
          },
          {
           "axis": {
            "matches": true
           },
           "label": "total_kgs_CO2_9",
           "values": [
            46885573.8,
            60750092.52,
            71443502.06,
            97729920,
            110166060.8,
            102762351,
            93641895.72,
            97405479,
            69062067.9,
            51840903.74,
            102654168.2,
            103283860.3,
            97786853.77,
            117963275.3,
            119941296.7,
            132348070.8,
            134084333.5,
            138184337.2,
            162435485.5,
            134683200,
            143143403
           ]
          },
          {
           "axis": {
            "matches": true
           },
           "label": "Population",
           "values": [
            65544383,
            66674851,
            67327117,
            67954699,
            69061674,
            70182594,
            71275760,
            72319418,
            73318394,
            74322685,
            75373855,
            76342971,
            77324451,
            78458928,
            79961672,
            81790841,
            83306231,
            84505076,
            85617562,
            86564202,
            87290193
           ]
          }
         ],
         "hovertemplate": "area=Iran (Islamic Republic of)<br>%{xaxis.title.text}=%{x}<br>%{yaxis.title.text}=%{y}<extra></extra>",
         "legendgroup": "Iran (Islamic Republic of)",
         "marker": {
          "color": "#fde725",
          "symbol": "circle"
         },
         "name": "Iran (Islamic Republic of)",
         "showlegend": true,
         "type": "splom"
        },
        {
         "dimensions": [
          {
           "axis": {
            "matches": true
           },
           "label": "year_pc",
           "values": [
            2000,
            2001,
            2002,
            2003,
            2004,
            2005,
            2006,
            2007,
            2008,
            2009,
            2010,
            2011,
            2012,
            2013,
            2014,
            2015,
            2016,
            2017,
            2018,
            2019,
            2020
           ]
          },
          {
           "axis": {
            "matches": true
           },
           "label": "total_kgs_CO2_9",
           "values": [
            1111644,
            1111644,
            1184400,
            0,
            0,
            0,
            0,
            0,
            65460.096,
            110437.5168,
            220311.2592,
            190571.8212,
            176717.3868,
            144653.1408,
            154577.3976,
            214975.7064,
            206276.4576,
            124313.778,
            1444.122,
            1261.8936,
            1257.8328
           ]
          },
          {
           "axis": {
            "matches": true
           },
           "label": "Population",
           "values": [
            24628858,
            25425663,
            26255343,
            27068823,
            27858948,
            28698684,
            28905607,
            28660887,
            29218381,
            30289040,
            31264875,
            32378061,
            33864447,
            35481800,
            36746488,
            37757813,
            38697943,
            39621162,
            40590700,
            41563520,
            42556984
           ]
          }
         ],
         "hovertemplate": "area=Iraq<br>%{xaxis.title.text}=%{x}<br>%{yaxis.title.text}=%{y}<extra></extra>",
         "legendgroup": "Iraq",
         "marker": {
          "color": "#440154",
          "symbol": "circle"
         },
         "name": "Iraq",
         "showlegend": true,
         "type": "splom"
        },
        {
         "dimensions": [
          {
           "axis": {
            "matches": true
           },
           "label": "year_pc",
           "values": [
            2000,
            2001,
            2002,
            2003,
            2004,
            2005,
            2006,
            2007,
            2008,
            2009,
            2010,
            2011,
            2012,
            2013,
            2014,
            2015,
            2016,
            2017,
            2018,
            2019,
            2020
           ]
          },
          {
           "axis": {
            "matches": true
           },
           "label": "total_kgs_CO2_9",
           "values": [
            879840,
            862920,
            693720,
            761400,
            879840,
            744480,
            0,
            0,
            0,
            0,
            0,
            0,
            0,
            0,
            54990,
            50421.6,
            46614.6,
            48898.8,
            51922.9116,
            72.756,
            6.2604
           ]
          },
          {
           "axis": {
            "matches": true
           },
           "label": "Population",
           "values": [
            3805174,
            3866243,
            3931947,
            3996521,
            4070262,
            4159914,
            4273591,
            4398942,
            4489544,
            4535375,
            4560155,
            4580084,
            4599533,
            4623816,
            4657740,
            4701957,
            4755335,
            4807388,
            4867316,
            4934340,
            4985382
           ]
          }
         ],
         "hovertemplate": "area=Ireland<br>%{xaxis.title.text}=%{x}<br>%{yaxis.title.text}=%{y}<extra></extra>",
         "legendgroup": "Ireland",
         "marker": {
          "color": "#482878",
          "symbol": "circle"
         },
         "name": "Ireland",
         "showlegend": true,
         "type": "splom"
        },
        {
         "dimensions": [
          {
           "axis": {
            "matches": true
           },
           "label": "year_pc",
           "values": [
            2000,
            2001,
            2002,
            2003,
            2004,
            2005,
            2006,
            2007,
            2008,
            2009,
            2010,
            2011,
            2012,
            2013,
            2014,
            2015,
            2016,
            2017,
            2018,
            2019,
            2020
           ]
          },
          {
           "axis": {
            "matches": true
           },
           "label": "total_kgs_CO2_9",
           "values": [
            0,
            0,
            0,
            0,
            0,
            0,
            0,
            0,
            0,
            0,
            0,
            0,
            0,
            0,
            0,
            0,
            0,
            0,
            0,
            0,
            0
           ]
          },
          {
           "axis": {
            "matches": true
           },
           "label": "Population",
           "values": [
            6289000,
            6439000,
            6570000,
            6689700,
            6809000,
            6930100,
            7053700,
            7180100,
            7308800,
            7485600,
            7623600,
            7765800,
            7910500,
            8059500,
            8215700,
            8380100,
            8546000,
            8713300,
            8882800,
            9054000,
            9215100
           ]
          }
         ],
         "hovertemplate": "area=Israel<br>%{xaxis.title.text}=%{x}<br>%{yaxis.title.text}=%{y}<extra></extra>",
         "legendgroup": "Israel",
         "marker": {
          "color": "#3e4989",
          "symbol": "circle"
         },
         "name": "Israel",
         "showlegend": true,
         "type": "splom"
        },
        {
         "dimensions": [
          {
           "axis": {
            "matches": true
           },
           "label": "year_pc",
           "values": [
            2000,
            2001,
            2002,
            2003,
            2004,
            2005,
            2006,
            2007,
            2008,
            2009,
            2010,
            2011,
            2012,
            2013,
            2014,
            2015,
            2016,
            2017,
            2018,
            2019,
            2020
           ]
          },
          {
           "axis": {
            "matches": true
           },
           "label": "total_kgs_CO2_9",
           "values": [
            8460000,
            7157160,
            7850880,
            5008320,
            6446520,
            10152000,
            3654720,
            3739320,
            2554920,
            2707200,
            2453400,
            1945800,
            1742760,
            1455120,
            2115000,
            1353600,
            1675080,
            2030400,
            1522800,
            1387440,
            1263599.982
           ]
          },
          {
           "axis": {
            "matches": true
           },
           "label": "Population",
           "values": [
            56942108,
            56974100,
            57059007,
            57313203,
            57685327,
            57969484,
            58143979,
            58438310,
            58826731,
            59095365,
            59277417,
            59379449,
            59539717,
            60233948,
            60789140,
            60730582,
            60627498,
            60536709,
            60421760,
            59729081,
            59438851
           ]
          }
         ],
         "hovertemplate": "area=Italy<br>%{xaxis.title.text}=%{x}<br>%{yaxis.title.text}=%{y}<extra></extra>",
         "legendgroup": "Italy",
         "marker": {
          "color": "#31688e",
          "symbol": "circle"
         },
         "name": "Italy",
         "showlegend": true,
         "type": "splom"
        },
        {
         "dimensions": [
          {
           "axis": {
            "matches": true
           },
           "label": "year_pc",
           "values": [
            2000,
            2001,
            2002,
            2003,
            2004,
            2005,
            2006,
            2007,
            2008,
            2009,
            2010,
            2011,
            2012,
            2013,
            2014,
            2015,
            2016,
            2017,
            2018,
            2019,
            2020
           ]
          },
          {
           "axis": {
            "matches": true
           },
           "label": "total_kgs_CO2_9",
           "values": [
            35554503.6,
            39201948,
            34603988.76,
            31273760.52,
            35057969.28,
            24189288.84,
            30772843.92,
            34616712.6,
            29011945.68,
            23512032,
            24498704.88,
            26704006.92,
            25927632.72,
            24660544.68,
            31319698.32,
            27757666.08,
            19950287.4,
            20070504,
            17992728,
            13098871.8,
            9263750.76
           ]
          },
          {
           "axis": {
            "matches": true
           },
           "label": "Population",
           "values": [
            2612205,
            2625405,
            2638244,
            2651027,
            2664024,
            2676863,
            2689660,
            2701221,
            2711373,
            2722401,
            2733896,
            2746169,
            2759817,
            2773129,
            2784543,
            2794445,
            2802695,
            2808376,
            2811835,
            2813773,
            2820436
           ]
          }
         ],
         "hovertemplate": "area=Jamaica<br>%{xaxis.title.text}=%{x}<br>%{yaxis.title.text}=%{y}<extra></extra>",
         "legendgroup": "Jamaica",
         "marker": {
          "color": "#26828e",
          "symbol": "circle"
         },
         "name": "Jamaica",
         "showlegend": true,
         "type": "splom"
        },
        {
         "dimensions": [
          {
           "axis": {
            "matches": true
           },
           "label": "year_pc",
           "values": [
            2000,
            2001,
            2002,
            2003,
            2004,
            2005,
            2006,
            2007,
            2008,
            2009,
            2010,
            2011,
            2012,
            2013,
            2014,
            2015,
            2016,
            2017,
            2018,
            2019,
            2020
           ]
          },
          {
           "axis": {
            "matches": true
           },
           "label": "total_kgs_CO2_9",
           "values": [
            25549200,
            27258120,
            24297120,
            25380000,
            21809880,
            22232880,
            23806440,
            26987400,
            28662480,
            27241200,
            26429040,
            18189000,
            20100960,
            21606840,
            21048480,
            22842000,
            27901080,
            23298840,
            21674520,
            21133080,
            23823360
           ]
          },
          {
           "axis": {
            "matches": true
           },
           "label": "Population",
           "values": [
            126843000,
            127149000,
            127445000,
            127718000,
            127761000,
            127773000,
            127854000,
            128001000,
            128063000,
            128047000,
            128070000,
            127833000,
            127629000,
            127445000,
            127276000,
            127141000,
            127076000,
            126972000,
            126811000,
            126633000,
            126261000
           ]
          }
         ],
         "hovertemplate": "area=Japan<br>%{xaxis.title.text}=%{x}<br>%{yaxis.title.text}=%{y}<extra></extra>",
         "legendgroup": "Japan",
         "marker": {
          "color": "#1f9e89",
          "symbol": "circle"
         },
         "name": "Japan",
         "showlegend": true,
         "type": "splom"
        },
        {
         "dimensions": [
          {
           "axis": {
            "matches": true
           },
           "label": "year_pc",
           "values": [
            2000,
            2001,
            2002,
            2003,
            2004,
            2005,
            2006,
            2007,
            2008,
            2009,
            2010,
            2011,
            2012,
            2013,
            2014,
            2015,
            2016,
            2017,
            2018,
            2019,
            2020
           ]
          },
          {
           "axis": {
            "matches": true
           },
           "label": "total_kgs_CO2_9",
           "values": [
            0,
            0,
            0,
            0,
            0,
            0,
            0,
            0,
            0,
            0,
            0,
            0,
            0,
            0,
            0,
            0,
            0,
            0,
            0,
            0,
            0
           ]
          },
          {
           "axis": {
            "matches": true
           },
           "label": "Population",
           "values": [
            5056174,
            5163310,
            5275532,
            5396117,
            5532423,
            5678534,
            6075548,
            6473457,
            6632873,
            6780493,
            6931258,
            7109980,
            7211863,
            7694814,
            8658026,
            9494246,
            9964656,
            10215381,
            10459865,
            10698683,
            10928721
           ]
          }
         ],
         "hovertemplate": "area=Jordan<br>%{xaxis.title.text}=%{x}<br>%{yaxis.title.text}=%{y}<extra></extra>",
         "legendgroup": "Jordan",
         "marker": {
          "color": "#35b779",
          "symbol": "circle"
         },
         "name": "Jordan",
         "showlegend": true,
         "type": "splom"
        },
        {
         "dimensions": [
          {
           "axis": {
            "matches": true
           },
           "label": "year_pc",
           "values": [
            2000,
            2001,
            2002,
            2003,
            2004,
            2005,
            2006,
            2007,
            2008,
            2009,
            2010,
            2011,
            2012,
            2013,
            2014,
            2015,
            2016,
            2017,
            2018,
            2019,
            2020
           ]
          },
          {
           "axis": {
            "matches": true
           },
           "label": "total_kgs_CO2_9",
           "values": [
            162110.52,
            307098,
            353628,
            372815.28,
            265407.12,
            272412,
            161890.56,
            124531.2,
            74718.72,
            93398.4,
            80945.28,
            155664,
            99624.96,
            82831.86,
            67894.3764,
            109886.2632,
            254660.0436,
            332099.838,
            469849.9572,
            362002.7232,
            316284.3756
           ]
          },
          {
           "axis": {
            "matches": true
           },
           "label": "Population",
           "values": [
            14883626,
            14858335,
            14858948,
            14909019,
            15012984,
            15147029,
            15308085,
            15484192,
            15776938,
            16092822,
            16321872,
            16557202,
            16792090,
            17035551,
            17288285,
            17542806,
            17794055,
            18037776,
            18276452,
            18513673,
            18755666
           ]
          }
         ],
         "hovertemplate": "area=Kazakhstan<br>%{xaxis.title.text}=%{x}<br>%{yaxis.title.text}=%{y}<extra></extra>",
         "legendgroup": "Kazakhstan",
         "marker": {
          "color": "#6ece58",
          "symbol": "circle"
         },
         "name": "Kazakhstan",
         "showlegend": true,
         "type": "splom"
        },
        {
         "dimensions": [
          {
           "axis": {
            "matches": true
           },
           "label": "year_pc",
           "values": [
            2000,
            2001,
            2002,
            2003,
            2004,
            2005,
            2006,
            2007,
            2008,
            2009,
            2010,
            2011,
            2012,
            2013,
            2014,
            2015,
            2016,
            2017,
            2018,
            2019,
            2020
           ]
          },
          {
           "axis": {
            "matches": true
           },
           "label": "total_kgs_CO2_9",
           "values": [
            69059386.08,
            62397440.64,
            78684141.96,
            73366050.6,
            81097475.4,
            83463314.4,
            85713995.88,
            90322580.88,
            88728480,
            97335717.84,
            99973275.12,
            93573369.72,
            102348470.9,
            116895627,
            112516798.7,
            125373646.8,
            123424953.5,
            85303956.6,
            94788496.44,
            83688012,
            121246994.2
           ]
          },
          {
           "axis": {
            "matches": true
           },
           "label": "Population",
           "values": [
            30851606,
            31800343,
            32779823,
            33767122,
            34791836,
            35843010,
            36925253,
            38036793,
            39186895,
            40364444,
            41517895,
            42635144,
            43725806,
            44792368,
            45831863,
            46851488,
            47894670,
            48948137,
            49953304,
            50951450,
            51985780
           ]
          }
         ],
         "hovertemplate": "area=Kenya<br>%{xaxis.title.text}=%{x}<br>%{yaxis.title.text}=%{y}<extra></extra>",
         "legendgroup": "Kenya",
         "marker": {
          "color": "#b5de2b",
          "symbol": "circle"
         },
         "name": "Kenya",
         "showlegend": true,
         "type": "splom"
        },
        {
         "dimensions": [
          {
           "axis": {
            "matches": true
           },
           "label": "year_pc",
           "values": [
            2000,
            2001,
            2002,
            2003,
            2004,
            2005,
            2006,
            2007,
            2008,
            2009,
            2010,
            2011,
            2012,
            2013,
            2014,
            2015,
            2016,
            2017,
            2018,
            2019,
            2020
           ]
          },
          {
           "axis": {
            "matches": true
           },
           "label": "total_kgs_CO2_9",
           "values": [
            0,
            0,
            0,
            0,
            0,
            0,
            0,
            0,
            0,
            0,
            0,
            0,
            0,
            0,
            0,
            0,
            0,
            0,
            0,
            0,
            0
           ]
          },
          {
           "axis": {
            "matches": true
           },
           "label": "Population",
           "values": [
            88826,
            90531,
            92400,
            94302,
            96224,
            98164,
            100083,
            101998,
            103966,
            105996,
            107995,
            109871,
            111618,
            113311,
            114985,
            116707,
            118513,
            120362,
            122261,
            124241,
            126463
           ]
          }
         ],
         "hovertemplate": "area=Kiribati<br>%{xaxis.title.text}=%{x}<br>%{yaxis.title.text}=%{y}<extra></extra>",
         "legendgroup": "Kiribati",
         "marker": {
          "color": "#fde725",
          "symbol": "circle"
         },
         "name": "Kiribati",
         "showlegend": true,
         "type": "splom"
        },
        {
         "dimensions": [
          {
           "axis": {
            "matches": true
           },
           "label": "year_pc",
           "values": [
            2000,
            2001,
            2002,
            2003,
            2004,
            2005,
            2006,
            2007,
            2008,
            2009,
            2010,
            2011,
            2012,
            2013,
            2014,
            2015,
            2016,
            2017,
            2018,
            2019,
            2020
           ]
          },
          {
           "axis": {
            "matches": true
           },
           "label": "total_kgs_CO2_9",
           "values": [
            0,
            0,
            0,
            0,
            0,
            0,
            0,
            0,
            0,
            0,
            0,
            0,
            0,
            0,
            0,
            0,
            0,
            0,
            0,
            0,
            0
           ]
          },
          {
           "axis": {
            "matches": true
           },
           "label": "Population",
           "values": [
            23367059,
            23512522,
            23638411,
            23781707,
            23948930,
            24100982,
            24235761,
            24356506,
            24469047,
            24581509,
            24686435,
            24783789,
            24887770,
            25001819,
            25126131,
            25258015,
            25389611,
            25516321,
            25638149,
            25755441,
            25867467
           ]
          }
         ],
         "hovertemplate": "area=Democratic People's Republic of Korea<br>%{xaxis.title.text}=%{x}<br>%{yaxis.title.text}=%{y}<extra></extra>",
         "legendgroup": "Democratic People's Republic of Korea",
         "marker": {
          "color": "#440154",
          "symbol": "circle"
         },
         "name": "Democratic People's Republic of Korea",
         "showlegend": true,
         "type": "splom"
        },
        {
         "dimensions": [
          {
           "axis": {
            "matches": true
           },
           "label": "year_pc",
           "values": [
            2000,
            2001,
            2002,
            2003,
            2004,
            2005,
            2006,
            2007,
            2008,
            2009,
            2010,
            2011,
            2012,
            2013,
            2014,
            2015,
            2016,
            2017,
            2018,
            2019,
            2020
           ]
          },
          {
           "axis": {
            "matches": true
           },
           "label": "total_kgs_CO2_9",
           "values": [
            0,
            0,
            0,
            0,
            0,
            0,
            0,
            0,
            0,
            0,
            0,
            0,
            0,
            0,
            0,
            0,
            0,
            0,
            0,
            0,
            0
           ]
          },
          {
           "axis": {
            "matches": true
           },
           "label": "Population",
           "values": [
            47008111,
            47370164,
            47644736,
            47892330,
            48082519,
            48184561,
            48438292,
            48683638,
            49054708,
            49307835,
            49554112,
            49936638,
            50199853,
            50428893,
            50746659,
            51014947,
            51217803,
            51361911,
            51585058,
            51764822,
            51836239
           ]
          }
         ],
         "hovertemplate": "area=Republic of Korea<br>%{xaxis.title.text}=%{x}<br>%{yaxis.title.text}=%{y}<extra></extra>",
         "legendgroup": "Republic of Korea",
         "marker": {
          "color": "#482878",
          "symbol": "circle"
         },
         "name": "Republic of Korea",
         "showlegend": true,
         "type": "splom"
        },
        {
         "dimensions": [
          {
           "axis": {
            "matches": true
           },
           "label": "year_pc",
           "values": [
            2000,
            2001,
            2002,
            2003,
            2004,
            2005,
            2006,
            2007,
            2008,
            2009,
            2010,
            2011,
            2012,
            2013,
            2014,
            2015,
            2016,
            2017,
            2018,
            2019,
            2020
           ]
          },
          {
           "axis": {
            "matches": true
           },
           "label": "total_kgs_CO2_9",
           "values": [
            0,
            0,
            0,
            0,
            0,
            0,
            0,
            0,
            0,
            0,
            0,
            0,
            0,
            0,
            0,
            0,
            0,
            0,
            0,
            0,
            0
           ]
          },
          {
           "axis": {
            "matches": true
           },
           "label": "Population",
           "values": [
            1934901,
            1991674,
            2047364,
            2101506,
            2153481,
            2235403,
            2363409,
            2506769,
            2650930,
            2795550,
            2943356,
            3143825,
            3394663,
            3646518,
            3761584,
            3908743,
            4048085,
            4124904,
            4317185,
            4441100,
            4360444
           ]
          }
         ],
         "hovertemplate": "area=Kuwait<br>%{xaxis.title.text}=%{x}<br>%{yaxis.title.text}=%{y}<extra></extra>",
         "legendgroup": "Kuwait",
         "marker": {
          "color": "#3e4989",
          "symbol": "circle"
         },
         "name": "Kuwait",
         "showlegend": true,
         "type": "splom"
        },
        {
         "dimensions": [
          {
           "axis": {
            "matches": true
           },
           "label": "year_pc",
           "values": [
            2000,
            2001,
            2002,
            2003,
            2004,
            2005,
            2006,
            2007,
            2008,
            2009,
            2010,
            2011,
            2012,
            2013,
            2014,
            2015,
            2016,
            2017,
            2018,
            2019,
            2020
           ]
          },
          {
           "axis": {
            "matches": true
           },
           "label": "total_kgs_CO2_9",
           "values": [
            325739.1024,
            196106.184,
            363551.4108,
            516117.8664,
            496248.5412,
            173134.5768,
            150017.9652,
            178361.6724,
            74242.5912,
            40910.022,
            105435.7956,
            120319.4736,
            94752,
            148004.316,
            153485.8884,
            135040.212,
            371222.7696,
            550126.5588,
            671440.7592,
            546514.1388,
            281279.9412
           ]
          },
          {
           "axis": {
            "matches": true
           },
           "label": "Population",
           "values": [
            4898400,
            4945100,
            4990700,
            5043300,
            5104700,
            5162600,
            5218400,
            5268400,
            5318700,
            5383300,
            5447900,
            5514600,
            5607200,
            5719600,
            5835500,
            5956900,
            6079500,
            6198200,
            6322800,
            6456200,
            6579900
           ]
          }
         ],
         "hovertemplate": "area=Kyrgyzstan<br>%{xaxis.title.text}=%{x}<br>%{yaxis.title.text}=%{y}<extra></extra>",
         "legendgroup": "Kyrgyzstan",
         "marker": {
          "color": "#31688e",
          "symbol": "circle"
         },
         "name": "Kyrgyzstan",
         "showlegend": true,
         "type": "splom"
        },
        {
         "dimensions": [
          {
           "axis": {
            "matches": true
           },
           "label": "year_pc",
           "values": [
            2000,
            2001,
            2002,
            2003,
            2004,
            2005,
            2006,
            2007,
            2008,
            2009,
            2010,
            2011,
            2012,
            2013,
            2014,
            2015,
            2016,
            2017,
            2018,
            2019,
            2020
           ]
          },
          {
           "axis": {
            "matches": true
           },
           "label": "total_kgs_CO2_9",
           "values": [
            5024563.2,
            3533742,
            3756849.12,
            5218415.64,
            3778236,
            3318858,
            3696681.6,
            5491386,
            7066299.6,
            7363584,
            14152395.6,
            21015274.5,
            18193060.8,
            15165226.8,
            32726843.69,
            35929150.3,
            35932442.93,
            31338336.04,
            32610280.63,
            26513424.78,
            25860700.76
           ]
          },
          {
           "axis": {
            "matches": true
           },
           "label": "Population",
           "values": [
            5430853,
            5519707,
            5606101,
            5689065,
            5768167,
            5852970,
            5946593,
            6041348,
            6135861,
            6229930,
            6323418,
            6416327,
            6508803,
            6600742,
            6691454,
            6787419,
            6891363,
            6997917,
            7105006,
            7212053,
            7319399
           ]
          }
         ],
         "hovertemplate": "area=Lao People's Democratic Republic<br>%{xaxis.title.text}=%{x}<br>%{yaxis.title.text}=%{y}<extra></extra>",
         "legendgroup": "Lao People's Democratic Republic",
         "marker": {
          "color": "#26828e",
          "symbol": "circle"
         },
         "name": "Lao People's Democratic Republic",
         "showlegend": true,
         "type": "splom"
        },
        {
         "dimensions": [
          {
           "axis": {
            "matches": true
           },
           "label": "year_pc",
           "values": [
            2000,
            2001,
            2002,
            2003,
            2004,
            2005,
            2006,
            2007,
            2008,
            2009,
            2010,
            2011,
            2012,
            2013,
            2014,
            2015,
            2016,
            2017,
            2018,
            2019,
            2020
           ]
          },
          {
           "axis": {
            "matches": true
           },
           "label": "total_kgs_CO2_9",
           "values": [
            355320,
            304560,
            355320,
            439920,
            372240,
            321480,
            270720,
            0,
            0,
            0,
            0,
            0,
            0,
            0,
            0,
            0,
            0,
            0,
            0,
            0,
            0
           ]
          },
          {
           "axis": {
            "matches": true
           },
           "label": "Population",
           "values": [
            2367550,
            2337170,
            2310173,
            2287955,
            2263122,
            2238799,
            2218357,
            2200325,
            2177322,
            2141669,
            2097555,
            2059709,
            2034319,
            2012647,
            1993782,
            1977527,
            1959537,
            1942248,
            1927174,
            1913822,
            1900449
           ]
          }
         ],
         "hovertemplate": "area=Latvia<br>%{xaxis.title.text}=%{x}<br>%{yaxis.title.text}=%{y}<extra></extra>",
         "legendgroup": "Latvia",
         "marker": {
          "color": "#1f9e89",
          "symbol": "circle"
         },
         "name": "Latvia",
         "showlegend": true,
         "type": "splom"
        },
        {
         "dimensions": [
          {
           "axis": {
            "matches": true
           },
           "label": "year_pc",
           "values": [
            2000,
            2001,
            2002,
            2003,
            2004,
            2005,
            2006,
            2007,
            2008,
            2009,
            2010,
            2011,
            2012,
            2013,
            2014,
            2015,
            2016,
            2017,
            2018,
            2019,
            2020
           ]
          },
          {
           "axis": {
            "matches": true
           },
           "label": "total_kgs_CO2_9",
           "values": [
            299340.18,
            10660.2768,
            0,
            0,
            32584.8744,
            43552.08,
            26649,
            28171.8,
            23527.26,
            0,
            0,
            0,
            0,
            0,
            0,
            0,
            0,
            0,
            0,
            0,
            0
           ]
          },
          {
           "axis": {
            "matches": true
           },
           "label": "Population",
           "values": [
            4320642,
            4389200,
            4446666,
            4504807,
            4574797,
            4643044,
            4719864,
            4809608,
            4887613,
            4951135,
            4995800,
            5045056,
            5178337,
            5678851,
            6274342,
            6398940,
            6258619,
            6109252,
            5950839,
            5781907,
            5662923
           ]
          }
         ],
         "hovertemplate": "area=Lebanon<br>%{xaxis.title.text}=%{x}<br>%{yaxis.title.text}=%{y}<extra></extra>",
         "legendgroup": "Lebanon",
         "marker": {
          "color": "#35b779",
          "symbol": "circle"
         },
         "name": "Lebanon",
         "showlegend": true,
         "type": "splom"
        },
        {
         "dimensions": [
          {
           "axis": {
            "matches": true
           },
           "label": "year_pc",
           "values": [
            2000,
            2001,
            2002,
            2003,
            2004,
            2005,
            2006,
            2007,
            2008,
            2009,
            2010,
            2011,
            2012,
            2013,
            2014,
            2015,
            2016,
            2017,
            2018,
            2019,
            2020
           ]
          },
          {
           "axis": {
            "matches": true
           },
           "label": "total_kgs_CO2_9",
           "values": [
            0,
            0,
            0,
            0,
            0,
            0,
            0,
            0,
            0,
            0,
            0,
            0,
            0,
            0,
            0,
            0,
            0,
            0,
            0,
            0,
            0
           ]
          },
          {
           "axis": {
            "matches": true
           },
           "label": "Population",
           "values": [
            1998630,
            1999473,
            1997534,
            1993030,
            1985384,
            1977424,
            1976780,
            1983465,
            1995014,
            2009169,
            2022747,
            2037677,
            2054718,
            2073939,
            2095242,
            2118521,
            2143872,
            2170617,
            2198017,
            2225702,
            2254100
           ]
          }
         ],
         "hovertemplate": "area=Lesotho<br>%{xaxis.title.text}=%{x}<br>%{yaxis.title.text}=%{y}<extra></extra>",
         "legendgroup": "Lesotho",
         "marker": {
          "color": "#6ece58",
          "symbol": "circle"
         },
         "name": "Lesotho",
         "showlegend": true,
         "type": "splom"
        },
        {
         "dimensions": [
          {
           "axis": {
            "matches": true
           },
           "label": "year_pc",
           "values": [
            2000,
            2001,
            2002,
            2003,
            2004,
            2005,
            2006,
            2007,
            2008,
            2009,
            2010,
            2011,
            2012,
            2013,
            2014,
            2015,
            2016,
            2017,
            2018,
            2019,
            2020
           ]
          },
          {
           "axis": {
            "matches": true
           },
           "label": "total_kgs_CO2_9",
           "values": [
            4263501.6,
            4348101.6,
            4348101.6,
            4348101.6,
            4348101.6,
            4348101.6,
            4348101.6,
            4520178,
            4520178,
            4520178,
            4520232.99,
            4520232.99,
            4520232.99,
            4520232.99,
            4532973.919,
            4597961.948,
            4636931.246,
            4661400.272,
            4666282.2,
            4676891.717,
            4692150.172
           ]
          },
          {
           "axis": {
            "matches": true
           },
           "label": "Population",
           "values": [
            2895224,
            2981648,
            3060599,
            3085173,
            3122447,
            3266318,
            3455397,
            3632740,
            3783887,
            3905066,
            4019956,
            4181150,
            4331740,
            4427313,
            4519398,
            4612329,
            4706097,
            4796631,
            4889391,
            4985289,
            5087584
           ]
          }
         ],
         "hovertemplate": "area=Liberia<br>%{xaxis.title.text}=%{x}<br>%{yaxis.title.text}=%{y}<extra></extra>",
         "legendgroup": "Liberia",
         "marker": {
          "color": "#b5de2b",
          "symbol": "circle"
         },
         "name": "Liberia",
         "showlegend": true,
         "type": "splom"
        },
        {
         "dimensions": [
          {
           "axis": {
            "matches": true
           },
           "label": "year_pc",
           "values": [
            2000,
            2001,
            2002,
            2003,
            2004,
            2005,
            2006,
            2007,
            2008,
            2009,
            2010,
            2011,
            2012,
            2013,
            2014,
            2015,
            2016,
            2017,
            2018,
            2019,
            2020
           ]
          },
          {
           "axis": {
            "matches": true
           },
           "label": "total_kgs_CO2_9",
           "values": [
            0,
            0,
            0,
            0,
            0,
            0,
            0,
            0,
            0,
            0,
            0,
            0,
            0,
            0,
            0,
            0,
            0,
            0,
            0,
            0,
            0
           ]
          },
          {
           "axis": {
            "matches": true
           },
           "label": "Population",
           "values": [
            5154790,
            5275916,
            5405326,
            5542641,
            5687563,
            5837986,
            5973369,
            6097177,
            6228370,
            6360191,
            6491988,
            6188132,
            5869870,
            5985221,
            6097764,
            6192235,
            6282196,
            6378261,
            6477793,
            6569088,
            6653942
           ]
          }
         ],
         "hovertemplate": "area=Libya<br>%{xaxis.title.text}=%{x}<br>%{yaxis.title.text}=%{y}<extra></extra>",
         "legendgroup": "Libya",
         "marker": {
          "color": "#fde725",
          "symbol": "circle"
         },
         "name": "Libya",
         "showlegend": true,
         "type": "splom"
        },
        {
         "dimensions": [
          {
           "axis": {
            "matches": true
           },
           "label": "year_pc",
           "values": [
            2000,
            2001,
            2002,
            2003,
            2004,
            2005,
            2006,
            2007,
            2008,
            2009,
            2010,
            2011,
            2012,
            2013,
            2014,
            2015,
            2016,
            2017,
            2018,
            2019,
            2020
           ]
          },
          {
           "axis": {
            "matches": true
           },
           "label": "total_kgs_CO2_9",
           "values": [
            626040,
            693720,
            693720,
            795240,
            688644,
            590508,
            472068,
            507600,
            219960,
            423000,
            507600,
            575280,
            642960,
            592200,
            558360,
            423000,
            507600,
            541440,
            541440,
            541440,
            558360
           ]
          },
          {
           "axis": {
            "matches": true
           },
           "label": "Population",
           "values": [
            3499536,
            3470818,
            3443067,
            3415213,
            3377075,
            3322528,
            3269909,
            3231294,
            3198231,
            3162916,
            3097282,
            3028115,
            2987773,
            2957689,
            2932367,
            2904910,
            2868231,
            2828403,
            2801543,
            2794137,
            2794885
           ]
          }
         ],
         "hovertemplate": "area=Lithuania<br>%{xaxis.title.text}=%{x}<br>%{yaxis.title.text}=%{y}<extra></extra>",
         "legendgroup": "Lithuania",
         "marker": {
          "color": "#440154",
          "symbol": "circle"
         },
         "name": "Lithuania",
         "showlegend": true,
         "type": "splom"
        },
        {
         "dimensions": [
          {
           "axis": {
            "matches": true
           },
           "label": "year_pc",
           "values": [
            2000,
            2001,
            2002,
            2003,
            2004,
            2005,
            2006,
            2007,
            2008,
            2009,
            2010,
            2011,
            2012,
            2013,
            2014,
            2015,
            2016,
            2017,
            2018,
            2019,
            2020
           ]
          },
          {
           "axis": {
            "matches": true
           },
           "label": "total_kgs_CO2_9",
           "values": [
            0,
            0,
            0,
            0,
            0,
            0,
            0,
            0,
            0,
            0,
            0,
            0,
            0,
            0,
            0,
            0,
            0,
            0,
            0,
            0,
            0
           ]
          },
          {
           "axis": {
            "matches": true
           },
           "label": "Population",
           "values": [
            436300,
            441525,
            446175,
            451630,
            458095,
            465158,
            472637,
            479993,
            488650,
            497783,
            506953,
            518347,
            530946,
            543360,
            556319,
            569604,
            582014,
            596336,
            607950,
            620001,
            630419
           ]
          }
         ],
         "hovertemplate": "area=Luxembourg<br>%{xaxis.title.text}=%{x}<br>%{yaxis.title.text}=%{y}<extra></extra>",
         "legendgroup": "Luxembourg",
         "marker": {
          "color": "#482878",
          "symbol": "circle"
         },
         "name": "Luxembourg",
         "showlegend": true,
         "type": "splom"
        },
        {
         "dimensions": [
          {
           "axis": {
            "matches": true
           },
           "label": "year_pc",
           "values": [
            2000,
            2001,
            2002,
            2003,
            2004,
            2005,
            2006,
            2007,
            2008,
            2009,
            2010,
            2011,
            2012,
            2013,
            2014,
            2015,
            2016,
            2017,
            2018,
            2019,
            2020
           ]
          },
          {
           "axis": {
            "matches": true
           },
           "label": "total_kgs_CO2_9",
           "values": [
            0,
            0,
            0,
            0,
            0,
            0,
            0,
            0,
            0,
            0,
            0,
            0,
            0,
            0,
            0,
            0,
            0,
            0,
            0,
            0,
            0
           ]
          },
          {
           "axis": {
            "matches": true
           },
           "label": "Population",
           "values": [
            431896,
            439122,
            449665,
            462533,
            475529,
            488619,
            501863,
            515330,
            529038,
            543021,
            557297,
            571003,
            582766,
            593374,
            604167,
            615239,
            626688,
            638609,
            650991,
            663653,
            676283
           ]
          }
         ],
         "hovertemplate": "area=China, Macao SAR<br>%{xaxis.title.text}=%{x}<br>%{yaxis.title.text}=%{y}<extra></extra>",
         "legendgroup": "China, Macao SAR",
         "marker": {
          "color": "#3e4989",
          "symbol": "circle"
         },
         "name": "China, Macao SAR",
         "showlegend": true,
         "type": "splom"
        },
        {
         "dimensions": [
          {
           "axis": {
            "matches": true
           },
           "label": "year_pc",
           "values": [
            2000,
            2001,
            2002,
            2003,
            2004,
            2005,
            2006,
            2007,
            2008,
            2009,
            2010,
            2011,
            2012,
            2013,
            2014,
            2015,
            2016,
            2017,
            2018,
            2019,
            2020
           ]
          },
          {
           "axis": {
            "matches": true
           },
           "label": "total_kgs_CO2_9",
           "values": [
            37606899.6,
            37823814,
            37941408,
            38002320,
            37816200,
            41746022.28,
            45665134.2,
            44110440,
            42401520,
            50895360,
            49365017.06,
            47615959.44,
            48538116.36,
            49326402.24,
            50395433.22,
            51378879.46,
            52183818,
            52982377.7,
            53898118.56,
            53060916.96,
            53325085.54
           ]
          },
          {
           "axis": {
            "matches": true
           },
           "label": "Population",
           "values": [
            16216431,
            16709665,
            17211934,
            17724310,
            18250774,
            18792171,
            19350299,
            19924958,
            20513599,
            21117092,
            21731053,
            22348158,
            22966240,
            23588073,
            24215976,
            24850912,
            25501941,
            26169542,
            26846541,
            27533134,
            28225177
           ]
          }
         ],
         "hovertemplate": "area=Madagascar<br>%{xaxis.title.text}=%{x}<br>%{yaxis.title.text}=%{y}<extra></extra>",
         "legendgroup": "Madagascar",
         "marker": {
          "color": "#31688e",
          "symbol": "circle"
         },
         "name": "Madagascar",
         "showlegend": true,
         "type": "splom"
        },
        {
         "dimensions": [
          {
           "axis": {
            "matches": true
           },
           "label": "year_pc",
           "values": [
            2000,
            2001,
            2002,
            2003,
            2004,
            2005,
            2006,
            2007,
            2008,
            2009,
            2010,
            2011,
            2012,
            2013,
            2014,
            2015,
            2016,
            2017,
            2018,
            2019,
            2020
           ]
          },
          {
           "axis": {
            "matches": true
           },
           "label": "total_kgs_CO2_9",
           "values": [
            37037880,
            38679120,
            45311760,
            36834840,
            36885600,
            42130800,
            43027560,
            43907400,
            48298140,
            45663696,
            47291400,
            47291400,
            54245520,
            56005200,
            56842740,
            56162536.88,
            52381250.88,
            48060773.89,
            50625498.69,
            50265155.99,
            53394835.87
           ]
          },
          {
           "axis": {
            "matches": true
           },
           "label": "Population",
           "values": [
            11229387,
            11498818,
            11784498,
            12087965,
            12411342,
            12755648,
            13118307,
            13495463,
            13889423,
            14298932,
            14718422,
            15146094,
            15581251,
            16024775,
            16477966,
            16938942,
            17405624,
            17881167,
            18367883,
            18867337,
            19377061
           ]
          }
         ],
         "hovertemplate": "area=Malawi<br>%{xaxis.title.text}=%{x}<br>%{yaxis.title.text}=%{y}<extra></extra>",
         "legendgroup": "Malawi",
         "marker": {
          "color": "#26828e",
          "symbol": "circle"
         },
         "name": "Malawi",
         "showlegend": true,
         "type": "splom"
        },
        {
         "dimensions": [
          {
           "axis": {
            "matches": true
           },
           "label": "year_pc",
           "values": [
            2000,
            2001,
            2002,
            2003,
            2004,
            2005,
            2006,
            2007,
            2008,
            2009,
            2010,
            2011,
            2012,
            2013,
            2014,
            2015,
            2016,
            2017,
            2018,
            2019,
            2020
           ]
          },
          {
           "axis": {
            "matches": true
           },
           "label": "total_kgs_CO2_9",
           "values": [
            19322640,
            17647560,
            17469900,
            11446380,
            8883000,
            8857620,
            7884720,
            8992980,
            8629200,
            6158880,
            3649644,
            3546161.28,
            2760734.88,
            1842337.246,
            357807.24,
            524823.714,
            485424.648,
            521066.1204,
            406499.616,
            358510.4352,
            408654.0396
           ]
          },
          {
           "axis": {
            "matches": true
           },
           "label": "Population",
           "values": [
            22945150,
            23542517,
            24142445,
            24739411,
            25333247,
            25923536,
            26509413,
            27092604,
            27664296,
            28217204,
            28717731,
            29184133,
            29660212,
            30134807,
            30606459,
            31068833,
            31526418,
            31975806,
            32399271,
            32804020,
            33199993
           ]
          }
         ],
         "hovertemplate": "area=Malaysia<br>%{xaxis.title.text}=%{x}<br>%{yaxis.title.text}=%{y}<extra></extra>",
         "legendgroup": "Malaysia",
         "marker": {
          "color": "#1f9e89",
          "symbol": "circle"
         },
         "name": "Malaysia",
         "showlegend": true,
         "type": "splom"
        },
        {
         "dimensions": [
          {
           "axis": {
            "matches": true
           },
           "label": "year_pc",
           "values": [
            2000,
            2001,
            2002,
            2003,
            2004,
            2005,
            2006,
            2007,
            2008,
            2009,
            2010,
            2011,
            2012,
            2013,
            2014,
            2015,
            2016,
            2017,
            2018,
            2019,
            2020
           ]
          },
          {
           "axis": {
            "matches": true
           },
           "label": "total_kgs_CO2_9",
           "values": [
            0,
            0,
            0,
            0,
            0,
            0,
            0,
            0,
            0,
            0,
            0,
            0,
            0,
            0,
            0,
            0,
            0,
            0,
            0,
            0,
            0
           ]
          },
          {
           "axis": {
            "matches": true
           },
           "label": "Population",
           "values": [
            282507,
            287324,
            292284,
            297226,
            302135,
            307018,
            314401,
            325126,
            336883,
            349037,
            361575,
            374440,
            387539,
            400728,
            416738,
            435582,
            454252,
            472442,
            489758,
            504508,
            514438
           ]
          }
         ],
         "hovertemplate": "area=Maldives<br>%{xaxis.title.text}=%{x}<br>%{yaxis.title.text}=%{y}<extra></extra>",
         "legendgroup": "Maldives",
         "marker": {
          "color": "#35b779",
          "symbol": "circle"
         },
         "name": "Maldives",
         "showlegend": true,
         "type": "splom"
        },
        {
         "dimensions": [
          {
           "axis": {
            "matches": true
           },
           "label": "year_pc",
           "values": [
            2000,
            2001,
            2002,
            2003,
            2004,
            2005,
            2006,
            2007,
            2008,
            2009,
            2010,
            2011,
            2012,
            2013,
            2014,
            2015,
            2016,
            2017,
            2018,
            2019,
            2020
           ]
          },
          {
           "axis": {
            "matches": true
           },
           "label": "total_kgs_CO2_9",
           "values": [
            5498864.64,
            5015680.2,
            5855775.12,
            5911848,
            6120623.88,
            6058578.24,
            5619961.08,
            6007361.4,
            6321312,
            6608952,
            6260400,
            6243480,
            6734160,
            5865994.8,
            6287893.308,
            6389669.308,
            8431021.116,
            9326911.428,
            10304098.96,
            11437920,
            11437920
           ]
          },
          {
           "axis": {
            "matches": true
           },
           "label": "Population",
           "values": [
            11239101,
            11583824,
            11952660,
            12342165,
            12751995,
            13180551,
            13623541,
            14080912,
            14551117,
            15032635,
            15529181,
            16039734,
            16514687,
            17004033,
            17551814,
            18112907,
            18700106,
            19311355,
            19934298,
            20567424,
            21224040
           ]
          }
         ],
         "hovertemplate": "area=Mali<br>%{xaxis.title.text}=%{x}<br>%{yaxis.title.text}=%{y}<extra></extra>",
         "legendgroup": "Mali",
         "marker": {
          "color": "#6ece58",
          "symbol": "circle"
         },
         "name": "Mali",
         "showlegend": true,
         "type": "splom"
        },
        {
         "dimensions": [
          {
           "axis": {
            "matches": true
           },
           "label": "year_pc",
           "values": [
            2000,
            2001,
            2002,
            2003,
            2004,
            2005,
            2006,
            2007,
            2008,
            2009,
            2010,
            2011,
            2012,
            2013,
            2014,
            2015,
            2016,
            2017,
            2018,
            2019,
            2020
           ]
          },
          {
           "axis": {
            "matches": true
           },
           "label": "total_kgs_CO2_9",
           "values": [
            0,
            0,
            0,
            0,
            0,
            0,
            0,
            0,
            0,
            0,
            0,
            0,
            0,
            0,
            0,
            0,
            0,
            0,
            0,
            0,
            0
           ]
          },
          {
           "axis": {
            "matches": true
           },
           "label": "Population",
           "values": [
            390087,
            393028,
            395969,
            398582,
            401268,
            403834,
            405308,
            406724,
            409379,
            412477,
            414508,
            416268,
            420028,
            425967,
            434558,
            445053,
            455356,
            467999,
            484630,
            504062,
            515332
           ]
          }
         ],
         "hovertemplate": "area=Malta<br>%{xaxis.title.text}=%{x}<br>%{yaxis.title.text}=%{y}<extra></extra>",
         "legendgroup": "Malta",
         "marker": {
          "color": "#b5de2b",
          "symbol": "circle"
         },
         "name": "Malta",
         "showlegend": true,
         "type": "splom"
        },
        {
         "dimensions": [
          {
           "axis": {
            "matches": true
           },
           "label": "year_pc",
           "values": [
            2000,
            2001,
            2002,
            2003,
            2004,
            2005,
            2006,
            2007,
            2008,
            2009,
            2010,
            2011,
            2012,
            2013,
            2014,
            2015,
            2016,
            2017,
            2018,
            2019,
            2020
           ]
          },
          {
           "axis": {
            "matches": true
           },
           "label": "total_kgs_CO2_9",
           "values": [
            0,
            0,
            0,
            0,
            0,
            0,
            0,
            0,
            0,
            0,
            0,
            0,
            0,
            0,
            0,
            0,
            0,
            0,
            0,
            0,
            0
           ]
          },
          {
           "axis": {
            "matches": true
           },
           "label": "Population",
           "values": [
            54224,
            54413,
            54496,
            54493,
            54435,
            54337,
            54208,
            54038,
            53816,
            53593,
            53416,
            52971,
            52203,
            51352,
            50419,
            49410,
            48329,
            47187,
            45989,
            44728,
            43413
           ]
          }
         ],
         "hovertemplate": "area=Marshall Islands<br>%{xaxis.title.text}=%{x}<br>%{yaxis.title.text}=%{y}<extra></extra>",
         "legendgroup": "Marshall Islands",
         "marker": {
          "color": "#fde725",
          "symbol": "circle"
         },
         "name": "Marshall Islands",
         "showlegend": true,
         "type": "splom"
        },
        {
         "dimensions": [
          {
           "axis": {
            "matches": true
           },
           "label": "year_pc",
           "values": [
            2000,
            2001,
            2002,
            2003,
            2004,
            2005,
            2006,
            2007,
            2008,
            2009,
            2010,
            2011,
            2012,
            2013,
            2014,
            2015,
            2016,
            2017,
            2018,
            2019,
            2020
           ]
          },
          {
           "axis": {
            "matches": true
           },
           "label": "total_kgs_CO2_9",
           "values": [
            0,
            0,
            0,
            0,
            0,
            0,
            0,
            0,
            0,
            0,
            0,
            0,
            0,
            0,
            0,
            0,
            0,
            0,
            0,
            0,
            0
           ]
          },
          {
           "axis": {
            "matches": true
           },
           "label": "Population",
           "values": [
            2695003,
            2761823,
            2821703,
            2883326,
            2946575,
            3012360,
            3081229,
            3153508,
            3233336,
            3322616,
            3419461,
            3524249,
            3636113,
            3742959,
            3843174,
            3946220,
            4051890,
            4160015,
            4270712,
            4383849,
            4498604
           ]
          }
         ],
         "hovertemplate": "area=Mauritania<br>%{xaxis.title.text}=%{x}<br>%{yaxis.title.text}=%{y}<extra></extra>",
         "legendgroup": "Mauritania",
         "marker": {
          "color": "#440154",
          "symbol": "circle"
         },
         "name": "Mauritania",
         "showlegend": true,
         "type": "splom"
        },
        {
         "dimensions": [
          {
           "axis": {
            "matches": true
           },
           "label": "year_pc",
           "values": [
            2000,
            2001,
            2002,
            2003,
            2004,
            2005,
            2006,
            2007,
            2008,
            2009,
            2010,
            2011,
            2012,
            2013,
            2014,
            2015,
            2016,
            2017,
            2018,
            2019,
            2020
           ]
          },
          {
           "axis": {
            "matches": true
           },
           "label": "total_kgs_CO2_9",
           "values": [
            88889676.84,
            100951403.4,
            84848960.88,
            90681471,
            91979370.36,
            86791529.16,
            82715010.48,
            73885680.72,
            79153671.96,
            81466466.76,
            76298168.16,
            73919283.84,
            68905278.72,
            66705120.36,
            70774041.96,
            69782005.44,
            66266300.16,
            64690760.52,
            55055377.02,
            59308830,
            45783388.08
           ]
          },
          {
           "axis": {
            "matches": true
           },
           "label": "Population",
           "values": [
            1186873,
            1196287,
            1204621,
            1213370,
            1221003,
            1228254,
            1233996,
            1239630,
            1244121,
            1247429,
            1250400,
            1252404,
            1255882,
            1258653,
            1260934,
            1262605,
            1263473,
            1264613,
            1265303,
            1265711,
            1265740
           ]
          }
         ],
         "hovertemplate": "area=Mauritius<br>%{xaxis.title.text}=%{x}<br>%{yaxis.title.text}=%{y}<extra></extra>",
         "legendgroup": "Mauritius",
         "marker": {
          "color": "#482878",
          "symbol": "circle"
         },
         "name": "Mauritius",
         "showlegend": true,
         "type": "splom"
        },
        {
         "dimensions": [
          {
           "axis": {
            "matches": true
           },
           "label": "year_pc",
           "values": [
            2000,
            2001,
            2002,
            2003,
            2004,
            2005,
            2006,
            2007,
            2008,
            2009,
            2010,
            2011,
            2012,
            2013,
            2014,
            2015,
            2016,
            2017,
            2018,
            2019,
            2020
           ]
          },
          {
           "axis": {
            "matches": true
           },
           "label": "total_kgs_CO2_9",
           "values": [
            773751600,
            827151120,
            798781356,
            831465449.3,
            851587728.5,
            905889084.5,
            887857034.4,
            911266463.5,
            896670662.4,
            863016376.3,
            878835290.4,
            869675682.2,
            890812349.3,
            1075013486,
            993082649.8,
            968315695.2,
            988514114.4,
            997992224.6,
            994837186.1,
            1040987095,
            945027684
           ]
          },
          {
           "axis": {
            "matches": true
           },
           "label": "Population",
           "values": [
            97873442,
            99394288,
            100917081,
            102429341,
            103945813,
            105442402,
            106886790,
            108302973,
            109684489,
            111049428,
            112532401,
            114150481,
            115755909,
            117290686,
            118755887,
            120149897,
            121519221,
            122839258,
            124013861,
            125085311,
            125998302
           ]
          }
         ],
         "hovertemplate": "area=Mexico<br>%{xaxis.title.text}=%{x}<br>%{yaxis.title.text}=%{y}<extra></extra>",
         "legendgroup": "Mexico",
         "marker": {
          "color": "#3e4989",
          "symbol": "circle"
         },
         "name": "Mexico",
         "showlegend": true,
         "type": "splom"
        },
        {
         "dimensions": [
          {
           "axis": {
            "matches": true
           },
           "label": "year_pc",
           "values": [
            2000,
            2001,
            2002,
            2003,
            2004,
            2005,
            2006,
            2007,
            2008,
            2009,
            2010,
            2011,
            2012,
            2013,
            2014,
            2015,
            2016,
            2017,
            2018,
            2019,
            2020
           ]
          },
          {
           "axis": {
            "matches": true
           },
           "label": "total_kgs_CO2_9",
           "values": [
            0,
            0,
            0,
            0,
            0,
            0,
            0,
            0,
            0,
            0,
            0,
            0,
            0,
            0,
            0,
            0,
            0,
            0,
            0,
            0,
            0
           ]
          },
          {
           "axis": {
            "matches": true
           },
           "label": "Population",
           "values": [
            111709,
            111948,
            111992,
            111805,
            111438,
            110940,
            110301,
            109532,
            108704,
            107868,
            107588,
            107887,
            108232,
            108609,
            109024,
            109462,
            109925,
            110430,
            110929,
            111379,
            112106
           ]
          }
         ],
         "hovertemplate": "area=Micronesia (Federated States of)<br>%{xaxis.title.text}=%{x}<br>%{yaxis.title.text}=%{y}<extra></extra>",
         "legendgroup": "Micronesia (Federated States of)",
         "marker": {
          "color": "#31688e",
          "symbol": "circle"
         },
         "name": "Micronesia (Federated States of)",
         "showlegend": true,
         "type": "splom"
        },
        {
         "dimensions": [
          {
           "axis": {
            "matches": true
           },
           "label": "year_pc",
           "values": [
            2000,
            2001,
            2002,
            2003,
            2004,
            2005,
            2006,
            2007,
            2008,
            2009,
            2010,
            2011,
            2012,
            2013,
            2014,
            2015,
            2016,
            2017,
            2018,
            2019,
            2020
           ]
          },
          {
           "axis": {
            "matches": true
           },
           "label": "total_kgs_CO2_9",
           "values": [
            922140,
            961056,
            922140,
            504216,
            725868,
            714024,
            715716,
            421308,
            583740,
            394236,
            612504,
            605736,
            536364,
            898452,
            1033812,
            524520,
            661572,
            763092,
            1091340,
            590508,
            363780
           ]
          },
          {
           "axis": {
            "matches": true
           },
           "label": "Population",
           "values": [
            2924668,
            2918135,
            2911385,
            2903198,
            2896023,
            2888985,
            2880967,
            2874299,
            2868833,
            2865213,
            2862354,
            2860699,
            2860324,
            2859558,
            2857815,
            2835978,
            2803186,
            2755189,
            2707203,
            2664224,
            2635130
           ]
          }
         ],
         "hovertemplate": "area=Republic of Moldova<br>%{xaxis.title.text}=%{x}<br>%{yaxis.title.text}=%{y}<extra></extra>",
         "legendgroup": "Republic of Moldova",
         "marker": {
          "color": "#26828e",
          "symbol": "circle"
         },
         "name": "Republic of Moldova",
         "showlegend": true,
         "type": "splom"
        },
        {
         "dimensions": [
          {
           "axis": {
            "matches": true
           },
           "label": "year_pc",
           "values": [
            2000,
            2001,
            2002,
            2003,
            2004,
            2005,
            2006,
            2007,
            2008,
            2009,
            2010,
            2011,
            2012,
            2013,
            2014,
            2015,
            2016,
            2017,
            2018,
            2019,
            2020
           ]
          },
          {
           "axis": {
            "matches": true
           },
           "label": "total_kgs_CO2_9",
           "values": [
            0,
            0,
            0,
            0,
            0,
            0,
            0,
            0,
            0,
            0,
            0,
            0,
            0,
            0,
            0,
            0,
            0,
            0,
            0,
            0,
            0
           ]
          },
          {
           "axis": {
            "matches": true
           },
           "label": "Population",
           "values": [
            2450979,
            2472601,
            2494617,
            2516454,
            2537949,
            2559255,
            2581242,
            2605643,
            2633887,
            2666713,
            2702520,
            2743938,
            2792349,
            2845153,
            2902823,
            2964749,
            3029555,
            3096030,
            3163991,
            3232430,
            3294335
           ]
          }
         ],
         "hovertemplate": "area=Mongolia<br>%{xaxis.title.text}=%{x}<br>%{yaxis.title.text}=%{y}<extra></extra>",
         "legendgroup": "Mongolia",
         "marker": {
          "color": "#1f9e89",
          "symbol": "circle"
         },
         "name": "Mongolia",
         "showlegend": true,
         "type": "splom"
        },
        {
         "dimensions": [
          {
           "axis": {
            "matches": true
           },
           "label": "year_pc",
           "values": [
            2006,
            2007,
            2008,
            2009,
            2010,
            2011,
            2012,
            2013,
            2014,
            2015,
            2016,
            2017,
            2018,
            2019,
            2020
           ]
          },
          {
           "axis": {
            "matches": true
           },
           "label": "total_kgs_CO2_9",
           "values": [
            0,
            0,
            0,
            0,
            0,
            0,
            0,
            0,
            0,
            0,
            0,
            0,
            0,
            0,
            0
           ]
          },
          {
           "axis": {
            "matches": true
           },
           "label": "Population",
           "values": [
            615025,
            615875,
            616969,
            618294,
            619428,
            620079,
            620601,
            621207,
            621810,
            622159,
            622303,
            622373,
            622227,
            622028,
            621306
           ]
          }
         ],
         "hovertemplate": "area=Montenegro<br>%{xaxis.title.text}=%{x}<br>%{yaxis.title.text}=%{y}<extra></extra>",
         "legendgroup": "Montenegro",
         "marker": {
          "color": "#35b779",
          "symbol": "circle"
         },
         "name": "Montenegro",
         "showlegend": true,
         "type": "splom"
        },
        {
         "dimensions": [
          {
           "axis": {
            "matches": true
           },
           "label": "year_pc",
           "values": [
            2000,
            2001,
            2002,
            2003,
            2004,
            2005,
            2006,
            2007,
            2008,
            2009,
            2010,
            2011,
            2012,
            2013,
            2014,
            2015,
            2016,
            2017,
            2018,
            2019,
            2020
           ]
          },
          {
           "axis": {
            "matches": true
           },
           "label": "total_kgs_CO2_9",
           "values": [
            27925670.51,
            22166671.03,
            19362961.71,
            18836388.81,
            18166910.94,
            16663335.95,
            19849844.53,
            18671228.46,
            18663642.55,
            16750526.07,
            13134657.6,
            16360167.96,
            11640706.2,
            12394932.12,
            7217242.92,
            9311346.72,
            9839030.76,
            11642905.8,
            12878041.44,
            11403335.52,
            16082324.64
           ]
          },
          {
           "axis": {
            "matches": true
           },
           "label": "Population",
           "values": [
            28554415,
            28930097,
            29301817,
            29661270,
            30033125,
            30431902,
            30833022,
            31232633,
            31634992,
            32042877,
            32464865,
            32903699,
            33352169,
            33803527,
            34248603,
            34680458,
            35107264,
            35528115,
            35927511,
            36304408,
            36688772
           ]
          }
         ],
         "hovertemplate": "area=Morocco<br>%{xaxis.title.text}=%{x}<br>%{yaxis.title.text}=%{y}<extra></extra>",
         "legendgroup": "Morocco",
         "marker": {
          "color": "#6ece58",
          "symbol": "circle"
         },
         "name": "Morocco",
         "showlegend": true,
         "type": "splom"
        },
        {
         "dimensions": [
          {
           "axis": {
            "matches": true
           },
           "label": "year_pc",
           "values": [
            2000,
            2001,
            2002,
            2003,
            2004,
            2005,
            2006,
            2007,
            2008,
            2009,
            2010,
            2011,
            2012,
            2013,
            2014,
            2015,
            2016,
            2017,
            2018,
            2019,
            2020
           ]
          },
          {
           "axis": {
            "matches": true
           },
           "label": "total_kgs_CO2_9",
           "values": [
            6951295.037,
            11821642.42,
            27755417.75,
            33958926.79,
            32777205.22,
            39316384.05,
            36050180.41,
            36056304.44,
            42889089.77,
            38616750.85,
            47599538.24,
            59426878.47,
            59384203.02,
            55396857.14,
            63210524.98,
            54304520.04,
            48839664.6,
            51172797.24,
            54762977.42,
            68458320,
            47994527.52
           ]
          },
          {
           "axis": {
            "matches": true
           },
           "label": "Population",
           "values": [
            17768505,
            18220716,
            18694946,
            19186754,
            19694411,
            20211114,
            20735982,
            21280513,
            21845571,
            22436660,
            23073723,
            23760421,
            24487611,
            25251731,
            26038704,
            26843246,
            27696493,
            28569441,
            29423878,
            30285595,
            31178239
           ]
          }
         ],
         "hovertemplate": "area=Mozambique<br>%{xaxis.title.text}=%{x}<br>%{yaxis.title.text}=%{y}<extra></extra>",
         "legendgroup": "Mozambique",
         "marker": {
          "color": "#b5de2b",
          "symbol": "circle"
         },
         "name": "Mozambique",
         "showlegend": true,
         "type": "splom"
        },
        {
         "dimensions": [
          {
           "axis": {
            "matches": true
           },
           "label": "year_pc",
           "values": [
            2000,
            2001,
            2002,
            2003,
            2004,
            2005,
            2006,
            2007,
            2008,
            2009,
            2010,
            2011,
            2012,
            2013,
            2014,
            2015,
            2016,
            2017,
            2018,
            2019,
            2020
           ]
          },
          {
           "axis": {
            "matches": true
           },
           "label": "total_kgs_CO2_9",
           "values": [
            98878195.8,
            119409922.1,
            107587630.4,
            115600722.5,
            122182974.7,
            120012984.7,
            136297520.3,
            163940773.3,
            165096037.1,
            161956548,
            156667356,
            161549622,
            159447312,
            174578868,
            188489392.2,
            171786035.9,
            176777588.2,
            175643017.5,
            193038300.4,
            200643423.3,
            195647661.6
           ]
          },
          {
           "axis": {
            "matches": true
           },
           "label": "Population",
           "values": [
            45538332,
            46014826,
            46480230,
            46924293,
            47338446,
            47724471,
            48088274,
            48445647,
            48729486,
            49015836,
            49390988,
            49794522,
            50218185,
            50648334,
            51072436,
            51483949,
            51892349,
            52288341,
            52666014,
            53040212,
            53423198
           ]
          }
         ],
         "hovertemplate": "area=Myanmar<br>%{xaxis.title.text}=%{x}<br>%{yaxis.title.text}=%{y}<extra></extra>",
         "legendgroup": "Myanmar",
         "marker": {
          "color": "#fde725",
          "symbol": "circle"
         },
         "name": "Myanmar",
         "showlegend": true,
         "type": "splom"
        },
        {
         "dimensions": [
          {
           "axis": {
            "matches": true
           },
           "label": "year_pc",
           "values": [
            2000,
            2001,
            2002,
            2003,
            2004,
            2005,
            2006,
            2007,
            2008,
            2009,
            2010,
            2011,
            2012,
            2013,
            2014,
            2015,
            2016,
            2017,
            2018,
            2019,
            2020
           ]
          },
          {
           "axis": {
            "matches": true
           },
           "label": "total_kgs_CO2_9",
           "values": [
            0,
            0,
            0,
            0,
            0,
            0,
            0,
            0,
            0,
            0,
            0,
            0,
            0,
            0,
            0,
            0,
            0,
            0,
            0,
            0,
            0
           ]
          },
          {
           "axis": {
            "matches": true
           },
           "label": "Population",
           "values": [
            1819141,
            1856402,
            1888525,
            1915425,
            1939406,
            1962865,
            1986558,
            2011492,
            2038552,
            2067919,
            2099271,
            2132340,
            2167470,
            2204510,
            2243001,
            2282704,
            2323352,
            2364534,
            2405680,
            2446644,
            2489098
           ]
          }
         ],
         "hovertemplate": "area=Namibia<br>%{xaxis.title.text}=%{x}<br>%{yaxis.title.text}=%{y}<extra></extra>",
         "legendgroup": "Namibia",
         "marker": {
          "color": "#440154",
          "symbol": "circle"
         },
         "name": "Namibia",
         "showlegend": true,
         "type": "splom"
        },
        {
         "dimensions": [
          {
           "axis": {
            "matches": true
           },
           "label": "year_pc",
           "values": [
            2000,
            2001,
            2002,
            2003,
            2004,
            2005,
            2006,
            2007,
            2008,
            2009,
            2010,
            2011,
            2012,
            2013,
            2014,
            2015,
            2016,
            2017,
            2018,
            2019,
            2020
           ]
          },
          {
           "axis": {
            "matches": true
           },
           "label": "total_kgs_CO2_9",
           "values": [
            0,
            0,
            0,
            0,
            0,
            0,
            0,
            0,
            0,
            0,
            0,
            0,
            0,
            0,
            0,
            0,
            0,
            0,
            0,
            0,
            0
           ]
          },
          {
           "axis": {
            "matches": true
           },
           "label": "Population",
           "values": [
            10377,
            10363,
            10351,
            10344,
            10335,
            10318,
            10294,
            10267,
            10243,
            10233,
            10241,
            10283,
            10444,
            10694,
            10940,
            11185,
            11437,
            11682,
            11924,
            12132,
            12315
           ]
          }
         ],
         "hovertemplate": "area=Nauru<br>%{xaxis.title.text}=%{x}<br>%{yaxis.title.text}=%{y}<extra></extra>",
         "legendgroup": "Nauru",
         "marker": {
          "color": "#482878",
          "symbol": "circle"
         },
         "name": "Nauru",
         "showlegend": true,
         "type": "splom"
        },
        {
         "dimensions": [
          {
           "axis": {
            "matches": true
           },
           "label": "year_pc",
           "values": [
            2000,
            2001,
            2002,
            2003,
            2004,
            2005,
            2006,
            2007,
            2008,
            2009,
            2010,
            2011,
            2012,
            2013,
            2014,
            2015,
            2016,
            2017,
            2018,
            2019,
            2020
           ]
          },
          {
           "axis": {
            "matches": true
           },
           "label": "total_kgs_CO2_9",
           "values": [
            35894527.92,
            37846334.52,
            38543590.8,
            40202833.68,
            39598315.92,
            40846622.76,
            42360472.08,
            44665229.88,
            42730394.04,
            40496531.04,
            44541900,
            46669183.92,
            50270115.24,
            50286240,
            51436800,
            52502760,
            74308477.68,
            55492713.5,
            60965839.44,
            60961643.28,
            58292377.92
           ]
          },
          {
           "axis": {
            "matches": true
           },
           "label": "Population",
           "values": [
            24559500,
            24956071,
            25332178,
            25682908,
            26003965,
            26285110,
            26518971,
            26713655,
            26881544,
            27026941,
            27161567,
            27266399,
            27330694,
            27381555,
            27462106,
            27610325,
            27861186,
            28183426,
            28506712,
            28832496,
            29348627
           ]
          }
         ],
         "hovertemplate": "area=Nepal<br>%{xaxis.title.text}=%{x}<br>%{yaxis.title.text}=%{y}<extra></extra>",
         "legendgroup": "Nepal",
         "marker": {
          "color": "#3e4989",
          "symbol": "circle"
         },
         "name": "Nepal",
         "showlegend": true,
         "type": "splom"
        },
        {
         "dimensions": [
          {
           "axis": {
            "matches": true
           },
           "label": "year_pc",
           "values": [
            2000,
            2001,
            2002,
            2003,
            2004,
            2005,
            2006,
            2007,
            2008,
            2009,
            2010,
            2011,
            2012,
            2013,
            2014,
            2015,
            2016,
            2017,
            2018,
            2019,
            2020
           ]
          },
          {
           "axis": {
            "matches": true
           },
           "label": "total_kgs_CO2_9",
           "values": [
            4399200,
            3976200,
            3756240,
            4162320,
            3908520,
            3384000,
            3891600,
            3384000,
            3570120,
            3671640,
            3384000,
            3722400,
            3553200,
            3384000,
            3976200,
            2791800,
            3299400,
            4568400,
            3891600,
            3807000,
            3878707.806
           ]
          },
          {
           "axis": {
            "matches": true
           },
           "label": "Population",
           "values": [
            16178993,
            16296518,
            16400692,
            16481372,
            16541999,
            16585020,
            16616387,
            16656350,
            16723433,
            16810671,
            16898494,
            16978628,
            17043802,
            17097741,
            17162196,
            17240985,
            17334821,
            17437484,
            17537817,
            17650365,
            17745342
           ]
          }
         ],
         "hovertemplate": "area=Netherlands<br>%{xaxis.title.text}=%{x}<br>%{yaxis.title.text}=%{y}<extra></extra>",
         "legendgroup": "Netherlands",
         "marker": {
          "color": "#31688e",
          "symbol": "circle"
         },
         "name": "Netherlands",
         "showlegend": true,
         "type": "splom"
        },
        {
         "dimensions": [
          {
           "axis": {
            "matches": true
           },
           "label": "year_pc",
           "values": [
            2000,
            2001,
            2002,
            2003,
            2004,
            2005,
            2006,
            2007,
            2008,
            2009,
            2010,
            2011,
            2012,
            2013,
            2014,
            2015,
            2016,
            2017,
            2018,
            2019,
            2020
           ]
          },
          {
           "axis": {
            "matches": true
           },
           "label": "total_kgs_CO2_9",
           "values": [
            0,
            0,
            0,
            0,
            0,
            0,
            0,
            0,
            0,
            0,
            0,
            0,
            0,
            0,
            0,
            0,
            0,
            0,
            0,
            0,
            0
           ]
          },
          {
           "axis": {
            "matches": true
           },
           "label": "Population",
           "values": [
            213230,
            217324,
            221490,
            225296,
            228750,
            232250,
            235750,
            239250,
            242750,
            245950,
            249750,
            254350,
            259000,
            263650,
            268050,
            269460,
            270220,
            270810,
            271170,
            271230,
            271130
           ]
          }
         ],
         "hovertemplate": "area=New Caledonia<br>%{xaxis.title.text}=%{x}<br>%{yaxis.title.text}=%{y}<extra></extra>",
         "legendgroup": "New Caledonia",
         "marker": {
          "color": "#26828e",
          "symbol": "circle"
         },
         "name": "New Caledonia",
         "showlegend": true,
         "type": "splom"
        },
        {
         "dimensions": [
          {
           "axis": {
            "matches": true
           },
           "label": "year_pc",
           "values": [
            2000,
            2001,
            2002,
            2003,
            2004,
            2005,
            2006,
            2007,
            2008,
            2009,
            2010,
            2011,
            2012,
            2013,
            2014,
            2015,
            2016,
            2017,
            2018,
            2019,
            2020
           ]
          },
          {
           "axis": {
            "matches": true
           },
           "label": "total_kgs_CO2_9",
           "values": [
            0,
            0,
            0,
            0,
            0,
            0,
            0,
            0,
            0,
            0,
            0,
            0,
            0,
            0,
            0,
            0,
            0,
            0,
            0,
            0,
            0
           ]
          },
          {
           "axis": {
            "matches": true
           },
           "label": "Population",
           "values": [
            3857700,
            3880500,
            3948500,
            4027200,
            4087500,
            4133900,
            4184600,
            4223800,
            4259800,
            4302600,
            4350700,
            4384000,
            4408100,
            4442100,
            4516500,
            4609400,
            4714100,
            4813600,
            4900600,
            4979200,
            5090200
           ]
          }
         ],
         "hovertemplate": "area=New Zealand<br>%{xaxis.title.text}=%{x}<br>%{yaxis.title.text}=%{y}<extra></extra>",
         "legendgroup": "New Zealand",
         "marker": {
          "color": "#1f9e89",
          "symbol": "circle"
         },
         "name": "New Zealand",
         "showlegend": true,
         "type": "splom"
        },
        {
         "dimensions": [
          {
           "axis": {
            "matches": true
           },
           "label": "year_pc",
           "values": [
            2000,
            2001,
            2002,
            2003,
            2004,
            2005,
            2006,
            2007,
            2008,
            2009,
            2010,
            2011,
            2012,
            2013,
            2014,
            2015,
            2016,
            2017,
            2018,
            2019,
            2020
           ]
          },
          {
           "axis": {
            "matches": true
           },
           "label": "total_kgs_CO2_9",
           "values": [
            61696326.6,
            55152279.72,
            54657691.2,
            71258580,
            70573320,
            67029815.16,
            78594009.12,
            78625091.16,
            75342306.6,
            89143637.58,
            86476893.3,
            94897063.62,
            117396619.7,
            118289995.7,
            123188293.4,
            112240935,
            108653717.3,
            125045111.2,
            128705964.7,
            124154137.8,
            123305185.3
           ]
          },
          {
           "axis": {
            "matches": true
           },
           "label": "Population",
           "values": [
            5123222,
            5192764,
            5259006,
            5323062,
            5386223,
            5454678,
            5529811,
            5607453,
            5687744,
            5770639,
            5855734,
            5942553,
            6030607,
            6119379,
            6208676,
            6298598,
            6389235,
            6480532,
            6572233,
            6663924,
            6755895
           ]
          }
         ],
         "hovertemplate": "area=Nicaragua<br>%{xaxis.title.text}=%{x}<br>%{yaxis.title.text}=%{y}<extra></extra>",
         "legendgroup": "Nicaragua",
         "marker": {
          "color": "#35b779",
          "symbol": "circle"
         },
         "name": "Nicaragua",
         "showlegend": true,
         "type": "splom"
        },
        {
         "dimensions": [
          {
           "axis": {
            "matches": true
           },
           "label": "year_pc",
           "values": [
            2000,
            2001,
            2002,
            2003,
            2004,
            2005,
            2006,
            2007,
            2008,
            2009,
            2010,
            2011,
            2012,
            2013,
            2014,
            2015,
            2016,
            2017,
            2018,
            2019,
            2020
           ]
          },
          {
           "axis": {
            "matches": true
           },
           "label": "total_kgs_CO2_9",
           "values": [
            3489501.953,
            3683443.223,
            3834071.492,
            3834073.015,
            3834087.736,
            3834072,
            4182624,
            4182624,
            3272066.755,
            3692281.046,
            3870822.24,
            3074245.56,
            3385776.6,
            3385776.6,
            3949059.813,
            5759246.52,
            3760979.63,
            4400247.01,
            4491383.714,
            5580253.224,
            7671422.758
           ]
          },
          {
           "axis": {
            "matches": true
           },
           "label": "Population",
           "values": [
            11622665,
            12031430,
            12456517,
            12900790,
            13366885,
            13855221,
            14365168,
            14897873,
            15455175,
            16037915,
            16647543,
            17283112,
            17954407,
            18653199,
            19372014,
            20128124,
            20921743,
            21737922,
            22577058,
            23443393,
            24333639
           ]
          }
         ],
         "hovertemplate": "area=Niger<br>%{xaxis.title.text}=%{x}<br>%{yaxis.title.text}=%{y}<extra></extra>",
         "legendgroup": "Niger",
         "marker": {
          "color": "#6ece58",
          "symbol": "circle"
         },
         "name": "Niger",
         "showlegend": true,
         "type": "splom"
        },
        {
         "dimensions": [
          {
           "axis": {
            "matches": true
           },
           "label": "year_pc",
           "values": [
            2000,
            2001,
            2002,
            2003,
            2004,
            2005,
            2006,
            2007,
            2008,
            2009,
            2010,
            2011,
            2012,
            2013,
            2014,
            2015,
            2016,
            2017,
            2018,
            2019,
            2020
           ]
          },
          {
           "axis": {
            "matches": true
           },
           "label": "total_kgs_CO2_9",
           "values": [
            12063960,
            12267000,
            13028400,
            13840560,
            14788080,
            15760980,
            16953840,
            25946820,
            24068277,
            24033675.6,
            17378451.46,
            16831915.5,
            20072788.2,
            22113868.1,
            24170423.04,
            24787173.96,
            25416767.16,
            25571705.29,
            25345889.28,
            25699960.58,
            25992089.46
           ]
          },
          {
           "axis": {
            "matches": true
           },
           "label": "Population",
           "values": [
            122851984,
            126152678,
            129583026,
            133119801,
            136756848,
            140490722,
            144329764,
            148294028,
            152382506,
            156595758,
            160952853,
            165463745,
            170075932,
            174726123,
            179379016,
            183995785,
            188666931,
            193495907,
            198387623,
            203304492,
            208327405
           ]
          }
         ],
         "hovertemplate": "area=Nigeria<br>%{xaxis.title.text}=%{x}<br>%{yaxis.title.text}=%{y}<extra></extra>",
         "legendgroup": "Nigeria",
         "marker": {
          "color": "#b5de2b",
          "symbol": "circle"
         },
         "name": "Nigeria",
         "showlegend": true,
         "type": "splom"
        },
        {
         "dimensions": [
          {
           "axis": {
            "matches": true
           },
           "label": "year_pc",
           "values": [
            2000,
            2001,
            2002,
            2003,
            2004,
            2005,
            2006,
            2007,
            2008,
            2009,
            2010,
            2011,
            2012,
            2013,
            2014,
            2015,
            2016,
            2017,
            2018,
            2019,
            2020
           ]
          },
          {
           "axis": {
            "matches": true
           },
           "label": "total_kgs_CO2_9",
           "values": [
            33840,
            33840,
            33840,
            33840,
            50760,
            50760,
            21150,
            9729,
            7580.16,
            4094.64,
            6768,
            6768,
            7614,
            8037,
            7811.6256,
            6278.8428,
            6137.2224,
            6393.3912,
            2308.5648,
            3503.6244,
            3379.9392
           ]
          },
          {
           "axis": {
            "matches": true
           },
           "label": "Population",
           "values": [
            2026350,
            2034882,
            2020157,
            2026773,
            2032544,
            2036855,
            2040228,
            2043559,
            2046898,
            2050671,
            2055004,
            2058539,
            2061044,
            2064032,
            2067471,
            2070226,
            2072490,
            2074502,
            2076217,
            2076694,
            2072531
           ]
          }
         ],
         "hovertemplate": "area=North Macedonia<br>%{xaxis.title.text}=%{x}<br>%{yaxis.title.text}=%{y}<extra></extra>",
         "legendgroup": "North Macedonia",
         "marker": {
          "color": "#fde725",
          "symbol": "circle"
         },
         "name": "North Macedonia",
         "showlegend": true,
         "type": "splom"
        },
        {
         "dimensions": [
          {
           "axis": {
            "matches": true
           },
           "label": "year_pc",
           "values": [
            2000,
            2001,
            2002,
            2003,
            2004,
            2005,
            2006,
            2007,
            2008,
            2009,
            2010,
            2011,
            2012,
            2013,
            2014,
            2015,
            2016,
            2017,
            2018,
            2019,
            2020
           ]
          },
          {
           "axis": {
            "matches": true
           },
           "label": "total_kgs_CO2_9",
           "values": [
            0,
            0,
            0,
            0,
            0,
            0,
            0,
            0,
            0,
            0,
            0,
            0,
            0,
            0,
            0,
            0,
            0,
            0,
            0,
            0,
            0
           ]
          },
          {
           "axis": {
            "matches": true
           },
           "label": "Population",
           "values": [
            4490967,
            4513751,
            4538159,
            4564855,
            4591910,
            4623291,
            4660677,
            4709153,
            4768212,
            4828726,
            4889252,
            4953088,
            5018573,
            5079623,
            5137232,
            5188607,
            5234519,
            5276968,
            5311916,
            5347896,
            5379475
           ]
          }
         ],
         "hovertemplate": "area=Norway<br>%{xaxis.title.text}=%{x}<br>%{yaxis.title.text}=%{y}<extra></extra>",
         "legendgroup": "Norway",
         "marker": {
          "color": "#440154",
          "symbol": "circle"
         },
         "name": "Norway",
         "showlegend": true,
         "type": "splom"
        },
        {
         "dimensions": [
          {
           "axis": {
            "matches": true
           },
           "label": "year_pc",
           "values": [
            2000,
            2001,
            2002,
            2003,
            2004,
            2005,
            2006,
            2007,
            2008,
            2009,
            2010,
            2011,
            2012,
            2013,
            2014,
            2015,
            2016,
            2017,
            2018,
            2019,
            2020
           ]
          },
          {
           "axis": {
            "matches": true
           },
           "label": "total_kgs_CO2_9",
           "values": [
            0,
            0,
            0,
            24872.4,
            28933.2,
            10591.92,
            8781.48,
            16107.84,
            19119.6,
            19458,
            19266.6348,
            19458,
            20304,
            21150,
            27918,
            27918,
            27918,
            27918,
            26546.1264,
            26970.9876,
            27539.1612
           ]
          },
          {
           "axis": {
            "matches": true
           },
           "label": "Population",
           "values": [
            2344253,
            2374653,
            2403659,
            2431600,
            2468855,
            2515192,
            2560649,
            2605700,
            2651028,
            2697537,
            2881914,
            3206870,
            3535579,
            3816680,
            4009267,
            4191776,
            4398070,
            4541854,
            4601157,
            4602768,
            4543399
           ]
          }
         ],
         "hovertemplate": "area=Oman<br>%{xaxis.title.text}=%{x}<br>%{yaxis.title.text}=%{y}<extra></extra>",
         "legendgroup": "Oman",
         "marker": {
          "color": "#482878",
          "symbol": "circle"
         },
         "name": "Oman",
         "showlegend": true,
         "type": "splom"
        },
        {
         "dimensions": [
          {
           "axis": {
            "matches": true
           },
           "label": "year_pc",
           "values": [
            2000,
            2001,
            2002,
            2003,
            2004,
            2005,
            2006,
            2007,
            2008,
            2009,
            2010,
            2011,
            2012,
            2013,
            2014,
            2015,
            2016,
            2017,
            2018,
            2019,
            2020
           ]
          },
          {
           "axis": {
            "matches": true
           },
           "label": "total_kgs_CO2_9",
           "values": [
            807720192,
            762606396,
            843709032,
            918431136,
            946538640,
            824682492,
            780071220,
            958561992,
            1126601280,
            872757288,
            861750828,
            970252020,
            1025707320,
            1179545584,
            1105729716,
            1145980365,
            1329544092,
            1459954653,
            1178189954,
            1160958694,
            1410269547
           ]
          },
          {
           "axis": {
            "matches": true
           },
           "label": "Population",
           "values": [
            154369924,
            159217727,
            163262807,
            166876680,
            170648620,
            174372098,
            178069984,
            181924521,
            185931955,
            190123222,
            194454498,
            198602738,
            202205861,
            205337562,
            208251628,
            210969298,
            213524840,
            216379655,
            219731479,
            223293280,
            227196741
           ]
          }
         ],
         "hovertemplate": "area=Pakistan<br>%{xaxis.title.text}=%{x}<br>%{yaxis.title.text}=%{y}<extra></extra>",
         "legendgroup": "Pakistan",
         "marker": {
          "color": "#3e4989",
          "symbol": "circle"
         },
         "name": "Pakistan",
         "showlegend": true,
         "type": "splom"
        },
        {
         "dimensions": [
          {
           "axis": {
            "matches": true
           },
           "label": "year_pc",
           "values": [
            2000,
            2001,
            2002,
            2003,
            2004,
            2005,
            2006,
            2007,
            2008,
            2009,
            2010,
            2011,
            2012,
            2013,
            2014,
            2015,
            2016,
            2017,
            2018,
            2019,
            2020
           ]
          },
          {
           "axis": {
            "matches": true
           },
           "label": "total_kgs_CO2_9",
           "values": [
            25293657.24,
            29813479.92,
            27627974.28,
            30600885.96,
            30815566.92,
            30863298.24,
            31366752.84,
            30206937.6,
            30907154.88,
            33270455.88,
            38732621.04,
            39292740.72,
            39590380.44,
            43140179.52,
            41323022.28,
            41463035.28,
            46365165.36,
            46659488.76,
            50663200.68,
            46291580.28,
            48123457.92
           ]
          },
          {
           "axis": {
            "matches": true
           },
           "label": "Population",
           "values": [
            3001731,
            3061024,
            3120990,
            3181608,
            3243311,
            3305868,
            3368573,
            3431614,
            3495276,
            3559343,
            3623617,
            3688674,
            3754862,
            3821556,
            3888793,
            3957099,
            4026336,
            4096063,
            4165255,
            4232532,
            4294396
           ]
          }
         ],
         "hovertemplate": "area=Panama<br>%{xaxis.title.text}=%{x}<br>%{yaxis.title.text}=%{y}<extra></extra>",
         "legendgroup": "Panama",
         "marker": {
          "color": "#31688e",
          "symbol": "circle"
         },
         "name": "Panama",
         "showlegend": true,
         "type": "splom"
        },
        {
         "dimensions": [
          {
           "axis": {
            "matches": true
           },
           "label": "year_pc",
           "values": [
            2000,
            2001,
            2002,
            2003,
            2004,
            2005,
            2006,
            2007,
            2008,
            2009,
            2010,
            2011,
            2012,
            2013,
            2014,
            2015,
            2016,
            2017,
            2018,
            2019,
            2020
           ]
          },
          {
           "axis": {
            "matches": true
           },
           "label": "total_kgs_CO2_9",
           "values": [
            6751080,
            7935480,
            7512480,
            7800120,
            7732440,
            6480360,
            5668200,
            5685120,
            5837400,
            5820480,
            6666480,
            6666480,
            6497280,
            5651280,
            6158880,
            6158880,
            6175800,
            6175800,
            6175800,
            6175800,
            6185906.485
           ]
          },
          {
           "axis": {
            "matches": true
           },
           "label": "Population",
           "values": [
            5508297,
            5698489,
            5892596,
            6090980,
            6293166,
            6498818,
            6708217,
            6921066,
            7137988,
            7358890,
            7583269,
            7806637,
            8026545,
            8245627,
            8464153,
            8682174,
            8899169,
            9114796,
            9329227,
            9542486,
            9749640
           ]
          }
         ],
         "hovertemplate": "area=Papua New Guinea<br>%{xaxis.title.text}=%{x}<br>%{yaxis.title.text}=%{y}<extra></extra>",
         "legendgroup": "Papua New Guinea",
         "marker": {
          "color": "#26828e",
          "symbol": "circle"
         },
         "name": "Papua New Guinea",
         "showlegend": true,
         "type": "splom"
        },
        {
         "dimensions": [
          {
           "axis": {
            "matches": true
           },
           "label": "year_pc",
           "values": [
            2000,
            2001,
            2002,
            2003,
            2004,
            2005,
            2006,
            2007,
            2008,
            2009,
            2010,
            2011,
            2012,
            2013,
            2014,
            2015,
            2016,
            2017,
            2018,
            2019,
            2020
           ]
          },
          {
           "axis": {
            "matches": true
           },
           "label": "total_kgs_CO2_9",
           "values": [
            38711098.8,
            41370753.6,
            51323266.8,
            56131677,
            62653084.92,
            52238266.56,
            55300140.22,
            70234920,
            86793035.04,
            82095840,
            87695361.72,
            91215889.2,
            71706960,
            94697805.24,
            108660240,
            114234246.4,
            114345360,
            112653360,
            105073200,
            99311940,
            126611937
           ]
          },
          {
           "axis": {
            "matches": true
           },
           "label": "Population",
           "values": [
            5123819,
            5211541,
            5286512,
            5353254,
            5416324,
            5476878,
            5534675,
            5590145,
            5645148,
            5702574,
            5768613,
            5843939,
            5923322,
            6005652,
            6090721,
            6177950,
            6266615,
            6355404,
            6443328,
            6530026,
            6618695
           ]
          }
         ],
         "hovertemplate": "area=Paraguay<br>%{xaxis.title.text}=%{x}<br>%{yaxis.title.text}=%{y}<extra></extra>",
         "legendgroup": "Paraguay",
         "marker": {
          "color": "#1f9e89",
          "symbol": "circle"
         },
         "name": "Paraguay",
         "showlegend": true,
         "type": "splom"
        },
        {
         "dimensions": [
          {
           "axis": {
            "matches": true
           },
           "label": "year_pc",
           "values": [
            2000,
            2001,
            2002,
            2003,
            2004,
            2005,
            2006,
            2007,
            2008,
            2009,
            2010,
            2011,
            2012,
            2013,
            2014,
            2015,
            2016,
            2017,
            2018,
            2019,
            2020
           ]
          },
          {
           "axis": {
            "matches": true
           },
           "label": "total_kgs_CO2_9",
           "values": [
            132993738,
            137592594,
            156422185.2,
            164529403.2,
            132430691.2,
            121047811.9,
            129036319.2,
            145657901.2,
            165747626.3,
            174816509.4,
            173936940.1,
            174528717.1,
            182886012.7,
            193433500.8,
            200241719.6,
            180229403.5,
            174487939.9,
            167670719.6,
            183855731.8,
            193360169.5,
            186268896
           ]
          },
          {
           "axis": {
            "matches": true
           },
           "label": "Population",
           "values": [
            26654439,
            27014909,
            27334503,
            27623341,
            27893911,
            28147267,
            28381078,
            28600387,
            28806185,
            29009326,
            29229572,
            29477721,
            29749589,
            30038809,
            30353951,
            30711863,
            31132779,
            31605486,
            32203944,
            32824861,
            33304756
           ]
          }
         ],
         "hovertemplate": "area=Peru<br>%{xaxis.title.text}=%{x}<br>%{yaxis.title.text}=%{y}<extra></extra>",
         "legendgroup": "Peru",
         "marker": {
          "color": "#35b779",
          "symbol": "circle"
         },
         "name": "Peru",
         "showlegend": true,
         "type": "splom"
        },
        {
         "dimensions": [
          {
           "axis": {
            "matches": true
           },
           "label": "year_pc",
           "values": [
            2000,
            2001,
            2002,
            2003,
            2004,
            2005,
            2006,
            2007,
            2008,
            2009,
            2010,
            2011,
            2012,
            2013,
            2014,
            2015,
            2016,
            2017,
            2018,
            2019,
            2020
           ]
          },
          {
           "axis": {
            "matches": true
           },
           "label": "total_kgs_CO2_9",
           "values": [
            373533331,
            381067536.2,
            377185513,
            422667928.1,
            449703380.9,
            402995044.1,
            425962793.5,
            392227528.3,
            467979857.3,
            404672560.6,
            319437248.4,
            498116644.6,
            462929744.9,
            432641726.6,
            440087169.6,
            405410577.1,
            400116478.3,
            514586166.5,
            438411074.4,
            370366820.6,
            432626498.6
           ]
          },
          {
           "axis": {
            "matches": true
           },
           "label": "Population",
           "values": [
            77958223,
            79626086,
            81285572,
            82942837,
            84607501,
            86261250,
            87901835,
            89561377,
            91252326,
            92946951,
            94636700,
            96337913,
            98032317,
            99700107,
            101325201,
            103031365,
            104875266,
            106738501,
            108568836,
            110380804,
            112190977
           ]
          }
         ],
         "hovertemplate": "area=Philippines<br>%{xaxis.title.text}=%{x}<br>%{yaxis.title.text}=%{y}<extra></extra>",
         "legendgroup": "Philippines",
         "marker": {
          "color": "#6ece58",
          "symbol": "circle"
         },
         "name": "Philippines",
         "showlegend": true,
         "type": "splom"
        },
        {
         "dimensions": [
          {
           "axis": {
            "matches": true
           },
           "label": "year_pc",
           "values": [
            2000,
            2001,
            2002,
            2003,
            2004,
            2005,
            2006,
            2007,
            2008,
            2009,
            2010,
            2011,
            2012,
            2013,
            2014,
            2015,
            2016,
            2017,
            2018,
            2019,
            2020
           ]
          },
          {
           "axis": {
            "matches": true
           },
           "label": "total_kgs_CO2_9",
           "values": [
            7580160,
            6683400,
            7749360,
            6598800,
            6514200,
            6514200,
            6260400,
            7241760,
            4568400,
            5583600,
            5414400,
            5752800,
            5922000,
            5414400,
            5922000,
            5922000,
            8290800,
            8967600,
            8933760,
            6851683.613,
            6993301.644
           ]
          },
          {
           "axis": {
            "matches": true
           },
           "label": "Population",
           "values": [
            38258629,
            38248076,
            38230364,
            38204570,
            38182222,
            38165445,
            38141267,
            38120560,
            38125759,
            38151603,
            38042794,
            38063255,
            38063164,
            38040196,
            38011735,
            37986412,
            37970087,
            37974826,
            37974750,
            37965475,
            37899070
           ]
          }
         ],
         "hovertemplate": "area=Poland<br>%{xaxis.title.text}=%{x}<br>%{yaxis.title.text}=%{y}<extra></extra>",
         "legendgroup": "Poland",
         "marker": {
          "color": "#b5de2b",
          "symbol": "circle"
         },
         "name": "Poland",
         "showlegend": true,
         "type": "splom"
        },
        {
         "dimensions": [
          {
           "axis": {
            "matches": true
           },
           "label": "year_pc",
           "values": [
            2000,
            2001,
            2002,
            2003,
            2004,
            2005,
            2006,
            2007,
            2008,
            2009,
            2010,
            2011,
            2012,
            2013,
            2014,
            2015,
            2016,
            2017,
            2018,
            2019,
            2020
           ]
          },
          {
           "axis": {
            "matches": true
           },
           "label": "total_kgs_CO2_9",
           "values": [
            461695.194,
            308874.6,
            615849.084,
            481090.59,
            601302.96,
            582500.61,
            359430.714,
            305002.458,
            206643.96,
            97221.474,
            97415.5464,
            99016.0092,
            101028.3048,
            103350.2364,
            100753.524,
            100256.4144,
            104394.5388,
            105567.7716,
            25.7184,
            0,
            0
           ]
          },
          {
           "axis": {
            "matches": true
           },
           "label": "Population",
           "values": [
            10289898,
            10362722,
            10419631,
            10458821,
            10483861,
            10503330,
            10522288,
            10542964,
            10558177,
            10568247,
            10573100,
            10557560,
            10514844,
            10457295,
            10401062,
            10358076,
            10325452,
            10300300,
            10283822,
            10286263,
            10297081
           ]
          }
         ],
         "hovertemplate": "area=Portugal<br>%{xaxis.title.text}=%{x}<br>%{yaxis.title.text}=%{y}<extra></extra>",
         "legendgroup": "Portugal",
         "marker": {
          "color": "#fde725",
          "symbol": "circle"
         },
         "name": "Portugal",
         "showlegend": true,
         "type": "splom"
        },
        {
         "dimensions": [
          {
           "axis": {
            "matches": true
           },
           "label": "year_pc",
           "values": [
            2000,
            2001,
            2002,
            2003,
            2004,
            2005,
            2006,
            2007,
            2008,
            2009,
            2010,
            2011,
            2012,
            2013,
            2014,
            2015,
            2016,
            2017,
            2018,
            2019,
            2020
           ]
          },
          {
           "axis": {
            "matches": true
           },
           "label": "total_kgs_CO2_9",
           "values": [
            1103251.68,
            293020.56,
            690894.36,
            0,
            0,
            0,
            0,
            0,
            0,
            0,
            0,
            0,
            0,
            0,
            0,
            0,
            0,
            0,
            0,
            0,
            0
           ]
          },
          {
           "axis": {
            "matches": true
           },
           "label": "Population",
           "values": [
            3810605,
            3818774,
            3823701,
            3826095,
            3826878,
            3821362,
            3805214,
            3782995,
            3760866,
            3740410,
            3721525,
            3678732,
            3634488,
            3593077,
            3534874,
            3473232,
            3406672,
            3325286,
            3193354,
            3193694,
            3281538
           ]
          }
         ],
         "hovertemplate": "area=Puerto Rico<br>%{xaxis.title.text}=%{x}<br>%{yaxis.title.text}=%{y}<extra></extra>",
         "legendgroup": "Puerto Rico",
         "marker": {
          "color": "#440154",
          "symbol": "circle"
         },
         "name": "Puerto Rico",
         "showlegend": true,
         "type": "splom"
        },
        {
         "dimensions": [
          {
           "axis": {
            "matches": true
           },
           "label": "year_pc",
           "values": [
            2000,
            2001,
            2002,
            2003,
            2004,
            2005,
            2006,
            2007,
            2008,
            2009,
            2010,
            2011,
            2012,
            2013,
            2014,
            2015,
            2016,
            2017,
            2018,
            2019,
            2020
           ]
          },
          {
           "axis": {
            "matches": true
           },
           "label": "total_kgs_CO2_9",
           "values": [
            0,
            0,
            0,
            0,
            0,
            0,
            0,
            0,
            0,
            0,
            0,
            0,
            0,
            0,
            0,
            0,
            0,
            0,
            0,
            0,
            0
           ]
          },
          {
           "axis": {
            "matches": true
           },
           "label": "Population",
           "values": [
            645937,
            678831,
            713186,
            748525,
            777943,
            848710,
            1015060,
            1231893,
            1444277,
            1610274,
            1713504,
            1804171,
            1905660,
            2035501,
            2214465,
            2414573,
            2595166,
            2711755,
            2766732,
            2807235,
            2760385
           ]
          }
         ],
         "hovertemplate": "area=Qatar<br>%{xaxis.title.text}=%{x}<br>%{yaxis.title.text}=%{y}<extra></extra>",
         "legendgroup": "Qatar",
         "marker": {
          "color": "#482878",
          "symbol": "circle"
         },
         "name": "Qatar",
         "showlegend": true,
         "type": "splom"
        },
        {
         "dimensions": [
          {
           "axis": {
            "matches": true
           },
           "label": "year_pc",
           "values": [
            2000,
            2001,
            2002,
            2003,
            2004,
            2005,
            2006,
            2007,
            2008,
            2009,
            2010,
            2011,
            2012,
            2013,
            2014,
            2015,
            2016,
            2017,
            2018,
            2019,
            2020
           ]
          },
          {
           "axis": {
            "matches": true
           },
           "label": "total_kgs_CO2_9",
           "values": [
            287640,
            541440,
            439920,
            321480,
            253800,
            389160,
            575280,
            609120,
            761400,
            710640,
            791822.16,
            764124.12,
            753126.12,
            910126.8,
            1318068,
            846000,
            930600,
            1015200,
            727560,
            930600,
            846000
           ]
          },
          {
           "axis": {
            "matches": true
           },
           "label": "Population",
           "values": [
            22442971,
            22131970,
            21730496,
            21574326,
            21451748,
            21319685,
            21193760,
            20882982,
            20537875,
            20367487,
            20246871,
            20147528,
            20058035,
            19983693,
            19908979,
            19815616,
            19702267,
            19588715,
            19473970,
            19371648,
            19265250
           ]
          }
         ],
         "hovertemplate": "area=Romania<br>%{xaxis.title.text}=%{x}<br>%{yaxis.title.text}=%{y}<extra></extra>",
         "legendgroup": "Romania",
         "marker": {
          "color": "#3e4989",
          "symbol": "circle"
         },
         "name": "Romania",
         "showlegend": true,
         "type": "splom"
        },
        {
         "dimensions": [
          {
           "axis": {
            "matches": true
           },
           "label": "year_pc",
           "values": [
            2000,
            2001,
            2002,
            2003,
            2004,
            2005,
            2006,
            2007,
            2008,
            2009,
            2010,
            2011,
            2012,
            2013,
            2014,
            2015,
            2016,
            2017,
            2018,
            2019,
            2020
           ]
          },
          {
           "axis": {
            "matches": true
           },
           "label": "total_kgs_CO2_9",
           "values": [
            9729000,
            10101240,
            10236600,
            13366800,
            12859200,
            13197600,
            18612000,
            16852320,
            17359920,
            14297400,
            11945520,
            22842000,
            22503600,
            20405520,
            18916560,
            21996000,
            27748800,
            28764000,
            26756949.6,
            27674605.8,
            20727000
           ]
          },
          {
           "axis": {
            "matches": true
           },
           "label": "Population",
           "values": [
            146596869,
            145976482,
            145306497,
            144648618,
            144067316,
            143518814,
            143049637,
            142805114,
            142742366,
            142785349,
            142849468,
            142960908,
            143201721,
            143506995,
            143819667,
            144096870,
            144342397,
            144496739,
            144477859,
            144406261,
            144073139
           ]
          }
         ],
         "hovertemplate": "area=Russian Federation<br>%{xaxis.title.text}=%{x}<br>%{yaxis.title.text}=%{y}<extra></extra>",
         "legendgroup": "Russian Federation",
         "marker": {
          "color": "#31688e",
          "symbol": "circle"
         },
         "name": "Russian Federation",
         "showlegend": true,
         "type": "splom"
        },
        {
         "dimensions": [
          {
           "axis": {
            "matches": true
           },
           "label": "year_pc",
           "values": [
            2000,
            2001,
            2002,
            2003,
            2004,
            2005,
            2006,
            2007,
            2008,
            2009,
            2010,
            2011,
            2012,
            2013,
            2014,
            2015,
            2016,
            2017,
            2018,
            2019,
            2020
           ]
          },
          {
           "axis": {
            "matches": true
           },
           "label": "total_kgs_CO2_9",
           "values": [
            700488,
            700488,
            788049,
            875610,
            1050732,
            1027353.298,
            1015900.15,
            1698858.522,
            1103268.6,
            1762830.504,
            2013834.136,
            1674140.094,
            1692518.26,
            1724692.147,
            1766535.646,
            1793663.482,
            1640364.39,
            1738169.942,
            1732859.431,
            1705805.028,
            1725977.559
           ]
          },
          {
           "axis": {
            "matches": true
           },
           "label": "Population",
           "values": [
            8109989,
            8223941,
            8372306,
            8567992,
            8791853,
            9026299,
            9270066,
            9523168,
            9781996,
            10043737,
            10309031,
            10576932,
            10840334,
            11101350,
            11368451,
            11642959,
            11930899,
            12230339,
            12531808,
            12835028,
            13146362
           ]
          }
         ],
         "hovertemplate": "area=Rwanda<br>%{xaxis.title.text}=%{x}<br>%{yaxis.title.text}=%{y}<extra></extra>",
         "legendgroup": "Rwanda",
         "marker": {
          "color": "#26828e",
          "symbol": "circle"
         },
         "name": "Rwanda",
         "showlegend": true,
         "type": "splom"
        },
        {
         "dimensions": [
          {
           "axis": {
            "matches": true
           },
           "label": "year_pc",
           "values": [
            2000,
            2001,
            2002,
            2003,
            2004,
            2005,
            2006,
            2007,
            2008,
            2009,
            2010,
            2011,
            2012,
            2013,
            2014,
            2015,
            2016,
            2017,
            2018,
            2019,
            2020
           ]
          },
          {
           "axis": {
            "matches": true
           },
           "label": "total_kgs_CO2_9",
           "values": [
            203.04,
            203.04,
            203.04,
            203.04,
            203.04,
            203.04,
            203.04,
            203.04,
            203.04,
            203.04,
            203.04,
            203.04,
            203.04,
            203.04,
            202.0248,
            202.194,
            201.8556,
            201.6864,
            201.8556,
            202.3632,
            202.194
           ]
          },
          {
           "axis": {
            "matches": true
           },
           "label": "Population",
           "values": [
            184008,
            185530,
            186630,
            187440,
            188073,
            188626,
            189379,
            190478,
            191787,
            193176,
            194672,
            196351,
            198124,
            199939,
            201757,
            203571,
            205544,
            207630,
            209701,
            211905,
            214929
           ]
          }
         ],
         "hovertemplate": "area=Samoa<br>%{xaxis.title.text}=%{x}<br>%{yaxis.title.text}=%{y}<extra></extra>",
         "legendgroup": "Samoa",
         "marker": {
          "color": "#1f9e89",
          "symbol": "circle"
         },
         "name": "Samoa",
         "showlegend": true,
         "type": "splom"
        },
        {
         "dimensions": [
          {
           "axis": {
            "matches": true
           },
           "label": "year_pc",
           "values": [
            2000,
            2001,
            2002,
            2003,
            2004,
            2005,
            2006,
            2007,
            2008,
            2009,
            2010,
            2011,
            2012,
            2013,
            2014,
            2015,
            2016,
            2017,
            2018,
            2019,
            2020
           ]
          },
          {
           "axis": {
            "matches": true
           },
           "label": "total_kgs_CO2_9",
           "values": [
            0,
            0,
            0,
            0,
            0,
            0,
            0,
            0,
            0,
            0,
            0,
            0,
            0,
            0,
            0,
            0,
            0,
            0,
            0,
            0,
            0
           ]
          },
          {
           "axis": {
            "matches": true
           },
           "label": "Population",
           "values": [
            143714,
            146258,
            149841,
            153762,
            157697,
            161680,
            165725,
            169845,
            174004,
            178128,
            182138,
            186044,
            189924,
            193757,
            197497,
            201124,
            204632,
            208036,
            211344,
            214599,
            218641
           ]
          }
         ],
         "hovertemplate": "area=Sao Tome and Principe<br>%{xaxis.title.text}=%{x}<br>%{yaxis.title.text}=%{y}<extra></extra>",
         "legendgroup": "Sao Tome and Principe",
         "marker": {
          "color": "#35b779",
          "symbol": "circle"
         },
         "name": "Sao Tome and Principe",
         "showlegend": true,
         "type": "splom"
        },
        {
         "dimensions": [
          {
           "axis": {
            "matches": true
           },
           "label": "year_pc",
           "values": [
            2000,
            2001,
            2002,
            2003,
            2004,
            2005,
            2006,
            2007,
            2008,
            2009,
            2010,
            2011,
            2012,
            2013,
            2014,
            2015,
            2016,
            2017,
            2018,
            2019,
            2020
           ]
          },
          {
           "axis": {
            "matches": true
           },
           "label": "total_kgs_CO2_9",
           "values": [
            0,
            0,
            0,
            0,
            0,
            0,
            0,
            0,
            0,
            0,
            0,
            0,
            0,
            0,
            0,
            0,
            0,
            0,
            0,
            0,
            0
           ]
          },
          {
           "axis": {
            "matches": true
           },
           "label": "Population",
           "values": [
            21547390,
            22085929,
            22623415,
            23150847,
            23661808,
            24397644,
            25382870,
            26400068,
            27437353,
            28483797,
            29411929,
            30150945,
            30821543,
            31482498,
            32125564,
            32749848,
            33416270,
            34193122,
            35018133,
            35827362,
            35997107
           ]
          }
         ],
         "hovertemplate": "area=Saudi Arabia<br>%{xaxis.title.text}=%{x}<br>%{yaxis.title.text}=%{y}<extra></extra>",
         "legendgroup": "Saudi Arabia",
         "marker": {
          "color": "#6ece58",
          "symbol": "circle"
         },
         "name": "Saudi Arabia",
         "showlegend": true,
         "type": "splom"
        },
        {
         "dimensions": [
          {
           "axis": {
            "matches": true
           },
           "label": "year_pc",
           "values": [
            2000,
            2001,
            2002,
            2003,
            2004,
            2005,
            2006,
            2007,
            2008,
            2009,
            2010,
            2011,
            2012,
            2013,
            2014,
            2015,
            2016,
            2017,
            2018,
            2019,
            2020
           ]
          },
          {
           "axis": {
            "matches": true
           },
           "label": "total_kgs_CO2_9",
           "values": [
            14957280,
            14783230.05,
            14424325.72,
            14598375.67,
            14579529.49,
            14587747.2,
            14596545.6,
            14710924.8,
            14710924.8,
            14710924.8,
            15870960,
            16395480,
            16750800,
            16581600,
            17420709.33,
            20151720,
            21065400,
            23603400,
            23992560,
            24195600,
            24060240
           ]
          },
          {
           "axis": {
            "matches": true
           },
           "label": "Population",
           "values": [
            9704287,
            9938027,
            10180950,
            10434504,
            10698691,
            10974057,
            11263387,
            11563869,
            11872929,
            12195029,
            12530121,
            12875880,
            13231833,
            13595566,
            13970308,
            14356181,
            14751356,
            15157793,
            15574909,
            16000781,
            16436120
           ]
          }
         ],
         "hovertemplate": "area=Senegal<br>%{xaxis.title.text}=%{x}<br>%{yaxis.title.text}=%{y}<extra></extra>",
         "legendgroup": "Senegal",
         "marker": {
          "color": "#b5de2b",
          "symbol": "circle"
         },
         "name": "Senegal",
         "showlegend": true,
         "type": "splom"
        },
        {
         "dimensions": [
          {
           "axis": {
            "matches": true
           },
           "label": "year_pc",
           "values": [
            2006,
            2007,
            2008,
            2009,
            2010,
            2011,
            2012,
            2013,
            2014,
            2015,
            2016,
            2017,
            2018,
            2019,
            2020
           ]
          },
          {
           "axis": {
            "matches": true
           },
           "label": "total_kgs_CO2_9",
           "values": [
            2774880,
            2656440,
            2571840,
            2030400,
            2893320,
            2318040,
            2030400,
            2791800,
            3299400,
            1692000,
            2707200,
            2030400,
            2098080,
            1133640,
            1235160
           ]
          },
          {
           "axis": {
            "matches": true
           },
           "label": "Population",
           "values": [
            7411569,
            7381579,
            7350222,
            7320807,
            7291436,
            7234099,
            7199077,
            7164132,
            7130576,
            7095383,
            7058322,
            7020858,
            6982604,
            6945235,
            6899126
           ]
          }
         ],
         "hovertemplate": "area=Serbia<br>%{xaxis.title.text}=%{x}<br>%{yaxis.title.text}=%{y}<extra></extra>",
         "legendgroup": "Serbia",
         "marker": {
          "color": "#fde725",
          "symbol": "circle"
         },
         "name": "Serbia",
         "showlegend": true,
         "type": "splom"
        },
        {
         "dimensions": [
          {
           "axis": {
            "matches": true
           },
           "label": "year_pc",
           "values": [
            2000,
            2001,
            2002,
            2003,
            2004,
            2005,
            2006,
            2007,
            2008,
            2009,
            2010,
            2011,
            2012,
            2013,
            2014,
            2015,
            2016,
            2017,
            2018,
            2019,
            2020
           ]
          },
          {
           "axis": {
            "matches": true
           },
           "label": "total_kgs_CO2_9",
           "values": [
            0,
            0,
            0,
            0,
            0,
            0,
            0,
            0,
            0,
            0,
            0,
            0,
            0,
            0,
            0,
            0,
            0,
            0,
            0,
            0,
            0
           ]
          },
          {
           "axis": {
            "matches": true
           },
           "label": "Population",
           "values": [
            81131,
            81202,
            83723,
            82781,
            82475,
            82858,
            84600,
            85033,
            86956,
            87298,
            89770,
            87441,
            88303,
            89949,
            91359,
            93419,
            94677,
            95843,
            96762,
            97625,
            98462
           ]
          }
         ],
         "hovertemplate": "area=Seychelles<br>%{xaxis.title.text}=%{x}<br>%{yaxis.title.text}=%{y}<extra></extra>",
         "legendgroup": "Seychelles",
         "marker": {
          "color": "#440154",
          "symbol": "circle"
         },
         "name": "Seychelles",
         "showlegend": true,
         "type": "splom"
        },
        {
         "dimensions": [
          {
           "axis": {
            "matches": true
           },
           "label": "year_pc",
           "values": [
            2000,
            2001,
            2002,
            2003,
            2004,
            2005,
            2006,
            2007,
            2008,
            2009,
            2010,
            2011,
            2012,
            2013,
            2014,
            2015,
            2016,
            2017,
            2018,
            2019,
            2020
           ]
          },
          {
           "axis": {
            "matches": true
           },
           "label": "total_kgs_CO2_9",
           "values": [
            1432193.4,
            1220016.6,
            1220016.6,
            1220016.6,
            1237698,
            1237698,
            1237698,
            1237698,
            1237698,
            1237698,
            1319760,
            1336680,
            1336680,
            1336680,
            1351008.533,
            1369636.945,
            1382693.602,
            1394165.869,
            1438290.353,
            1419493.925,
            1425490.373
           ]
          },
          {
           "axis": {
            "matches": true
           },
           "label": "Population",
           "values": [
            4584067,
            4857096,
            5140113,
            5350907,
            5533329,
            5683334,
            5809774,
            5939163,
            6090860,
            6259842,
            6436698,
            6612385,
            6788587,
            6964859,
            7140688,
            7314773,
            7493913,
            7677565,
            7861281,
            8046828,
            8233970
           ]
          }
         ],
         "hovertemplate": "area=Sierra Leone<br>%{xaxis.title.text}=%{x}<br>%{yaxis.title.text}=%{y}<extra></extra>",
         "legendgroup": "Sierra Leone",
         "marker": {
          "color": "#482878",
          "symbol": "circle"
         },
         "name": "Sierra Leone",
         "showlegend": true,
         "type": "splom"
        },
        {
         "dimensions": [
          {
           "axis": {
            "matches": true
           },
           "label": "year_pc",
           "values": [
            2000,
            2001,
            2002,
            2003,
            2004,
            2005,
            2006,
            2007,
            2008,
            2009,
            2010,
            2011,
            2012,
            2013,
            2014,
            2015,
            2016,
            2017,
            2018,
            2019,
            2020
           ]
          },
          {
           "axis": {
            "matches": true
           },
           "label": "total_kgs_CO2_9",
           "values": [
            0,
            0,
            0,
            0,
            0,
            0,
            0,
            0,
            0,
            0,
            0,
            0,
            0,
            0,
            0,
            0,
            0,
            0,
            0,
            0,
            0
           ]
          },
          {
           "axis": {
            "matches": true
           },
           "label": "Population",
           "values": [
            4027887,
            4138012,
            4175950,
            4114826,
            4166664,
            4265762,
            4401365,
            4588599,
            4839396,
            4987573,
            5076732,
            5183688,
            5312437,
            5399162,
            5469724,
            5535002,
            5607283,
            5612253,
            5638676,
            5703569,
            5685807
           ]
          }
         ],
         "hovertemplate": "area=Singapore<br>%{xaxis.title.text}=%{x}<br>%{yaxis.title.text}=%{y}<extra></extra>",
         "legendgroup": "Singapore",
         "marker": {
          "color": "#3e4989",
          "symbol": "circle"
         },
         "name": "Singapore",
         "showlegend": true,
         "type": "splom"
        },
        {
         "dimensions": [
          {
           "axis": {
            "matches": true
           },
           "label": "year_pc",
           "values": [
            2000,
            2001,
            2002,
            2003,
            2004,
            2005,
            2006,
            2007,
            2008,
            2009,
            2010,
            2011,
            2012,
            2013,
            2014,
            2015,
            2016,
            2017,
            2018,
            2019,
            2020
           ]
          },
          {
           "axis": {
            "matches": true
           },
           "label": "total_kgs_CO2_9",
           "values": [
            727560,
            947520,
            998280,
            1167480,
            1099800,
            1099800,
            896760,
            642960,
            456840,
            676800,
            609120,
            659880,
            659880,
            778320,
            812160,
            795240,
            846000,
            795240,
            778320,
            761400,
            744480
           ]
          },
          {
           "axis": {
            "matches": true
           },
           "label": "Population",
           "values": [
            5388720,
            5378867,
            5376912,
            5373374,
            5372280,
            5372807,
            5373054,
            5374622,
            5379233,
            5386406,
            5391428,
            5398384,
            5407579,
            5413393,
            5418649,
            5423801,
            5430798,
            5439232,
            5446771,
            5454147,
            5458827
           ]
          }
         ],
         "hovertemplate": "area=Slovakia<br>%{xaxis.title.text}=%{x}<br>%{yaxis.title.text}=%{y}<extra></extra>",
         "legendgroup": "Slovakia",
         "marker": {
          "color": "#31688e",
          "symbol": "circle"
         },
         "name": "Slovakia",
         "showlegend": true,
         "type": "splom"
        },
        {
         "dimensions": [
          {
           "axis": {
            "matches": true
           },
           "label": "year_pc",
           "values": [
            2000,
            2001,
            2002,
            2003,
            2004,
            2005,
            2006,
            2007,
            2008,
            2009,
            2010,
            2011,
            2012,
            2013,
            2014,
            2015,
            2016,
            2017,
            2018,
            2019,
            2020
           ]
          },
          {
           "axis": {
            "matches": true
           },
           "label": "total_kgs_CO2_9",
           "values": [
            236880,
            118440,
            152280,
            169200,
            186120,
            186120,
            270720,
            0,
            0,
            0,
            0,
            0,
            0,
            0,
            0,
            0,
            0,
            0,
            0,
            0,
            0
           ]
          },
          {
           "axis": {
            "matches": true
           },
           "label": "Population",
           "values": [
            1988925,
            1992060,
            1994530,
            1995733,
            1997012,
            2000474,
            2006868,
            2018122,
            2021316,
            2039669,
            2048583,
            2052843,
            2057159,
            2059953,
            2061980,
            2063531,
            2065042,
            2066388,
            2073894,
            2088385,
            2102419
           ]
          }
         ],
         "hovertemplate": "area=Slovenia<br>%{xaxis.title.text}=%{x}<br>%{yaxis.title.text}=%{y}<extra></extra>",
         "legendgroup": "Slovenia",
         "marker": {
          "color": "#26828e",
          "symbol": "circle"
         },
         "name": "Slovenia",
         "showlegend": true,
         "type": "splom"
        },
        {
         "dimensions": [
          {
           "axis": {
            "matches": true
           },
           "label": "year_pc",
           "values": [
            2000,
            2001,
            2002,
            2003,
            2004,
            2005,
            2006,
            2007,
            2008,
            2009,
            2010,
            2011,
            2012,
            2013,
            2014,
            2015,
            2016,
            2017,
            2018,
            2019,
            2020
           ]
          },
          {
           "axis": {
            "matches": true
           },
           "label": "total_kgs_CO2_9",
           "values": [
            0,
            0,
            0,
            0,
            0,
            0,
            0,
            0,
            0,
            0,
            0,
            0,
            0,
            0,
            0,
            0,
            0,
            0,
            0,
            0,
            0
           ]
          },
          {
           "axis": {
            "matches": true
           },
           "label": "Population",
           "values": [
            429978,
            440395,
            450760,
            461216,
            471785,
            482486,
            493430,
            504619,
            516001,
            527833,
            540394,
            553721,
            567763,
            582365,
            597375,
            612660,
            628102,
            643634,
            659249,
            674993,
            691191
           ]
          }
         ],
         "hovertemplate": "area=Solomon Islands<br>%{xaxis.title.text}=%{x}<br>%{yaxis.title.text}=%{y}<extra></extra>",
         "legendgroup": "Solomon Islands",
         "marker": {
          "color": "#1f9e89",
          "symbol": "circle"
         },
         "name": "Solomon Islands",
         "showlegend": true,
         "type": "splom"
        },
        {
         "dimensions": [
          {
           "axis": {
            "matches": true
           },
           "label": "year_pc",
           "values": [
            2000,
            2001,
            2002,
            2003,
            2004,
            2005,
            2006,
            2007,
            2008,
            2009,
            2010,
            2011,
            2012,
            2013,
            2014,
            2015,
            2016,
            2017,
            2018,
            2019,
            2020
           ]
          },
          {
           "axis": {
            "matches": true
           },
           "label": "total_kgs_CO2_9",
           "values": [
            3823920,
            3477060,
            3650490,
            3998534.4,
            3502440,
            2656440,
            3502440,
            3502440,
            3502440,
            4010040,
            4010040,
            4010040,
            3823920,
            3823920,
            3993120,
            3993120,
            3823920,
            3823920,
            3993120,
            4043880,
            3705480
           ]
          },
          {
           "axis": {
            "matches": true
           },
           "label": "Population",
           "values": [
            8721465,
            9070747,
            9411103,
            9758281,
            10117354,
            10467292,
            10784973,
            11118092,
            11444870,
            11730037,
            12026649,
            12216837,
            12440326,
            12852485,
            13309235,
            13763906,
            14292847,
            14864221,
            15411094,
            15981300,
            16537016
           ]
          }
         ],
         "hovertemplate": "area=Somalia<br>%{xaxis.title.text}=%{x}<br>%{yaxis.title.text}=%{y}<extra></extra>",
         "legendgroup": "Somalia",
         "marker": {
          "color": "#35b779",
          "symbol": "circle"
         },
         "name": "Somalia",
         "showlegend": true,
         "type": "splom"
        },
        {
         "dimensions": [
          {
           "axis": {
            "matches": true
           },
           "label": "year_pc",
           "values": [
            2000,
            2001,
            2002,
            2003,
            2004,
            2005,
            2006,
            2007,
            2008,
            2009,
            2010,
            2011,
            2012,
            2013,
            2014,
            2015,
            2016,
            2017,
            2018,
            2019,
            2020
           ]
          },
          {
           "axis": {
            "matches": true
           },
           "label": "total_kgs_CO2_9",
           "values": [
            419178821,
            373196589.1,
            404600413.7,
            359616529.4,
            337042339.2,
            371432340.7,
            358341979.7,
            348956658.7,
            340657195.7,
            330043009,
            283150261.1,
            296223109.9,
            304864560,
            353001418.6,
            313113669.1,
            261353104.9,
            267414001.2,
            308589937.9,
            341812561,
            340887240,
            323679600
           ]
          },
          {
           "axis": {
            "matches": true
           },
           "label": "Population",
           "values": [
            46813266,
            47229714,
            47661514,
            48104048,
            48556071,
            49017147,
            49491756,
            49996094,
            50565812,
            51170779,
            51784921,
            52443325,
            53145033,
            53873616,
            54729551,
            55876504,
            56422274,
            56641209,
            57339635,
            58087055,
            58801927
           ]
          }
         ],
         "hovertemplate": "area=South Africa<br>%{xaxis.title.text}=%{x}<br>%{yaxis.title.text}=%{y}<extra></extra>",
         "legendgroup": "South Africa",
         "marker": {
          "color": "#6ece58",
          "symbol": "circle"
         },
         "name": "South Africa",
         "showlegend": true,
         "type": "splom"
        },
        {
         "dimensions": [
          {
           "axis": {
            "matches": true
           },
           "label": "year_pc",
           "values": [
            2012,
            2013,
            2014,
            2015,
            2016,
            2017,
            2018,
            2019,
            2020
           ]
          },
          {
           "axis": {
            "matches": true
           },
           "label": "total_kgs_CO2_9",
           "values": [
            0,
            0,
            0,
            0,
            0,
            0,
            0,
            0,
            0
           ]
          },
          {
           "axis": {
            "matches": true
           },
           "label": "Population",
           "values": [
            10701604,
            11106031,
            11213284,
            11194299,
            11066105,
            10658226,
            10395329,
            10447666,
            10606227
           ]
          }
         ],
         "hovertemplate": "area=South Sudan<br>%{xaxis.title.text}=%{x}<br>%{yaxis.title.text}=%{y}<extra></extra>",
         "legendgroup": "South Sudan",
         "marker": {
          "color": "#b5de2b",
          "symbol": "circle"
         },
         "name": "South Sudan",
         "showlegend": true,
         "type": "splom"
        },
        {
         "dimensions": [
          {
           "axis": {
            "matches": true
           },
           "label": "year_pc",
           "values": [
            2000,
            2001,
            2002,
            2003,
            2004,
            2005,
            2006,
            2007,
            2008,
            2009,
            2010,
            2011,
            2012,
            2013,
            2014,
            2015,
            2016,
            2017,
            2018,
            2019,
            2020
           ]
          },
          {
           "axis": {
            "matches": true
           },
           "label": "total_kgs_CO2_9",
           "values": [
            7603881.84,
            7137617.4,
            7370419.68,
            6367825.08,
            6629425.2,
            6419532.6,
            5692311,
            2716032.24,
            3045600,
            2878892.147,
            2710922.4,
            2708892,
            2238262.2,
            2036998.8,
            2542370.944,
            2458663.981,
            2123121.6,
            2421252,
            2115000,
            2402640,
            2098080
           ]
          },
          {
           "axis": {
            "matches": true
           },
           "label": "Population",
           "values": [
            40567864,
            40850412,
            41431558,
            42187645,
            42921895,
            43653155,
            44397319,
            45226803,
            45954106,
            46362946,
            46576897,
            46742697,
            46773055,
            46620045,
            46480882,
            46444832,
            46484062,
            46593236,
            46797754,
            47134837,
            47365655
           ]
          }
         ],
         "hovertemplate": "area=Spain<br>%{xaxis.title.text}=%{x}<br>%{yaxis.title.text}=%{y}<extra></extra>",
         "legendgroup": "Spain",
         "marker": {
          "color": "#fde725",
          "symbol": "circle"
         },
         "name": "Spain",
         "showlegend": true,
         "type": "splom"
        },
        {
         "dimensions": [
          {
           "axis": {
            "matches": true
           },
           "label": "year_pc",
           "values": [
            2000,
            2001,
            2002,
            2003,
            2004,
            2005,
            2006,
            2007,
            2008,
            2009,
            2010,
            2011,
            2012,
            2013,
            2014,
            2015,
            2016,
            2017,
            2018,
            2019,
            2020
           ]
          },
          {
           "axis": {
            "matches": true
           },
           "label": "total_kgs_CO2_9",
           "values": [
            18567788.04,
            17420722.02,
            16609544.23,
            17637748.09,
            17263866.01,
            17233866.85,
            19705040.46,
            13507663.23,
            13848089.74,
            15829159.14,
            15746617.46,
            12629446.2,
            11675969.51,
            16738399.16,
            16591860.96,
            12583150.2,
            14218079.04,
            11497512.24,
            11335741.14,
            11475635.7,
            14827810.19
           ]
          },
          {
           "axis": {
            "matches": true
           },
           "label": "Population",
           "values": [
            18777606,
            18911727,
            19062476,
            19224036,
            19387153,
            19544988,
            19695977,
            19842044,
            19983984,
            20123508,
            20261738,
            20398496,
            20425000,
            20585000,
            20778000,
            20970000,
            21203000,
            21444000,
            21670000,
            21803000,
            21919000
           ]
          }
         ],
         "hovertemplate": "area=Sri Lanka<br>%{xaxis.title.text}=%{x}<br>%{yaxis.title.text}=%{y}<extra></extra>",
         "legendgroup": "Sri Lanka",
         "marker": {
          "color": "#440154",
          "symbol": "circle"
         },
         "name": "Sri Lanka",
         "showlegend": true,
         "type": "splom"
        },
        {
         "dimensions": [
          {
           "axis": {
            "matches": true
           },
           "label": "year_pc",
           "values": [
            2000,
            2001,
            2002,
            2003,
            2004,
            2005,
            2006,
            2007,
            2008,
            2009,
            2010,
            2011,
            2012,
            2013,
            2014,
            2015,
            2016,
            2017,
            2018,
            2019,
            2020
           ]
          },
          {
           "axis": {
            "matches": true
           },
           "label": "total_kgs_CO2_9",
           "values": [
            3351607.506,
            3351829.158,
            3379854.6,
            3379854.6,
            4553166.586,
            1751220,
            0,
            0,
            0,
            0,
            0,
            0,
            0,
            0,
            0,
            0,
            0,
            0,
            0,
            0,
            0
           ]
          },
          {
           "axis": {
            "matches": true
           },
           "label": "Population",
           "values": [
            45461,
            45986,
            46264,
            46431,
            46580,
            46725,
            46874,
            47015,
            47156,
            47286,
            47403,
            47581,
            47727,
            47767,
            47789,
            47790,
            47788,
            47785,
            47761,
            47712,
            47642
           ]
          }
         ],
         "hovertemplate": "area=Saint Kitts and Nevis<br>%{xaxis.title.text}=%{x}<br>%{yaxis.title.text}=%{y}<extra></extra>",
         "legendgroup": "Saint Kitts and Nevis",
         "marker": {
          "color": "#482878",
          "symbol": "circle"
         },
         "name": "Saint Kitts and Nevis",
         "showlegend": true,
         "type": "splom"
        },
        {
         "dimensions": [
          {
           "axis": {
            "matches": true
           },
           "label": "year_pc",
           "values": [
            2000,
            2001,
            2002,
            2003,
            2004,
            2005,
            2006,
            2007,
            2008,
            2009,
            2010,
            2011,
            2012,
            2013,
            2014,
            2015,
            2016,
            2017,
            2018,
            2019,
            2020
           ]
          },
          {
           "axis": {
            "matches": true
           },
           "label": "total_kgs_CO2_9",
           "values": [
            0,
            0,
            0,
            0,
            0,
            0,
            0,
            0,
            0,
            0,
            0,
            0,
            0,
            0,
            0,
            0,
            0,
            0,
            0,
            0,
            0
           ]
          },
          {
           "axis": {
            "matches": true
           },
           "label": "Population",
           "values": [
            159500,
            160594,
            161799,
            163047,
            164239,
            165386,
            166470,
            167518,
            168576,
            169688,
            170935,
            172145,
            173124,
            173978,
            174804,
            175623,
            176413,
            177163,
            177888,
            178583,
            179237
           ]
          }
         ],
         "hovertemplate": "area=Saint Lucia<br>%{xaxis.title.text}=%{x}<br>%{yaxis.title.text}=%{y}<extra></extra>",
         "legendgroup": "Saint Lucia",
         "marker": {
          "color": "#3e4989",
          "symbol": "circle"
         },
         "name": "Saint Lucia",
         "showlegend": true,
         "type": "splom"
        },
        {
         "dimensions": [
          {
           "axis": {
            "matches": true
           },
           "label": "year_pc",
           "values": [
            2000,
            2001,
            2002,
            2003,
            2004,
            2005,
            2006,
            2007,
            2008,
            2009,
            2010,
            2011,
            2012,
            2013,
            2014,
            2015,
            2016,
            2017,
            2018,
            2019,
            2020
           ]
          },
          {
           "axis": {
            "matches": true
           },
           "label": "total_kgs_CO2_9",
           "values": [
            18019.8,
            17258.4,
            17681.4,
            17258.4,
            17512.2,
            19458,
            19458,
            19458,
            19458,
            19458,
            15228,
            15228,
            15312.6,
            15312.6,
            16111.0548,
            16115.454,
            16119.3456,
            16122.222,
            0,
            0,
            0
           ]
          },
          {
           "axis": {
            "matches": true
           },
           "label": "Population",
           "values": [
            113813,
            113641,
            113450,
            113108,
            112608,
            112043,
            111427,
            110824,
            110316,
            109840,
            109308,
            108703,
            108083,
            107450,
            106912,
            106482,
            105963,
            105549,
            105281,
            104924,
            104632
           ]
          }
         ],
         "hovertemplate": "area=Saint Vincent and the Grenadines<br>%{xaxis.title.text}=%{x}<br>%{yaxis.title.text}=%{y}<extra></extra>",
         "legendgroup": "Saint Vincent and the Grenadines",
         "marker": {
          "color": "#31688e",
          "symbol": "circle"
         },
         "name": "Saint Vincent and the Grenadines",
         "showlegend": true,
         "type": "splom"
        },
        {
         "dimensions": [
          {
           "axis": {
            "matches": true
           },
           "label": "year_pc",
           "values": [
            2012,
            2013,
            2014,
            2015,
            2016,
            2017,
            2018,
            2019,
            2020
           ]
          },
          {
           "axis": {
            "matches": true
           },
           "label": "total_kgs_CO2_9",
           "values": [
            110617393.3,
            121280868,
            104523300,
            106088400,
            107780400,
            115935840,
            109286280,
            98542080,
            93243785.04
           ]
          },
          {
           "axis": {
            "matches": true
           },
           "label": "Population",
           "values": [
            35159792,
            35990704,
            37003245,
            38171178,
            39377169,
            40679828,
            41999059,
            43232093,
            44440486
           ]
          }
         ],
         "hovertemplate": "area=Sudan<br>%{xaxis.title.text}=%{x}<br>%{yaxis.title.text}=%{y}<extra></extra>",
         "legendgroup": "Sudan",
         "marker": {
          "color": "#26828e",
          "symbol": "circle"
         },
         "name": "Sudan",
         "showlegend": true,
         "type": "splom"
        },
        {
         "dimensions": [
          {
           "axis": {
            "matches": true
           },
           "label": "year_pc",
           "values": [
            2000,
            2001,
            2002,
            2003,
            2004,
            2005,
            2006,
            2007,
            2008,
            2009,
            2010,
            2011,
            2012,
            2013,
            2014,
            2015,
            2016,
            2017,
            2018,
            2019,
            2020
           ]
          },
          {
           "axis": {
            "matches": true
           },
           "label": "total_kgs_CO2_9",
           "values": [
            2115000,
            2115000,
            2115000,
            1226700,
            1226700,
            1226700,
            2089620,
            2089620,
            2082852,
            2082852,
            2081160,
            2081160,
            2082852,
            2082852,
            2102173.963,
            2097120.805,
            2123225.996,
            1902348.763,
            1760111.798,
            1373377.111,
            1286731.145
           ]
          },
          {
           "axis": {
            "matches": true
           },
           "label": "Population",
           "values": [
            478998,
            487394,
            495666,
            503780,
            510572,
            516220,
            522023,
            527946,
            533938,
            539987,
            546080,
            552146,
            558111,
            563947,
            569682,
            575475,
            581453,
            587559,
            593715,
            600301,
            607065
           ]
          }
         ],
         "hovertemplate": "area=Suriname<br>%{xaxis.title.text}=%{x}<br>%{yaxis.title.text}=%{y}<extra></extra>",
         "legendgroup": "Suriname",
         "marker": {
          "color": "#1f9e89",
          "symbol": "circle"
         },
         "name": "Suriname",
         "showlegend": true,
         "type": "splom"
        },
        {
         "dimensions": [
          {
           "axis": {
            "matches": true
           },
           "label": "year_pc",
           "values": [
            2000,
            2001,
            2002,
            2003,
            2004,
            2005,
            2006,
            2007,
            2008,
            2009,
            2010,
            2011,
            2012,
            2013,
            2014,
            2015,
            2016,
            2017,
            2018,
            2019,
            2020
           ]
          },
          {
           "axis": {
            "matches": true
           },
           "label": "total_kgs_CO2_9",
           "values": [
            1319760,
            1302840,
            1353600,
            1285920,
            1099800,
            1150560,
            913680,
            947520,
            846000,
            930600,
            812160,
            930600,
            846000,
            846000,
            846000,
            434152.9872,
            763450.0272,
            719393.2236,
            709183.8648,
            743086.638,
            742889.1816
           ]
          },
          {
           "axis": {
            "matches": true
           },
           "label": "Population",
           "values": [
            8872109,
            8895960,
            8924958,
            8958229,
            8993531,
            9029572,
            9080505,
            9148092,
            9219637,
            9298515,
            9378126,
            9449213,
            9519374,
            9600379,
            9696110,
            9799186,
            9923085,
            10057698,
            10175214,
            10278887,
            10353442
           ]
          }
         ],
         "hovertemplate": "area=Sweden<br>%{xaxis.title.text}=%{x}<br>%{yaxis.title.text}=%{y}<extra></extra>",
         "legendgroup": "Sweden",
         "marker": {
          "color": "#35b779",
          "symbol": "circle"
         },
         "name": "Sweden",
         "showlegend": true,
         "type": "splom"
        },
        {
         "dimensions": [
          {
           "axis": {
            "matches": true
           },
           "label": "year_pc",
           "values": [
            2000,
            2001,
            2002,
            2003,
            2004,
            2005,
            2006,
            2007,
            2008,
            2009,
            2010,
            2011,
            2012,
            2013,
            2014,
            2015,
            2016,
            2017,
            2018,
            2019,
            2020
           ]
          },
          {
           "axis": {
            "matches": true
           },
           "label": "total_kgs_CO2_9",
           "values": [
            710640,
            558360,
            710640,
            761400,
            795240,
            812160,
            642960,
            727560,
            896760,
            896760,
            744480,
            1015200,
            896760,
            693720,
            947520,
            761400,
            642960,
            766545.8796,
            606219.4044,
            1099800,
            964440
           ]
          },
          {
           "axis": {
            "matches": true
           },
           "label": "Population",
           "values": [
            7184250,
            7229854,
            7284753,
            7339001,
            7389625,
            7437115,
            7483934,
            7551117,
            7647675,
            7743831,
            7824909,
            7912398,
            7996861,
            8089346,
            8188649,
            8282396,
            8373338,
            8451840,
            8514329,
            8575280,
            8638167
           ]
          }
         ],
         "hovertemplate": "area=Switzerland<br>%{xaxis.title.text}=%{x}<br>%{yaxis.title.text}=%{y}<extra></extra>",
         "legendgroup": "Switzerland",
         "marker": {
          "color": "#6ece58",
          "symbol": "circle"
         },
         "name": "Switzerland",
         "showlegend": true,
         "type": "splom"
        },
        {
         "dimensions": [
          {
           "axis": {
            "matches": true
           },
           "label": "year_pc",
           "values": [
            2000,
            2001,
            2002,
            2003,
            2004,
            2005,
            2006,
            2007,
            2008,
            2009,
            2010,
            2011,
            2012,
            2013,
            2014,
            2015,
            2016,
            2017,
            2018,
            2019,
            2020
           ]
          },
          {
           "axis": {
            "matches": true
           },
           "label": "total_kgs_CO2_9",
           "values": [
            841330.08,
            1013626.44,
            1330216.56,
            969431.4,
            967485.6,
            897149.16,
            1153656.36,
            1083387.6,
            801094.32,
            690995.88,
            1293077.16,
            964440,
            676800,
            338400,
            338400,
            253800,
            236880,
            169200,
            169200,
            169200,
            169200
           ]
          },
          {
           "axis": {
            "matches": true
           },
           "label": "Population",
           "values": [
            16307654,
            16727948,
            17164021,
            17611356,
            18084007,
            18583557,
            19432009,
            20703005,
            21474059,
            21827220,
            22337563,
            22730733,
            22605577,
            21495821,
            20072232,
            19205178,
            18964252,
            18983373,
            19333463,
            20098251,
            20772595
           ]
          }
         ],
         "hovertemplate": "area=Syrian Arab Republic<br>%{xaxis.title.text}=%{x}<br>%{yaxis.title.text}=%{y}<extra></extra>",
         "legendgroup": "Syrian Arab Republic",
         "marker": {
          "color": "#b5de2b",
          "symbol": "circle"
         },
         "name": "Syrian Arab Republic",
         "showlegend": true,
         "type": "splom"
        },
        {
         "dimensions": [
          {
           "axis": {
            "matches": true
           },
           "label": "year_pc",
           "values": [
            2000,
            2001,
            2002,
            2003,
            2004,
            2005,
            2006,
            2007,
            2008,
            2009,
            2010,
            2011,
            2012,
            2013,
            2014,
            2015,
            2016,
            2017,
            2018,
            2019,
            2020
           ]
          },
          {
           "axis": {
            "matches": true
           },
           "label": "total_kgs_CO2_9",
           "values": [
            0,
            0,
            0,
            0,
            0,
            0,
            0,
            0,
            0,
            0,
            0,
            0,
            0,
            0,
            0,
            0,
            0,
            0,
            0,
            0,
            0
           ]
          },
          {
           "axis": {
            "matches": true
           },
           "label": "Population",
           "values": [
            6272998,
            6408810,
            6541755,
            6672492,
            6801204,
            6929145,
            7057417,
            7188391,
            7324627,
            7468596,
            7621779,
            7784819,
            7956382,
            8136610,
            8326348,
            8524063,
            8725318,
            8925525,
            9128132,
            9337003,
            9543207
           ]
          }
         ],
         "hovertemplate": "area=Tajikistan<br>%{xaxis.title.text}=%{x}<br>%{yaxis.title.text}=%{y}<extra></extra>",
         "legendgroup": "Tajikistan",
         "marker": {
          "color": "#fde725",
          "symbol": "circle"
         },
         "name": "Tajikistan",
         "showlegend": true,
         "type": "splom"
        },
        {
         "dimensions": [
          {
           "axis": {
            "matches": true
           },
           "label": "year_pc",
           "values": [
            2000,
            2001,
            2002,
            2003,
            2004,
            2005,
            2006,
            2007,
            2008,
            2009,
            2010,
            2011,
            2012,
            2013,
            2014,
            2015,
            2016,
            2017,
            2018,
            2019,
            2020
           ]
          },
          {
           "axis": {
            "matches": true
           },
           "label": "total_kgs_CO2_9",
           "values": [
            23666850,
            26209080,
            30581208,
            34959258,
            34956297,
            40209957,
            43341426,
            42617250,
            43632450,
            47016450,
            48771297.82,
            52601367.39,
            47296746.21,
            51959751.18,
            48709451.16,
            51211169.43,
            52853941.37,
            53350335.25,
            54405843.94,
            62379882.25,
            62727347.99
           ]
          },
          {
           "axis": {
            "matches": true
           },
           "label": "Population",
           "values": [
            34463704,
            35414469,
            36353531,
            37333918,
            38360879,
            39439505,
            40562052,
            41716497,
            42870884,
            43957933,
            45110527,
            46416031,
            47786137,
            49253643,
            50814552,
            52542823,
            54401802,
            56267032,
            58090443,
            59872579,
            61704518
           ]
          }
         ],
         "hovertemplate": "area=United Republic of Tanzania<br>%{xaxis.title.text}=%{x}<br>%{yaxis.title.text}=%{y}<extra></extra>",
         "legendgroup": "United Republic of Tanzania",
         "marker": {
          "color": "#440154",
          "symbol": "circle"
         },
         "name": "United Republic of Tanzania",
         "showlegend": true,
         "type": "splom"
        },
        {
         "dimensions": [
          {
           "axis": {
            "matches": true
           },
           "label": "year_pc",
           "values": [
            2000,
            2001,
            2002,
            2003,
            2004,
            2005,
            2006,
            2007,
            2008,
            2009,
            2010,
            2011,
            2012,
            2013,
            2014,
            2015,
            2016,
            2017,
            2018,
            2019,
            2020
           ]
          },
          {
           "axis": {
            "matches": true
           },
           "label": "total_kgs_CO2_9",
           "values": [
            955525258.1,
            876944785,
            1062846314,
            1316283278,
            1149641921,
            878255611.2,
            842279224.3,
            1140162322,
            1298671081,
            1177741100,
            1214649576,
            1695221839,
            1739197731,
            1770451001,
            1827190969,
            1670434851,
            1665578811,
            1640351091,
            2377865567,
            2315978738,
            1325801624
           ]
          },
          {
           "axis": {
            "matches": true
           },
           "label": "Population",
           "values": [
            63066603,
            63649892,
            64222580,
            64776956,
            65311166,
            65821360,
            66319525,
            66826754,
            67328239,
            67813654,
            68270489,
            68712846,
            69157023,
            69578602,
            69960943,
            70294397,
            70607037,
            70898202,
            71127802,
            71307763,
            71475664
           ]
          }
         ],
         "hovertemplate": "area=Thailand<br>%{xaxis.title.text}=%{x}<br>%{yaxis.title.text}=%{y}<extra></extra>",
         "legendgroup": "Thailand",
         "marker": {
          "color": "#482878",
          "symbol": "circle"
         },
         "name": "Thailand",
         "showlegend": true,
         "type": "splom"
        },
        {
         "dimensions": [
          {
           "axis": {
            "matches": true
           },
           "label": "year_pc",
           "values": [
            2002,
            2003,
            2004,
            2005,
            2006,
            2007,
            2008,
            2009,
            2010,
            2011,
            2012,
            2013,
            2014,
            2015,
            2016,
            2017,
            2018,
            2019,
            2020
           ]
          },
          {
           "axis": {
            "matches": true
           },
           "label": "total_kgs_CO2_9",
           "values": [
            0,
            0,
            0,
            0,
            0,
            0,
            0,
            0,
            0,
            0,
            0,
            0,
            0,
            0,
            0,
            0,
            0,
            0,
            0
           ]
          },
          {
           "axis": {
            "matches": true
           },
           "label": "Population",
           "values": [
            909639,
            926721,
            945989,
            969313,
            994564,
            1019362,
            1043076,
            1065540,
            1088486,
            1112976,
            1137676,
            1161555,
            1184830,
            1205813,
            1224562,
            1243235,
            1261845,
            1280438,
            1299995
           ]
          }
         ],
         "hovertemplate": "area=Timor-Leste<br>%{xaxis.title.text}=%{x}<br>%{yaxis.title.text}=%{y}<extra></extra>",
         "legendgroup": "Timor-Leste",
         "marker": {
          "color": "#3e4989",
          "symbol": "circle"
         },
         "name": "Timor-Leste",
         "showlegend": true,
         "type": "splom"
        },
        {
         "dimensions": [
          {
           "axis": {
            "matches": true
           },
           "label": "year_pc",
           "values": [
            2000,
            2001,
            2002,
            2003,
            2004,
            2005,
            2006,
            2007,
            2008,
            2009,
            2010,
            2011,
            2012,
            2013,
            2014,
            2015,
            2016,
            2017,
            2018,
            2019,
            2020
           ]
          },
          {
           "axis": {
            "matches": true
           },
           "label": "total_kgs_CO2_9",
           "values": [
            0,
            0,
            0,
            0,
            0,
            0,
            0,
            0,
            0,
            0,
            0,
            0,
            0,
            0,
            0,
            0,
            0,
            0,
            0,
            0,
            0
           ]
          },
          {
           "axis": {
            "matches": true
           },
           "label": "Population",
           "values": [
            5008035,
            5145426,
            5281538,
            5421001,
            5565218,
            5711597,
            5874240,
            6047537,
            6222482,
            6398624,
            6571855,
            6748672,
            6926635,
            7106229,
            7288383,
            7473229,
            7661354,
            7852795,
            8046679,
            8243094,
            8442580
           ]
          }
         ],
         "hovertemplate": "area=Togo<br>%{xaxis.title.text}=%{x}<br>%{yaxis.title.text}=%{y}<extra></extra>",
         "legendgroup": "Togo",
         "marker": {
          "color": "#31688e",
          "symbol": "circle"
         },
         "name": "Togo",
         "showlegend": true,
         "type": "splom"
        },
        {
         "dimensions": [
          {
           "axis": {
            "matches": true
           },
           "label": "year_pc",
           "values": [
            2000,
            2001,
            2002,
            2003,
            2004,
            2005,
            2006,
            2007,
            2008,
            2009,
            2010,
            2011,
            2012,
            2013,
            2014,
            2015,
            2016,
            2017,
            2018,
            2019,
            2020
           ]
          },
          {
           "axis": {
            "matches": true
           },
           "label": "total_kgs_CO2_9",
           "values": [
            0,
            0,
            0,
            0,
            0,
            0,
            0,
            0,
            0,
            0,
            0,
            0,
            0,
            0,
            0,
            0,
            0,
            0,
            0,
            0,
            0
           ]
          },
          {
           "axis": {
            "matches": true
           },
           "label": "Population",
           "values": [
            102603,
            103210,
            103804,
            104410,
            105036,
            105633,
            106190,
            106638,
            106932,
            107144,
            107383,
            107611,
            107502,
            107089,
            106626,
            106122,
            105707,
            105415,
            105150,
            104951,
            105254
           ]
          }
         ],
         "hovertemplate": "area=Tonga<br>%{xaxis.title.text}=%{x}<br>%{yaxis.title.text}=%{y}<extra></extra>",
         "legendgroup": "Tonga",
         "marker": {
          "color": "#26828e",
          "symbol": "circle"
         },
         "name": "Tonga",
         "showlegend": true,
         "type": "splom"
        },
        {
         "dimensions": [
          {
           "axis": {
            "matches": true
           },
           "label": "year_pc",
           "values": [
            2000,
            2001,
            2002,
            2003,
            2004,
            2005,
            2006,
            2007,
            2008,
            2009,
            2010,
            2011,
            2012,
            2013,
            2014,
            2015,
            2016,
            2017,
            2018,
            2019,
            2020
           ]
          },
          {
           "axis": {
            "matches": true
           },
           "label": "total_kgs_CO2_9",
           "values": [
            24201454.32,
            18076295.88,
            23619203.28,
            15191706.6,
            9407520,
            7529400,
            15228000,
            14348160,
            0,
            0,
            0,
            0,
            0,
            0,
            0,
            0,
            0,
            0,
            0,
            0,
            0
           ]
          },
          {
           "axis": {
            "matches": true
           },
           "label": "Population",
           "values": [
            1332203,
            1338567,
            1345964,
            1353548,
            1361172,
            1369075,
            1376919,
            1384861,
            1392803,
            1401191,
            1410296,
            1420020,
            1430377,
            1440729,
            1450661,
            1460177,
            1469330,
            1478607,
            1504709,
            1519955,
            1518147
           ]
          }
         ],
         "hovertemplate": "area=Trinidad and Tobago<br>%{xaxis.title.text}=%{x}<br>%{yaxis.title.text}=%{y}<extra></extra>",
         "legendgroup": "Trinidad and Tobago",
         "marker": {
          "color": "#1f9e89",
          "symbol": "circle"
         },
         "name": "Trinidad and Tobago",
         "showlegend": true,
         "type": "splom"
        },
        {
         "dimensions": [
          {
           "axis": {
            "matches": true
           },
           "label": "year_pc",
           "values": [
            2000,
            2001,
            2002,
            2003,
            2004,
            2005,
            2006,
            2007,
            2008,
            2009,
            2010,
            2011,
            2012,
            2013,
            2014,
            2015,
            2016,
            2017,
            2018,
            2019,
            2020
           ]
          },
          {
           "axis": {
            "matches": true
           },
           "label": "total_kgs_CO2_9",
           "values": [
            17512.2,
            0,
            0,
            0,
            0,
            0,
            0,
            0,
            0,
            0,
            0,
            0,
            50760,
            50760,
            50760,
            118440,
            118440,
            118440,
            118440,
            118440,
            84600
           ]
          },
          {
           "axis": {
            "matches": true
           },
           "label": "Population",
           "values": [
            9893316,
            9995123,
            10094561,
            10193798,
            10292225,
            10388344,
            10483558,
            10580395,
            10680380,
            10784504,
            10895063,
            11032528,
            11174383,
            11300284,
            11428948,
            11557779,
            11685667,
            11811443,
            11933041,
            12049314,
            12161723
           ]
          }
         ],
         "hovertemplate": "area=Tunisia<br>%{xaxis.title.text}=%{x}<br>%{yaxis.title.text}=%{y}<extra></extra>",
         "legendgroup": "Tunisia",
         "marker": {
          "color": "#35b779",
          "symbol": "circle"
         },
         "name": "Tunisia",
         "showlegend": true,
         "type": "splom"
        },
        {
         "dimensions": [
          {
           "axis": {
            "matches": true
           },
           "label": "year_pc",
           "values": [
            2000,
            2001,
            2002,
            2003,
            2004,
            2005,
            2006,
            2007,
            2008,
            2009,
            2010,
            2011,
            2012,
            2013,
            2014,
            2015,
            2016,
            2017,
            2018,
            2019,
            2020
           ]
          },
          {
           "axis": {
            "matches": true
           },
           "label": "total_kgs_CO2_9",
           "values": [
            12909960,
            9153720,
            11894760,
            8933760,
            9525960,
            10101240,
            7732440,
            8138520,
            9915120,
            11471760,
            10304280,
            10152000,
            9390600,
            10676520,
            11268720,
            11099520,
            14263560,
            14517360,
            13536000,
            15058800,
            16074000
           ]
          },
          {
           "axis": {
            "matches": true
           },
           "label": "Population",
           "values": [
            64113547,
            65072018,
            65988663,
            66867327,
            67785075,
            68704715,
            69601333,
            70468869,
            71320726,
            72225639,
            73195345,
            74173854,
            75277439,
            76576117,
            78112073,
            79646178,
            81019394,
            82089826,
            82809304,
            83481684,
            84135428
           ]
          }
         ],
         "hovertemplate": "area=Turkey<br>%{xaxis.title.text}=%{x}<br>%{yaxis.title.text}=%{y}<extra></extra>",
         "legendgroup": "Turkey",
         "marker": {
          "color": "#6ece58",
          "symbol": "circle"
         },
         "name": "Turkey",
         "showlegend": true,
         "type": "splom"
        },
        {
         "dimensions": [
          {
           "axis": {
            "matches": true
           },
           "label": "year_pc",
           "values": [
            2000,
            2001,
            2002,
            2003,
            2004,
            2005,
            2006,
            2007,
            2008,
            2009,
            2010,
            2011,
            2012,
            2013,
            2014,
            2015,
            2016,
            2017,
            2018,
            2019,
            2020
           ]
          },
          {
           "axis": {
            "matches": true
           },
           "label": "total_kgs_CO2_9",
           "values": [
            162939.6,
            163701,
            163701,
            190350,
            167508,
            167508,
            167508,
            167508,
            167508,
            167508,
            50239.0332,
            50386.7448,
            50386.7448,
            50386.7448,
            167508,
            146584.2204,
            150772.2588,
            146584.2204,
            83762.46,
            62821.7604,
            62821.7604
           ]
          },
          {
           "axis": {
            "matches": true
           },
           "label": "Population",
           "values": [
            4569132,
            4635094,
            4698968,
            4758988,
            4819792,
            4885775,
            4954029,
            5024894,
            5100083,
            5180957,
            5267970,
            5360811,
            5458682,
            5560095,
            5663152,
            5766431,
            5868561,
            5968383,
            6065066,
            6158420,
            6250438
           ]
          }
         ],
         "hovertemplate": "area=Turkmenistan<br>%{xaxis.title.text}=%{x}<br>%{yaxis.title.text}=%{y}<extra></extra>",
         "legendgroup": "Turkmenistan",
         "marker": {
          "color": "#b5de2b",
          "symbol": "circle"
         },
         "name": "Turkmenistan",
         "showlegend": true,
         "type": "splom"
        },
        {
         "dimensions": [
          {
           "axis": {
            "matches": true
           },
           "label": "year_pc",
           "values": [
            2000,
            2001,
            2002,
            2003,
            2004,
            2005,
            2006,
            2007,
            2008,
            2009,
            2010,
            2011,
            2012,
            2013,
            2014,
            2015,
            2016,
            2017,
            2018,
            2019,
            2020
           ]
          },
          {
           "axis": {
            "matches": true
           },
           "label": "total_kgs_CO2_9",
           "values": [
            0,
            0,
            0,
            0,
            0,
            0,
            0,
            0,
            0,
            0,
            0,
            0,
            0,
            0,
            0,
            0,
            0,
            0,
            0,
            0,
            0
           ]
          },
          {
           "axis": {
            "matches": true
           },
           "label": "Population",
           "values": [
            9638,
            9621,
            9609,
            9668,
            9791,
            9912,
            10030,
            10149,
            10272,
            10408,
            10550,
            10700,
            10854,
            10918,
            10899,
            10877,
            10852,
            10828,
            10865,
            10956,
            11069
           ]
          }
         ],
         "hovertemplate": "area=Tuvalu<br>%{xaxis.title.text}=%{x}<br>%{yaxis.title.text}=%{y}<extra></extra>",
         "legendgroup": "Tuvalu",
         "marker": {
          "color": "#fde725",
          "symbol": "circle"
         },
         "name": "Tuvalu",
         "showlegend": true,
         "type": "splom"
        },
        {
         "dimensions": [
          {
           "axis": {
            "matches": true
           },
           "label": "year_pc",
           "values": [
            2000,
            2001,
            2002,
            2003,
            2004,
            2005,
            2006,
            2007,
            2008,
            2009,
            2010,
            2011,
            2012,
            2013,
            2014,
            2015,
            2016,
            2017,
            2018,
            2019,
            2020
           ]
          },
          {
           "axis": {
            "matches": true
           },
           "label": "total_kgs_CO2_9",
           "values": [
            25908157.8,
            26997535.08,
            32401800,
            37477800,
            41014080,
            41149440,
            43027560,
            41318640,
            48188160,
            57528000,
            58069440,
            63483840,
            65615760,
            80116200,
            81216000,
            91114200,
            91029600,
            93432240,
            96494760,
            96782400,
            94447440
           ]
          },
          {
           "axis": {
            "matches": true
           },
           "label": "Population",
           "values": [
            24020697,
            24763325,
            25545090,
            26354736,
            27146084,
            27946588,
            28773227,
            29629804,
            30509862,
            31412520,
            32341728,
            33295738,
            34273295,
            35273570,
            36336539,
            37477356,
            38748299,
            40127085,
            41515395,
            42949080,
            44404611
           ]
          }
         ],
         "hovertemplate": "area=Uganda<br>%{xaxis.title.text}=%{x}<br>%{yaxis.title.text}=%{y}<extra></extra>",
         "legendgroup": "Uganda",
         "marker": {
          "color": "#440154",
          "symbol": "circle"
         },
         "name": "Uganda",
         "showlegend": true,
         "type": "splom"
        },
        {
         "dimensions": [
          {
           "axis": {
            "matches": true
           },
           "label": "year_pc",
           "values": [
            2000,
            2001,
            2002,
            2003,
            2004,
            2005,
            2006,
            2007,
            2008,
            2009,
            2010,
            2011,
            2012,
            2013,
            2014,
            2015,
            2016,
            2017,
            2018,
            2019,
            2020
           ]
          },
          {
           "axis": {
            "matches": true
           },
           "label": "total_kgs_CO2_9",
           "values": [
            11336400,
            12267000,
            11014920,
            11336400,
            12859200,
            13282200,
            14720400,
            10490400,
            7969320,
            6175800,
            11031840,
            14551200,
            13705200,
            7952400,
            13536000,
            9199348.164,
            12588639.05,
            12876530.31,
            11054243.77,
            9392631.415,
            7375556.93
           ]
          },
          {
           "axis": {
            "matches": true
           },
           "label": "Population",
           "values": [
            49176500,
            48662400,
            48202470,
            47812949,
            47451626,
            47105171,
            46787786,
            46509355,
            46258189,
            46053331,
            45870741,
            45706086,
            45593342,
            45489648,
            45272155,
            45154036,
            45004673,
            44831135,
            44622518,
            44386203,
            44132049
           ]
          }
         ],
         "hovertemplate": "area=Ukraine<br>%{xaxis.title.text}=%{x}<br>%{yaxis.title.text}=%{y}<extra></extra>",
         "legendgroup": "Ukraine",
         "marker": {
          "color": "#482878",
          "symbol": "circle"
         },
         "name": "Ukraine",
         "showlegend": true,
         "type": "splom"
        },
        {
         "dimensions": [
          {
           "axis": {
            "matches": true
           },
           "label": "year_pc",
           "values": [
            2000,
            2001,
            2002,
            2003,
            2004,
            2005,
            2006,
            2007,
            2008,
            2009,
            2010,
            2011,
            2012,
            2013,
            2014,
            2015,
            2016,
            2017,
            2018,
            2019,
            2020
           ]
          },
          {
           "axis": {
            "matches": true
           },
           "label": "total_kgs_CO2_9",
           "values": [
            0,
            0,
            0,
            0,
            0,
            0,
            0,
            0,
            0,
            0,
            0,
            0,
            0,
            0,
            0,
            0,
            0,
            0,
            0,
            0,
            0
           ]
          },
          {
           "axis": {
            "matches": true
           },
           "label": "Population",
           "values": [
            3275333,
            3454198,
            3633655,
            3813443,
            3993339,
            4280993,
            4898954,
            5872624,
            6988685,
            7992644,
            8481771,
            8575205,
            8664969,
            8751847,
            8835951,
            8916899,
            8994263,
            9068296,
            9140169,
            9211657,
            9287289
           ]
          }
         ],
         "hovertemplate": "area=United Arab Emirates<br>%{xaxis.title.text}=%{x}<br>%{yaxis.title.text}=%{y}<extra></extra>",
         "legendgroup": "United Arab Emirates",
         "marker": {
          "color": "#3e4989",
          "symbol": "circle"
         },
         "name": "United Arab Emirates",
         "showlegend": true,
         "type": "splom"
        },
        {
         "dimensions": [
          {
           "axis": {
            "matches": true
           },
           "label": "year_pc",
           "values": [
            2000,
            2001,
            2002,
            2003,
            2004,
            2005,
            2006,
            2007,
            2008,
            2009,
            2010,
            2011,
            2012,
            2013,
            2014,
            2015,
            2016,
            2017,
            2018,
            2019,
            2020
           ]
          },
          {
           "axis": {
            "matches": true
           },
           "label": "total_kgs_CO2_9",
           "values": [
            5668200,
            5583600,
            6260400,
            6175800,
            6091200,
            5668200,
            4906800,
            4991400,
            5076000,
            5499000,
            4653000,
            5499000,
            5076000,
            5499000,
            5922000,
            4230000,
            3891600,
            5499000,
            4568400,
            4771440,
            3637800
           ]
          },
          {
           "axis": {
            "matches": true
           },
           "label": "Population",
           "values": [
            59350446,
            59581124,
            59836028,
            60117709,
            60462626,
            60880638,
            61330963,
            61811468,
            62301072,
            62775390,
            63269151,
            63764312,
            64208822,
            64639915,
            65116534,
            65633375,
            66131384,
            66581314,
            66986767,
            67366625,
            67614237
           ]
          }
         ],
         "hovertemplate": "area=United Kingdom of Great Britain and Northern Ireland<br>%{xaxis.title.text}=%{x}<br>%{yaxis.title.text}=%{y}<extra></extra>",
         "legendgroup": "United Kingdom of Great Britain and Northern Ireland",
         "marker": {
          "color": "#31688e",
          "symbol": "circle"
         },
         "name": "United Kingdom of Great Britain and Northern Ireland",
         "showlegend": true,
         "type": "splom"
        },
        {
         "dimensions": [
          {
           "axis": {
            "matches": true
           },
           "label": "year_pc",
           "values": [
            2000,
            2001,
            2002,
            2003,
            2004,
            2005,
            2006,
            2007,
            2008,
            2009,
            2010,
            2011,
            2012,
            2013,
            2014,
            2015,
            2016,
            2017,
            2018,
            2019,
            2020
           ]
          },
          {
           "axis": {
            "matches": true
           },
           "label": "total_kgs_CO2_9",
           "values": [
            651876840,
            620879400,
            638171640,
            611302680,
            525636720,
            484419600,
            538546680,
            507051792,
            456671138.4,
            503123814,
            457272712.1,
            484717358.2,
            528899572.8,
            511253197.2,
            503627014.8,
            528810742.8,
            532336498.6,
            549460249.2,
            569053101.6,
            529185859.2,
            586876460.4
           ]
          },
          {
           "axis": {
            "matches": true
           },
           "label": "Population",
           "values": [
            282461167,
            285268282,
            287923095,
            290403882,
            293098826,
            295807308,
            298667484,
            301515403,
            304374614,
            307048531,
            309600984,
            311855960,
            314150104,
            316332137,
            318657945,
            321009854,
            323341682,
            325390926,
            327105605,
            328595756,
            331766087
           ]
          }
         ],
         "hovertemplate": "area=United States of America<br>%{xaxis.title.text}=%{x}<br>%{yaxis.title.text}=%{y}<extra></extra>",
         "legendgroup": "United States of America",
         "marker": {
          "color": "#26828e",
          "symbol": "circle"
         },
         "name": "United States of America",
         "showlegend": true,
         "type": "splom"
        },
        {
         "dimensions": [
          {
           "axis": {
            "matches": true
           },
           "label": "year_pc",
           "values": [
            2000,
            2001,
            2002,
            2003,
            2004,
            2005,
            2006,
            2007,
            2008,
            2009,
            2010,
            2011,
            2012,
            2013,
            2014,
            2015,
            2016,
            2017,
            2018,
            2019,
            2020
           ]
          },
          {
           "axis": {
            "matches": true
           },
           "label": "total_kgs_CO2_9",
           "values": [
            2614140,
            3054060,
            3226644,
            1999944,
            2642904,
            2947464,
            2481216.48,
            4999014,
            5695272,
            5050620,
            5334876,
            7140240,
            6260400,
            6260400,
            8189280,
            7529400,
            6306084,
            5967684,
            6116580,
            7138548,
            6887789.37
           ]
          },
          {
           "axis": {
            "matches": true
           },
           "label": "Population",
           "values": [
            3292224,
            3300939,
            3306441,
            3310202,
            3313801,
            3317665,
            3322282,
            3328651,
            3336126,
            3344156,
            3352651,
            3361637,
            3371133,
            3381180,
            3391662,
            3402818,
            3413766,
            3422200,
            3427042,
            3428409,
            3429086
           ]
          }
         ],
         "hovertemplate": "area=Uruguay<br>%{xaxis.title.text}=%{x}<br>%{yaxis.title.text}=%{y}<extra></extra>",
         "legendgroup": "Uruguay",
         "marker": {
          "color": "#1f9e89",
          "symbol": "circle"
         },
         "name": "Uruguay",
         "showlegend": true,
         "type": "splom"
        },
        {
         "dimensions": [
          {
           "axis": {
            "matches": true
           },
           "label": "year_pc",
           "values": [
            2000,
            2001,
            2002,
            2003,
            2004,
            2005,
            2006,
            2007,
            2008,
            2009,
            2010,
            2011,
            2012,
            2013,
            2014,
            2015,
            2016,
            2017,
            2018,
            2019,
            2020
           ]
          },
          {
           "axis": {
            "matches": true
           },
           "label": "total_kgs_CO2_9",
           "values": [
            52790.4,
            29102.4,
            0,
            0,
            0,
            0,
            0,
            0,
            0,
            0,
            0,
            0,
            0,
            0,
            0,
            0,
            0,
            0,
            0,
            0,
            0
           ]
          },
          {
           "axis": {
            "matches": true
           },
           "label": "Population",
           "values": [
            24650400,
            24964450,
            25271850,
            25567650,
            25864350,
            26167000,
            26488250,
            26868000,
            27302800,
            27767400,
            28562400,
            29339400,
            29774500,
            30243200,
            30757700,
            31298900,
            31847900,
            32388600,
            32956100,
            33580350,
            34232050
           ]
          }
         ],
         "hovertemplate": "area=Uzbekistan<br>%{xaxis.title.text}=%{x}<br>%{yaxis.title.text}=%{y}<extra></extra>",
         "legendgroup": "Uzbekistan",
         "marker": {
          "color": "#35b779",
          "symbol": "circle"
         },
         "name": "Uzbekistan",
         "showlegend": true,
         "type": "splom"
        },
        {
         "dimensions": [
          {
           "axis": {
            "matches": true
           },
           "label": "year_pc",
           "values": [
            2000,
            2001,
            2002,
            2003,
            2004,
            2005,
            2006,
            2007,
            2008,
            2009,
            2010,
            2011,
            2012,
            2013,
            2014,
            2015,
            2016,
            2017,
            2018,
            2019,
            2020
           ]
          },
          {
           "axis": {
            "matches": true
           },
           "label": "total_kgs_CO2_9",
           "values": [
            0,
            0,
            0,
            0,
            0,
            0,
            0,
            0,
            0,
            0,
            0,
            0,
            0,
            0,
            0,
            0,
            0,
            0,
            0,
            0,
            0
           ]
          },
          {
           "axis": {
            "matches": true
           },
           "label": "Population",
           "values": [
            192074,
            197034,
            202125,
            207258,
            212422,
            217632,
            222923,
            228345,
            233952,
            239689,
            245453,
            251294,
            257313,
            263534,
            269927,
            276438,
            283218,
            290239,
            297298,
            304404,
            311685
           ]
          }
         ],
         "hovertemplate": "area=Vanuatu<br>%{xaxis.title.text}=%{x}<br>%{yaxis.title.text}=%{y}<extra></extra>",
         "legendgroup": "Vanuatu",
         "marker": {
          "color": "#6ece58",
          "symbol": "circle"
         },
         "name": "Vanuatu",
         "showlegend": true,
         "type": "splom"
        },
        {
         "dimensions": [
          {
           "axis": {
            "matches": true
           },
           "label": "year_pc",
           "values": [
            2000,
            2001,
            2002,
            2003,
            2004,
            2005,
            2006,
            2007,
            2008,
            2009,
            2010,
            2011,
            2012,
            2013,
            2014,
            2015,
            2016,
            2017,
            2018,
            2019,
            2020
           ]
          },
          {
           "axis": {
            "matches": true
           },
           "label": "total_kgs_CO2_9",
           "values": [
            154505369.2,
            154454541.5,
            149239679,
            173291137.6,
            154527923.6,
            168931479.6,
            163810150.9,
            170034240.6,
            153484687,
            143657872.5,
            119902954,
            117741457.8,
            128072369.8,
            124339784,
            114685282.8,
            97385496.48,
            64723262.49,
            69999266.19,
            57279107.82,
            54688355.82,
            58121722.8
           ]
          },
          {
           "axis": {
            "matches": true
           },
           "label": "Population",
           "values": [
            24427729,
            24880203,
            25330929,
            25782029,
            26226927,
            26668785,
            27102081,
            27525097,
            27933833,
            28327892,
            28715022,
            29096159,
            29470426,
            29838021,
            30193258,
            30529716,
            30741464,
            30563433,
            29825653,
            28971683,
            28490453
           ]
          }
         ],
         "hovertemplate": "area=Venezuela (Bolivarian Republic of)<br>%{xaxis.title.text}=%{x}<br>%{yaxis.title.text}=%{y}<extra></extra>",
         "legendgroup": "Venezuela (Bolivarian Republic of)",
         "marker": {
          "color": "#b5de2b",
          "symbol": "circle"
         },
         "name": "Venezuela (Bolivarian Republic of)",
         "showlegend": true,
         "type": "splom"
        },
        {
         "dimensions": [
          {
           "axis": {
            "matches": true
           },
           "label": "year_pc",
           "values": [
            2000,
            2001,
            2002,
            2003,
            2004,
            2005,
            2006,
            2007,
            2008,
            2009,
            2010,
            2011,
            2012,
            2013,
            2014,
            2015,
            2016,
            2017,
            2018,
            2019,
            2020
           ]
          },
          {
           "axis": {
            "matches": true
           },
           "label": "total_kgs_CO2_9",
           "values": [
            260979156,
            253832148,
            296015400,
            292541724,
            270166716,
            258008004,
            287293140,
            300781764,
            279442260,
            269506836,
            278870364,
            304214358.2,
            330366925.4,
            350727709,
            345723855.8,
            319571897.8,
            284140013.4,
            319050254.2,
            312008251.7,
            273183856.6,
            202356245.9
           ]
          },
          {
           "axis": {
            "matches": true
           },
           "label": "Population",
           "values": [
            79001142,
            79817777,
            80642308,
            81475825,
            82311227,
            83142095,
            83951800,
            84762269,
            85597241,
            86482923,
            87411012,
            88349117,
            89301326,
            90267739,
            91235504,
            92191398,
            93126529,
            94033048,
            94914330,
            95776716,
            96648685
           ]
          }
         ],
         "hovertemplate": "area=Viet Nam<br>%{xaxis.title.text}=%{x}<br>%{yaxis.title.text}=%{y}<extra></extra>",
         "legendgroup": "Viet Nam",
         "marker": {
          "color": "#fde725",
          "symbol": "circle"
         },
         "name": "Viet Nam",
         "showlegend": true,
         "type": "splom"
        },
        {
         "dimensions": [
          {
           "axis": {
            "matches": true
           },
           "label": "year_pc",
           "values": [
            2000,
            2001,
            2002,
            2003,
            2004,
            2005,
            2006,
            2007,
            2008,
            2009,
            2010,
            2011,
            2012,
            2013,
            2014,
            2015,
            2016,
            2017,
            2018,
            2019,
            2020
           ]
          },
          {
           "axis": {
            "matches": true
           },
           "label": "total_kgs_CO2_9",
           "values": [
            0,
            0,
            0,
            0,
            0,
            0,
            0,
            0,
            0,
            0,
            0,
            0,
            0,
            0,
            0,
            0,
            0,
            0,
            0,
            0,
            0
           ]
          },
          {
           "axis": {
            "matches": true
           },
           "label": "Population",
           "values": [
            2922153,
            2997784,
            3075373,
            3154969,
            3236626,
            3320396,
            3406334,
            3494496,
            3591977,
            3689099,
            3786161,
            3882986,
            3979998,
            4076708,
            4173398,
            4270092,
            4367088,
            4454805,
            4569087,
            4685306,
            4803269
           ]
          }
         ],
         "hovertemplate": "area=Palestine<br>%{xaxis.title.text}=%{x}<br>%{yaxis.title.text}=%{y}<extra></extra>",
         "legendgroup": "Palestine",
         "marker": {
          "color": "#440154",
          "symbol": "circle"
         },
         "name": "Palestine",
         "showlegend": true,
         "type": "splom"
        },
        {
         "dimensions": [
          {
           "axis": {
            "matches": true
           },
           "label": "year_pc",
           "values": [
            2000,
            2001,
            2002,
            2003,
            2004,
            2005,
            2006,
            2007,
            2008,
            2009,
            2010,
            2011,
            2012,
            2013,
            2014,
            2015,
            2016,
            2017,
            2018,
            2019,
            2020
           ]
          },
          {
           "axis": {
            "matches": true
           },
           "label": "total_kgs_CO2_9",
           "values": [
            0,
            0,
            0,
            0,
            0,
            0,
            0,
            0,
            0,
            0,
            0,
            0,
            0,
            0,
            0,
            0,
            0,
            0,
            0,
            0,
            0
           ]
          },
          {
           "axis": {
            "matches": true
           },
           "label": "Population",
           "values": [
            18628700,
            19143457,
            19660653,
            20188799,
            20733406,
            21320671,
            21966298,
            22641538,
            23329004,
            24029589,
            24743946,
            25475610,
            26223391,
            26984002,
            27753304,
            28516545,
            29274002,
            30034389,
            30790513,
            31546691,
            32284046
           ]
          }
         ],
         "hovertemplate": "area=Yemen<br>%{xaxis.title.text}=%{x}<br>%{yaxis.title.text}=%{y}<extra></extra>",
         "legendgroup": "Yemen",
         "marker": {
          "color": "#482878",
          "symbol": "circle"
         },
         "name": "Yemen",
         "showlegend": true,
         "type": "splom"
        },
        {
         "dimensions": [
          {
           "axis": {
            "matches": true
           },
           "label": "year_pc",
           "values": [
            2000,
            2001,
            2002,
            2003,
            2004,
            2005,
            2006,
            2007,
            2008,
            2009,
            2010,
            2011,
            2012,
            2013,
            2014,
            2015,
            2016,
            2017,
            2018,
            2019,
            2020
           ]
          },
          {
           "axis": {
            "matches": true
           },
           "label": "total_kgs_CO2_9",
           "values": [
            27951840,
            34939800,
            40168080,
            40168080,
            41115600,
            40269600,
            42858360,
            42519960,
            35870400,
            55971360,
            64634400,
            73043640,
            74871000,
            79997760,
            80065440,
            72417600,
            71283960,
            76509659.7,
            80708400,
            81639000,
            84062324.7
           ]
          },
          {
           "axis": {
            "matches": true
           },
           "label": "Population",
           "values": [
            9891136,
            10191964,
            10508294,
            10837973,
            11188040,
            11564870,
            11971567,
            12402073,
            12852966,
            13318087,
            13792086,
            14265814,
            14744658,
            15234976,
            15737793,
            16248230,
            16767761,
            17298054,
            17835893,
            18380477,
            18927715
           ]
          }
         ],
         "hovertemplate": "area=Zambia<br>%{xaxis.title.text}=%{x}<br>%{yaxis.title.text}=%{y}<extra></extra>",
         "legendgroup": "Zambia",
         "marker": {
          "color": "#3e4989",
          "symbol": "circle"
         },
         "name": "Zambia",
         "showlegend": true,
         "type": "splom"
        },
        {
         "dimensions": [
          {
           "axis": {
            "matches": true
           },
           "label": "year_pc",
           "values": [
            2000,
            2001,
            2002,
            2003,
            2004,
            2005,
            2006,
            2007,
            2008,
            2009,
            2010,
            2011,
            2012,
            2013,
            2014,
            2015,
            2016,
            2017,
            2018,
            2019,
            2020
           ]
          },
          {
           "axis": {
            "matches": true
           },
           "label": "total_kgs_CO2_9",
           "values": [
            74236500,
            80962200,
            64591473.96,
            79287120,
            72206100,
            61710793.2,
            64495385.28,
            50830201.08,
            45382824,
            41086836,
            47147598.95,
            53660514.38,
            68957906.35,
            69453803.97,
            67950720,
            59101560,
            61165800,
            54443405.83,
            62907162.07,
            62314043.31,
            62145496.93
           ]
          },
          {
           "axis": {
            "matches": true
           },
           "label": "Population",
           "values": [
            11834676,
            11910978,
            11984644,
            12075828,
            12160881,
            12224753,
            12330490,
            12450568,
            12550347,
            12679810,
            12839771,
            13025785,
            13265331,
            13555422,
            13855753,
            14154937,
            14452704,
            14751101,
            15052184,
            15354608,
            15669666
           ]
          }
         ],
         "hovertemplate": "area=Zimbabwe<br>%{xaxis.title.text}=%{x}<br>%{yaxis.title.text}=%{y}<extra></extra>",
         "legendgroup": "Zimbabwe",
         "marker": {
          "color": "#31688e",
          "symbol": "circle"
         },
         "name": "Zimbabwe",
         "showlegend": true,
         "type": "splom"
        },
        {
         "dimensions": [
          {
           "axis": {
            "matches": true
           },
           "label": "year_pc",
           "values": [
            2000,
            2001,
            2002,
            2003,
            2004,
            2005,
            2006,
            2007,
            2008,
            2009,
            2010,
            2011,
            2012,
            2013,
            2014,
            2015,
            2016,
            2017,
            2018,
            2019,
            2020
           ]
          },
          {
           "axis": {
            "matches": true
           },
           "label": "total_kgs_CO2_9",
           "values": [
            52701231.6,
            40117133.88,
            36458048.52,
            31527036,
            21117006,
            16500587.04,
            12660508.44,
            13754555.64,
            13459893.84,
            11764002.24,
            12562812.36,
            12158035.2,
            9940787.64,
            9198354.96,
            9342699.48,
            11419494.12,
            9838049.4,
            8624208.6,
            10657417.32,
            9870231.24,
            9116428.32
           ]
          },
          {
           "axis": {
            "matches": true
           },
           "label": "Population",
           "values": [
            21194731,
            22333125,
            22469616,
            22593681,
            22703099,
            22796306,
            22874975,
            22942308,
            22998321,
            23044082,
            23083083,
            23143071,
            23234058,
            23330334,
            23422513,
            23512136,
            23594471,
            23665024,
            23726185,
            23777737,
            23821464
           ]
          }
         ],
         "hovertemplate": "area=China, Taiwan Province of<br>%{xaxis.title.text}=%{x}<br>%{yaxis.title.text}=%{y}<extra></extra>",
         "legendgroup": "China, Taiwan Province of",
         "marker": {
          "color": "#26828e",
          "symbol": "circle"
         },
         "name": "China, Taiwan Province of",
         "showlegend": true,
         "type": "splom"
        },
        {
         "dimensions": [
          {
           "axis": {
            "matches": true
           },
           "label": "year_pc",
           "values": [
            2000,
            2001,
            2002,
            2003,
            2004,
            2005,
            2006,
            2007,
            2008,
            2009,
            2010,
            2011,
            2012,
            2013,
            2014,
            2015,
            2016,
            2017,
            2018,
            2019,
            2020
           ]
          },
          {
           "axis": {
            "matches": true
           },
           "label": "total_kgs_CO2_9",
           "values": [
            0,
            0,
            0,
            0,
            0,
            0,
            0,
            0,
            0,
            0,
            0,
            0,
            0,
            0,
            0,
            0,
            0,
            0,
            0,
            0,
            0
           ]
          },
          {
           "axis": {
            "matches": true
           },
           "label": "Population",
           "values": [
            17930,
            18025,
            18278,
            18608,
            18904,
            19074,
            19092,
            19001,
            18818,
            18602,
            18391,
            18195,
            18011,
            17833,
            17691,
            17586,
            17524,
            17507,
            17518,
            17548,
            17564
           ]
          }
         ],
         "hovertemplate": "area=Cook Islands<br>%{xaxis.title.text}=%{x}<br>%{yaxis.title.text}=%{y}<extra></extra>",
         "legendgroup": "Cook Islands",
         "marker": {
          "color": "#1f9e89",
          "symbol": "circle"
         },
         "name": "Cook Islands",
         "showlegend": true,
         "type": "splom"
        },
        {
         "dimensions": [
          {
           "axis": {
            "matches": true
           },
           "label": "year_pc",
           "values": [
            2000,
            2001,
            2002,
            2003,
            2004,
            2005,
            2006,
            2007,
            2008,
            2009,
            2010,
            2011,
            2012,
            2013,
            2014,
            2015,
            2016,
            2017,
            2018,
            2019,
            2020
           ]
          },
          {
           "axis": {
            "matches": true
           },
           "label": "total_kgs_CO2_9",
           "values": [
            104904,
            89676,
            90522,
            103212,
            90522,
            90522,
            117881.64,
            0,
            0,
            0,
            0,
            0,
            0,
            0,
            0,
            0,
            0,
            0,
            0,
            0,
            0
           ]
          },
          {
           "axis": {
            "matches": true
           },
           "label": "Population",
           "values": [
            162018,
            168614,
            176638,
            184792,
            193167,
            199206,
            205954,
            213031,
            219266,
            224469,
            229040,
            237549,
            239648,
            244118,
            252338,
            259865,
            269352,
            268700,
            276128,
            281678,
            286032
           ]
          }
         ],
         "hovertemplate": "area=French Guyana<br>%{xaxis.title.text}=%{x}<br>%{yaxis.title.text}=%{y}<extra></extra>",
         "legendgroup": "French Guyana",
         "marker": {
          "color": "#35b779",
          "symbol": "circle"
         },
         "name": "French Guyana",
         "showlegend": true,
         "type": "splom"
        },
        {
         "dimensions": [
          {
           "axis": {
            "matches": true
           },
           "label": "year_pc",
           "values": [
            2000,
            2001,
            2002,
            2003,
            2004,
            2005,
            2006,
            2007,
            2008,
            2009,
            2010,
            2011,
            2012,
            2013,
            2014,
            2015,
            2016,
            2017,
            2018,
            2019,
            2020
           ]
          },
          {
           "axis": {
            "matches": true
           },
           "label": "total_kgs_CO2_9",
           "values": [
            13171069.44,
            10417525.56,
            13174131.96,
            11267332.56,
            15793178.76,
            15637853.16,
            13743879.12,
            0,
            0,
            0,
            0,
            0,
            0,
            0,
            0,
            0,
            0,
            0,
            0,
            0,
            0
           ]
          },
          {
           "axis": {
            "matches": true
           },
           "label": "Population",
           "values": [
            422051,
            420238,
            416136,
            410860,
            406063,
            402904,
            401813,
            402895,
            403965,
            405448,
            406071,
            405640,
            404448,
            402829,
            401314,
            400255,
            399763,
            399672,
            399848,
            400056,
            400124
           ]
          }
         ],
         "hovertemplate": "area=Guadeloupe<br>%{xaxis.title.text}=%{x}<br>%{yaxis.title.text}=%{y}<extra></extra>",
         "legendgroup": "Guadeloupe",
         "marker": {
          "color": "#6ece58",
          "symbol": "circle"
         },
         "name": "Guadeloupe",
         "showlegend": true,
         "type": "splom"
        },
        {
         "dimensions": [
          {
           "axis": {
            "matches": true
           },
           "label": "year_pc",
           "values": [
            2000,
            2001,
            2002,
            2003,
            2004,
            2005,
            2006,
            2007,
            2008,
            2009,
            2010,
            2011,
            2012,
            2013,
            2014,
            2015,
            2016,
            2017,
            2018,
            2019,
            2020
           ]
          },
          {
           "axis": {
            "matches": true
           },
           "label": "total_kgs_CO2_9",
           "values": [
            4036655.16,
            3552675.48,
            4169646.36,
            3164276.88,
            3888080.64,
            3674076.48,
            2861188.92,
            0,
            0,
            0,
            0,
            0,
            0,
            0,
            0,
            0,
            0,
            0,
            0,
            0,
            0
           ]
          },
          {
           "axis": {
            "matches": true
           },
           "label": "Population",
           "values": [
            387004,
            389987,
            392500,
            394534,
            396103,
            397190,
            397847,
            398046,
            397668,
            396565,
            394663,
            391878,
            388357,
            384576,
            381138,
            378478,
            376791,
            375948,
            375673,
            375554,
            375265
           ]
          }
         ],
         "hovertemplate": "area=Martinique<br>%{xaxis.title.text}=%{x}<br>%{yaxis.title.text}=%{y}<extra></extra>",
         "legendgroup": "Martinique",
         "marker": {
          "color": "#b5de2b",
          "symbol": "circle"
         },
         "name": "Martinique",
         "showlegend": true,
         "type": "splom"
        },
        {
         "dimensions": [
          {
           "axis": {
            "matches": true
           },
           "label": "year_pc",
           "values": [
            2000,
            2001,
            2002,
            2003,
            2004,
            2005,
            2006,
            2007,
            2008,
            2009,
            2010,
            2011,
            2012,
            2013,
            2014,
            2015,
            2016,
            2017,
            2018,
            2019,
            2020
           ]
          },
          {
           "axis": {
            "matches": true
           },
           "label": "total_kgs_CO2_9",
           "values": [
            0,
            0,
            0,
            0,
            0,
            0,
            0,
            0,
            0,
            0,
            0,
            0,
            0,
            0,
            0,
            0,
            0,
            0,
            0,
            0,
            0
           ]
          },
          {
           "axis": {
            "matches": true
           },
           "label": "Population",
           "values": [
            1899,
            1854,
            1791,
            1755,
            1715,
            1683,
            1661,
            1643,
            1635,
            1628,
            1618,
            1620,
            1610,
            1612,
            1609,
            1619,
            1614,
            1609,
            1620,
            1615,
            1626
           ]
          }
         ],
         "hovertemplate": "area=Niue<br>%{xaxis.title.text}=%{x}<br>%{yaxis.title.text}=%{y}<extra></extra>",
         "legendgroup": "Niue",
         "marker": {
          "color": "#fde725",
          "symbol": "circle"
         },
         "name": "Niue",
         "showlegend": true,
         "type": "splom"
        },
        {
         "dimensions": [
          {
           "axis": {
            "matches": true
           },
           "label": "year_pc",
           "values": [
            2000,
            2001,
            2002,
            2003,
            2004,
            2005,
            2006,
            2007,
            2008,
            2009,
            2010,
            2011,
            2012,
            2013,
            2014,
            2015,
            2016,
            2017,
            2018,
            2019,
            2020
           ]
          },
          {
           "axis": {
            "matches": true
           },
           "label": "total_kgs_CO2_9",
           "values": [
            32333680.08,
            32172821.64,
            32056496.64,
            33616486.8,
            34548778.8,
            31808754,
            32981496.12,
            0,
            0,
            0,
            0,
            0,
            0,
            0,
            0,
            0,
            0,
            0,
            0,
            0,
            0
           ]
          },
          {
           "axis": {
            "matches": true
           },
           "label": "Population",
           "values": [
            736710,
            748658,
            760258,
            771384,
            781864,
            791598,
            800540,
            808730,
            816318,
            823522,
            830519,
            837335,
            843984,
            850514,
            856961,
            863363,
            869743,
            876134,
            882526,
            888927,
            895312
           ]
          }
         ],
         "hovertemplate": "area=Reunion<br>%{xaxis.title.text}=%{x}<br>%{yaxis.title.text}=%{y}<extra></extra>",
         "legendgroup": "Reunion",
         "marker": {
          "color": "#440154",
          "symbol": "circle"
         },
         "name": "Reunion",
         "showlegend": true,
         "type": "splom"
        },
        {
         "dimensions": [
          {
           "axis": {
            "matches": true
           },
           "label": "year_pc",
           "values": [
            2000,
            2001,
            2002,
            2003,
            2004,
            2005
           ]
          },
          {
           "axis": {
            "matches": true
           },
           "label": "total_kgs_CO2_9",
           "values": [
            651778.5348,
            1100329.596,
            1277948.65,
            1058653.606,
            1609846.463,
            1866446.046
           ]
          },
          {
           "axis": {
            "matches": true
           },
           "label": "Population",
           "values": [
            8121296,
            8110822,
            8106350,
            8092858,
            8076510,
            8055030
           ]
          }
         ],
         "hovertemplate": "area=Serbia and Montenegro<br>%{xaxis.title.text}=%{x}<br>%{yaxis.title.text}=%{y}<extra></extra>",
         "legendgroup": "Serbia and Montenegro",
         "marker": {
          "color": "#482878",
          "symbol": "circle"
         },
         "name": "Serbia and Montenegro",
         "showlegend": true,
         "type": "splom"
        },
        {
         "dimensions": [
          {
           "axis": {
            "matches": true
           },
           "label": "year_pc",
           "values": [
            2000,
            2001,
            2002,
            2003,
            2004,
            2005,
            2006,
            2007,
            2008,
            2009,
            2010,
            2011
           ]
          },
          {
           "axis": {
            "matches": true
           },
           "label": "total_kgs_CO2_9",
           "values": [
            88606334.52,
            97717906.8,
            106325280,
            114852960,
            123076080,
            126527760,
            122957640,
            130825440,
            130341528,
            131750964,
            118372320,
            108206784
           ]
          },
          {
           "axis": {
            "matches": true
           },
           "label": "Population",
           "values": [
            26298773,
            26947253,
            27570318,
            28188977,
            28831550,
            29540577,
            30332968,
            31191163,
            32065241,
            32948155,
            33739933,
            34419624
           ]
          }
         ],
         "hovertemplate": "area=Sudan (former)<br>%{xaxis.title.text}=%{x}<br>%{yaxis.title.text}=%{y}<extra></extra>",
         "legendgroup": "Sudan (former)",
         "marker": {
          "color": "#3e4989",
          "symbol": "circle"
         },
         "name": "Sudan (former)",
         "showlegend": true,
         "type": "splom"
        }
       ],
       "layout": {
        "dragmode": "select",
        "legend": {
         "title": {
          "text": "area"
         },
         "tracegroupgap": 0
        },
        "margin": {
         "t": 60
        },
        "template": {
         "data": {
          "bar": [
           {
            "error_x": {
             "color": "#2a3f5f"
            },
            "error_y": {
             "color": "#2a3f5f"
            },
            "marker": {
             "line": {
              "color": "#E5ECF6",
              "width": 0.5
             },
             "pattern": {
              "fillmode": "overlay",
              "size": 10,
              "solidity": 0.2
             }
            },
            "type": "bar"
           }
          ],
          "barpolar": [
           {
            "marker": {
             "line": {
              "color": "#E5ECF6",
              "width": 0.5
             },
             "pattern": {
              "fillmode": "overlay",
              "size": 10,
              "solidity": 0.2
             }
            },
            "type": "barpolar"
           }
          ],
          "carpet": [
           {
            "aaxis": {
             "endlinecolor": "#2a3f5f",
             "gridcolor": "white",
             "linecolor": "white",
             "minorgridcolor": "white",
             "startlinecolor": "#2a3f5f"
            },
            "baxis": {
             "endlinecolor": "#2a3f5f",
             "gridcolor": "white",
             "linecolor": "white",
             "minorgridcolor": "white",
             "startlinecolor": "#2a3f5f"
            },
            "type": "carpet"
           }
          ],
          "choropleth": [
           {
            "colorbar": {
             "outlinewidth": 0,
             "ticks": ""
            },
            "type": "choropleth"
           }
          ],
          "contour": [
           {
            "colorbar": {
             "outlinewidth": 0,
             "ticks": ""
            },
            "colorscale": [
             [
              0,
              "#0d0887"
             ],
             [
              0.1111111111111111,
              "#46039f"
             ],
             [
              0.2222222222222222,
              "#7201a8"
             ],
             [
              0.3333333333333333,
              "#9c179e"
             ],
             [
              0.4444444444444444,
              "#bd3786"
             ],
             [
              0.5555555555555556,
              "#d8576b"
             ],
             [
              0.6666666666666666,
              "#ed7953"
             ],
             [
              0.7777777777777778,
              "#fb9f3a"
             ],
             [
              0.8888888888888888,
              "#fdca26"
             ],
             [
              1,
              "#f0f921"
             ]
            ],
            "type": "contour"
           }
          ],
          "contourcarpet": [
           {
            "colorbar": {
             "outlinewidth": 0,
             "ticks": ""
            },
            "type": "contourcarpet"
           }
          ],
          "heatmap": [
           {
            "colorbar": {
             "outlinewidth": 0,
             "ticks": ""
            },
            "colorscale": [
             [
              0,
              "#0d0887"
             ],
             [
              0.1111111111111111,
              "#46039f"
             ],
             [
              0.2222222222222222,
              "#7201a8"
             ],
             [
              0.3333333333333333,
              "#9c179e"
             ],
             [
              0.4444444444444444,
              "#bd3786"
             ],
             [
              0.5555555555555556,
              "#d8576b"
             ],
             [
              0.6666666666666666,
              "#ed7953"
             ],
             [
              0.7777777777777778,
              "#fb9f3a"
             ],
             [
              0.8888888888888888,
              "#fdca26"
             ],
             [
              1,
              "#f0f921"
             ]
            ],
            "type": "heatmap"
           }
          ],
          "heatmapgl": [
           {
            "colorbar": {
             "outlinewidth": 0,
             "ticks": ""
            },
            "colorscale": [
             [
              0,
              "#0d0887"
             ],
             [
              0.1111111111111111,
              "#46039f"
             ],
             [
              0.2222222222222222,
              "#7201a8"
             ],
             [
              0.3333333333333333,
              "#9c179e"
             ],
             [
              0.4444444444444444,
              "#bd3786"
             ],
             [
              0.5555555555555556,
              "#d8576b"
             ],
             [
              0.6666666666666666,
              "#ed7953"
             ],
             [
              0.7777777777777778,
              "#fb9f3a"
             ],
             [
              0.8888888888888888,
              "#fdca26"
             ],
             [
              1,
              "#f0f921"
             ]
            ],
            "type": "heatmapgl"
           }
          ],
          "histogram": [
           {
            "marker": {
             "pattern": {
              "fillmode": "overlay",
              "size": 10,
              "solidity": 0.2
             }
            },
            "type": "histogram"
           }
          ],
          "histogram2d": [
           {
            "colorbar": {
             "outlinewidth": 0,
             "ticks": ""
            },
            "colorscale": [
             [
              0,
              "#0d0887"
             ],
             [
              0.1111111111111111,
              "#46039f"
             ],
             [
              0.2222222222222222,
              "#7201a8"
             ],
             [
              0.3333333333333333,
              "#9c179e"
             ],
             [
              0.4444444444444444,
              "#bd3786"
             ],
             [
              0.5555555555555556,
              "#d8576b"
             ],
             [
              0.6666666666666666,
              "#ed7953"
             ],
             [
              0.7777777777777778,
              "#fb9f3a"
             ],
             [
              0.8888888888888888,
              "#fdca26"
             ],
             [
              1,
              "#f0f921"
             ]
            ],
            "type": "histogram2d"
           }
          ],
          "histogram2dcontour": [
           {
            "colorbar": {
             "outlinewidth": 0,
             "ticks": ""
            },
            "colorscale": [
             [
              0,
              "#0d0887"
             ],
             [
              0.1111111111111111,
              "#46039f"
             ],
             [
              0.2222222222222222,
              "#7201a8"
             ],
             [
              0.3333333333333333,
              "#9c179e"
             ],
             [
              0.4444444444444444,
              "#bd3786"
             ],
             [
              0.5555555555555556,
              "#d8576b"
             ],
             [
              0.6666666666666666,
              "#ed7953"
             ],
             [
              0.7777777777777778,
              "#fb9f3a"
             ],
             [
              0.8888888888888888,
              "#fdca26"
             ],
             [
              1,
              "#f0f921"
             ]
            ],
            "type": "histogram2dcontour"
           }
          ],
          "mesh3d": [
           {
            "colorbar": {
             "outlinewidth": 0,
             "ticks": ""
            },
            "type": "mesh3d"
           }
          ],
          "parcoords": [
           {
            "line": {
             "colorbar": {
              "outlinewidth": 0,
              "ticks": ""
             }
            },
            "type": "parcoords"
           }
          ],
          "pie": [
           {
            "automargin": true,
            "type": "pie"
           }
          ],
          "scatter": [
           {
            "marker": {
             "colorbar": {
              "outlinewidth": 0,
              "ticks": ""
             }
            },
            "type": "scatter"
           }
          ],
          "scatter3d": [
           {
            "line": {
             "colorbar": {
              "outlinewidth": 0,
              "ticks": ""
             }
            },
            "marker": {
             "colorbar": {
              "outlinewidth": 0,
              "ticks": ""
             }
            },
            "type": "scatter3d"
           }
          ],
          "scattercarpet": [
           {
            "marker": {
             "colorbar": {
              "outlinewidth": 0,
              "ticks": ""
             }
            },
            "type": "scattercarpet"
           }
          ],
          "scattergeo": [
           {
            "marker": {
             "colorbar": {
              "outlinewidth": 0,
              "ticks": ""
             }
            },
            "type": "scattergeo"
           }
          ],
          "scattergl": [
           {
            "marker": {
             "colorbar": {
              "outlinewidth": 0,
              "ticks": ""
             }
            },
            "type": "scattergl"
           }
          ],
          "scattermapbox": [
           {
            "marker": {
             "colorbar": {
              "outlinewidth": 0,
              "ticks": ""
             }
            },
            "type": "scattermapbox"
           }
          ],
          "scatterpolar": [
           {
            "marker": {
             "colorbar": {
              "outlinewidth": 0,
              "ticks": ""
             }
            },
            "type": "scatterpolar"
           }
          ],
          "scatterpolargl": [
           {
            "marker": {
             "colorbar": {
              "outlinewidth": 0,
              "ticks": ""
             }
            },
            "type": "scatterpolargl"
           }
          ],
          "scatterternary": [
           {
            "marker": {
             "colorbar": {
              "outlinewidth": 0,
              "ticks": ""
             }
            },
            "type": "scatterternary"
           }
          ],
          "surface": [
           {
            "colorbar": {
             "outlinewidth": 0,
             "ticks": ""
            },
            "colorscale": [
             [
              0,
              "#0d0887"
             ],
             [
              0.1111111111111111,
              "#46039f"
             ],
             [
              0.2222222222222222,
              "#7201a8"
             ],
             [
              0.3333333333333333,
              "#9c179e"
             ],
             [
              0.4444444444444444,
              "#bd3786"
             ],
             [
              0.5555555555555556,
              "#d8576b"
             ],
             [
              0.6666666666666666,
              "#ed7953"
             ],
             [
              0.7777777777777778,
              "#fb9f3a"
             ],
             [
              0.8888888888888888,
              "#fdca26"
             ],
             [
              1,
              "#f0f921"
             ]
            ],
            "type": "surface"
           }
          ],
          "table": [
           {
            "cells": {
             "fill": {
              "color": "#EBF0F8"
             },
             "line": {
              "color": "white"
             }
            },
            "header": {
             "fill": {
              "color": "#C8D4E3"
             },
             "line": {
              "color": "white"
             }
            },
            "type": "table"
           }
          ]
         },
         "layout": {
          "annotationdefaults": {
           "arrowcolor": "#2a3f5f",
           "arrowhead": 0,
           "arrowwidth": 1
          },
          "autotypenumbers": "strict",
          "coloraxis": {
           "colorbar": {
            "outlinewidth": 0,
            "ticks": ""
           }
          },
          "colorscale": {
           "diverging": [
            [
             0,
             "#8e0152"
            ],
            [
             0.1,
             "#c51b7d"
            ],
            [
             0.2,
             "#de77ae"
            ],
            [
             0.3,
             "#f1b6da"
            ],
            [
             0.4,
             "#fde0ef"
            ],
            [
             0.5,
             "#f7f7f7"
            ],
            [
             0.6,
             "#e6f5d0"
            ],
            [
             0.7,
             "#b8e186"
            ],
            [
             0.8,
             "#7fbc41"
            ],
            [
             0.9,
             "#4d9221"
            ],
            [
             1,
             "#276419"
            ]
           ],
           "sequential": [
            [
             0,
             "#0d0887"
            ],
            [
             0.1111111111111111,
             "#46039f"
            ],
            [
             0.2222222222222222,
             "#7201a8"
            ],
            [
             0.3333333333333333,
             "#9c179e"
            ],
            [
             0.4444444444444444,
             "#bd3786"
            ],
            [
             0.5555555555555556,
             "#d8576b"
            ],
            [
             0.6666666666666666,
             "#ed7953"
            ],
            [
             0.7777777777777778,
             "#fb9f3a"
            ],
            [
             0.8888888888888888,
             "#fdca26"
            ],
            [
             1,
             "#f0f921"
            ]
           ],
           "sequentialminus": [
            [
             0,
             "#0d0887"
            ],
            [
             0.1111111111111111,
             "#46039f"
            ],
            [
             0.2222222222222222,
             "#7201a8"
            ],
            [
             0.3333333333333333,
             "#9c179e"
            ],
            [
             0.4444444444444444,
             "#bd3786"
            ],
            [
             0.5555555555555556,
             "#d8576b"
            ],
            [
             0.6666666666666666,
             "#ed7953"
            ],
            [
             0.7777777777777778,
             "#fb9f3a"
            ],
            [
             0.8888888888888888,
             "#fdca26"
            ],
            [
             1,
             "#f0f921"
            ]
           ]
          },
          "colorway": [
           "#636efa",
           "#EF553B",
           "#00cc96",
           "#ab63fa",
           "#FFA15A",
           "#19d3f3",
           "#FF6692",
           "#B6E880",
           "#FF97FF",
           "#FECB52"
          ],
          "font": {
           "color": "#2a3f5f"
          },
          "geo": {
           "bgcolor": "white",
           "lakecolor": "white",
           "landcolor": "#E5ECF6",
           "showlakes": true,
           "showland": true,
           "subunitcolor": "white"
          },
          "hoverlabel": {
           "align": "left"
          },
          "hovermode": "closest",
          "mapbox": {
           "style": "light"
          },
          "paper_bgcolor": "white",
          "plot_bgcolor": "#E5ECF6",
          "polar": {
           "angularaxis": {
            "gridcolor": "white",
            "linecolor": "white",
            "ticks": ""
           },
           "bgcolor": "#E5ECF6",
           "radialaxis": {
            "gridcolor": "white",
            "linecolor": "white",
            "ticks": ""
           }
          },
          "scene": {
           "xaxis": {
            "backgroundcolor": "#E5ECF6",
            "gridcolor": "white",
            "gridwidth": 2,
            "linecolor": "white",
            "showbackground": true,
            "ticks": "",
            "zerolinecolor": "white"
           },
           "yaxis": {
            "backgroundcolor": "#E5ECF6",
            "gridcolor": "white",
            "gridwidth": 2,
            "linecolor": "white",
            "showbackground": true,
            "ticks": "",
            "zerolinecolor": "white"
           },
           "zaxis": {
            "backgroundcolor": "#E5ECF6",
            "gridcolor": "white",
            "gridwidth": 2,
            "linecolor": "white",
            "showbackground": true,
            "ticks": "",
            "zerolinecolor": "white"
           }
          },
          "shapedefaults": {
           "line": {
            "color": "#2a3f5f"
           }
          },
          "ternary": {
           "aaxis": {
            "gridcolor": "white",
            "linecolor": "white",
            "ticks": ""
           },
           "baxis": {
            "gridcolor": "white",
            "linecolor": "white",
            "ticks": ""
           },
           "bgcolor": "#E5ECF6",
           "caxis": {
            "gridcolor": "white",
            "linecolor": "white",
            "ticks": ""
           }
          },
          "title": {
           "x": 0.05
          },
          "xaxis": {
           "automargin": true,
           "gridcolor": "white",
           "linecolor": "white",
           "ticks": "",
           "title": {
            "standoff": 15
           },
           "zerolinecolor": "white",
           "zerolinewidth": 2
          },
          "yaxis": {
           "automargin": true,
           "gridcolor": "white",
           "linecolor": "white",
           "ticks": "",
           "title": {
            "standoff": 15
           },
           "zerolinecolor": "white",
           "zerolinewidth": 2
          }
         }
        }
       }
      },
      "text/html": [
       "<div>                            <div id=\"c46abdfb-7ae2-4f59-b661-9c607b458b98\" class=\"plotly-graph-div\" style=\"height:525px; width:100%;\"></div>            <script type=\"text/javascript\">                require([\"plotly\"], function(Plotly) {                    window.PLOTLYENV=window.PLOTLYENV || {};                                    if (document.getElementById(\"c46abdfb-7ae2-4f59-b661-9c607b458b98\")) {                    Plotly.newPlot(                        \"c46abdfb-7ae2-4f59-b661-9c607b458b98\",                        [{\"dimensions\":[{\"axis\":{\"matches\":true},\"label\":\"year_pc\",\"values\":[2000,2001,2002,2003,2004,2005,2006,2007,2008,2009,2010,2011,2012,2013,2014,2015,2016,2017,2018,2019,2020]},{\"axis\":{\"matches\":true},\"label\":\"total_kgs_CO2_9\",\"values\":[651420.0,651420.0,651420.0,1023660.0,1027890.0,653112.0,1194552.0,1270639.548,1084162.536,2106117.0,1576224.731,1577259.558,1323492.89,1533409.517,1282773.218,791656.1748,295889.346,573785.2872,435566.1456,627250.2876,687524.9112]},{\"axis\":{\"matches\":true},\"label\":\"Population\",\"values\":[19542982,19688632,21000256,22645130,23553551,24411191,25442944,25903301,26427199,27385307,28189672,29249157,30466479,31541209,32716210,33753499,34636207,35643418,36686784,37769499,38972230]}],\"hovertemplate\":\"area=Afghanistan<br>%{xaxis.title.text}=%{x}<br>%{yaxis.title.text}=%{y}<extra></extra>\",\"legendgroup\":\"Afghanistan\",\"marker\":{\"color\":\"#440154\",\"symbol\":\"circle\"},\"name\":\"Afghanistan\",\"showlegend\":true,\"type\":\"splom\"},{\"dimensions\":[{\"axis\":{\"matches\":true},\"label\":\"year_pc\",\"values\":[2000,2001,2002,2003,2004,2005,2006,2007,2008,2009,2010,2011,2012,2013,2014,2015,2016,2017,2018,2019,2020]},{\"axis\":{\"matches\":true},\"label\":\"total_kgs_CO2_9\",\"values\":[26395.2,25718.4,25718.4,25718.4,25718.4,25718.4,33840.0,26395.2,26395.2,26395.2,26395.2,26395.2,26395.2,26395.2,26385.894,21836.4444,20845.44,19694.88,18950.4,19603.6812,17347.5684]},{\"axis\":{\"matches\":true},\"label\":\"Population\",\"values\":[3089027,3060173,3051010,3039616,3026939,3011487,2992547,2970017,2947314,2927519,2913021,2905195,2900401,2895092,2889104,2880703,2876101,2873457,2866376,2854191,2837849]}],\"hovertemplate\":\"area=Albania<br>%{xaxis.title.text}=%{x}<br>%{yaxis.title.text}=%{y}<extra></extra>\",\"legendgroup\":\"Albania\",\"marker\":{\"color\":\"#482878\",\"symbol\":\"circle\"},\"name\":\"Albania\",\"showlegend\":true,\"type\":\"splom\"},{\"dimensions\":[{\"axis\":{\"matches\":true},\"label\":\"year_pc\",\"values\":[2000,2001,2002,2003,2004,2005,2006,2007,2008,2009,2010,2011,2012,2013,2014,2015,2016,2017,2018,2019,2020]},{\"axis\":{\"matches\":true},\"label\":\"total_kgs_CO2_9\",\"values\":[0.0,0.0,0.0,0.0,0.0,0.0,0.0,0.0,0.0,0.0,0.0,0.0,0.0,0.0,0.0,0.0,0.0,0.0,0.0,0.0,0.0]},{\"axis\":{\"matches\":true},\"label\":\"Population\",\"values\":[30774621,31200985,31624696,32055883,32510186,32956690,33435080,33983827,34569592,35196037,35856344,36543541,37260563,38000626,38760168,39543154,40339329,41136546,41927007,42705368,43451666]}],\"hovertemplate\":\"area=Algeria<br>%{xaxis.title.text}=%{x}<br>%{yaxis.title.text}=%{y}<extra></extra>\",\"legendgroup\":\"Algeria\",\"marker\":{\"color\":\"#3e4989\",\"symbol\":\"circle\"},\"name\":\"Algeria\",\"showlegend\":true,\"type\":\"splom\"},{\"dimensions\":[{\"axis\":{\"matches\":true},\"label\":\"year_pc\",\"values\":[2000,2001,2002,2003,2004,2005,2006,2007,2008,2009,2010,2011,2012,2013,2014,2015,2016,2017,2018,2019,2020]},{\"axis\":{\"matches\":true},\"label\":\"total_kgs_CO2_9\",\"values\":[6115797.45,6290534.52,6290534.52,6290534.52,6028429.0,6028429.0,7863168.15,8736853.5,9086327.64,8736853.5,8769606.559,8944854.275,9119714.692,8944998.772,8616900.175,7578197.28,8915132.095,10188225.72,11326603.32,13451400.0,15363360.0]},{\"axis\":{\"matches\":true},\"label\":\"Population\",\"values\":[16394062,16941587,17516139,18124342,18771125,19450959,20162340,20909684,21691522,22507674,23364185,24259111,25188292,26147002,27128337,28127721,29154746,30208628,31273533,32353588,33428486]}],\"hovertemplate\":\"area=Angola<br>%{xaxis.title.text}=%{x}<br>%{yaxis.title.text}=%{y}<extra></extra>\",\"legendgroup\":\"Angola\",\"marker\":{\"color\":\"#31688e\",\"symbol\":\"circle\"},\"name\":\"Angola\",\"showlegend\":true,\"type\":\"splom\"},{\"dimensions\":[{\"axis\":{\"matches\":true},\"label\":\"year_pc\",\"values\":[2000,2001,2002,2003,2004,2005,2006,2007,2008,2009,2010,2011,2012,2013,2014,2015,2016,2017,2018,2019,2020]},{\"axis\":{\"matches\":true},\"label\":\"total_kgs_CO2_9\",\"values\":[0.0,0.0,0.0,0.0,0.0,0.0,0.0,0.0,0.0,0.0,0.0,0.0,0.0,0.0,0.0,0.0,0.0,0.0,0.0,0.0,0.0]},{\"axis\":{\"matches\":true},\"label\":\"Population\",\"values\":[75055,76215,77195,78075,78941,79869,80895,82016,83251,84534,85695,86729,87674,88497,89236,89941,90564,91119,91626,92117,92664]}],\"hovertemplate\":\"area=Antigua and Barbuda<br>%{xaxis.title.text}=%{x}<br>%{yaxis.title.text}=%{y}<extra></extra>\",\"legendgroup\":\"Antigua and Barbuda\",\"marker\":{\"color\":\"#26828e\",\"symbol\":\"circle\"},\"name\":\"Antigua and Barbuda\",\"showlegend\":true,\"type\":\"splom\"},{\"dimensions\":[{\"axis\":{\"matches\":true},\"label\":\"year_pc\",\"values\":[2000,2001,2002,2003,2004,2005,2006,2007,2008,2009,2010,2011,2012,2013,2014,2015,2016,2017,2018,2019,2020]},{\"axis\":{\"matches\":true},\"label\":\"total_kgs_CO2_9\",\"values\":[320464800.0,326166840.0,335269800.0,383576400.0,363272400.0,424776600.0,460308600.0,418093200.0,467668800.0,468853200.0,330614735.8,346468978.8,346122085.0,410733000.0,367186334.4,313405640.6,322767307.4,329598385.2,323696689.2,324959327.3,326479589.3]},{\"axis\":{\"matches\":true},\"label\":\"Population\",\"values\":[37070774,37480493,37885028,38278164,38668796,39070501,39476851,39876111,40273769,40684338,40788453,41261490,41733271,42202935,42669500,43131966,43590368,44044811,44494502,44938712,45376763]}],\"hovertemplate\":\"area=Argentina<br>%{xaxis.title.text}=%{x}<br>%{yaxis.title.text}=%{y}<extra></extra>\",\"legendgroup\":\"Argentina\",\"marker\":{\"color\":\"#1f9e89\",\"symbol\":\"circle\"},\"name\":\"Argentina\",\"showlegend\":true,\"type\":\"splom\"},{\"dimensions\":[{\"axis\":{\"matches\":true},\"label\":\"year_pc\",\"values\":[2000,2001,2002,2003,2004,2005,2006,2007,2008,2009,2010,2011,2012,2013,2014,2015,2016,2017,2018,2019,2020]},{\"axis\":{\"matches\":true},\"label\":\"total_kgs_CO2_9\",\"values\":[0.0,0.0,609.12,947.52,3654.72,9745.92,11370.24,16920.0,19627.2,4466.88,16920.0,37900.8,36344.16,36559.7208,38070.0,36372.078,36380.8764,36334.008,35396.64,34736.76,34760.7864]},{\"axis\":{\"matches\":true},\"label\":\"Population\",\"values\":[3168523,3133133,3105037,3084102,3065745,3047246,3026486,3004393,2983421,2964296,2946293,2928976,2914421,2901385,2889930,2878595,2865835,2851923,2836557,2820602,2805608]}],\"hovertemplate\":\"area=Armenia<br>%{xaxis.title.text}=%{x}<br>%{yaxis.title.text}=%{y}<extra></extra>\",\"legendgroup\":\"Armenia\",\"marker\":{\"color\":\"#35b779\",\"symbol\":\"circle\"},\"name\":\"Armenia\",\"showlegend\":true,\"type\":\"splom\"},{\"dimensions\":[{\"axis\":{\"matches\":true},\"label\":\"year_pc\",\"values\":[2000,2001,2002,2003,2004,2005,2006,2007,2008,2009,2010,2011,2012,2013,2014,2015,2016,2017,2018,2019,2020]},{\"axis\":{\"matches\":true},\"label\":\"total_kgs_CO2_9\",\"values\":[663827419.1,489059074.1,546587470.0,643482083.5,643455294.1,657870130.7,645797348.7,633080615.0,567403792.4,546597385.2,542570662.1,443165492.9,454489676.6,474675067.4,533735478.0,565875051.8,600710827.7,635540512.3,585885963.6,565387755.8,529654475.5]},{\"axis\":{\"matches\":true},\"label\":\"Population\",\"values\":[19028802,19274701,19495210,19720737,19932722,20176844,20450966,20827622,21249199,21691653,22031750,22340024,22733465,23128129,23475686,23815995,24190907,24594202,24966643,25340217,25655289]}],\"hovertemplate\":\"area=Australia<br>%{xaxis.title.text}=%{x}<br>%{yaxis.title.text}=%{y}<extra></extra>\",\"legendgroup\":\"Australia\",\"marker\":{\"color\":\"#6ece58\",\"symbol\":\"circle\"},\"name\":\"Australia\",\"showlegend\":true,\"type\":\"splom\"},{\"dimensions\":[{\"axis\":{\"matches\":true},\"label\":\"year_pc\",\"values\":[2000,2001,2002,2003,2004,2005,2006,2007,2008,2009,2010,2011,2012,2013,2014,2015,2016,2017,2018,2019,2020]},{\"axis\":{\"matches\":true},\"label\":\"total_kgs_CO2_9\",\"values\":[1515693.262,1642804.762,1802473.218,1472077.224,1718138.016,1824092.748,1474872.408,1573112.466,1831431.798,1537318.714,1780643.88,1911666.607,1762079.764,2014089.12,2866248.0,3412764.0,3925440.0,3304476.0,1438200.0,1353600.0,1421280.0]},{\"axis\":{\"matches\":true},\"label\":\"Population\",\"values\":[8011566,8042293,8081957,8121423,8171966,8227829,8268641,8295487,8321496,8343323,8363404,8391643,8429991,8479823,8546356,8642699,8736668,8797566,8840521,8879920,8916864]}],\"hovertemplate\":\"area=Austria<br>%{xaxis.title.text}=%{x}<br>%{yaxis.title.text}=%{y}<extra></extra>\",\"legendgroup\":\"Austria\",\"marker\":{\"color\":\"#b5de2b\",\"symbol\":\"circle\"},\"name\":\"Austria\",\"showlegend\":true,\"type\":\"splom\"},{\"dimensions\":[{\"axis\":{\"matches\":true},\"label\":\"year_pc\",\"values\":[2000,2001,2002,2003,2004,2005,2006,2007,2008,2009,2010,2011,2012,2013,2014,2015,2016,2017,2018,2019,2020]},{\"axis\":{\"matches\":true},\"label\":\"total_kgs_CO2_9\",\"values\":[0.0,0.0,0.0,4492.26,10659.6,15456.42,92357.82,38580.138,71404.092,56762.37,103695.912,383999.4,110842.92,80556.12,6724.008,135360.0,135360.0,135360.0,135360.0,338400.0,304560.0]},{\"axis\":{\"matches\":true},\"label\":\"Population\",\"values\":[8048600,8111200,8171950,8234100,8306500,8391850,8484550,8581300,8763400,8947243,9054332,9173082,9295784,9416801,9535079,9649341,9757812,9854033,9939771,10024283,10093121]}],\"hovertemplate\":\"area=Azerbaijan<br>%{xaxis.title.text}=%{x}<br>%{yaxis.title.text}=%{y}<extra></extra>\",\"legendgroup\":\"Azerbaijan\",\"marker\":{\"color\":\"#fde725\",\"symbol\":\"circle\"},\"name\":\"Azerbaijan\",\"showlegend\":true,\"type\":\"splom\"},{\"dimensions\":[{\"axis\":{\"matches\":true},\"label\":\"year_pc\",\"values\":[2000,2001,2002,2003,2004,2005,2006,2007,2008,2009,2010,2011,2012,2013,2014,2015,2016,2017,2018,2019,2020]},{\"axis\":{\"matches\":true},\"label\":\"total_kgs_CO2_9\",\"values\":[1057500.0,1269000.0,930600.0,846000.0,846000.0,846000.0,972900.0,972900.0,972900.0,972900.0,972900.0,972900.0,972900.0,972900.0,1006539.498,1021201.186,1031231.023,1038397.151,1043622.554,1036198.904,1042543.566]},{\"axis\":{\"matches\":true},\"label\":\"Population\",\"values\":[325014,329626,334002,338490,343089,347804,352664,357666,362795,368057,373272,377950,382061,385650,389131,392697,395976,399020,401906,404557,406471]}],\"hovertemplate\":\"area=Bahamas<br>%{xaxis.title.text}=%{x}<br>%{yaxis.title.text}=%{y}<extra></extra>\",\"legendgroup\":\"Bahamas\",\"marker\":{\"color\":\"#440154\",\"symbol\":\"circle\"},\"name\":\"Bahamas\",\"showlegend\":true,\"type\":\"splom\"},{\"dimensions\":[{\"axis\":{\"matches\":true},\"label\":\"year_pc\",\"values\":[2000,2001,2002,2003,2004,2005,2006,2007,2008,2009,2010,2011,2012,2013,2014,2015,2016,2017,2018,2019,2020]},{\"axis\":{\"matches\":true},\"label\":\"total_kgs_CO2_9\",\"values\":[118406160.0,114954480.0,111807360.0,117363803.4,110735308.8,109580349.6,94463175.6,99099509.4,85846259.52,90008461.08,76542899.04,80054408.16,78542690.76,76021560.0,77392080.0,76022744.4,71818496.64,66204153.0,62413328.52,54041177.16,63161530.92]},{\"axis\":{\"matches\":true},\"label\":\"Population\",\"values\":[711442,730257,748324,778256,833451,901921,970981,1040532,1110343,1179453,1213645,1212077,1224939,1261673,1311134,1362142,1409661,1456834,1487340,1494188,1477469]}],\"hovertemplate\":\"area=Bahrain<br>%{xaxis.title.text}=%{x}<br>%{yaxis.title.text}=%{y}<extra></extra>\",\"legendgroup\":\"Bahrain\",\"marker\":{\"color\":\"#482878\",\"symbol\":\"circle\"},\"name\":\"Bahrain\",\"showlegend\":true,\"type\":\"splom\"},{\"dimensions\":[{\"axis\":{\"matches\":true},\"label\":\"year_pc\",\"values\":[2000,2001,2002,2003,2004,2005,2006,2007,2008,2009,2010,2011,2012,2013,2014,2015,2016,2017,2018,2019,2020]},{\"axis\":{\"matches\":true},\"label\":\"total_kgs_CO2_9\",\"values\":[9525960.0,7360200.0,7306851.24,6405150.6,6315170.04,7789968.0,6079356.0,6218100.0,5460084.0,6238404.0,4581936.0,5032177.2,4578552.0,3097791.77,2835908.579,2049096.6,1495203.48,2304409.248,2620255.903,1509726.085,1618151.645]},{\"axis\":{\"matches\":true},\"label\":\"Population\",\"values\":[129193327,131670484,134139826,136503206,138789725,140912590,142628831,144135934,145421318,146706810,148391139,150211005,152090649,154030139,155961299,157830000,159784568,161793964,163683958,165516222,167420951]}],\"hovertemplate\":\"area=Bangladesh<br>%{xaxis.title.text}=%{x}<br>%{yaxis.title.text}=%{y}<extra></extra>\",\"legendgroup\":\"Bangladesh\",\"marker\":{\"color\":\"#3e4989\",\"symbol\":\"circle\"},\"name\":\"Bangladesh\",\"showlegend\":true,\"type\":\"splom\"},{\"dimensions\":[{\"axis\":{\"matches\":true},\"label\":\"year_pc\",\"values\":[2000,2001,2002,2003,2004,2005,2006,2007,2008,2009,2010,2011,2012,2013,2014,2015,2016,2017,2018,2019,2020]},{\"axis\":{\"matches\":true},\"label\":\"total_kgs_CO2_9\",\"values\":[1026367.2,1038549.6,837540.0,1423818.0,1751220.0,2284200.0,2527848.0,2687742.0,2808804.6,2954993.4,2410712.87,3205483.848,3444371.575,3490733.39,2718759.744,2576861.348,3111185.304,3150620.748,3344909.047,3350120.576,3005971.33]},{\"axis\":{\"matches\":true},\"label\":\"Population\",\"values\":[264657,265377,266455,267499,268505,269477,270425,271444,272635,273791,274711,275486,276197,276865,277493,278083,278649,279187,279688,280180,280693]}],\"hovertemplate\":\"area=Barbados<br>%{xaxis.title.text}=%{x}<br>%{yaxis.title.text}=%{y}<extra></extra>\",\"legendgroup\":\"Barbados\",\"marker\":{\"color\":\"#31688e\",\"symbol\":\"circle\"},\"name\":\"Barbados\",\"showlegend\":true,\"type\":\"splom\"},{\"dimensions\":[{\"axis\":{\"matches\":true},\"label\":\"year_pc\",\"values\":[2000,2001,2002,2003,2004,2005,2006,2007,2008,2009,2010,2011,2012,2013,2014,2015,2016,2017,2018,2019,2020]},{\"axis\":{\"matches\":true},\"label\":\"total_kgs_CO2_9\",\"values\":[0.0,0.0,0.0,0.0,0.0,0.0,0.0,0.0,0.0,0.0,0.0,0.0,0.0,0.0,0.0,0.0,0.0,0.0,0.0,0.0,0.0]},{\"axis\":{\"matches\":true},\"label\":\"Population\",\"values\":[9979610,9928549,9865548,9796749,9730146,9663915,9604924,9560953,9527985,9504583,9483836,9461643,9446836,9443211,9448515,9461076,9469379,9458989,9438785,9419758,9379952]}],\"hovertemplate\":\"area=Belarus<br>%{xaxis.title.text}=%{x}<br>%{yaxis.title.text}=%{y}<extra></extra>\",\"legendgroup\":\"Belarus\",\"marker\":{\"color\":\"#26828e\",\"symbol\":\"circle\"},\"name\":\"Belarus\",\"showlegend\":true,\"type\":\"splom\"},{\"dimensions\":[{\"axis\":{\"matches\":true},\"label\":\"year_pc\",\"values\":[2000,2001,2002,2003,2004,2005,2006,2007,2008,2009,2010,2011,2012,2013,2014,2015,2016,2017,2018,2019,2020]},{\"axis\":{\"matches\":true},\"label\":\"total_kgs_CO2_9\",\"values\":[3180960.0,3045600.0,3316320.0,3908520.0,3587040.0,3722400.0,3384000.0,3468600.0,2707200.0,3045600.0,2707200.0,3045600.0,2622600.0,2504160.0,2622600.0,2199600.0,1945800.0,2876400.0,2453400.0,2453400.0,2402640.0]},{\"axis\":{\"matches\":true},\"label\":\"Population\",\"values\":[10251250,10286570,10332785,10376133,10421137,10478617,10547958,10625700,10709973,10796493,10895586,11038264,11106932,11159407,11209057,11274196,11331422,11375158,11427054,11488980,11538604]}],\"hovertemplate\":\"area=Belgium<br>%{xaxis.title.text}=%{x}<br>%{yaxis.title.text}=%{y}<extra></extra>\",\"legendgroup\":\"Belgium\",\"marker\":{\"color\":\"#1f9e89\",\"symbol\":\"circle\"},\"name\":\"Belgium\",\"showlegend\":true,\"type\":\"splom\"},{\"dimensions\":[{\"axis\":{\"matches\":true},\"label\":\"year_pc\",\"values\":[2000,2001,2002,2003,2004,2005,2006,2007,2008,2009,2010,2011,2012,2013,2014,2015,2016,2017,2018,2019,2020]},{\"axis\":{\"matches\":true},\"label\":\"total_kgs_CO2_9\",\"values\":[19041141.96,17701314.84,20213579.52,18886899.24,20159757.0,16368272.64,20548832.4,21117006.0,17277248.88,16001717.76,19909662.48,14759265.24,18638039.88,18821401.92,21266358.84,21000325.68,26249704.92,30074149.44,34014580.56,32005347.48,28823152.32]},{\"axis\":{\"matches\":true},\"label\":\"Population\",\"values\":[240406,248100,255987,263998,272128,280375,288729,297173,305671,314171,322106,329538,337059,344688,352335,359871,367313,374693,382066,389095,394921]}],\"hovertemplate\":\"area=Belize<br>%{xaxis.title.text}=%{x}<br>%{yaxis.title.text}=%{y}<extra></extra>\",\"legendgroup\":\"Belize\",\"marker\":{\"color\":\"#35b779\",\"symbol\":\"circle\"},\"name\":\"Belize\",\"showlegend\":true,\"type\":\"splom\"},{\"dimensions\":[{\"axis\":{\"matches\":true},\"label\":\"year_pc\",\"values\":[2000,2001,2002,2003,2004,2005,2006,2007,2008,2009,2010,2011,2012,2013,2014,2015,2016,2017,2018,2019,2020]},{\"axis\":{\"matches\":true},\"label\":\"total_kgs_CO2_9\",\"values\":[925306.578,1303828.974,1161327.888,1339645.23,1217841.534,1142851.248,1150632.756,717302.25,1129274.64,1223874.36,1481637.193,868491.4176,1243184.987,1117856.009,1282062.748,1632832.79,1479735.724,1284566.062,1283864.051,1325802.809,1325802.809]},{\"axis\":{\"matches\":true},\"label\":\"Population\",\"values\":[6998023,7212041,7431783,7659208,7894554,8149419,8402631,8647761,8906469,9172514,9445710,9726380,10014078,10308730,10614844,10932783,11260085,11596779,11940683,12290444,12643123]}],\"hovertemplate\":\"area=Benin<br>%{xaxis.title.text}=%{x}<br>%{yaxis.title.text}=%{y}<extra></extra>\",\"legendgroup\":\"Benin\",\"marker\":{\"color\":\"#6ece58\",\"symbol\":\"circle\"},\"name\":\"Benin\",\"showlegend\":true,\"type\":\"splom\"},{\"dimensions\":[{\"axis\":{\"matches\":true},\"label\":\"year_pc\",\"values\":[2000,2001,2002,2003,2004,2005,2006,2007,2008,2009,2010,2011,2012,2013,2014,2015,2016,2017,2018,2019,2020]},{\"axis\":{\"matches\":true},\"label\":\"total_kgs_CO2_9\",\"values\":[14618.5416,14475.2292,14376.2472,14277.2652,14210.9388,14182.8516,14200.956,24567.84,12891.5172,11562.7896,10277.0388,9020.052,3823.92,4940.64,5482.08,8595.36,5837.4,5328.7848,1707.9048,6706.0728,6438.2292]},{\"axis\":{\"matches\":true},\"label\":\"Population\",\"values\":[587207,603234,619048,634627,649991,663323,673260,681614,689737,697678,705516,713331,721145,728889,736357,743274,749761,756121,762096,767459,772506]}],\"hovertemplate\":\"area=Bhutan<br>%{xaxis.title.text}=%{x}<br>%{yaxis.title.text}=%{y}<extra></extra>\",\"legendgroup\":\"Bhutan\",\"marker\":{\"color\":\"#b5de2b\",\"symbol\":\"circle\"},\"name\":\"Bhutan\",\"showlegend\":true,\"type\":\"splom\"},{\"dimensions\":[{\"axis\":{\"matches\":true},\"label\":\"year_pc\",\"values\":[2000,2001,2002,2003,2004,2005,2006,2007,2008,2009,2010,2011,2012,2013,2014,2015,2016,2017,2018,2019,2020]},{\"axis\":{\"matches\":true},\"label\":\"total_kgs_CO2_9\",\"values\":[62735096.16,67042285.2,82012898.16,84964473.72,94990791.96,88529196.24,106868835.0,110361173.8,120625979.4,134155296.0,110456822.5,116816559.8,132439599.5,143540050.1,130430019.6,123473903.0,126472786.9,149854957.9,164825164.8,163590546.2,172692677.2]},{\"axis\":{\"matches\":true},\"label\":\"Population\",\"values\":[8592656,8746084,8900583,9057378,9216279,9377388,9542663,9711152,9880593,10051317,10223270,10396246,10569697,10743349,10916987,11090085,11263015,11435533,11606905,11777315,11936162]}],\"hovertemplate\":\"area=Bolivia (Plurinational State of)<br>%{xaxis.title.text}=%{x}<br>%{yaxis.title.text}=%{y}<extra></extra>\",\"legendgroup\":\"Bolivia (Plurinational State of)\",\"marker\":{\"color\":\"#fde725\",\"symbol\":\"circle\"},\"name\":\"Bolivia (Plurinational State of)\",\"showlegend\":true,\"type\":\"splom\"},{\"dimensions\":[{\"axis\":{\"matches\":true},\"label\":\"year_pc\",\"values\":[2000,2001,2002,2003,2004,2005,2006,2007,2008,2009,2010,2011,2012,2013,2014,2015,2016,2017,2018,2019,2020]},{\"axis\":{\"matches\":true},\"label\":\"total_kgs_CO2_9\",\"values\":[0.0,0.0,0.0,0.0,0.0,0.0,279.8568,0.0,57.8664,24.3648,0.0,0.0,0.0,0.0,0.0,0.0,0.0,0.0,0.0,0.0,0.0]},{\"axis\":{\"matches\":true},\"label\":\"Population\",\"values\":[4179350,4194932,4198410,4183757,4142860,4094297,4058086,4007876,3943392,3877750,3811088,3743142,3674374,3617559,3571068,3524324,3480986,3440027,3400129,3360711,3318407]}],\"hovertemplate\":\"area=Bosnia and Herzegovina<br>%{xaxis.title.text}=%{x}<br>%{yaxis.title.text}=%{y}<extra></extra>\",\"legendgroup\":\"Bosnia and Herzegovina\",\"marker\":{\"color\":\"#440154\",\"symbol\":\"circle\"},\"name\":\"Bosnia and Herzegovina\",\"showlegend\":true,\"type\":\"splom\"},{\"dimensions\":[{\"axis\":{\"matches\":true},\"label\":\"year_pc\",\"values\":[2000,2001,2002,2003,2004,2005,2006,2007,2008,2009,2010,2011,2012,2013,2014,2015,2016,2017,2018,2019,2020]},{\"axis\":{\"matches\":true},\"label\":\"total_kgs_CO2_9\",\"values\":[0.0,0.0,0.0,0.0,0.0,0.0,0.0,0.0,0.0,0.0,0.0,0.0,0.0,0.0,0.0,0.0,0.0,0.0,0.0,0.0,0.0]},{\"axis\":{\"matches\":true},\"label\":\"Population\",\"values\":[1726985,1761930,1795130,1826863,1859085,1892807,1928704,1966977,2007320,2048997,2091664,2134037,2175425,2217278,2260376,2305171,2352416,2401840,2451409,2499702,2546402]}],\"hovertemplate\":\"area=Botswana<br>%{xaxis.title.text}=%{x}<br>%{yaxis.title.text}=%{y}<extra></extra>\",\"legendgroup\":\"Botswana\",\"marker\":{\"color\":\"#482878\",\"symbol\":\"circle\"},\"name\":\"Botswana\",\"showlegend\":true,\"type\":\"splom\"},{\"dimensions\":[{\"axis\":{\"matches\":true},\"label\":\"year_pc\",\"values\":[2000,2001,2002,2003,2004,2005,2006,2007,2008,2009,2010,2011,2012,2013,2014,2015,2016,2017,2018,2019,2020]},{\"axis\":{\"matches\":true},\"label\":\"total_kgs_CO2_9\",\"values\":[5651635658.0,5981946376.0,6347358648.0,6895951747.0,7237205474.0,7370802749.0,8306208367.0,9526929516.0,11150282707.0,11940547889.0,12411899496.0,12675721212.0,12473885916.0,13263426076.0,12705371820.0,12931791876.0,13275333864.0,13105321704.0,12853393056.0,12956751583.0,13098057271.0]},{\"axis\":{\"matches\":true},\"label\":\"Population\",\"values\":[175873720,178211881,180476685,182629278,184722043,186797334,188820682,190779453,192672317,194517549,196353492,198185302,199977707,201721767,203459650,205188205,206859578,208504960,210166592,211782878,213196304]}],\"hovertemplate\":\"area=Brazil<br>%{xaxis.title.text}=%{x}<br>%{yaxis.title.text}=%{y}<extra></extra>\",\"legendgroup\":\"Brazil\",\"marker\":{\"color\":\"#3e4989\",\"symbol\":\"circle\"},\"name\":\"Brazil\",\"showlegend\":true,\"type\":\"splom\"},{\"dimensions\":[{\"axis\":{\"matches\":true},\"label\":\"year_pc\",\"values\":[2000,2001,2002,2003,2004,2005,2006,2007,2008,2009,2010,2011,2012,2013,2014,2015,2016,2017,2018,2019,2020]},{\"axis\":{\"matches\":true},\"label\":\"total_kgs_CO2_9\",\"values\":[0.0,0.0,0.0,0.0,0.0,0.0,0.0,0.0,0.0,0.0,0.0,0.0,0.0,0.0,0.0,0.0,0.0,0.0,0.0,0.0,0.0]},{\"axis\":{\"matches\":true},\"label\":\"Population\",\"values\":[333926,340748,347463,354045,360461,366717,372808,378748,384568,390311,396053,401506,406634,411702,416656,421437,425994,430276,434274,438048,441725]}],\"hovertemplate\":\"area=Brunei Darussalam<br>%{xaxis.title.text}=%{x}<br>%{yaxis.title.text}=%{y}<extra></extra>\",\"legendgroup\":\"Brunei Darussalam\",\"marker\":{\"color\":\"#31688e\",\"symbol\":\"circle\"},\"name\":\"Brunei Darussalam\",\"showlegend\":true,\"type\":\"splom\"},{\"dimensions\":[{\"axis\":{\"matches\":true},\"label\":\"year_pc\",\"values\":[2000,2001,2002,2003,2004,2005,2006,2007,2008,2009,2010,2011,2012,2013,2014,2015,2016,2017,2018,2019,2020]},{\"axis\":{\"matches\":true},\"label\":\"total_kgs_CO2_9\",\"values\":[33840.0,33840.0,33840.0,33840.0,33840.0,33840.0,16920.0,33840.0,0.0,0.0,0.0,0.0,0.0,0.0,0.0,0.0,0.0,0.0,0.0,0.0,0.0]},{\"axis\":{\"matches\":true},\"label\":\"Population\",\"values\":[8170172,8009142,7837161,7775327,7716860,7658972,7601022,7545338,7492561,7444443,7395599,7348328,7305888,7265115,7223938,7177991,7127822,7075947,7025037,6975761,6934015]}],\"hovertemplate\":\"area=Bulgaria<br>%{xaxis.title.text}=%{x}<br>%{yaxis.title.text}=%{y}<extra></extra>\",\"legendgroup\":\"Bulgaria\",\"marker\":{\"color\":\"#26828e\",\"symbol\":\"circle\"},\"name\":\"Bulgaria\",\"showlegend\":true,\"type\":\"splom\"},{\"dimensions\":[{\"axis\":{\"matches\":true},\"label\":\"year_pc\",\"values\":[2000,2001,2002,2003,2004,2005,2006,2007,2008,2009,2010,2011,2012,2013,2014,2015,2016,2017,2018,2019,2020]},{\"axis\":{\"matches\":true},\"label\":\"total_kgs_CO2_9\",\"values\":[7021800.0,7402500.0,7952400.0,7952400.0,7952400.0,7952400.0,7952400.0,8037000.0,8037000.0,8037000.0,9014849.1,8730720.0,8455338.54,8400483.9,8315241.955,8513370.756,8516220.084,8579148.61,8676809.496,8718888.182,8739464.933]},{\"axis\":{\"matches\":true},\"label\":\"Population\",\"values\":[11882888,12249764,12632269,13030591,13445977,13876127,14316242,14757074,15197915,15650022,16116845,16602651,17113732,17636408,18169842,18718019,19275498,19835858,20392723,20951639,21522626]}],\"hovertemplate\":\"area=Burkina Faso<br>%{xaxis.title.text}=%{x}<br>%{yaxis.title.text}=%{y}<extra></extra>\",\"legendgroup\":\"Burkina Faso\",\"marker\":{\"color\":\"#1f9e89\",\"symbol\":\"circle\"},\"name\":\"Burkina Faso\",\"showlegend\":true,\"type\":\"splom\"},{\"dimensions\":[{\"axis\":{\"matches\":true},\"label\":\"year_pc\",\"values\":[2000,2001,2002,2003,2004,2005,2006,2007,2008,2009,2010,2011,2012,2013,2014,2015,2016,2017,2018,2019,2020]},{\"axis\":{\"matches\":true},\"label\":\"total_kgs_CO2_9\",\"values\":[2095372.8,2189363.4,2230039.08,2124729.0,2169127.08,2227788.72,2078199.0,2044054.44,2075762.52,2161817.64,2330391.6,3551220.36,3858166.08,4202538.84,3623028.84,3707679.6,3792025.8,3741316.56,3120707.88,3485520.0,3639795.206]},{\"axis\":{\"matches\":true},\"label\":\"Population\",\"values\":[6307659,6465729,6648938,6860846,7120496,7388874,7658190,7944609,8278109,8709366,9126605,9455733,9795479,10149577,10494913,10727148,10903327,11155593,11493472,11874838,12220227]}],\"hovertemplate\":\"area=Burundi<br>%{xaxis.title.text}=%{x}<br>%{yaxis.title.text}=%{y}<extra></extra>\",\"legendgroup\":\"Burundi\",\"marker\":{\"color\":\"#35b779\",\"symbol\":\"circle\"},\"name\":\"Burundi\",\"showlegend\":true,\"type\":\"splom\"},{\"dimensions\":[{\"axis\":{\"matches\":true},\"label\":\"year_pc\",\"values\":[2000,2001,2002,2003,2004,2005,2006,2007,2008,2009,2010,2011,2012,2013,2014,2015,2016,2017,2018,2019,2020]},{\"axis\":{\"matches\":true},\"label\":\"total_kgs_CO2_9\",\"values\":[2881965.834,2972130.484,3668312.005,3041989.61,2289766.172,2071485.482,2482654.342,4937013.706,6634729.112,6036409.994,6303630.6,8117166.96,10046605.32,14335485.9,20500272.0,29610000.0,35371260.0,38865240.0,40303440.0,39000600.0,37374765.66]},{\"axis\":{\"matches\":true},\"label\":\"Population\",\"values\":[12118841,12338192,12561779,12787710,13016371,13246583,13477779,13714791,13943888,14155740,14363532,14573885,14786640,14999683,15210817,15417523,15624584,15830689,16025238,16207746,16396860]}],\"hovertemplate\":\"area=Cambodia<br>%{xaxis.title.text}=%{x}<br>%{yaxis.title.text}=%{y}<extra></extra>\",\"legendgroup\":\"Cambodia\",\"marker\":{\"color\":\"#6ece58\",\"symbol\":\"circle\"},\"name\":\"Cambodia\",\"showlegend\":true,\"type\":\"splom\"},{\"dimensions\":[{\"axis\":{\"matches\":true},\"label\":\"year_pc\",\"values\":[2000,2001,2002,2003,2004,2005,2006,2007,2008,2009,2010,2011,2012,2013,2014,2015,2016,2017,2018,2019,2020]},{\"axis\":{\"matches\":true},\"label\":\"total_kgs_CO2_9\",\"values\":[23476500.0,23476500.0,24474780.0,24491700.0,25337700.0,25498440.0,20008035.36,16423719.48,16850458.8,20422442.03,22114481.62,22114200.92,21217846.15,21374099.99,21048887.26,22351937.58,21673738.3,20802557.95,21047310.83,21108266.82,21323061.14]},{\"axis\":{\"matches\":true},\"label\":\"Population\",\"values\":[15091594,15493253,15914033,16354326,16809407,17275171,17751333,18251866,18777081,19319274,19878036,20448873,21032684,21632850,22299585,23012646,23711630,24393181,25076747,25782341,26491087]}],\"hovertemplate\":\"area=Cameroon<br>%{xaxis.title.text}=%{x}<br>%{yaxis.title.text}=%{y}<extra></extra>\",\"legendgroup\":\"Cameroon\",\"marker\":{\"color\":\"#b5de2b\",\"symbol\":\"circle\"},\"name\":\"Cameroon\",\"showlegend\":true,\"type\":\"splom\"},{\"dimensions\":[{\"axis\":{\"matches\":true},\"label\":\"year_pc\",\"values\":[2000,2001,2002,2003,2004,2005,2006,2007,2008,2009,2010,2011,2012,2013,2014,2015,2016,2017,2018,2019,2020]},{\"axis\":{\"matches\":true},\"label\":\"total_kgs_CO2_9\",\"values\":[744480.0,338400.0,219960.0,372240.0,423000.0,372240.0,609120.0,541440.0,203040.0,236880.0,304560.0,372240.0,338400.0,253800.0,253800.0,253800.0,253800.0,304560.0,287640.0,287640.0,152280.0]},{\"axis\":{\"matches\":true},\"label\":\"Population\",\"values\":[30685730,31020902,31360079,31644028,31940655,32243753,32571174,32889025,33247118,33628895,34004889,34339328,34714222,35082954,35437435,35702908,36109487,36545236,37065084,37601230,38037204]}],\"hovertemplate\":\"area=Canada<br>%{xaxis.title.text}=%{x}<br>%{yaxis.title.text}=%{y}<extra></extra>\",\"legendgroup\":\"Canada\",\"marker\":{\"color\":\"#fde725\",\"symbol\":\"circle\"},\"name\":\"Canada\",\"showlegend\":true,\"type\":\"splom\"},{\"dimensions\":[{\"axis\":{\"matches\":true},\"label\":\"year_pc\",\"values\":[2000,2001,2002,2003,2004,2005,2006,2007,2008,2009,2010,2011,2012,2013,2014,2015,2016,2017,2018,2019,2020]},{\"axis\":{\"matches\":true},\"label\":\"total_kgs_CO2_9\",\"values\":[1568863.008,1568863.008,1568863.008,1568863.008,1568863.008,1568808.864,1621120.09,1656021.312,1656021.312,1656021.312,1720807.315,1742050.882,1723819.921,1739018.48,2145666.992,2208364.052,2291999.612,2002793.666,2002793.666,2185669.087,2239321.899]},{\"axis\":{\"matches\":true},\"label\":\"Population\",\"values\":[3759170,3844773,3930648,4026841,4115138,4208834,4294352,4375569,4467233,4564540,4660067,4732022,4773306,4802428,4798734,4819333,4904177,4996741,5094780,5209324,5343020]}],\"hovertemplate\":\"area=Central African Republic<br>%{xaxis.title.text}=%{x}<br>%{yaxis.title.text}=%{y}<extra></extra>\",\"legendgroup\":\"Central African Republic\",\"marker\":{\"color\":\"#440154\",\"symbol\":\"circle\"},\"name\":\"Central African Republic\",\"showlegend\":true,\"type\":\"splom\"},{\"dimensions\":[{\"axis\":{\"matches\":true},\"label\":\"year_pc\",\"values\":[2000,2001,2002,2003,2004,2005,2006,2007,2008,2009,2010,2011,2012,2013,2014,2015,2016,2017,2018,2019,2020]},{\"axis\":{\"matches\":true},\"label\":\"total_kgs_CO2_9\",\"values\":[5779026.0,6129270.0,6216831.0,6409465.2,5849074.8,6812245.8,6812245.8,6829758.0,7092441.0,7792929.0,7698284.95,7377426.76,7523536.543,7594323.563,7755428.358,7917164.269,8011301.396,7536446.841,7179841.429,5718336.667,6630938.186]},{\"axis\":{\"matches\":true},\"label\":\"Population\",\"values\":[8259137,8538804,8838369,9196366,9613503,10005012,10365614,10722731,11098664,11496128,11894727,12317730,12754906,13216766,13697126,14140274,14592585,15085884,15604210,16126866,16644701]}],\"hovertemplate\":\"area=Chad<br>%{xaxis.title.text}=%{x}<br>%{yaxis.title.text}=%{y}<extra></extra>\",\"legendgroup\":\"Chad\",\"marker\":{\"color\":\"#482878\",\"symbol\":\"circle\"},\"name\":\"Chad\",\"showlegend\":true,\"type\":\"splom\"},{\"dimensions\":[{\"axis\":{\"matches\":true},\"label\":\"year_pc\",\"values\":[2000,2001,2002,2003,2004,2005,2006,2007,2008,2009,2010,2011,2012,2013,2014,2015,2016,2017,2018,2019,2020]},{\"axis\":{\"matches\":true},\"label\":\"total_kgs_CO2_9\",\"values\":[1844280.0,1675080.0,1861200.0,1472040.0,1522800.0,1556640.0,1252080.0,1150560.0,879840.0,1252080.0,1269000.0,1269000.0,1336680.0,1184400.0,1184400.0,1099800.0,930600.0,1015200.0,1015200.0,761400.0,761400.0]},{\"axis\":{\"matches\":true},\"label\":\"Population\",\"values\":[15351799,15523978,15693790,15859112,16017966,16175311,16334575,16495538,16661462,16833447,17004162,17173573,17341771,17509925,17687108,17870124,18083879,18368577,18701450,19039485,19300315]}],\"hovertemplate\":\"area=Chile<br>%{xaxis.title.text}=%{x}<br>%{yaxis.title.text}=%{y}<extra></extra>\",\"legendgroup\":\"Chile\",\"marker\":{\"color\":\"#3e4989\",\"symbol\":\"circle\"},\"name\":\"Chile\",\"showlegend\":true,\"type\":\"splom\"},{\"dimensions\":[{\"axis\":{\"matches\":true},\"label\":\"year_pc\",\"values\":[2000,2001,2002,2003,2004,2005,2006,2007,2008,2009,2010,2011,2012,2013,2014,2015,2016,2017,2018,2019,2020]},{\"axis\":{\"matches\":true},\"label\":\"total_kgs_CO2_9\",\"values\":[1188288216.0,1324797152.0,1580444680.0,1572287616.0,1561976568.0,1506438360.0,1712814984.0,1999004872.0,2174260608.0,2019177032.0,1936302872.0,2003913432.0,2159227256.0,2247001448.0,2186255128.0,1863974880.0,1805617800.0,1831662824.0,1894991000.0,1915142584.0,1895310720.0]},{\"axis\":{\"matches\":true},\"label\":\"Population\",\"values\":[1241450269,1249516875,1257930384,1265806319,1273371901,1280923694,1288145025,1294942692,1301656679,1308215918,1314621917,1321891929,1330955942,1339909666,1348437487,1356347864,1364195529,1372549976,1379033815,1383967263,1387278536]}],\"hovertemplate\":\"area=China, mainland<br>%{xaxis.title.text}=%{x}<br>%{yaxis.title.text}=%{y}<extra></extra>\",\"legendgroup\":\"China, mainland\",\"marker\":{\"color\":\"#31688e\",\"symbol\":\"circle\"},\"name\":\"China, mainland\",\"showlegend\":true,\"type\":\"splom\"},{\"dimensions\":[{\"axis\":{\"matches\":true},\"label\":\"year_pc\",\"values\":[2000,2001,2002,2003,2004,2005,2006,2007,2008,2009,2010,2011,2012,2013,2014,2015,2016,2017,2018,2019,2020]},{\"axis\":{\"matches\":true},\"label\":\"total_kgs_CO2_9\",\"values\":[582868670.7,575409674.9,645952048.2,679126736.9,698670927.3,684085312.1,632303868.6,599819719.0,550349073.7,625677844.3,554617279.1,594634415.7,568174293.7,594293020.9,650437980.1,615984528.6,591607377.0,399261020.0,569363482.1,575438066.7,438523067.9]},{\"axis\":{\"matches\":true},\"label\":\"Population\",\"values\":[39215135,39837875,40454050,41057687,41648268,42220940,42772910,43306582,43815313,44313917,44816108,45308899,45782417,46237930,46677947,47119728,47625955,48351671,49276961,50187406,50930662]}],\"hovertemplate\":\"area=Colombia<br>%{xaxis.title.text}=%{x}<br>%{yaxis.title.text}=%{y}<extra></extra>\",\"legendgroup\":\"Colombia\",\"marker\":{\"color\":\"#26828e\",\"symbol\":\"circle\"},\"name\":\"Colombia\",\"showlegend\":true,\"type\":\"splom\"},{\"dimensions\":[{\"axis\":{\"matches\":true},\"label\":\"year_pc\",\"values\":[2000,2001,2002,2003,2004,2005,2006,2007,2008,2009,2010,2011,2012,2013,2014,2015,2016,2017,2018,2019,2020]},{\"axis\":{\"matches\":true},\"label\":\"total_kgs_CO2_9\",\"values\":[0.0,0.0,0.0,0.0,0.0,0.0,0.0,0.0,0.0,0.0,0.0,0.0,0.0,0.0,0.0,0.0,0.0,0.0,0.0,0.0,0.0]},{\"axis\":{\"matches\":true},\"label\":\"Population\",\"values\":[536758,547741,559047,570130,581154,592683,604658,616899,629470,642493,656024,670071,684553,699393,714612,730216,746232,761664,776313,790986,806166]}],\"hovertemplate\":\"area=Comoros<br>%{xaxis.title.text}=%{x}<br>%{yaxis.title.text}=%{y}<extra></extra>\",\"legendgroup\":\"Comoros\",\"marker\":{\"color\":\"#1f9e89\",\"symbol\":\"circle\"},\"name\":\"Comoros\",\"showlegend\":true,\"type\":\"splom\"},{\"dimensions\":[{\"axis\":{\"matches\":true},\"label\":\"year_pc\",\"values\":[2000,2001,2002,2003,2004,2005,2006,2007,2008,2009,2010,2011,2012,2013,2014,2015,2016,2017,2018,2019,2020]},{\"axis\":{\"matches\":true},\"label\":\"total_kgs_CO2_9\",\"values\":[28653850.8,26799080.4,27532985.4,27147463.2,26665412.4,26181754.2,25760970.72,29176763.4,30852131.04,31473568.8,35680405.32,34229332.58,34536542.26,34684257.24,35176805.21,36745979.54,35535681.79,35429606.93,36535427.06,36892032.98,37188386.78]},{\"axis\":{\"matches\":true},\"label\":\"Population\",\"values\":[48616317,50106657,51662071,53205639,54815607,56550247,58381630,60289422,62249724,64270232,66391257,68654269,70997870,73460021,76035588,78656904,81430977,84283273,87087355,89906890,92853164]}],\"hovertemplate\":\"area=Democratic Republic of the Congo<br>%{xaxis.title.text}=%{x}<br>%{yaxis.title.text}=%{y}<extra></extra>\",\"legendgroup\":\"Democratic Republic of the Congo\",\"marker\":{\"color\":\"#35b779\",\"symbol\":\"circle\"},\"name\":\"Democratic Republic of the Congo\",\"showlegend\":true,\"type\":\"splom\"},{\"dimensions\":[{\"axis\":{\"matches\":true},\"label\":\"year_pc\",\"values\":[2000,2001,2002,2003,2004,2005,2006,2007,2008,2009,2010,2011,2012,2013,2014,2015,2016,2017,2018,2019,2020]},{\"axis\":{\"matches\":true},\"label\":\"total_kgs_CO2_9\",\"values\":[7905971.52,7980030.36,8059960.44,10480975.56,10735469.28,10737432.0,9762840.0,9509040.0,9999720.0,10591920.0,10942717.28,11218535.28,11190677.52,11563968.92,11106288.0,11249262.0,11636604.79,11758279.05,11848614.93,11810160.0,12074798.95]},{\"axis\":{\"matches\":true},\"label\":\"Population\",\"values\":[3134030,3254101,3331158,3424653,3543012,3672839,3813323,3956329,4089602,4257230,4437884,4584216,4713257,4828066,4944861,5064386,5186824,5312340,5441062,5570733,5702174]}],\"hovertemplate\":\"area=Congo<br>%{xaxis.title.text}=%{x}<br>%{yaxis.title.text}=%{y}<extra></extra>\",\"legendgroup\":\"Congo\",\"marker\":{\"color\":\"#6ece58\",\"symbol\":\"circle\"},\"name\":\"Congo\",\"showlegend\":true,\"type\":\"splom\"},{\"dimensions\":[{\"axis\":{\"matches\":true},\"label\":\"year_pc\",\"values\":[2000,2001,2002,2003,2004,2005,2006,2007,2008,2009,2010,2011,2012,2013,2014,2015,2016,2017,2018,2019,2020]},{\"axis\":{\"matches\":true},\"label\":\"total_kgs_CO2_9\",\"values\":[66698640.0,70116480.0,66664800.0,76782960.0,73585080.0,70133400.0,80065440.0,80691480.0,73297440.0,71605440.0,66135745.44,59933905.56,70399923.84,77968848.96,79306121.16,76783772.16,75394047.96,73659020.4,70944807.06,71232425.06,74356581.24]},{\"axis\":{\"matches\":true},\"label\":\"Population\",\"values\":[3979193,4053222,4122623,4188610,4252800,4315887,4378172,4440019,4501921,4563127,4622252,4679926,4736593,4791535,4844288,4895242,4945205,4993842,5040734,5084532,5123105]}],\"hovertemplate\":\"area=Costa Rica<br>%{xaxis.title.text}=%{x}<br>%{yaxis.title.text}=%{y}<extra></extra>\",\"legendgroup\":\"Costa Rica\",\"marker\":{\"color\":\"#b5de2b\",\"symbol\":\"circle\"},\"name\":\"Costa Rica\",\"showlegend\":true,\"type\":\"splom\"},{\"dimensions\":[{\"axis\":{\"matches\":true},\"label\":\"year_pc\",\"values\":[2000,2001,2002,2003,2004,2005,2006,2007,2008,2009,2010,2011,2012,2013,2014,2015,2016,2017,2018,2019,2020]},{\"axis\":{\"matches\":true},\"label\":\"total_kgs_CO2_9\",\"values\":[29390886.0,28980677.52,27142590.24,22239478.8,25656151.32,25655457.6,25515529.2,28837263.6,29239113.6,27801928.8,31445261.64,33814501.56,32600576.16,34329275.64,34324839.22,34973640.0,32097240.0,33298560.0,35384796.0,36631800.0,36631800.0]},{\"axis\":{\"matches\":true},\"label\":\"Population\",\"values\":[16799670,17245468,17683897,18116451,18544903,18970215,19394057,19817700,20244449,20677762,21120042,21562914,22010712,22469268,22995555,23596741,24213622,24848016,25493988,26147551,26811790]}],\"hovertemplate\":\"area=Cote d'Ivoire<br>%{xaxis.title.text}=%{x}<br>%{yaxis.title.text}=%{y}<extra></extra>\",\"legendgroup\":\"Cote d'Ivoire\",\"marker\":{\"color\":\"#fde725\",\"symbol\":\"circle\"},\"name\":\"Cote d'Ivoire\",\"showlegend\":true,\"type\":\"splom\"},{\"dimensions\":[{\"axis\":{\"matches\":true},\"label\":\"year_pc\",\"values\":[2000,2001,2002,2003,2004,2005,2006,2007,2008,2009,2010,2011,2012,2013,2014,2015,2016,2017,2018,2019,2020]},{\"axis\":{\"matches\":true},\"label\":\"total_kgs_CO2_9\",\"values\":[414540.0,940752.0,795240.0,473760.0,592200.0,947520.0,1218240.0,1184400.0,1556640.0,1116720.0,1026722.52,1249660.44,1098412.56,877725.0,1237122.72,1184400.0,930600.0,1049040.0,761400.0,930600.0,812160.0]},{\"axis\":{\"matches\":true},\"label\":\"Population\",\"values\":[4468302,4299642,4302174,4303399,4304600,4310145,4311159,4310217,4309705,4305181,4295427,4280622,4267558,4255689,4238389,4203604,4174349,4124531,4087843,4065253,4047680]}],\"hovertemplate\":\"area=Croatia<br>%{xaxis.title.text}=%{x}<br>%{yaxis.title.text}=%{y}<extra></extra>\",\"legendgroup\":\"Croatia\",\"marker\":{\"color\":\"#440154\",\"symbol\":\"circle\"},\"name\":\"Croatia\",\"showlegend\":true,\"type\":\"splom\"},{\"dimensions\":[{\"axis\":{\"matches\":true},\"label\":\"year_pc\",\"values\":[2000,2001,2002,2003,2004,2005,2006,2007,2008,2009,2010,2011,2012,2013,2014,2015,2016,2017,2018,2019,2020]},{\"axis\":{\"matches\":true},\"label\":\"total_kgs_CO2_9\",\"values\":[636192000.0,562251600.0,606582000.0,385776000.0,415386000.0,202701600.0,193057200.0,206931600.0,272412000.0,258368400.0,201263400.0,206339400.0,258550408.4,282416812.9,312023547.4,339415200.0,315388800.0,348890400.0,220636800.0,296438400.0,231443604.0]},{\"axis\":{\"matches\":true},\"label\":\"Population\",\"values\":[11105791,11139127,11170051,11199217,11225294,11246114,11260630,11269887,11276609,11283185,11290417,11298710,11309290,11321579,11332026,11339894,11342012,11336405,11328244,11316697,11300698]}],\"hovertemplate\":\"area=Cuba<br>%{xaxis.title.text}=%{x}<br>%{yaxis.title.text}=%{y}<extra></extra>\",\"legendgroup\":\"Cuba\",\"marker\":{\"color\":\"#482878\",\"symbol\":\"circle\"},\"name\":\"Cuba\",\"showlegend\":true,\"type\":\"splom\"},{\"dimensions\":[{\"axis\":{\"matches\":true},\"label\":\"year_pc\",\"values\":[2000,2001,2002,2003,2004,2005,2006,2007,2008,2009,2010,2011,2012,2013,2014,2015,2016,2017,2018,2019,2020]},{\"axis\":{\"matches\":true},\"label\":\"total_kgs_CO2_9\",\"values\":[0.0,0.0,0.0,0.0,0.0,0.0,0.0,0.0,0.0,0.0,0.0,0.0,0.0,0.0,0.0,0.0,0.0,0.0,0.0,0.0,0.0]},{\"axis\":{\"matches\":true},\"label\":\"Population\",\"values\":[948237,964830,982194,1000350,1018684,1037062,1055438,1073873,1092390,1110974,1129686,1145086,1156556,1166968,1176995,1187280,1197881,1208523,1218831,1228836,1237537]}],\"hovertemplate\":\"area=Cyprus<br>%{xaxis.title.text}=%{x}<br>%{yaxis.title.text}=%{y}<extra></extra>\",\"legendgroup\":\"Cyprus\",\"marker\":{\"color\":\"#3e4989\",\"symbol\":\"circle\"},\"name\":\"Cyprus\",\"showlegend\":true,\"type\":\"splom\"},{\"dimensions\":[{\"axis\":{\"matches\":true},\"label\":\"year_pc\",\"values\":[2000,2001,2002,2003,2004,2005,2006,2007,2008,2009,2010,2011,2012,2013,2014,2015,2016,2017,2018,2019,2020]},{\"axis\":{\"matches\":true},\"label\":\"total_kgs_CO2_9\",\"values\":[1979640.0,2724120.0,2571840.0,2588760.0,2368800.0,2216520.0,1861200.0,1658160.0,1353600.0,1319760.0,1488960.0,1319760.0,1116720.0,1015200.0,1099800.0,930600.0,1184400.0,1269000.0,1099800.0,930600.0,947520.0]},{\"axis\":{\"matches\":true},\"label\":\"Population\",\"values\":[10255063,10216605,10196916,10193998,10197101,10211216,10238905,10298828,10384603,10443936,10474410,10496088,10510785,10514272,10525347,10546059,10566332,10594438,10629928,10671870,10697858]}],\"hovertemplate\":\"area=Czechia<br>%{xaxis.title.text}=%{x}<br>%{yaxis.title.text}=%{y}<extra></extra>\",\"legendgroup\":\"Czechia\",\"marker\":{\"color\":\"#31688e\",\"symbol\":\"circle\"},\"name\":\"Czechia\",\"showlegend\":true,\"type\":\"splom\"},{\"dimensions\":[{\"axis\":{\"matches\":true},\"label\":\"year_pc\",\"values\":[2000,2001,2002,2003,2004,2005,2006,2007,2008,2009,2010,2011,2012,2013,2014,2015,2016,2017,2018,2019,2020]},{\"axis\":{\"matches\":true},\"label\":\"total_kgs_CO2_9\",\"values\":[1793520.0,1895040.0,1793520.0,1522800.0,1505880.0,1370520.0,1285920.0,1218240.0,1235160.0,1302840.0,1184400.0,1353600.0,1269000.0,1235160.0,1269000.0,846000.0,1099800.0,1099800.0,1049040.0,1133640.0,1269000.0]},{\"axis\":{\"matches\":true},\"label\":\"Population\",\"values\":[5339616,5358783,5375931,5390574,5404523,5419432,5437272,5461438,5493621,5523095,5547683,5570572,5591572,5614932,5643475,5683483,5728010,5764980,5793636,5814422,5831404]}],\"hovertemplate\":\"area=Denmark<br>%{xaxis.title.text}=%{x}<br>%{yaxis.title.text}=%{y}<extra></extra>\",\"legendgroup\":\"Denmark\",\"marker\":{\"color\":\"#26828e\",\"symbol\":\"circle\"},\"name\":\"Denmark\",\"showlegend\":true,\"type\":\"splom\"},{\"dimensions\":[{\"axis\":{\"matches\":true},\"label\":\"year_pc\",\"values\":[2000,2001,2002,2003,2004,2005,2006,2007,2008,2009,2010,2011,2012,2013,2014,2015,2016,2017,2018,2019,2020]},{\"axis\":{\"matches\":true},\"label\":\"total_kgs_CO2_9\",\"values\":[923.832,923.832,923.832,923.832,923.832,923.832,923.832,923.832,923.832,923.832,923.832,923.832,923.832,923.832,930.6,945.6588,961.3944,976.9608,958.1796,957.5028,958.3488]},{\"axis\":{\"matches\":true},\"label\":\"Population\",\"values\":[742033,765490,789129,806411,818373,830861,846947,865196,882886,901103,919199,936811,954297,971753,989087,1006259,1023261,1040233,1057198,1073994,1090156]}],\"hovertemplate\":\"area=Djibouti<br>%{xaxis.title.text}=%{x}<br>%{yaxis.title.text}=%{y}<extra></extra>\",\"legendgroup\":\"Djibouti\",\"marker\":{\"color\":\"#1f9e89\",\"symbol\":\"circle\"},\"name\":\"Djibouti\",\"showlegend\":true,\"type\":\"splom\"},{\"dimensions\":[{\"axis\":{\"matches\":true},\"label\":\"year_pc\",\"values\":[2000,2001,2002,2003,2004,2005,2006,2007,2008,2009,2010,2011,2012,2013,2014,2015,2016,2017,2018,2019,2020]},{\"axis\":{\"matches\":true},\"label\":\"total_kgs_CO2_9\",\"values\":[74448.0,74448.0,74448.0,74448.0,74448.0,74448.0,74448.0,81216.0,81216.0,81216.0,81216.0,81216.0,81216.0,81216.0,81252.378,81826.3044,82107.684,82359.1152,82524.9312,82778.0544,82977.5412]},{\"axis\":{\"matches\":true},\"label\":\"Population\",\"values\":[68346,68153,68262,68442,68574,68674,68742,68775,68782,68787,68755,68742,68888,68819,69371,70007,70075,70403,70823,71428,71995]}],\"hovertemplate\":\"area=Dominica<br>%{xaxis.title.text}=%{x}<br>%{yaxis.title.text}=%{y}<extra></extra>\",\"legendgroup\":\"Dominica\",\"marker\":{\"color\":\"#35b779\",\"symbol\":\"circle\"},\"name\":\"Dominica\",\"showlegend\":true,\"type\":\"splom\"},{\"dimensions\":[{\"axis\":{\"matches\":true},\"label\":\"year_pc\",\"values\":[2000,2001,2002,2003,2004,2005,2006,2007,2008,2009,2010,2011,2012,2013,2014,2015,2016,2017,2018,2019,2020]},{\"axis\":{\"matches\":true},\"label\":\"total_kgs_CO2_9\",\"values\":[79451345.52,85001545.44,90970363.08,88410790.08,97184453.04,85277798.28,84135512.16,86979053.52,84781653.12,80949933.0,80439744.24,81409717.08,85579481.88,83859090.12,88383328.92,79614234.36,69891173.28,96000036.12,102185852.8,86476275.72,93521459.16]},{\"axis\":{\"matches\":true},\"label\":\"Population\",\"values\":[8540791,8669040,8795101,8919852,9043127,9164768,9284168,9402206,9522948,9648061,9775755,9903737,10030882,10157051,10282115,10405832,10527592,10647244,10765531,10881882,10999664]}],\"hovertemplate\":\"area=Dominican Republic<br>%{xaxis.title.text}=%{x}<br>%{yaxis.title.text}=%{y}<extra></extra>\",\"legendgroup\":\"Dominican Republic\",\"marker\":{\"color\":\"#6ece58\",\"symbol\":\"circle\"},\"name\":\"Dominican Republic\",\"showlegend\":true,\"type\":\"splom\"},{\"dimensions\":[{\"axis\":{\"matches\":true},\"label\":\"year_pc\",\"values\":[2000,2001,2002,2003,2004,2005,2006,2007,2008,2009,2010,2011,2012,2013,2014,2015,2016,2017,2018,2019,2020]},{\"axis\":{\"matches\":true},\"label\":\"total_kgs_CO2_9\",\"values\":[94081561.92,98371864.8,91954227.24,101517089.8,106658705.5,118762765.9,121411372.0,144462976.9,161012327.4,146157345.7,143992279.4,140551377.5,127896960.2,124248043.8,142742297.5,173956296.6,149600024.3,155496052.1,129476086.9,159059844.0,188846945.6]},{\"axis\":{\"matches\":true},\"label\":\"Population\",\"values\":[12626507,12845521,13070609,13301184,13534593,13770012,14009061,14251835,14496797,14742766,14989585,15237728,15483883,15722989,15957994,16195902,16439585,16696944,17015672,17343740,17588595]}],\"hovertemplate\":\"area=Ecuador<br>%{xaxis.title.text}=%{x}<br>%{yaxis.title.text}=%{y}<extra></extra>\",\"legendgroup\":\"Ecuador\",\"marker\":{\"color\":\"#b5de2b\",\"symbol\":\"circle\"},\"name\":\"Ecuador\",\"showlegend\":true,\"type\":\"splom\"},{\"dimensions\":[{\"axis\":{\"matches\":true},\"label\":\"year_pc\",\"values\":[2000,2001,2002,2003,2004,2005,2006,2007,2008,2009,2010,2011,2012,2013,2014,2015,2016,2017,2018,2019,2020]},{\"axis\":{\"matches\":true},\"label\":\"total_kgs_CO2_9\",\"values\":[275014296.0,272691180.0,280647928.4,284517583.2,284263411.0,286494854.4,293601423.6,299437842.2,288574339.3,272110316.4,276792232.7,279640444.0,276032880.0,280009164.6,284679220.0,282112845.1,276515235.4,274564410.1,282024302.8,273189846.2,188900802.0]},{\"axis\":{\"matches\":true},\"label\":\"Population\",\"values\":[71371371,72854261,74393759,75963322,77522427,79075310,80629670,82218755,83844783,85501064,87252413,89200054,91240376,93377890,95592324,97723799,99784030,101789386,103740765,105618671,107465134]}],\"hovertemplate\":\"area=Egypt<br>%{xaxis.title.text}=%{x}<br>%{yaxis.title.text}=%{y}<extra></extra>\",\"legendgroup\":\"Egypt\",\"marker\":{\"color\":\"#fde725\",\"symbol\":\"circle\"},\"name\":\"Egypt\",\"showlegend\":true,\"type\":\"splom\"},{\"dimensions\":[{\"axis\":{\"matches\":true},\"label\":\"year_pc\",\"values\":[2000,2001,2002,2003,2004,2005,2006,2007,2008,2009,2010,2011,2012,2013,2014,2015,2016,2017,2018,2019,2020]},{\"axis\":{\"matches\":true},\"label\":\"total_kgs_CO2_9\",\"values\":[90476654.4,85737717.72,79915985.64,80209784.52,92982168.0,78083262.0,85615859.88,87366030.84,92382167.88,100404346.0,90669085.56,101926215.4,114098717.2,126290795.4,119620931.4,116857743.1,126986985.7,124761075.1,128515944.6,134941839.1,132412079.2]},{\"axis\":{\"matches\":true},\"label\":\"Population\",\"values\":[5958482,5988095,6011275,6026849,6035655,6037817,6034436,6044131,6068099,6091188,6114034,6137349,6161289,6185642,6209526,6231066,6250510,6266654,6276342,6280217,6292731]}],\"hovertemplate\":\"area=El Salvador<br>%{xaxis.title.text}=%{x}<br>%{yaxis.title.text}=%{y}<extra></extra>\",\"legendgroup\":\"El Salvador\",\"marker\":{\"color\":\"#440154\",\"symbol\":\"circle\"},\"name\":\"El Salvador\",\"showlegend\":true,\"type\":\"splom\"},{\"dimensions\":[{\"axis\":{\"matches\":true},\"label\":\"year_pc\",\"values\":[2000,2001,2002,2003,2004,2005,2006,2007,2008,2009,2010,2011,2012,2013,2014,2015,2016,2017,2018,2019,2020]},{\"axis\":{\"matches\":true},\"label\":\"total_kgs_CO2_9\",\"values\":[68569992.0,0.0,0.0,0.0,0.0,0.0,0.0,0.0,0.0,0.0,0.0,0.0,0.0,0.0,0.0,0.0,0.0,0.0,0.0,0.0,0.0]},{\"axis\":{\"matches\":true},\"label\":\"Population\",\"values\":[684977,719270,754115,789681,826355,864726,905418,948814,994971,1043686,1094524,1144588,1193636,1243941,1295183,1346973,1398927,1450694,1502091,1553031,1596049]}],\"hovertemplate\":\"area=Equatorial Guinea<br>%{xaxis.title.text}=%{x}<br>%{yaxis.title.text}=%{y}<extra></extra>\",\"legendgroup\":\"Equatorial Guinea\",\"marker\":{\"color\":\"#482878\",\"symbol\":\"circle\"},\"name\":\"Equatorial Guinea\",\"showlegend\":true,\"type\":\"splom\"},{\"dimensions\":[{\"axis\":{\"matches\":true},\"label\":\"year_pc\",\"values\":[2000,2001,2002,2003,2004,2005,2006,2007,2008,2009,2010,2011,2012,2013,2014,2015,2016,2017,2018,2019,2020]},{\"axis\":{\"matches\":true},\"label\":\"total_kgs_CO2_9\",\"values\":[0.0,0.0,0.0,0.0,0.0,0.0,0.0,0.0,0.0,0.0,0.0,0.0,0.0,0.0,0.0,0.0,0.0,0.0,0.0,0.0,0.0]},{\"axis\":{\"matches\":true},\"label\":\"Population\",\"values\":[2392880,2461927,2547424,2653390,2763140,2831732,2880093,2926168,3005779,3083888,3147727,3207570,3252596,3296367,3323425,3340006,3365287,3396933,3445374,3498818,3555868]}],\"hovertemplate\":\"area=Eritrea<br>%{xaxis.title.text}=%{x}<br>%{yaxis.title.text}=%{y}<extra></extra>\",\"legendgroup\":\"Eritrea\",\"marker\":{\"color\":\"#3e4989\",\"symbol\":\"circle\"},\"name\":\"Eritrea\",\"showlegend\":true,\"type\":\"splom\"},{\"dimensions\":[{\"axis\":{\"matches\":true},\"label\":\"year_pc\",\"values\":[2000,2001,2002,2003,2004,2005,2006,2007,2008,2009,2010,2011,2012,2013,2014,2015,2016,2017,2018,2019,2020]},{\"axis\":{\"matches\":true},\"label\":\"total_kgs_CO2_9\",\"values\":[0.0,0.0,0.0,0.0,0.0,0.0,0.0,0.0,0.0,0.0,0.0,0.0,0.0,0.0,0.0,0.0,0.0,0.0,0.0,0.0,0.0]},{\"axis\":{\"matches\":true},\"label\":\"Population\",\"values\":[1396985,1388115,1379350,1370720,1362550,1354775,1346810,1340680,1337090,1334515,1331475,1327439,1322696,1317997,1314545,1315407,1315790,1317384,1321977,1326898,1329522]}],\"hovertemplate\":\"area=Estonia<br>%{xaxis.title.text}=%{x}<br>%{yaxis.title.text}=%{y}<extra></extra>\",\"legendgroup\":\"Estonia\",\"marker\":{\"color\":\"#31688e\",\"symbol\":\"circle\"},\"name\":\"Estonia\",\"showlegend\":true,\"type\":\"splom\"},{\"dimensions\":[{\"axis\":{\"matches\":true},\"label\":\"year_pc\",\"values\":[2000,2001,2002,2003,2004,2005,2006,2007,2008,2009,2010,2011,2012,2013,2014,2015,2016,2017,2018,2019,2020]},{\"axis\":{\"matches\":true},\"label\":\"total_kgs_CO2_9\",\"values\":[0.0,70404120.0,80928360.0,81588240.0,84481560.0,91469520.0,87780960.0,87882480.0,87662520.0,87645600.0,89724458.88,92863922.58,94719276.72,96188821.02,96104271.78,97308468.18,98422379.46,98967152.7,100946945.0,101704952.5,101013440.6]},{\"axis\":{\"matches\":true},\"label\":\"Population\",\"values\":[1030496,1041396,1050809,1058797,1065764,1071886,1077735,1084008,1089870,1094886,1099920,1105371,1111444,1118319,1125865,1133936,1142524,1151390,1160428,1169613,1180655]}],\"hovertemplate\":\"area=Eswatini<br>%{xaxis.title.text}=%{x}<br>%{yaxis.title.text}=%{y}<extra></extra>\",\"legendgroup\":\"Eswatini\",\"marker\":{\"color\":\"#26828e\",\"symbol\":\"circle\"},\"name\":\"Eswatini\",\"showlegend\":true,\"type\":\"splom\"},{\"dimensions\":[{\"axis\":{\"matches\":true},\"label\":\"year_pc\",\"values\":[2000,2001,2002,2003,2004,2005,2006,2007,2008,2009,2010,2011,2012,2013,2014,2015,2016,2017,2018,2019,2020]},{\"axis\":{\"matches\":true},\"label\":\"total_kgs_CO2_9\",\"values\":[38638004.4,39645590.4,39292097.76,42215400.0,43184509.92,46631520.0,48611160.0,33025980.49,9763778.045,12381649.92,17303022.27,16484607.12,11287684.61,26498224.19,29219851.87,24990525.29,26355945.6,22943856.71,24264650.52,29426154.05,27079294.21]},{\"axis\":{\"matches\":true},\"label\":\"Population\",\"values\":[67031867,69018932,71073215,73168838,75301026,77469940,79691050,81996185,84357105,86755585,89237791,91817929,94451280,97084366,99746766,102471895,105293228,108197950,111129438,114120594,117190911]}],\"hovertemplate\":\"area=Ethiopia<br>%{xaxis.title.text}=%{x}<br>%{yaxis.title.text}=%{y}<extra></extra>\",\"legendgroup\":\"Ethiopia\",\"marker\":{\"color\":\"#1f9e89\",\"symbol\":\"circle\"},\"name\":\"Ethiopia\",\"showlegend\":true,\"type\":\"splom\"},{\"dimensions\":[{\"axis\":{\"matches\":true},\"label\":\"year_pc\",\"values\":[2000,2001,2002,2003,2004,2005,2006,2007,2008,2009,2010,2011,2012,2013,2014,2015,2016,2017,2018,2019,2020]},{\"axis\":{\"matches\":true},\"label\":\"total_kgs_CO2_9\",\"values\":[0.0,0.0,0.0,0.0,0.0,0.0,0.0,0.0,0.0,0.0,0.0,0.0,0.0,0.0,0.0,0.0,0.0,0.0,0.0,0.0,0.0]},{\"axis\":{\"matches\":true},\"label\":\"Population\",\"values\":[45660,46245,46813,47392,47989,48291,48313,48361,48411,48429,48410,48386,48392,48418,48465,48816,49500,50230,50955,51681,52415]}],\"hovertemplate\":\"area=Faroe Islands<br>%{xaxis.title.text}=%{x}<br>%{yaxis.title.text}=%{y}<extra></extra>\",\"legendgroup\":\"Faroe Islands\",\"marker\":{\"color\":\"#35b779\",\"symbol\":\"circle\"},\"name\":\"Faroe Islands\",\"showlegend\":true,\"type\":\"splom\"},{\"dimensions\":[{\"axis\":{\"matches\":true},\"label\":\"year_pc\",\"values\":[2000,2001,2002,2003,2004,2005,2006,2007,2008,2009,2010,2011,2012,2013,2014,2015,2016,2017,2018,2019,2020]},{\"axis\":{\"matches\":true},\"label\":\"total_kgs_CO2_9\",\"values\":[63653040.0,53856360.0,56935800.0,49474080.0,52186136.04,49826032.92,56665080.0,44465760.0,41318640.0,37562400.0,31538880.0,37596240.0,27291960.0,29102400.0,33197040.0,33049908.59,25143712.2,29074083.2,30151440.0,31978800.0,30608280.0]},{\"axis\":{\"matches\":true},\"label\":\"Population\",\"values\":[832509,841320,849891,858306,866694,874923,883083,890648,896731,901383,905169,908355,911059,913453,915560,917200,918371,919019,918996,918465,920422]}],\"hovertemplate\":\"area=Fiji<br>%{xaxis.title.text}=%{x}<br>%{yaxis.title.text}=%{y}<extra></extra>\",\"legendgroup\":\"Fiji\",\"marker\":{\"color\":\"#6ece58\",\"symbol\":\"circle\"},\"name\":\"Fiji\",\"showlegend\":true,\"type\":\"splom\"},{\"dimensions\":[{\"axis\":{\"matches\":true},\"label\":\"year_pc\",\"values\":[2000,2001,2002,2003,2004,2005,2006,2007,2008,2009,2010,2011,2012,2013,2014,2015,2016,2017,2018,2019,2020]},{\"axis\":{\"matches\":true},\"label\":\"total_kgs_CO2_9\",\"values\":[744480.0,727560.0,795240.0,642960.0,676800.0,859466.628,692637.7968,489721.3128,340499.6028,406707.5628,394483.878,491467.7952,290131.3008,349519.824,433071.4608,423000.0,380700.0,406080.0,246774.816,340378.9632,292093.6824]},{\"axis\":{\"matches\":true},\"label\":\"Population\",\"values\":[5176209,5188008,5200598,5213014,5228172,5246096,5266268,5288720,5313399,5338871,5363352,5388272,5413971,5438972,5461512,5479531,5495303,5508214,5515525,5521606,5529543]}],\"hovertemplate\":\"area=Finland<br>%{xaxis.title.text}=%{x}<br>%{yaxis.title.text}=%{y}<extra></extra>\",\"legendgroup\":\"Finland\",\"marker\":{\"color\":\"#b5de2b\",\"symbol\":\"circle\"},\"name\":\"Finland\",\"showlegend\":true,\"type\":\"splom\"},{\"dimensions\":[{\"axis\":{\"matches\":true},\"label\":\"year_pc\",\"values\":[2000,2001,2002,2003,2004,2005,2006,2007,2008,2009,2010,2011,2012,2013,2014,2015,2016,2017,2018,2019,2020]},{\"axis\":{\"matches\":true},\"label\":\"total_kgs_CO2_9\",\"values\":[16571532.6,14805000.0,18535860.0,16285500.0,17173800.0,17469900.0,14568120.0,15160320.0,14656950.0,16676944.2,15851417.4,18579682.8,16382620.8,16569756.0,16756887.82,20105942.94,18154806.37,23790799.15,24211709.53,20155614.98,15640479.99]},{\"axis\":{\"matches\":true},\"label\":\"Population\",\"values\":[61396998,61846621,62288130,62748235,63221092,63661713,64055920,64414583,64746420,65066707,65381691,65698590,66038315,66347706,66583533,66759124,66952831,67192844,67421853,67604228,67782185]}],\"hovertemplate\":\"area=France<br>%{xaxis.title.text}=%{x}<br>%{yaxis.title.text}=%{y}<extra></extra>\",\"legendgroup\":\"France\",\"marker\":{\"color\":\"#fde725\",\"symbol\":\"circle\"},\"name\":\"France\",\"showlegend\":true,\"type\":\"splom\"},{\"dimensions\":[{\"axis\":{\"matches\":true},\"label\":\"year_pc\",\"values\":[2000,2001,2002,2003,2004,2005,2006,2007,2008,2009,2010,2011,2012,2013,2014,2015,2016,2017,2018,2019,2020]},{\"axis\":{\"matches\":true},\"label\":\"total_kgs_CO2_9\",\"values\":[54144.0,50760.0,50760.0,52452.0,50760.0,50760.0,50760.0,50760.0,50760.0,50760.0,50760.0,50760.0,59220.0,59220.0,59220.0,58413.2544,57951.6768,57943.386,59155.8732,59840.4564,60322.6764]},{\"axis\":{\"matches\":true},\"label\":\"Population\",\"values\":[250927,255049,259137,263173,267132,271060,274901,278178,280558,282283,283788,285265,286584,288032,289873,291787,293541,295450,297606,299717,60921384]}],\"hovertemplate\":\"area=French Polynesia<br>%{xaxis.title.text}=%{x}<br>%{yaxis.title.text}=%{y}<extra></extra>\",\"legendgroup\":\"French Polynesia\",\"marker\":{\"color\":\"#440154\",\"symbol\":\"circle\"},\"name\":\"French Polynesia\",\"showlegend\":true,\"type\":\"splom\"},{\"dimensions\":[{\"axis\":{\"matches\":true},\"label\":\"year_pc\",\"values\":[2000,2001,2002,2003,2004,2005,2006,2007,2008,2009,2010,2011,2012,2013,2014,2015,2016,2017,2018,2019,2020]},{\"axis\":{\"matches\":true},\"label\":\"total_kgs_CO2_9\",\"values\":[4100646.6,4088718.0,4094640.0,3314289.6,3314289.6,3653874.0,3739658.4,3826035.0,3826035.0,4176871.2,4285448.701,4716510.235,4715844.602,5045397.473,4866985.548,4843120.565,4871515.032,4982143.745,5079387.891,4975022.455,5009525.042]},{\"axis\":{\"matches\":true},\"label\":\"Population\",\"values\":[1272935,1306590,1341696,1378398,1417110,1458353,1502534,1549774,1599978,1653542,1711105,1772500,1836705,1902226,1966855,2028517,2086206,2140215,2192012,2242785,2292573]}],\"hovertemplate\":\"area=Gabon<br>%{xaxis.title.text}=%{x}<br>%{yaxis.title.text}=%{y}<extra></extra>\",\"legendgroup\":\"Gabon\",\"marker\":{\"color\":\"#482878\",\"symbol\":\"circle\"},\"name\":\"Gabon\",\"showlegend\":true,\"type\":\"splom\"},{\"dimensions\":[{\"axis\":{\"matches\":true},\"label\":\"year_pc\",\"values\":[2000,2001,2002,2003,2004,2005,2006,2007,2008,2009,2010,2011,2012,2013,2014,2015,2016,2017,2018,2019,2020]},{\"axis\":{\"matches\":true},\"label\":\"total_kgs_CO2_9\",\"values\":[0.0,0.0,0.0,0.0,0.0,0.0,0.0,0.0,0.0,0.0,0.0,0.0,0.0,0.0,0.0,0.0,0.0,0.0,0.0,0.0,0.0]},{\"axis\":{\"matches\":true},\"label\":\"Population\",\"values\":[1437539,1479449,1522223,1566257,1612225,1660368,1711294,1764883,1820542,1878119,1937275,1998212,2061014,2124869,2189019,2253133,2317206,2381182,2444916,2508883,2573995]}],\"hovertemplate\":\"area=Gambia<br>%{xaxis.title.text}=%{x}<br>%{yaxis.title.text}=%{y}<extra></extra>\",\"legendgroup\":\"Gambia\",\"marker\":{\"color\":\"#3e4989\",\"symbol\":\"circle\"},\"name\":\"Gambia\",\"showlegend\":true,\"type\":\"splom\"},{\"dimensions\":[{\"axis\":{\"matches\":true},\"label\":\"year_pc\",\"values\":[2000,2001,2002,2003,2004,2005,2006,2007,2008,2009,2010,2011,2012,2013,2014,2015,2016,2017,2018,2019,2020]},{\"axis\":{\"matches\":true},\"label\":\"total_kgs_CO2_9\",\"values\":[228.42,268.0128,228.42,114.21,0.0,0.0,0.0,0.0,0.0,59.3892,0.0,0.0,0.0,0.0,0.0,0.5076,0.0,0.0,0.0,0.0,0.0]},{\"axis\":{\"matches\":true},\"label\":\"Population\",\"values\":[4077131,4014373,3978515,3951736,3927340,3902469,3880347,3860158,3848449,3814419,3786695,3756441,3728874,3717668,3719414,3725276,3727505,3728004,3726549,3720161,3722716]}],\"hovertemplate\":\"area=Georgia<br>%{xaxis.title.text}=%{x}<br>%{yaxis.title.text}=%{y}<extra></extra>\",\"legendgroup\":\"Georgia\",\"marker\":{\"color\":\"#31688e\",\"symbol\":\"circle\"},\"name\":\"Georgia\",\"showlegend\":true,\"type\":\"splom\"},{\"dimensions\":[{\"axis\":{\"matches\":true},\"label\":\"year_pc\",\"values\":[2000,2001,2002,2003,2004,2005,2006,2007,2008,2009,2010,2011,2012,2013,2014,2015,2016,2017,2018,2019,2020]},{\"axis\":{\"matches\":true},\"label\":\"total_kgs_CO2_9\",\"values\":[14178960.0,13705200.0,14111280.0,14060520.0,15566400.0,13485240.0,11116440.0,12486960.0,12757680.0,12994560.0,12283920.0,13654440.0,12080880.0,11082600.0,13789800.0,9729000.0,11251800.0,14635800.0,13705200.0,13045477.36,12689143.85]},{\"axis\":{\"matches\":true},\"label\":\"Population\",\"values\":[82211508,82349925,82488495,82534176,82516260,82469422,82376451,82266372,82110097,81902307,81776930,80274983,80425823,80645605,80982500,81686611,82348669,82657002,82905782,83092962,83160871]}],\"hovertemplate\":\"area=Germany<br>%{xaxis.title.text}=%{x}<br>%{yaxis.title.text}=%{y}<extra></extra>\",\"legendgroup\":\"Germany\",\"marker\":{\"color\":\"#26828e\",\"symbol\":\"circle\"},\"name\":\"Germany\",\"showlegend\":true,\"type\":\"splom\"},{\"dimensions\":[{\"axis\":{\"matches\":true},\"label\":\"year_pc\",\"values\":[2000,2001,2002,2003,2004,2005,2006,2007,2008,2009,2010,2011,2012,2013,2014,2015,2016,2017,2018,2019,2020]},{\"axis\":{\"matches\":true},\"label\":\"total_kgs_CO2_9\",\"values\":[2368800.0,2368800.0,2368800.0,2368800.0,2368800.0,2368800.0,2368800.0,2453400.0,2453400.0,2453400.0,2453400.0,2453400.0,2504160.0,2538000.0,2521080.0,2531161.613,2548501.567,2565159.476,2590405.132,2587057.679,2595996.684]},{\"axis\":{\"matches\":true},\"label\":\"Population\",\"values\":[19665502,20195577,20758326,21329514,21906444,22496951,23098586,23708320,24326087,24950762,25574719,26205941,26858762,27525597,28196358,28870939,29554303,30222262,30870641,31522290,32180401]}],\"hovertemplate\":\"area=Ghana<br>%{xaxis.title.text}=%{x}<br>%{yaxis.title.text}=%{y}<extra></extra>\",\"legendgroup\":\"Ghana\",\"marker\":{\"color\":\"#1f9e89\",\"symbol\":\"circle\"},\"name\":\"Ghana\",\"showlegend\":true,\"type\":\"splom\"},{\"dimensions\":[{\"axis\":{\"matches\":true},\"label\":\"year_pc\",\"values\":[2000,2001,2002,2003,2004,2005,2006,2007,2008,2009,2010,2011,2012,2013,2014,2015,2016,2017,2018,2019,2020]},{\"axis\":{\"matches\":true},\"label\":\"total_kgs_CO2_9\",\"values\":[2470320.0,2368800.0,2239362.0,1488960.0,1607400.0,2064240.0,1065960.0,541440.0,609120.0,1015200.0,541440.0,236880.0,338400.0,219960.0,270720.0,169200.0,203040.0,236880.0,84600.0,67680.0,67680.0]},{\"axis\":{\"matches\":true},\"label\":\"Population\",\"values\":[10805808,10862132,10902022,10928070,10955141,10987314,11020362,11048473,11077841,11107017,11121341,11104899,11045011,10965211,10892413,10820883,10775971,10754679,10732882,10721582,10698599]}],\"hovertemplate\":\"area=Greece<br>%{xaxis.title.text}=%{x}<br>%{yaxis.title.text}=%{y}<extra></extra>\",\"legendgroup\":\"Greece\",\"marker\":{\"color\":\"#35b779\",\"symbol\":\"circle\"},\"name\":\"Greece\",\"showlegend\":true,\"type\":\"splom\"},{\"dimensions\":[{\"axis\":{\"matches\":true},\"label\":\"year_pc\",\"values\":[2000,2001,2002,2003,2004,2005,2006,2007,2008,2009,2010,2011,2012,2013,2014,2015,2016,2017,2018,2019,2020]},{\"axis\":{\"matches\":true},\"label\":\"total_kgs_CO2_9\",\"values\":[113364.0,114210.0,114210.0,115056.0,115056.0,115056.0,121824.0,121824.0,121824.0,121824.0,121824.0,121824.0,121824.0,121824.0,122737.5108,123770.8152,124184.0016,109957.4964,97971.7068,82197.36,55531.44]},{\"axis\":{\"matches\":true},\"label\":\"Population\",\"values\":[107432,107936,108231,108740,109516,110254,110988,111725,112478,113249,114039,114918,115912,116945,117972,118980,119966,120921,121838,122724,123663]}],\"hovertemplate\":\"area=Grenada<br>%{xaxis.title.text}=%{x}<br>%{yaxis.title.text}=%{y}<extra></extra>\",\"legendgroup\":\"Grenada\",\"marker\":{\"color\":\"#6ece58\",\"symbol\":\"circle\"},\"name\":\"Grenada\",\"showlegend\":true,\"type\":\"splom\"},{\"dimensions\":[{\"axis\":{\"matches\":true},\"label\":\"year_pc\",\"values\":[2000,2001,2002,2003,2004,2005,2006,2007,2008,2009,2010,2011,2012,2013,2014,2015,2016,2017,2018,2019,2020]},{\"axis\":{\"matches\":true},\"label\":\"total_kgs_CO2_9\",\"values\":[287917488.0,294947748.0,305759628.0,305710560.0,350616240.0,312151885.6,305258643.8,351859369.3,351983054.5,372730832.3,387569723.1,356566682.5,423385826.8,468012292.9,575048805.1,586177935.1,579860142.4,450968455.4,480449914.2,517450248.7,479528197.2]},{\"axis\":{\"matches\":true},\"label\":\"Population\",\"values\":[11589761,11871565,12147518,12415334,12682108,12948292,13213330,13477017,13739299,14000190,14259687,14521515,14781942,15043981,15306316,15567419,15827690,16087418,16346950,16604026,16858333]}],\"hovertemplate\":\"area=Guatemala<br>%{xaxis.title.text}=%{x}<br>%{yaxis.title.text}=%{y}<extra></extra>\",\"legendgroup\":\"Guatemala\",\"marker\":{\"color\":\"#b5de2b\",\"symbol\":\"circle\"},\"name\":\"Guatemala\",\"showlegend\":true,\"type\":\"splom\"},{\"dimensions\":[{\"axis\":{\"matches\":true},\"label\":\"year_pc\",\"values\":[2000,2001,2002,2003,2004,2005,2006,2007,2008,2009,2010,2011,2012,2013,2014,2015,2016,2017,2018,2019,2020]},{\"axis\":{\"matches\":true},\"label\":\"total_kgs_CO2_9\",\"values\":[4775670.0,4775670.0,4775670.0,4953330.0,4953330.0,4953330.0,4970250.0,5004090.0,5004090.0,5004090.0,5004176.292,5004130.439,5207216.292,5291816.292,5282722.638,5370058.94,5395624.722,5436566.892,5556533.753,5550377.073,5565275.979]},{\"axis\":{\"matches\":true},\"label\":\"Population\",\"values\":[8336967,8445717,8577790,8772254,8961039,9140114,9330625,9547082,9779785,10021323,10270728,10527712,10788692,11055430,11333365,11625998,11930985,12240789,12554864,12877539,13205153]}],\"hovertemplate\":\"area=Guinea<br>%{xaxis.title.text}=%{x}<br>%{yaxis.title.text}=%{y}<extra></extra>\",\"legendgroup\":\"Guinea\",\"marker\":{\"color\":\"#fde725\",\"symbol\":\"circle\"},\"name\":\"Guinea\",\"showlegend\":true,\"type\":\"splom\"},{\"dimensions\":[{\"axis\":{\"matches\":true},\"label\":\"year_pc\",\"values\":[2000,2001,2002,2003,2004,2005,2006,2007,2008,2009,2010,2011,2012,2013,2014,2015,2016,2017,2018,2019,2020]},{\"axis\":{\"matches\":true},\"label\":\"total_kgs_CO2_9\",\"values\":[93060.0,93060.0,93060.0,93060.0,93060.0,93060.0,93060.0,93060.0,101520.0,101520.0,106596.0,106596.0,107442.0,107442.0,109033.1568,111913.6176,112983.9768,114303.3984,116777.2716,114688.1592,115256.3328]},{\"axis\":{\"matches\":true},\"label\":\"Population\",\"values\":[1230849,1257380,1285678,1315653,1347009,1379713,1414091,1450572,1488431,1527196,1567220,1609017,1652717,1697753,1743309,1788919,1834552,1879826,1924955,1970457,2015828]}],\"hovertemplate\":\"area=Guinea-Bissau<br>%{xaxis.title.text}=%{x}<br>%{yaxis.title.text}=%{y}<extra></extra>\",\"legendgroup\":\"Guinea-Bissau\",\"marker\":{\"color\":\"#440154\",\"symbol\":\"circle\"},\"name\":\"Guinea-Bissau\",\"showlegend\":true,\"type\":\"splom\"},{\"dimensions\":[{\"axis\":{\"matches\":true},\"label\":\"year_pc\",\"values\":[2000,2001,2002,2003,2004,2005,2006,2007,2008,2009,2010,2011,2012,2013,2014,2015,2016,2017,2018,2019,2020]},{\"axis\":{\"matches\":true},\"label\":\"total_kgs_CO2_9\",\"values\":[47793924.0,55142280.0,64955880.0,59380740.0,65686824.0,52820856.0,52232040.0,54384264.0,48856500.0,49084920.0,48806467.56,56316917.16,47678191.2,42845517.72,49863933.72,49839831.18,41741558.78,32808509.42,21902858.78,20120401.08,21778645.68]},{\"axis\":{\"matches\":true},\"label\":\"Population\",\"values\":[759051,759809,760323,760562,760424,759709,758367,756521,754150,751258,747932,744230,743966,747420,751115,755031,759087,763252,785514,798753,797202]}],\"hovertemplate\":\"area=Guyana<br>%{xaxis.title.text}=%{x}<br>%{yaxis.title.text}=%{y}<extra></extra>\",\"legendgroup\":\"Guyana\",\"marker\":{\"color\":\"#482878\",\"symbol\":\"circle\"},\"name\":\"Guyana\",\"showlegend\":true,\"type\":\"splom\"},{\"dimensions\":[{\"axis\":{\"matches\":true},\"label\":\"year_pc\",\"values\":[2000,2001,2002,2003,2004,2005,2006,2007,2008,2009,2010,2011,2012,2013,2014,2015,2016,2017,2018,2019,2020]},{\"axis\":{\"matches\":true},\"label\":\"total_kgs_CO2_9\",\"values\":[13647672.0,17116272.0,10126620.0,10270440.0,17884440.0,17884440.0,18307440.0,18730440.0,18899640.0,18899640.0,20762978.69,21975981.95,24114231.72,25304418.36,25916532.02,25588055.26,25504390.76,25555044.33,25295863.95,25088901.38,24961802.07]},{\"axis\":{\"matches\":true},\"label\":\"Population\",\"values\":[8360225,8511728,8661546,8812245,8961489,9111900,9266288,9420826,9575247,9730638,9842880,9954312,10108539,10261206,10412740,10563757,10713849,10863543,11012421,11160438,11306801]}],\"hovertemplate\":\"area=Haiti<br>%{xaxis.title.text}=%{x}<br>%{yaxis.title.text}=%{y}<extra></extra>\",\"legendgroup\":\"Haiti\",\"marker\":{\"color\":\"#3e4989\",\"symbol\":\"circle\"},\"name\":\"Haiti\",\"showlegend\":true,\"type\":\"splom\"},{\"dimensions\":[{\"axis\":{\"matches\":true},\"label\":\"year_pc\",\"values\":[2000,2001,2002,2003,2004,2005,2006,2007,2008,2009,2010,2011,2012,2013,2014,2015,2016,2017,2018,2019,2020]},{\"axis\":{\"matches\":true},\"label\":\"total_kgs_CO2_9\",\"values\":[69608880.0,71774640.0,64143720.0,93072740.76,94850982.0,97500654.0,96579360.0,105308557.2,106286685.5,119207152.8,77815080.0,76258440.0,86782680.0,90364644.0,94584492.0,90992376.0,93923359.92,94580583.48,96867008.46,94904516.88,88412981.22]},{\"axis\":{\"matches\":true},\"label\":\"Population\",\"values\":[6656725,6837861,7019908,7201881,7383407,7564613,7745200,7924462,8101777,8277302,8450933,8622504,8792367,8960657,9127846,9294505,9460798,9626842,9792850,9958829,10121763]}],\"hovertemplate\":\"area=Honduras<br>%{xaxis.title.text}=%{x}<br>%{yaxis.title.text}=%{y}<extra></extra>\",\"legendgroup\":\"Honduras\",\"marker\":{\"color\":\"#31688e\",\"symbol\":\"circle\"},\"name\":\"Honduras\",\"showlegend\":true,\"type\":\"splom\"},{\"dimensions\":[{\"axis\":{\"matches\":true},\"label\":\"year_pc\",\"values\":[2000,2001,2002,2003,2004,2005,2006,2007,2008,2009,2010,2011,2012,2013,2014,2015,2016,2017,2018,2019,2020]},{\"axis\":{\"matches\":true},\"label\":\"total_kgs_CO2_9\",\"values\":[0.0,0.0,0.0,0.0,0.0,0.0,0.0,0.0,0.0,0.0,0.0,0.0,0.0,0.0,0.0,0.0,0.0,0.0,0.0,0.0,0.0]},{\"axis\":{\"matches\":true},\"label\":\"Population\",\"values\":[6665000,6714300,6744100,6730800,6783500,6813200,6857100,6916300,6957800,6972800,7024200,7071600,7150100,7178900,7229500,7291300,7336600,7393200,7452600,7507900,7481000]}],\"hovertemplate\":\"area=China, Hong Kong SAR<br>%{xaxis.title.text}=%{x}<br>%{yaxis.title.text}=%{y}<extra></extra>\",\"legendgroup\":\"China, Hong Kong SAR\",\"marker\":{\"color\":\"#26828e\",\"symbol\":\"circle\"},\"name\":\"China, Hong Kong SAR\",\"showlegend\":true,\"type\":\"splom\"},{\"dimensions\":[{\"axis\":{\"matches\":true},\"label\":\"year_pc\",\"values\":[2000,2001,2002,2003,2004,2005,2006,2007,2008,2009,2010,2011,2012,2013,2014,2015,2016,2017,2018,2019,2020]},{\"axis\":{\"matches\":true},\"label\":\"total_kgs_CO2_9\",\"values\":[1488960.0,2131920.0,1590480.0,1235160.0,2250360.0,1928880.0,1353600.0,964440.0,253800.0,439920.0,439920.0,439920.0,423000.0,473760.0,473760.0,473760.0,592200.0,592200.0,473760.0,473760.0,456840.0]},{\"axis\":{\"matches\":true},\"label\":\"Population\",\"values\":[10210971,10187576,10158608,10129552,10107146,10087065,10071370,10055780,10038188,10022650,10000023,9971727,9920362,9893082,9866468,9843028,9814023,9787966,9775564,9771141,9750149]}],\"hovertemplate\":\"area=Hungary<br>%{xaxis.title.text}=%{x}<br>%{yaxis.title.text}=%{y}<extra></extra>\",\"legendgroup\":\"Hungary\",\"marker\":{\"color\":\"#1f9e89\",\"symbol\":\"circle\"},\"name\":\"Hungary\",\"showlegend\":true,\"type\":\"splom\"},{\"dimensions\":[{\"axis\":{\"matches\":true},\"label\":\"year_pc\",\"values\":[2000,2001,2002,2003,2004,2005,2006,2007,2008,2009,2010,2011,2012,2013,2014,2015,2016,2017,2018,2019,2020]},{\"axis\":{\"matches\":true},\"label\":\"total_kgs_CO2_9\",\"values\":[0.0,0.0,0.0,0.0,0.0,0.0,0.0,0.0,0.0,0.0,0.0,0.0,0.0,0.0,0.0,0.0,0.0,0.0,0.0,0.0,0.0]},{\"axis\":{\"matches\":true},\"label\":\"Population\",\"values\":[281205,284968,287523,289521,292074,296734,303782,311566,317414,318499,318041,319014,320716,323764,327386,330815,335439,343400,352721,360563,366463]}],\"hovertemplate\":\"area=Iceland<br>%{xaxis.title.text}=%{x}<br>%{yaxis.title.text}=%{y}<extra></extra>\",\"legendgroup\":\"Iceland\",\"marker\":{\"color\":\"#35b779\",\"symbol\":\"circle\"},\"name\":\"Iceland\",\"showlegend\":true,\"type\":\"splom\"},{\"dimensions\":[{\"axis\":{\"matches\":true},\"label\":\"year_pc\",\"values\":[2000,2001,2002,2003,2004,2005,2006,2007,2008,2009,2010,2011,2012,2013,2014,2015,2016,2017,2018,2019,2020]},{\"axis\":{\"matches\":true},\"label\":\"total_kgs_CO2_9\",\"values\":[5200292628.0,5139889920.0,5165351136.0,5012756424.0,4056854087.0,4104832608.0,4902092856.0,6236859204.0,6082755228.0,4933352556.0,5087871072.0,5978716178.0,6308402040.0,5971812480.0,6142366418.0,6341869800.0,6079711320.0,5331407400.0,6665936191.0,7098214104.0,6457100076.0]},{\"axis\":{\"matches\":true},\"label\":\"Population\",\"values\":[1059633675,1078970907,1098313039,1117415123,1136264583,1154638713,1172373788,1189691809,1206734806,1223640160,1240613620,1257621191,1274487215,1291132063,1307246509,1322866505,1338636340,1354195680,1369003306,1383112050,1396387127]}],\"hovertemplate\":\"area=India<br>%{xaxis.title.text}=%{x}<br>%{yaxis.title.text}=%{y}<extra></extra>\",\"legendgroup\":\"India\",\"marker\":{\"color\":\"#6ece58\",\"symbol\":\"circle\"},\"name\":\"India\",\"showlegend\":true,\"type\":\"splom\"},{\"dimensions\":[{\"axis\":{\"matches\":true},\"label\":\"year_pc\",\"values\":[2000,2001,2002,2003,2004,2005,2006,2007,2008,2009,2010,2011,2012,2013,2014,2015,2016,2017,2018,2019,2020]},{\"axis\":{\"matches\":true},\"label\":\"total_kgs_CO2_9\",\"values\":[421511040.0,445469760.0,451797840.0,432644400.0,474250680.0,518868720.0,517024440.0,451341000.0,457466040.0,470782080.0,472068000.0,428922000.0,514368000.0,506415600.0,482558400.0,480866400.0,495079200.0,494233200.0,520120800.0,513945000.0,515806200.0]},{\"axis\":{\"matches\":true},\"label\":\"Population\",\"values\":[214072421,217112437,220115092,223080121,225938595,228805144,231797427,234858289,237936543,240981299,244016173,247099697,250222695,253275918,256229761,259091970,261850182,264498852,267066843,269582878,271857970]}],\"hovertemplate\":\"area=Indonesia<br>%{xaxis.title.text}=%{x}<br>%{yaxis.title.text}=%{y}<extra></extra>\",\"legendgroup\":\"Indonesia\",\"marker\":{\"color\":\"#b5de2b\",\"symbol\":\"circle\"},\"name\":\"Indonesia\",\"showlegend\":true,\"type\":\"splom\"},{\"dimensions\":[{\"axis\":{\"matches\":true},\"label\":\"year_pc\",\"values\":[2000,2001,2002,2003,2004,2005,2006,2007,2008,2009,2010,2011,2012,2013,2014,2015,2016,2017,2018,2019,2020]},{\"axis\":{\"matches\":true},\"label\":\"total_kgs_CO2_9\",\"values\":[46885573.8,60750092.52,71443502.06,97729920.0,110166060.8,102762351.0,93641895.72,97405479.0,69062067.9,51840903.74,102654168.2,103283860.3,97786853.77,117963275.3,119941296.7,132348070.8,134084333.5,138184337.2,162435485.5,134683200.0,143143403.0]},{\"axis\":{\"matches\":true},\"label\":\"Population\",\"values\":[65544383,66674851,67327117,67954699,69061674,70182594,71275760,72319418,73318394,74322685,75373855,76342971,77324451,78458928,79961672,81790841,83306231,84505076,85617562,86564202,87290193]}],\"hovertemplate\":\"area=Iran (Islamic Republic of)<br>%{xaxis.title.text}=%{x}<br>%{yaxis.title.text}=%{y}<extra></extra>\",\"legendgroup\":\"Iran (Islamic Republic of)\",\"marker\":{\"color\":\"#fde725\",\"symbol\":\"circle\"},\"name\":\"Iran (Islamic Republic of)\",\"showlegend\":true,\"type\":\"splom\"},{\"dimensions\":[{\"axis\":{\"matches\":true},\"label\":\"year_pc\",\"values\":[2000,2001,2002,2003,2004,2005,2006,2007,2008,2009,2010,2011,2012,2013,2014,2015,2016,2017,2018,2019,2020]},{\"axis\":{\"matches\":true},\"label\":\"total_kgs_CO2_9\",\"values\":[1111644.0,1111644.0,1184400.0,0.0,0.0,0.0,0.0,0.0,65460.096,110437.5168,220311.2592,190571.8212,176717.3868,144653.1408,154577.3976,214975.7064,206276.4576,124313.778,1444.122,1261.8936,1257.8328]},{\"axis\":{\"matches\":true},\"label\":\"Population\",\"values\":[24628858,25425663,26255343,27068823,27858948,28698684,28905607,28660887,29218381,30289040,31264875,32378061,33864447,35481800,36746488,37757813,38697943,39621162,40590700,41563520,42556984]}],\"hovertemplate\":\"area=Iraq<br>%{xaxis.title.text}=%{x}<br>%{yaxis.title.text}=%{y}<extra></extra>\",\"legendgroup\":\"Iraq\",\"marker\":{\"color\":\"#440154\",\"symbol\":\"circle\"},\"name\":\"Iraq\",\"showlegend\":true,\"type\":\"splom\"},{\"dimensions\":[{\"axis\":{\"matches\":true},\"label\":\"year_pc\",\"values\":[2000,2001,2002,2003,2004,2005,2006,2007,2008,2009,2010,2011,2012,2013,2014,2015,2016,2017,2018,2019,2020]},{\"axis\":{\"matches\":true},\"label\":\"total_kgs_CO2_9\",\"values\":[879840.0,862920.0,693720.0,761400.0,879840.0,744480.0,0.0,0.0,0.0,0.0,0.0,0.0,0.0,0.0,54990.0,50421.6,46614.6,48898.8,51922.9116,72.756,6.2604]},{\"axis\":{\"matches\":true},\"label\":\"Population\",\"values\":[3805174,3866243,3931947,3996521,4070262,4159914,4273591,4398942,4489544,4535375,4560155,4580084,4599533,4623816,4657740,4701957,4755335,4807388,4867316,4934340,4985382]}],\"hovertemplate\":\"area=Ireland<br>%{xaxis.title.text}=%{x}<br>%{yaxis.title.text}=%{y}<extra></extra>\",\"legendgroup\":\"Ireland\",\"marker\":{\"color\":\"#482878\",\"symbol\":\"circle\"},\"name\":\"Ireland\",\"showlegend\":true,\"type\":\"splom\"},{\"dimensions\":[{\"axis\":{\"matches\":true},\"label\":\"year_pc\",\"values\":[2000,2001,2002,2003,2004,2005,2006,2007,2008,2009,2010,2011,2012,2013,2014,2015,2016,2017,2018,2019,2020]},{\"axis\":{\"matches\":true},\"label\":\"total_kgs_CO2_9\",\"values\":[0.0,0.0,0.0,0.0,0.0,0.0,0.0,0.0,0.0,0.0,0.0,0.0,0.0,0.0,0.0,0.0,0.0,0.0,0.0,0.0,0.0]},{\"axis\":{\"matches\":true},\"label\":\"Population\",\"values\":[6289000,6439000,6570000,6689700,6809000,6930100,7053700,7180100,7308800,7485600,7623600,7765800,7910500,8059500,8215700,8380100,8546000,8713300,8882800,9054000,9215100]}],\"hovertemplate\":\"area=Israel<br>%{xaxis.title.text}=%{x}<br>%{yaxis.title.text}=%{y}<extra></extra>\",\"legendgroup\":\"Israel\",\"marker\":{\"color\":\"#3e4989\",\"symbol\":\"circle\"},\"name\":\"Israel\",\"showlegend\":true,\"type\":\"splom\"},{\"dimensions\":[{\"axis\":{\"matches\":true},\"label\":\"year_pc\",\"values\":[2000,2001,2002,2003,2004,2005,2006,2007,2008,2009,2010,2011,2012,2013,2014,2015,2016,2017,2018,2019,2020]},{\"axis\":{\"matches\":true},\"label\":\"total_kgs_CO2_9\",\"values\":[8460000.0,7157160.0,7850880.0,5008320.0,6446520.0,10152000.0,3654720.0,3739320.0,2554920.0,2707200.0,2453400.0,1945800.0,1742760.0,1455120.0,2115000.0,1353600.0,1675080.0,2030400.0,1522800.0,1387440.0,1263599.982]},{\"axis\":{\"matches\":true},\"label\":\"Population\",\"values\":[56942108,56974100,57059007,57313203,57685327,57969484,58143979,58438310,58826731,59095365,59277417,59379449,59539717,60233948,60789140,60730582,60627498,60536709,60421760,59729081,59438851]}],\"hovertemplate\":\"area=Italy<br>%{xaxis.title.text}=%{x}<br>%{yaxis.title.text}=%{y}<extra></extra>\",\"legendgroup\":\"Italy\",\"marker\":{\"color\":\"#31688e\",\"symbol\":\"circle\"},\"name\":\"Italy\",\"showlegend\":true,\"type\":\"splom\"},{\"dimensions\":[{\"axis\":{\"matches\":true},\"label\":\"year_pc\",\"values\":[2000,2001,2002,2003,2004,2005,2006,2007,2008,2009,2010,2011,2012,2013,2014,2015,2016,2017,2018,2019,2020]},{\"axis\":{\"matches\":true},\"label\":\"total_kgs_CO2_9\",\"values\":[35554503.6,39201948.0,34603988.76,31273760.52,35057969.28,24189288.84,30772843.92,34616712.6,29011945.68,23512032.0,24498704.88,26704006.92,25927632.72,24660544.68,31319698.32,27757666.08,19950287.4,20070504.0,17992728.0,13098871.8,9263750.76]},{\"axis\":{\"matches\":true},\"label\":\"Population\",\"values\":[2612205,2625405,2638244,2651027,2664024,2676863,2689660,2701221,2711373,2722401,2733896,2746169,2759817,2773129,2784543,2794445,2802695,2808376,2811835,2813773,2820436]}],\"hovertemplate\":\"area=Jamaica<br>%{xaxis.title.text}=%{x}<br>%{yaxis.title.text}=%{y}<extra></extra>\",\"legendgroup\":\"Jamaica\",\"marker\":{\"color\":\"#26828e\",\"symbol\":\"circle\"},\"name\":\"Jamaica\",\"showlegend\":true,\"type\":\"splom\"},{\"dimensions\":[{\"axis\":{\"matches\":true},\"label\":\"year_pc\",\"values\":[2000,2001,2002,2003,2004,2005,2006,2007,2008,2009,2010,2011,2012,2013,2014,2015,2016,2017,2018,2019,2020]},{\"axis\":{\"matches\":true},\"label\":\"total_kgs_CO2_9\",\"values\":[25549200.0,27258120.0,24297120.0,25380000.0,21809880.0,22232880.0,23806440.0,26987400.0,28662480.0,27241200.0,26429040.0,18189000.0,20100960.0,21606840.0,21048480.0,22842000.0,27901080.0,23298840.0,21674520.0,21133080.0,23823360.0]},{\"axis\":{\"matches\":true},\"label\":\"Population\",\"values\":[126843000,127149000,127445000,127718000,127761000,127773000,127854000,128001000,128063000,128047000,128070000,127833000,127629000,127445000,127276000,127141000,127076000,126972000,126811000,126633000,126261000]}],\"hovertemplate\":\"area=Japan<br>%{xaxis.title.text}=%{x}<br>%{yaxis.title.text}=%{y}<extra></extra>\",\"legendgroup\":\"Japan\",\"marker\":{\"color\":\"#1f9e89\",\"symbol\":\"circle\"},\"name\":\"Japan\",\"showlegend\":true,\"type\":\"splom\"},{\"dimensions\":[{\"axis\":{\"matches\":true},\"label\":\"year_pc\",\"values\":[2000,2001,2002,2003,2004,2005,2006,2007,2008,2009,2010,2011,2012,2013,2014,2015,2016,2017,2018,2019,2020]},{\"axis\":{\"matches\":true},\"label\":\"total_kgs_CO2_9\",\"values\":[0.0,0.0,0.0,0.0,0.0,0.0,0.0,0.0,0.0,0.0,0.0,0.0,0.0,0.0,0.0,0.0,0.0,0.0,0.0,0.0,0.0]},{\"axis\":{\"matches\":true},\"label\":\"Population\",\"values\":[5056174,5163310,5275532,5396117,5532423,5678534,6075548,6473457,6632873,6780493,6931258,7109980,7211863,7694814,8658026,9494246,9964656,10215381,10459865,10698683,10928721]}],\"hovertemplate\":\"area=Jordan<br>%{xaxis.title.text}=%{x}<br>%{yaxis.title.text}=%{y}<extra></extra>\",\"legendgroup\":\"Jordan\",\"marker\":{\"color\":\"#35b779\",\"symbol\":\"circle\"},\"name\":\"Jordan\",\"showlegend\":true,\"type\":\"splom\"},{\"dimensions\":[{\"axis\":{\"matches\":true},\"label\":\"year_pc\",\"values\":[2000,2001,2002,2003,2004,2005,2006,2007,2008,2009,2010,2011,2012,2013,2014,2015,2016,2017,2018,2019,2020]},{\"axis\":{\"matches\":true},\"label\":\"total_kgs_CO2_9\",\"values\":[162110.52,307098.0,353628.0,372815.28,265407.12,272412.0,161890.56,124531.2,74718.72,93398.4,80945.28,155664.0,99624.96,82831.86,67894.3764,109886.2632,254660.0436,332099.838,469849.9572,362002.7232,316284.3756]},{\"axis\":{\"matches\":true},\"label\":\"Population\",\"values\":[14883626,14858335,14858948,14909019,15012984,15147029,15308085,15484192,15776938,16092822,16321872,16557202,16792090,17035551,17288285,17542806,17794055,18037776,18276452,18513673,18755666]}],\"hovertemplate\":\"area=Kazakhstan<br>%{xaxis.title.text}=%{x}<br>%{yaxis.title.text}=%{y}<extra></extra>\",\"legendgroup\":\"Kazakhstan\",\"marker\":{\"color\":\"#6ece58\",\"symbol\":\"circle\"},\"name\":\"Kazakhstan\",\"showlegend\":true,\"type\":\"splom\"},{\"dimensions\":[{\"axis\":{\"matches\":true},\"label\":\"year_pc\",\"values\":[2000,2001,2002,2003,2004,2005,2006,2007,2008,2009,2010,2011,2012,2013,2014,2015,2016,2017,2018,2019,2020]},{\"axis\":{\"matches\":true},\"label\":\"total_kgs_CO2_9\",\"values\":[69059386.08,62397440.64,78684141.96,73366050.6,81097475.4,83463314.4,85713995.88,90322580.88,88728480.0,97335717.84,99973275.12,93573369.72,102348470.9,116895627.0,112516798.7,125373646.8,123424953.5,85303956.6,94788496.44,83688012.0,121246994.2]},{\"axis\":{\"matches\":true},\"label\":\"Population\",\"values\":[30851606,31800343,32779823,33767122,34791836,35843010,36925253,38036793,39186895,40364444,41517895,42635144,43725806,44792368,45831863,46851488,47894670,48948137,49953304,50951450,51985780]}],\"hovertemplate\":\"area=Kenya<br>%{xaxis.title.text}=%{x}<br>%{yaxis.title.text}=%{y}<extra></extra>\",\"legendgroup\":\"Kenya\",\"marker\":{\"color\":\"#b5de2b\",\"symbol\":\"circle\"},\"name\":\"Kenya\",\"showlegend\":true,\"type\":\"splom\"},{\"dimensions\":[{\"axis\":{\"matches\":true},\"label\":\"year_pc\",\"values\":[2000,2001,2002,2003,2004,2005,2006,2007,2008,2009,2010,2011,2012,2013,2014,2015,2016,2017,2018,2019,2020]},{\"axis\":{\"matches\":true},\"label\":\"total_kgs_CO2_9\",\"values\":[0.0,0.0,0.0,0.0,0.0,0.0,0.0,0.0,0.0,0.0,0.0,0.0,0.0,0.0,0.0,0.0,0.0,0.0,0.0,0.0,0.0]},{\"axis\":{\"matches\":true},\"label\":\"Population\",\"values\":[88826,90531,92400,94302,96224,98164,100083,101998,103966,105996,107995,109871,111618,113311,114985,116707,118513,120362,122261,124241,126463]}],\"hovertemplate\":\"area=Kiribati<br>%{xaxis.title.text}=%{x}<br>%{yaxis.title.text}=%{y}<extra></extra>\",\"legendgroup\":\"Kiribati\",\"marker\":{\"color\":\"#fde725\",\"symbol\":\"circle\"},\"name\":\"Kiribati\",\"showlegend\":true,\"type\":\"splom\"},{\"dimensions\":[{\"axis\":{\"matches\":true},\"label\":\"year_pc\",\"values\":[2000,2001,2002,2003,2004,2005,2006,2007,2008,2009,2010,2011,2012,2013,2014,2015,2016,2017,2018,2019,2020]},{\"axis\":{\"matches\":true},\"label\":\"total_kgs_CO2_9\",\"values\":[0.0,0.0,0.0,0.0,0.0,0.0,0.0,0.0,0.0,0.0,0.0,0.0,0.0,0.0,0.0,0.0,0.0,0.0,0.0,0.0,0.0]},{\"axis\":{\"matches\":true},\"label\":\"Population\",\"values\":[23367059,23512522,23638411,23781707,23948930,24100982,24235761,24356506,24469047,24581509,24686435,24783789,24887770,25001819,25126131,25258015,25389611,25516321,25638149,25755441,25867467]}],\"hovertemplate\":\"area=Democratic People's Republic of Korea<br>%{xaxis.title.text}=%{x}<br>%{yaxis.title.text}=%{y}<extra></extra>\",\"legendgroup\":\"Democratic People's Republic of Korea\",\"marker\":{\"color\":\"#440154\",\"symbol\":\"circle\"},\"name\":\"Democratic People's Republic of Korea\",\"showlegend\":true,\"type\":\"splom\"},{\"dimensions\":[{\"axis\":{\"matches\":true},\"label\":\"year_pc\",\"values\":[2000,2001,2002,2003,2004,2005,2006,2007,2008,2009,2010,2011,2012,2013,2014,2015,2016,2017,2018,2019,2020]},{\"axis\":{\"matches\":true},\"label\":\"total_kgs_CO2_9\",\"values\":[0.0,0.0,0.0,0.0,0.0,0.0,0.0,0.0,0.0,0.0,0.0,0.0,0.0,0.0,0.0,0.0,0.0,0.0,0.0,0.0,0.0]},{\"axis\":{\"matches\":true},\"label\":\"Population\",\"values\":[47008111,47370164,47644736,47892330,48082519,48184561,48438292,48683638,49054708,49307835,49554112,49936638,50199853,50428893,50746659,51014947,51217803,51361911,51585058,51764822,51836239]}],\"hovertemplate\":\"area=Republic of Korea<br>%{xaxis.title.text}=%{x}<br>%{yaxis.title.text}=%{y}<extra></extra>\",\"legendgroup\":\"Republic of Korea\",\"marker\":{\"color\":\"#482878\",\"symbol\":\"circle\"},\"name\":\"Republic of Korea\",\"showlegend\":true,\"type\":\"splom\"},{\"dimensions\":[{\"axis\":{\"matches\":true},\"label\":\"year_pc\",\"values\":[2000,2001,2002,2003,2004,2005,2006,2007,2008,2009,2010,2011,2012,2013,2014,2015,2016,2017,2018,2019,2020]},{\"axis\":{\"matches\":true},\"label\":\"total_kgs_CO2_9\",\"values\":[0.0,0.0,0.0,0.0,0.0,0.0,0.0,0.0,0.0,0.0,0.0,0.0,0.0,0.0,0.0,0.0,0.0,0.0,0.0,0.0,0.0]},{\"axis\":{\"matches\":true},\"label\":\"Population\",\"values\":[1934901,1991674,2047364,2101506,2153481,2235403,2363409,2506769,2650930,2795550,2943356,3143825,3394663,3646518,3761584,3908743,4048085,4124904,4317185,4441100,4360444]}],\"hovertemplate\":\"area=Kuwait<br>%{xaxis.title.text}=%{x}<br>%{yaxis.title.text}=%{y}<extra></extra>\",\"legendgroup\":\"Kuwait\",\"marker\":{\"color\":\"#3e4989\",\"symbol\":\"circle\"},\"name\":\"Kuwait\",\"showlegend\":true,\"type\":\"splom\"},{\"dimensions\":[{\"axis\":{\"matches\":true},\"label\":\"year_pc\",\"values\":[2000,2001,2002,2003,2004,2005,2006,2007,2008,2009,2010,2011,2012,2013,2014,2015,2016,2017,2018,2019,2020]},{\"axis\":{\"matches\":true},\"label\":\"total_kgs_CO2_9\",\"values\":[325739.1024,196106.184,363551.4108,516117.8664,496248.5412,173134.5768,150017.9652,178361.6724,74242.5912,40910.022,105435.7956,120319.4736,94752.0,148004.316,153485.8884,135040.212,371222.7696,550126.5588,671440.7592,546514.1388,281279.9412]},{\"axis\":{\"matches\":true},\"label\":\"Population\",\"values\":[4898400,4945100,4990700,5043300,5104700,5162600,5218400,5268400,5318700,5383300,5447900,5514600,5607200,5719600,5835500,5956900,6079500,6198200,6322800,6456200,6579900]}],\"hovertemplate\":\"area=Kyrgyzstan<br>%{xaxis.title.text}=%{x}<br>%{yaxis.title.text}=%{y}<extra></extra>\",\"legendgroup\":\"Kyrgyzstan\",\"marker\":{\"color\":\"#31688e\",\"symbol\":\"circle\"},\"name\":\"Kyrgyzstan\",\"showlegend\":true,\"type\":\"splom\"},{\"dimensions\":[{\"axis\":{\"matches\":true},\"label\":\"year_pc\",\"values\":[2000,2001,2002,2003,2004,2005,2006,2007,2008,2009,2010,2011,2012,2013,2014,2015,2016,2017,2018,2019,2020]},{\"axis\":{\"matches\":true},\"label\":\"total_kgs_CO2_9\",\"values\":[5024563.2,3533742.0,3756849.12,5218415.64,3778236.0,3318858.0,3696681.6,5491386.0,7066299.6,7363584.0,14152395.6,21015274.5,18193060.8,15165226.8,32726843.69,35929150.3,35932442.93,31338336.04,32610280.63,26513424.78,25860700.76]},{\"axis\":{\"matches\":true},\"label\":\"Population\",\"values\":[5430853,5519707,5606101,5689065,5768167,5852970,5946593,6041348,6135861,6229930,6323418,6416327,6508803,6600742,6691454,6787419,6891363,6997917,7105006,7212053,7319399]}],\"hovertemplate\":\"area=Lao People's Democratic Republic<br>%{xaxis.title.text}=%{x}<br>%{yaxis.title.text}=%{y}<extra></extra>\",\"legendgroup\":\"Lao People's Democratic Republic\",\"marker\":{\"color\":\"#26828e\",\"symbol\":\"circle\"},\"name\":\"Lao People's Democratic Republic\",\"showlegend\":true,\"type\":\"splom\"},{\"dimensions\":[{\"axis\":{\"matches\":true},\"label\":\"year_pc\",\"values\":[2000,2001,2002,2003,2004,2005,2006,2007,2008,2009,2010,2011,2012,2013,2014,2015,2016,2017,2018,2019,2020]},{\"axis\":{\"matches\":true},\"label\":\"total_kgs_CO2_9\",\"values\":[355320.0,304560.0,355320.0,439920.0,372240.0,321480.0,270720.0,0.0,0.0,0.0,0.0,0.0,0.0,0.0,0.0,0.0,0.0,0.0,0.0,0.0,0.0]},{\"axis\":{\"matches\":true},\"label\":\"Population\",\"values\":[2367550,2337170,2310173,2287955,2263122,2238799,2218357,2200325,2177322,2141669,2097555,2059709,2034319,2012647,1993782,1977527,1959537,1942248,1927174,1913822,1900449]}],\"hovertemplate\":\"area=Latvia<br>%{xaxis.title.text}=%{x}<br>%{yaxis.title.text}=%{y}<extra></extra>\",\"legendgroup\":\"Latvia\",\"marker\":{\"color\":\"#1f9e89\",\"symbol\":\"circle\"},\"name\":\"Latvia\",\"showlegend\":true,\"type\":\"splom\"},{\"dimensions\":[{\"axis\":{\"matches\":true},\"label\":\"year_pc\",\"values\":[2000,2001,2002,2003,2004,2005,2006,2007,2008,2009,2010,2011,2012,2013,2014,2015,2016,2017,2018,2019,2020]},{\"axis\":{\"matches\":true},\"label\":\"total_kgs_CO2_9\",\"values\":[299340.18,10660.2768,0.0,0.0,32584.8744,43552.08,26649.0,28171.8,23527.26,0.0,0.0,0.0,0.0,0.0,0.0,0.0,0.0,0.0,0.0,0.0,0.0]},{\"axis\":{\"matches\":true},\"label\":\"Population\",\"values\":[4320642,4389200,4446666,4504807,4574797,4643044,4719864,4809608,4887613,4951135,4995800,5045056,5178337,5678851,6274342,6398940,6258619,6109252,5950839,5781907,5662923]}],\"hovertemplate\":\"area=Lebanon<br>%{xaxis.title.text}=%{x}<br>%{yaxis.title.text}=%{y}<extra></extra>\",\"legendgroup\":\"Lebanon\",\"marker\":{\"color\":\"#35b779\",\"symbol\":\"circle\"},\"name\":\"Lebanon\",\"showlegend\":true,\"type\":\"splom\"},{\"dimensions\":[{\"axis\":{\"matches\":true},\"label\":\"year_pc\",\"values\":[2000,2001,2002,2003,2004,2005,2006,2007,2008,2009,2010,2011,2012,2013,2014,2015,2016,2017,2018,2019,2020]},{\"axis\":{\"matches\":true},\"label\":\"total_kgs_CO2_9\",\"values\":[0.0,0.0,0.0,0.0,0.0,0.0,0.0,0.0,0.0,0.0,0.0,0.0,0.0,0.0,0.0,0.0,0.0,0.0,0.0,0.0,0.0]},{\"axis\":{\"matches\":true},\"label\":\"Population\",\"values\":[1998630,1999473,1997534,1993030,1985384,1977424,1976780,1983465,1995014,2009169,2022747,2037677,2054718,2073939,2095242,2118521,2143872,2170617,2198017,2225702,2254100]}],\"hovertemplate\":\"area=Lesotho<br>%{xaxis.title.text}=%{x}<br>%{yaxis.title.text}=%{y}<extra></extra>\",\"legendgroup\":\"Lesotho\",\"marker\":{\"color\":\"#6ece58\",\"symbol\":\"circle\"},\"name\":\"Lesotho\",\"showlegend\":true,\"type\":\"splom\"},{\"dimensions\":[{\"axis\":{\"matches\":true},\"label\":\"year_pc\",\"values\":[2000,2001,2002,2003,2004,2005,2006,2007,2008,2009,2010,2011,2012,2013,2014,2015,2016,2017,2018,2019,2020]},{\"axis\":{\"matches\":true},\"label\":\"total_kgs_CO2_9\",\"values\":[4263501.6,4348101.6,4348101.6,4348101.6,4348101.6,4348101.6,4348101.6,4520178.0,4520178.0,4520178.0,4520232.99,4520232.99,4520232.99,4520232.99,4532973.919,4597961.948,4636931.246,4661400.272,4666282.2,4676891.717,4692150.172]},{\"axis\":{\"matches\":true},\"label\":\"Population\",\"values\":[2895224,2981648,3060599,3085173,3122447,3266318,3455397,3632740,3783887,3905066,4019956,4181150,4331740,4427313,4519398,4612329,4706097,4796631,4889391,4985289,5087584]}],\"hovertemplate\":\"area=Liberia<br>%{xaxis.title.text}=%{x}<br>%{yaxis.title.text}=%{y}<extra></extra>\",\"legendgroup\":\"Liberia\",\"marker\":{\"color\":\"#b5de2b\",\"symbol\":\"circle\"},\"name\":\"Liberia\",\"showlegend\":true,\"type\":\"splom\"},{\"dimensions\":[{\"axis\":{\"matches\":true},\"label\":\"year_pc\",\"values\":[2000,2001,2002,2003,2004,2005,2006,2007,2008,2009,2010,2011,2012,2013,2014,2015,2016,2017,2018,2019,2020]},{\"axis\":{\"matches\":true},\"label\":\"total_kgs_CO2_9\",\"values\":[0.0,0.0,0.0,0.0,0.0,0.0,0.0,0.0,0.0,0.0,0.0,0.0,0.0,0.0,0.0,0.0,0.0,0.0,0.0,0.0,0.0]},{\"axis\":{\"matches\":true},\"label\":\"Population\",\"values\":[5154790,5275916,5405326,5542641,5687563,5837986,5973369,6097177,6228370,6360191,6491988,6188132,5869870,5985221,6097764,6192235,6282196,6378261,6477793,6569088,6653942]}],\"hovertemplate\":\"area=Libya<br>%{xaxis.title.text}=%{x}<br>%{yaxis.title.text}=%{y}<extra></extra>\",\"legendgroup\":\"Libya\",\"marker\":{\"color\":\"#fde725\",\"symbol\":\"circle\"},\"name\":\"Libya\",\"showlegend\":true,\"type\":\"splom\"},{\"dimensions\":[{\"axis\":{\"matches\":true},\"label\":\"year_pc\",\"values\":[2000,2001,2002,2003,2004,2005,2006,2007,2008,2009,2010,2011,2012,2013,2014,2015,2016,2017,2018,2019,2020]},{\"axis\":{\"matches\":true},\"label\":\"total_kgs_CO2_9\",\"values\":[626040.0,693720.0,693720.0,795240.0,688644.0,590508.0,472068.0,507600.0,219960.0,423000.0,507600.0,575280.0,642960.0,592200.0,558360.0,423000.0,507600.0,541440.0,541440.0,541440.0,558360.0]},{\"axis\":{\"matches\":true},\"label\":\"Population\",\"values\":[3499536,3470818,3443067,3415213,3377075,3322528,3269909,3231294,3198231,3162916,3097282,3028115,2987773,2957689,2932367,2904910,2868231,2828403,2801543,2794137,2794885]}],\"hovertemplate\":\"area=Lithuania<br>%{xaxis.title.text}=%{x}<br>%{yaxis.title.text}=%{y}<extra></extra>\",\"legendgroup\":\"Lithuania\",\"marker\":{\"color\":\"#440154\",\"symbol\":\"circle\"},\"name\":\"Lithuania\",\"showlegend\":true,\"type\":\"splom\"},{\"dimensions\":[{\"axis\":{\"matches\":true},\"label\":\"year_pc\",\"values\":[2000,2001,2002,2003,2004,2005,2006,2007,2008,2009,2010,2011,2012,2013,2014,2015,2016,2017,2018,2019,2020]},{\"axis\":{\"matches\":true},\"label\":\"total_kgs_CO2_9\",\"values\":[0.0,0.0,0.0,0.0,0.0,0.0,0.0,0.0,0.0,0.0,0.0,0.0,0.0,0.0,0.0,0.0,0.0,0.0,0.0,0.0,0.0]},{\"axis\":{\"matches\":true},\"label\":\"Population\",\"values\":[436300,441525,446175,451630,458095,465158,472637,479993,488650,497783,506953,518347,530946,543360,556319,569604,582014,596336,607950,620001,630419]}],\"hovertemplate\":\"area=Luxembourg<br>%{xaxis.title.text}=%{x}<br>%{yaxis.title.text}=%{y}<extra></extra>\",\"legendgroup\":\"Luxembourg\",\"marker\":{\"color\":\"#482878\",\"symbol\":\"circle\"},\"name\":\"Luxembourg\",\"showlegend\":true,\"type\":\"splom\"},{\"dimensions\":[{\"axis\":{\"matches\":true},\"label\":\"year_pc\",\"values\":[2000,2001,2002,2003,2004,2005,2006,2007,2008,2009,2010,2011,2012,2013,2014,2015,2016,2017,2018,2019,2020]},{\"axis\":{\"matches\":true},\"label\":\"total_kgs_CO2_9\",\"values\":[0.0,0.0,0.0,0.0,0.0,0.0,0.0,0.0,0.0,0.0,0.0,0.0,0.0,0.0,0.0,0.0,0.0,0.0,0.0,0.0,0.0]},{\"axis\":{\"matches\":true},\"label\":\"Population\",\"values\":[431896,439122,449665,462533,475529,488619,501863,515330,529038,543021,557297,571003,582766,593374,604167,615239,626688,638609,650991,663653,676283]}],\"hovertemplate\":\"area=China, Macao SAR<br>%{xaxis.title.text}=%{x}<br>%{yaxis.title.text}=%{y}<extra></extra>\",\"legendgroup\":\"China, Macao SAR\",\"marker\":{\"color\":\"#3e4989\",\"symbol\":\"circle\"},\"name\":\"China, Macao SAR\",\"showlegend\":true,\"type\":\"splom\"},{\"dimensions\":[{\"axis\":{\"matches\":true},\"label\":\"year_pc\",\"values\":[2000,2001,2002,2003,2004,2005,2006,2007,2008,2009,2010,2011,2012,2013,2014,2015,2016,2017,2018,2019,2020]},{\"axis\":{\"matches\":true},\"label\":\"total_kgs_CO2_9\",\"values\":[37606899.6,37823814.0,37941408.0,38002320.0,37816200.0,41746022.28,45665134.2,44110440.0,42401520.0,50895360.0,49365017.06,47615959.44,48538116.36,49326402.24,50395433.22,51378879.46,52183818.0,52982377.7,53898118.56,53060916.96,53325085.54]},{\"axis\":{\"matches\":true},\"label\":\"Population\",\"values\":[16216431,16709665,17211934,17724310,18250774,18792171,19350299,19924958,20513599,21117092,21731053,22348158,22966240,23588073,24215976,24850912,25501941,26169542,26846541,27533134,28225177]}],\"hovertemplate\":\"area=Madagascar<br>%{xaxis.title.text}=%{x}<br>%{yaxis.title.text}=%{y}<extra></extra>\",\"legendgroup\":\"Madagascar\",\"marker\":{\"color\":\"#31688e\",\"symbol\":\"circle\"},\"name\":\"Madagascar\",\"showlegend\":true,\"type\":\"splom\"},{\"dimensions\":[{\"axis\":{\"matches\":true},\"label\":\"year_pc\",\"values\":[2000,2001,2002,2003,2004,2005,2006,2007,2008,2009,2010,2011,2012,2013,2014,2015,2016,2017,2018,2019,2020]},{\"axis\":{\"matches\":true},\"label\":\"total_kgs_CO2_9\",\"values\":[37037880.0,38679120.0,45311760.0,36834840.0,36885600.0,42130800.0,43027560.0,43907400.0,48298140.0,45663696.0,47291400.0,47291400.0,54245520.0,56005200.0,56842740.0,56162536.88,52381250.88,48060773.89,50625498.69,50265155.99,53394835.87]},{\"axis\":{\"matches\":true},\"label\":\"Population\",\"values\":[11229387,11498818,11784498,12087965,12411342,12755648,13118307,13495463,13889423,14298932,14718422,15146094,15581251,16024775,16477966,16938942,17405624,17881167,18367883,18867337,19377061]}],\"hovertemplate\":\"area=Malawi<br>%{xaxis.title.text}=%{x}<br>%{yaxis.title.text}=%{y}<extra></extra>\",\"legendgroup\":\"Malawi\",\"marker\":{\"color\":\"#26828e\",\"symbol\":\"circle\"},\"name\":\"Malawi\",\"showlegend\":true,\"type\":\"splom\"},{\"dimensions\":[{\"axis\":{\"matches\":true},\"label\":\"year_pc\",\"values\":[2000,2001,2002,2003,2004,2005,2006,2007,2008,2009,2010,2011,2012,2013,2014,2015,2016,2017,2018,2019,2020]},{\"axis\":{\"matches\":true},\"label\":\"total_kgs_CO2_9\",\"values\":[19322640.0,17647560.0,17469900.0,11446380.0,8883000.0,8857620.0,7884720.0,8992980.0,8629200.0,6158880.0,3649644.0,3546161.28,2760734.88,1842337.246,357807.24,524823.714,485424.648,521066.1204,406499.616,358510.4352,408654.0396]},{\"axis\":{\"matches\":true},\"label\":\"Population\",\"values\":[22945150,23542517,24142445,24739411,25333247,25923536,26509413,27092604,27664296,28217204,28717731,29184133,29660212,30134807,30606459,31068833,31526418,31975806,32399271,32804020,33199993]}],\"hovertemplate\":\"area=Malaysia<br>%{xaxis.title.text}=%{x}<br>%{yaxis.title.text}=%{y}<extra></extra>\",\"legendgroup\":\"Malaysia\",\"marker\":{\"color\":\"#1f9e89\",\"symbol\":\"circle\"},\"name\":\"Malaysia\",\"showlegend\":true,\"type\":\"splom\"},{\"dimensions\":[{\"axis\":{\"matches\":true},\"label\":\"year_pc\",\"values\":[2000,2001,2002,2003,2004,2005,2006,2007,2008,2009,2010,2011,2012,2013,2014,2015,2016,2017,2018,2019,2020]},{\"axis\":{\"matches\":true},\"label\":\"total_kgs_CO2_9\",\"values\":[0.0,0.0,0.0,0.0,0.0,0.0,0.0,0.0,0.0,0.0,0.0,0.0,0.0,0.0,0.0,0.0,0.0,0.0,0.0,0.0,0.0]},{\"axis\":{\"matches\":true},\"label\":\"Population\",\"values\":[282507,287324,292284,297226,302135,307018,314401,325126,336883,349037,361575,374440,387539,400728,416738,435582,454252,472442,489758,504508,514438]}],\"hovertemplate\":\"area=Maldives<br>%{xaxis.title.text}=%{x}<br>%{yaxis.title.text}=%{y}<extra></extra>\",\"legendgroup\":\"Maldives\",\"marker\":{\"color\":\"#35b779\",\"symbol\":\"circle\"},\"name\":\"Maldives\",\"showlegend\":true,\"type\":\"splom\"},{\"dimensions\":[{\"axis\":{\"matches\":true},\"label\":\"year_pc\",\"values\":[2000,2001,2002,2003,2004,2005,2006,2007,2008,2009,2010,2011,2012,2013,2014,2015,2016,2017,2018,2019,2020]},{\"axis\":{\"matches\":true},\"label\":\"total_kgs_CO2_9\",\"values\":[5498864.64,5015680.2,5855775.12,5911848.0,6120623.88,6058578.24,5619961.08,6007361.4,6321312.0,6608952.0,6260400.0,6243480.0,6734160.0,5865994.8,6287893.308,6389669.308,8431021.116,9326911.428,10304098.96,11437920.0,11437920.0]},{\"axis\":{\"matches\":true},\"label\":\"Population\",\"values\":[11239101,11583824,11952660,12342165,12751995,13180551,13623541,14080912,14551117,15032635,15529181,16039734,16514687,17004033,17551814,18112907,18700106,19311355,19934298,20567424,21224040]}],\"hovertemplate\":\"area=Mali<br>%{xaxis.title.text}=%{x}<br>%{yaxis.title.text}=%{y}<extra></extra>\",\"legendgroup\":\"Mali\",\"marker\":{\"color\":\"#6ece58\",\"symbol\":\"circle\"},\"name\":\"Mali\",\"showlegend\":true,\"type\":\"splom\"},{\"dimensions\":[{\"axis\":{\"matches\":true},\"label\":\"year_pc\",\"values\":[2000,2001,2002,2003,2004,2005,2006,2007,2008,2009,2010,2011,2012,2013,2014,2015,2016,2017,2018,2019,2020]},{\"axis\":{\"matches\":true},\"label\":\"total_kgs_CO2_9\",\"values\":[0.0,0.0,0.0,0.0,0.0,0.0,0.0,0.0,0.0,0.0,0.0,0.0,0.0,0.0,0.0,0.0,0.0,0.0,0.0,0.0,0.0]},{\"axis\":{\"matches\":true},\"label\":\"Population\",\"values\":[390087,393028,395969,398582,401268,403834,405308,406724,409379,412477,414508,416268,420028,425967,434558,445053,455356,467999,484630,504062,515332]}],\"hovertemplate\":\"area=Malta<br>%{xaxis.title.text}=%{x}<br>%{yaxis.title.text}=%{y}<extra></extra>\",\"legendgroup\":\"Malta\",\"marker\":{\"color\":\"#b5de2b\",\"symbol\":\"circle\"},\"name\":\"Malta\",\"showlegend\":true,\"type\":\"splom\"},{\"dimensions\":[{\"axis\":{\"matches\":true},\"label\":\"year_pc\",\"values\":[2000,2001,2002,2003,2004,2005,2006,2007,2008,2009,2010,2011,2012,2013,2014,2015,2016,2017,2018,2019,2020]},{\"axis\":{\"matches\":true},\"label\":\"total_kgs_CO2_9\",\"values\":[0.0,0.0,0.0,0.0,0.0,0.0,0.0,0.0,0.0,0.0,0.0,0.0,0.0,0.0,0.0,0.0,0.0,0.0,0.0,0.0,0.0]},{\"axis\":{\"matches\":true},\"label\":\"Population\",\"values\":[54224,54413,54496,54493,54435,54337,54208,54038,53816,53593,53416,52971,52203,51352,50419,49410,48329,47187,45989,44728,43413]}],\"hovertemplate\":\"area=Marshall Islands<br>%{xaxis.title.text}=%{x}<br>%{yaxis.title.text}=%{y}<extra></extra>\",\"legendgroup\":\"Marshall Islands\",\"marker\":{\"color\":\"#fde725\",\"symbol\":\"circle\"},\"name\":\"Marshall Islands\",\"showlegend\":true,\"type\":\"splom\"},{\"dimensions\":[{\"axis\":{\"matches\":true},\"label\":\"year_pc\",\"values\":[2000,2001,2002,2003,2004,2005,2006,2007,2008,2009,2010,2011,2012,2013,2014,2015,2016,2017,2018,2019,2020]},{\"axis\":{\"matches\":true},\"label\":\"total_kgs_CO2_9\",\"values\":[0.0,0.0,0.0,0.0,0.0,0.0,0.0,0.0,0.0,0.0,0.0,0.0,0.0,0.0,0.0,0.0,0.0,0.0,0.0,0.0,0.0]},{\"axis\":{\"matches\":true},\"label\":\"Population\",\"values\":[2695003,2761823,2821703,2883326,2946575,3012360,3081229,3153508,3233336,3322616,3419461,3524249,3636113,3742959,3843174,3946220,4051890,4160015,4270712,4383849,4498604]}],\"hovertemplate\":\"area=Mauritania<br>%{xaxis.title.text}=%{x}<br>%{yaxis.title.text}=%{y}<extra></extra>\",\"legendgroup\":\"Mauritania\",\"marker\":{\"color\":\"#440154\",\"symbol\":\"circle\"},\"name\":\"Mauritania\",\"showlegend\":true,\"type\":\"splom\"},{\"dimensions\":[{\"axis\":{\"matches\":true},\"label\":\"year_pc\",\"values\":[2000,2001,2002,2003,2004,2005,2006,2007,2008,2009,2010,2011,2012,2013,2014,2015,2016,2017,2018,2019,2020]},{\"axis\":{\"matches\":true},\"label\":\"total_kgs_CO2_9\",\"values\":[88889676.84,100951403.4,84848960.88,90681471.0,91979370.36,86791529.16,82715010.48,73885680.72,79153671.96,81466466.76,76298168.16,73919283.84,68905278.72,66705120.36,70774041.96,69782005.44,66266300.16,64690760.52,55055377.02,59308830.0,45783388.08]},{\"axis\":{\"matches\":true},\"label\":\"Population\",\"values\":[1186873,1196287,1204621,1213370,1221003,1228254,1233996,1239630,1244121,1247429,1250400,1252404,1255882,1258653,1260934,1262605,1263473,1264613,1265303,1265711,1265740]}],\"hovertemplate\":\"area=Mauritius<br>%{xaxis.title.text}=%{x}<br>%{yaxis.title.text}=%{y}<extra></extra>\",\"legendgroup\":\"Mauritius\",\"marker\":{\"color\":\"#482878\",\"symbol\":\"circle\"},\"name\":\"Mauritius\",\"showlegend\":true,\"type\":\"splom\"},{\"dimensions\":[{\"axis\":{\"matches\":true},\"label\":\"year_pc\",\"values\":[2000,2001,2002,2003,2004,2005,2006,2007,2008,2009,2010,2011,2012,2013,2014,2015,2016,2017,2018,2019,2020]},{\"axis\":{\"matches\":true},\"label\":\"total_kgs_CO2_9\",\"values\":[773751600.0,827151120.0,798781356.0,831465449.3,851587728.5,905889084.5,887857034.4,911266463.5,896670662.4,863016376.3,878835290.4,869675682.2,890812349.3,1075013486.0,993082649.8,968315695.2,988514114.4,997992224.6,994837186.1,1040987095.0,945027684.0]},{\"axis\":{\"matches\":true},\"label\":\"Population\",\"values\":[97873442,99394288,100917081,102429341,103945813,105442402,106886790,108302973,109684489,111049428,112532401,114150481,115755909,117290686,118755887,120149897,121519221,122839258,124013861,125085311,125998302]}],\"hovertemplate\":\"area=Mexico<br>%{xaxis.title.text}=%{x}<br>%{yaxis.title.text}=%{y}<extra></extra>\",\"legendgroup\":\"Mexico\",\"marker\":{\"color\":\"#3e4989\",\"symbol\":\"circle\"},\"name\":\"Mexico\",\"showlegend\":true,\"type\":\"splom\"},{\"dimensions\":[{\"axis\":{\"matches\":true},\"label\":\"year_pc\",\"values\":[2000,2001,2002,2003,2004,2005,2006,2007,2008,2009,2010,2011,2012,2013,2014,2015,2016,2017,2018,2019,2020]},{\"axis\":{\"matches\":true},\"label\":\"total_kgs_CO2_9\",\"values\":[0.0,0.0,0.0,0.0,0.0,0.0,0.0,0.0,0.0,0.0,0.0,0.0,0.0,0.0,0.0,0.0,0.0,0.0,0.0,0.0,0.0]},{\"axis\":{\"matches\":true},\"label\":\"Population\",\"values\":[111709,111948,111992,111805,111438,110940,110301,109532,108704,107868,107588,107887,108232,108609,109024,109462,109925,110430,110929,111379,112106]}],\"hovertemplate\":\"area=Micronesia (Federated States of)<br>%{xaxis.title.text}=%{x}<br>%{yaxis.title.text}=%{y}<extra></extra>\",\"legendgroup\":\"Micronesia (Federated States of)\",\"marker\":{\"color\":\"#31688e\",\"symbol\":\"circle\"},\"name\":\"Micronesia (Federated States of)\",\"showlegend\":true,\"type\":\"splom\"},{\"dimensions\":[{\"axis\":{\"matches\":true},\"label\":\"year_pc\",\"values\":[2000,2001,2002,2003,2004,2005,2006,2007,2008,2009,2010,2011,2012,2013,2014,2015,2016,2017,2018,2019,2020]},{\"axis\":{\"matches\":true},\"label\":\"total_kgs_CO2_9\",\"values\":[922140.0,961056.0,922140.0,504216.0,725868.0,714024.0,715716.0,421308.0,583740.0,394236.0,612504.0,605736.0,536364.0,898452.0,1033812.0,524520.0,661572.0,763092.0,1091340.0,590508.0,363780.0]},{\"axis\":{\"matches\":true},\"label\":\"Population\",\"values\":[2924668,2918135,2911385,2903198,2896023,2888985,2880967,2874299,2868833,2865213,2862354,2860699,2860324,2859558,2857815,2835978,2803186,2755189,2707203,2664224,2635130]}],\"hovertemplate\":\"area=Republic of Moldova<br>%{xaxis.title.text}=%{x}<br>%{yaxis.title.text}=%{y}<extra></extra>\",\"legendgroup\":\"Republic of Moldova\",\"marker\":{\"color\":\"#26828e\",\"symbol\":\"circle\"},\"name\":\"Republic of Moldova\",\"showlegend\":true,\"type\":\"splom\"},{\"dimensions\":[{\"axis\":{\"matches\":true},\"label\":\"year_pc\",\"values\":[2000,2001,2002,2003,2004,2005,2006,2007,2008,2009,2010,2011,2012,2013,2014,2015,2016,2017,2018,2019,2020]},{\"axis\":{\"matches\":true},\"label\":\"total_kgs_CO2_9\",\"values\":[0.0,0.0,0.0,0.0,0.0,0.0,0.0,0.0,0.0,0.0,0.0,0.0,0.0,0.0,0.0,0.0,0.0,0.0,0.0,0.0,0.0]},{\"axis\":{\"matches\":true},\"label\":\"Population\",\"values\":[2450979,2472601,2494617,2516454,2537949,2559255,2581242,2605643,2633887,2666713,2702520,2743938,2792349,2845153,2902823,2964749,3029555,3096030,3163991,3232430,3294335]}],\"hovertemplate\":\"area=Mongolia<br>%{xaxis.title.text}=%{x}<br>%{yaxis.title.text}=%{y}<extra></extra>\",\"legendgroup\":\"Mongolia\",\"marker\":{\"color\":\"#1f9e89\",\"symbol\":\"circle\"},\"name\":\"Mongolia\",\"showlegend\":true,\"type\":\"splom\"},{\"dimensions\":[{\"axis\":{\"matches\":true},\"label\":\"year_pc\",\"values\":[2006,2007,2008,2009,2010,2011,2012,2013,2014,2015,2016,2017,2018,2019,2020]},{\"axis\":{\"matches\":true},\"label\":\"total_kgs_CO2_9\",\"values\":[0.0,0.0,0.0,0.0,0.0,0.0,0.0,0.0,0.0,0.0,0.0,0.0,0.0,0.0,0.0]},{\"axis\":{\"matches\":true},\"label\":\"Population\",\"values\":[615025,615875,616969,618294,619428,620079,620601,621207,621810,622159,622303,622373,622227,622028,621306]}],\"hovertemplate\":\"area=Montenegro<br>%{xaxis.title.text}=%{x}<br>%{yaxis.title.text}=%{y}<extra></extra>\",\"legendgroup\":\"Montenegro\",\"marker\":{\"color\":\"#35b779\",\"symbol\":\"circle\"},\"name\":\"Montenegro\",\"showlegend\":true,\"type\":\"splom\"},{\"dimensions\":[{\"axis\":{\"matches\":true},\"label\":\"year_pc\",\"values\":[2000,2001,2002,2003,2004,2005,2006,2007,2008,2009,2010,2011,2012,2013,2014,2015,2016,2017,2018,2019,2020]},{\"axis\":{\"matches\":true},\"label\":\"total_kgs_CO2_9\",\"values\":[27925670.51,22166671.03,19362961.71,18836388.81,18166910.94,16663335.95,19849844.53,18671228.46,18663642.55,16750526.07,13134657.6,16360167.96,11640706.2,12394932.12,7217242.92,9311346.72,9839030.76,11642905.8,12878041.44,11403335.52,16082324.64]},{\"axis\":{\"matches\":true},\"label\":\"Population\",\"values\":[28554415,28930097,29301817,29661270,30033125,30431902,30833022,31232633,31634992,32042877,32464865,32903699,33352169,33803527,34248603,34680458,35107264,35528115,35927511,36304408,36688772]}],\"hovertemplate\":\"area=Morocco<br>%{xaxis.title.text}=%{x}<br>%{yaxis.title.text}=%{y}<extra></extra>\",\"legendgroup\":\"Morocco\",\"marker\":{\"color\":\"#6ece58\",\"symbol\":\"circle\"},\"name\":\"Morocco\",\"showlegend\":true,\"type\":\"splom\"},{\"dimensions\":[{\"axis\":{\"matches\":true},\"label\":\"year_pc\",\"values\":[2000,2001,2002,2003,2004,2005,2006,2007,2008,2009,2010,2011,2012,2013,2014,2015,2016,2017,2018,2019,2020]},{\"axis\":{\"matches\":true},\"label\":\"total_kgs_CO2_9\",\"values\":[6951295.037,11821642.42,27755417.75,33958926.79,32777205.22,39316384.05,36050180.41,36056304.44,42889089.77,38616750.85,47599538.24,59426878.47,59384203.02,55396857.14,63210524.98,54304520.04,48839664.6,51172797.24,54762977.42,68458320.0,47994527.52]},{\"axis\":{\"matches\":true},\"label\":\"Population\",\"values\":[17768505,18220716,18694946,19186754,19694411,20211114,20735982,21280513,21845571,22436660,23073723,23760421,24487611,25251731,26038704,26843246,27696493,28569441,29423878,30285595,31178239]}],\"hovertemplate\":\"area=Mozambique<br>%{xaxis.title.text}=%{x}<br>%{yaxis.title.text}=%{y}<extra></extra>\",\"legendgroup\":\"Mozambique\",\"marker\":{\"color\":\"#b5de2b\",\"symbol\":\"circle\"},\"name\":\"Mozambique\",\"showlegend\":true,\"type\":\"splom\"},{\"dimensions\":[{\"axis\":{\"matches\":true},\"label\":\"year_pc\",\"values\":[2000,2001,2002,2003,2004,2005,2006,2007,2008,2009,2010,2011,2012,2013,2014,2015,2016,2017,2018,2019,2020]},{\"axis\":{\"matches\":true},\"label\":\"total_kgs_CO2_9\",\"values\":[98878195.8,119409922.1,107587630.4,115600722.5,122182974.7,120012984.7,136297520.3,163940773.3,165096037.1,161956548.0,156667356.0,161549622.0,159447312.0,174578868.0,188489392.2,171786035.9,176777588.2,175643017.5,193038300.4,200643423.3,195647661.6]},{\"axis\":{\"matches\":true},\"label\":\"Population\",\"values\":[45538332,46014826,46480230,46924293,47338446,47724471,48088274,48445647,48729486,49015836,49390988,49794522,50218185,50648334,51072436,51483949,51892349,52288341,52666014,53040212,53423198]}],\"hovertemplate\":\"area=Myanmar<br>%{xaxis.title.text}=%{x}<br>%{yaxis.title.text}=%{y}<extra></extra>\",\"legendgroup\":\"Myanmar\",\"marker\":{\"color\":\"#fde725\",\"symbol\":\"circle\"},\"name\":\"Myanmar\",\"showlegend\":true,\"type\":\"splom\"},{\"dimensions\":[{\"axis\":{\"matches\":true},\"label\":\"year_pc\",\"values\":[2000,2001,2002,2003,2004,2005,2006,2007,2008,2009,2010,2011,2012,2013,2014,2015,2016,2017,2018,2019,2020]},{\"axis\":{\"matches\":true},\"label\":\"total_kgs_CO2_9\",\"values\":[0.0,0.0,0.0,0.0,0.0,0.0,0.0,0.0,0.0,0.0,0.0,0.0,0.0,0.0,0.0,0.0,0.0,0.0,0.0,0.0,0.0]},{\"axis\":{\"matches\":true},\"label\":\"Population\",\"values\":[1819141,1856402,1888525,1915425,1939406,1962865,1986558,2011492,2038552,2067919,2099271,2132340,2167470,2204510,2243001,2282704,2323352,2364534,2405680,2446644,2489098]}],\"hovertemplate\":\"area=Namibia<br>%{xaxis.title.text}=%{x}<br>%{yaxis.title.text}=%{y}<extra></extra>\",\"legendgroup\":\"Namibia\",\"marker\":{\"color\":\"#440154\",\"symbol\":\"circle\"},\"name\":\"Namibia\",\"showlegend\":true,\"type\":\"splom\"},{\"dimensions\":[{\"axis\":{\"matches\":true},\"label\":\"year_pc\",\"values\":[2000,2001,2002,2003,2004,2005,2006,2007,2008,2009,2010,2011,2012,2013,2014,2015,2016,2017,2018,2019,2020]},{\"axis\":{\"matches\":true},\"label\":\"total_kgs_CO2_9\",\"values\":[0.0,0.0,0.0,0.0,0.0,0.0,0.0,0.0,0.0,0.0,0.0,0.0,0.0,0.0,0.0,0.0,0.0,0.0,0.0,0.0,0.0]},{\"axis\":{\"matches\":true},\"label\":\"Population\",\"values\":[10377,10363,10351,10344,10335,10318,10294,10267,10243,10233,10241,10283,10444,10694,10940,11185,11437,11682,11924,12132,12315]}],\"hovertemplate\":\"area=Nauru<br>%{xaxis.title.text}=%{x}<br>%{yaxis.title.text}=%{y}<extra></extra>\",\"legendgroup\":\"Nauru\",\"marker\":{\"color\":\"#482878\",\"symbol\":\"circle\"},\"name\":\"Nauru\",\"showlegend\":true,\"type\":\"splom\"},{\"dimensions\":[{\"axis\":{\"matches\":true},\"label\":\"year_pc\",\"values\":[2000,2001,2002,2003,2004,2005,2006,2007,2008,2009,2010,2011,2012,2013,2014,2015,2016,2017,2018,2019,2020]},{\"axis\":{\"matches\":true},\"label\":\"total_kgs_CO2_9\",\"values\":[35894527.92,37846334.52,38543590.8,40202833.68,39598315.92,40846622.76,42360472.08,44665229.88,42730394.04,40496531.04,44541900.0,46669183.92,50270115.24,50286240.0,51436800.0,52502760.0,74308477.68,55492713.5,60965839.44,60961643.28,58292377.92]},{\"axis\":{\"matches\":true},\"label\":\"Population\",\"values\":[24559500,24956071,25332178,25682908,26003965,26285110,26518971,26713655,26881544,27026941,27161567,27266399,27330694,27381555,27462106,27610325,27861186,28183426,28506712,28832496,29348627]}],\"hovertemplate\":\"area=Nepal<br>%{xaxis.title.text}=%{x}<br>%{yaxis.title.text}=%{y}<extra></extra>\",\"legendgroup\":\"Nepal\",\"marker\":{\"color\":\"#3e4989\",\"symbol\":\"circle\"},\"name\":\"Nepal\",\"showlegend\":true,\"type\":\"splom\"},{\"dimensions\":[{\"axis\":{\"matches\":true},\"label\":\"year_pc\",\"values\":[2000,2001,2002,2003,2004,2005,2006,2007,2008,2009,2010,2011,2012,2013,2014,2015,2016,2017,2018,2019,2020]},{\"axis\":{\"matches\":true},\"label\":\"total_kgs_CO2_9\",\"values\":[4399200.0,3976200.0,3756240.0,4162320.0,3908520.0,3384000.0,3891600.0,3384000.0,3570120.0,3671640.0,3384000.0,3722400.0,3553200.0,3384000.0,3976200.0,2791800.0,3299400.0,4568400.0,3891600.0,3807000.0,3878707.806]},{\"axis\":{\"matches\":true},\"label\":\"Population\",\"values\":[16178993,16296518,16400692,16481372,16541999,16585020,16616387,16656350,16723433,16810671,16898494,16978628,17043802,17097741,17162196,17240985,17334821,17437484,17537817,17650365,17745342]}],\"hovertemplate\":\"area=Netherlands<br>%{xaxis.title.text}=%{x}<br>%{yaxis.title.text}=%{y}<extra></extra>\",\"legendgroup\":\"Netherlands\",\"marker\":{\"color\":\"#31688e\",\"symbol\":\"circle\"},\"name\":\"Netherlands\",\"showlegend\":true,\"type\":\"splom\"},{\"dimensions\":[{\"axis\":{\"matches\":true},\"label\":\"year_pc\",\"values\":[2000,2001,2002,2003,2004,2005,2006,2007,2008,2009,2010,2011,2012,2013,2014,2015,2016,2017,2018,2019,2020]},{\"axis\":{\"matches\":true},\"label\":\"total_kgs_CO2_9\",\"values\":[0.0,0.0,0.0,0.0,0.0,0.0,0.0,0.0,0.0,0.0,0.0,0.0,0.0,0.0,0.0,0.0,0.0,0.0,0.0,0.0,0.0]},{\"axis\":{\"matches\":true},\"label\":\"Population\",\"values\":[213230,217324,221490,225296,228750,232250,235750,239250,242750,245950,249750,254350,259000,263650,268050,269460,270220,270810,271170,271230,271130]}],\"hovertemplate\":\"area=New Caledonia<br>%{xaxis.title.text}=%{x}<br>%{yaxis.title.text}=%{y}<extra></extra>\",\"legendgroup\":\"New Caledonia\",\"marker\":{\"color\":\"#26828e\",\"symbol\":\"circle\"},\"name\":\"New Caledonia\",\"showlegend\":true,\"type\":\"splom\"},{\"dimensions\":[{\"axis\":{\"matches\":true},\"label\":\"year_pc\",\"values\":[2000,2001,2002,2003,2004,2005,2006,2007,2008,2009,2010,2011,2012,2013,2014,2015,2016,2017,2018,2019,2020]},{\"axis\":{\"matches\":true},\"label\":\"total_kgs_CO2_9\",\"values\":[0.0,0.0,0.0,0.0,0.0,0.0,0.0,0.0,0.0,0.0,0.0,0.0,0.0,0.0,0.0,0.0,0.0,0.0,0.0,0.0,0.0]},{\"axis\":{\"matches\":true},\"label\":\"Population\",\"values\":[3857700,3880500,3948500,4027200,4087500,4133900,4184600,4223800,4259800,4302600,4350700,4384000,4408100,4442100,4516500,4609400,4714100,4813600,4900600,4979200,5090200]}],\"hovertemplate\":\"area=New Zealand<br>%{xaxis.title.text}=%{x}<br>%{yaxis.title.text}=%{y}<extra></extra>\",\"legendgroup\":\"New Zealand\",\"marker\":{\"color\":\"#1f9e89\",\"symbol\":\"circle\"},\"name\":\"New Zealand\",\"showlegend\":true,\"type\":\"splom\"},{\"dimensions\":[{\"axis\":{\"matches\":true},\"label\":\"year_pc\",\"values\":[2000,2001,2002,2003,2004,2005,2006,2007,2008,2009,2010,2011,2012,2013,2014,2015,2016,2017,2018,2019,2020]},{\"axis\":{\"matches\":true},\"label\":\"total_kgs_CO2_9\",\"values\":[61696326.6,55152279.72,54657691.2,71258580.0,70573320.0,67029815.16,78594009.12,78625091.16,75342306.6,89143637.58,86476893.3,94897063.62,117396619.7,118289995.7,123188293.4,112240935.0,108653717.3,125045111.2,128705964.7,124154137.8,123305185.3]},{\"axis\":{\"matches\":true},\"label\":\"Population\",\"values\":[5123222,5192764,5259006,5323062,5386223,5454678,5529811,5607453,5687744,5770639,5855734,5942553,6030607,6119379,6208676,6298598,6389235,6480532,6572233,6663924,6755895]}],\"hovertemplate\":\"area=Nicaragua<br>%{xaxis.title.text}=%{x}<br>%{yaxis.title.text}=%{y}<extra></extra>\",\"legendgroup\":\"Nicaragua\",\"marker\":{\"color\":\"#35b779\",\"symbol\":\"circle\"},\"name\":\"Nicaragua\",\"showlegend\":true,\"type\":\"splom\"},{\"dimensions\":[{\"axis\":{\"matches\":true},\"label\":\"year_pc\",\"values\":[2000,2001,2002,2003,2004,2005,2006,2007,2008,2009,2010,2011,2012,2013,2014,2015,2016,2017,2018,2019,2020]},{\"axis\":{\"matches\":true},\"label\":\"total_kgs_CO2_9\",\"values\":[3489501.953,3683443.223,3834071.492,3834073.015,3834087.736,3834072.0,4182624.0,4182624.0,3272066.755,3692281.046,3870822.24,3074245.56,3385776.6,3385776.6,3949059.813,5759246.52,3760979.63,4400247.01,4491383.714,5580253.224,7671422.758]},{\"axis\":{\"matches\":true},\"label\":\"Population\",\"values\":[11622665,12031430,12456517,12900790,13366885,13855221,14365168,14897873,15455175,16037915,16647543,17283112,17954407,18653199,19372014,20128124,20921743,21737922,22577058,23443393,24333639]}],\"hovertemplate\":\"area=Niger<br>%{xaxis.title.text}=%{x}<br>%{yaxis.title.text}=%{y}<extra></extra>\",\"legendgroup\":\"Niger\",\"marker\":{\"color\":\"#6ece58\",\"symbol\":\"circle\"},\"name\":\"Niger\",\"showlegend\":true,\"type\":\"splom\"},{\"dimensions\":[{\"axis\":{\"matches\":true},\"label\":\"year_pc\",\"values\":[2000,2001,2002,2003,2004,2005,2006,2007,2008,2009,2010,2011,2012,2013,2014,2015,2016,2017,2018,2019,2020]},{\"axis\":{\"matches\":true},\"label\":\"total_kgs_CO2_9\",\"values\":[12063960.0,12267000.0,13028400.0,13840560.0,14788080.0,15760980.0,16953840.0,25946820.0,24068277.0,24033675.6,17378451.46,16831915.5,20072788.2,22113868.1,24170423.04,24787173.96,25416767.16,25571705.29,25345889.28,25699960.58,25992089.46]},{\"axis\":{\"matches\":true},\"label\":\"Population\",\"values\":[122851984,126152678,129583026,133119801,136756848,140490722,144329764,148294028,152382506,156595758,160952853,165463745,170075932,174726123,179379016,183995785,188666931,193495907,198387623,203304492,208327405]}],\"hovertemplate\":\"area=Nigeria<br>%{xaxis.title.text}=%{x}<br>%{yaxis.title.text}=%{y}<extra></extra>\",\"legendgroup\":\"Nigeria\",\"marker\":{\"color\":\"#b5de2b\",\"symbol\":\"circle\"},\"name\":\"Nigeria\",\"showlegend\":true,\"type\":\"splom\"},{\"dimensions\":[{\"axis\":{\"matches\":true},\"label\":\"year_pc\",\"values\":[2000,2001,2002,2003,2004,2005,2006,2007,2008,2009,2010,2011,2012,2013,2014,2015,2016,2017,2018,2019,2020]},{\"axis\":{\"matches\":true},\"label\":\"total_kgs_CO2_9\",\"values\":[33840.0,33840.0,33840.0,33840.0,50760.0,50760.0,21150.0,9729.0,7580.16,4094.64,6768.0,6768.0,7614.0,8037.0,7811.6256,6278.8428,6137.2224,6393.3912,2308.5648,3503.6244,3379.9392]},{\"axis\":{\"matches\":true},\"label\":\"Population\",\"values\":[2026350,2034882,2020157,2026773,2032544,2036855,2040228,2043559,2046898,2050671,2055004,2058539,2061044,2064032,2067471,2070226,2072490,2074502,2076217,2076694,2072531]}],\"hovertemplate\":\"area=North Macedonia<br>%{xaxis.title.text}=%{x}<br>%{yaxis.title.text}=%{y}<extra></extra>\",\"legendgroup\":\"North Macedonia\",\"marker\":{\"color\":\"#fde725\",\"symbol\":\"circle\"},\"name\":\"North Macedonia\",\"showlegend\":true,\"type\":\"splom\"},{\"dimensions\":[{\"axis\":{\"matches\":true},\"label\":\"year_pc\",\"values\":[2000,2001,2002,2003,2004,2005,2006,2007,2008,2009,2010,2011,2012,2013,2014,2015,2016,2017,2018,2019,2020]},{\"axis\":{\"matches\":true},\"label\":\"total_kgs_CO2_9\",\"values\":[0.0,0.0,0.0,0.0,0.0,0.0,0.0,0.0,0.0,0.0,0.0,0.0,0.0,0.0,0.0,0.0,0.0,0.0,0.0,0.0,0.0]},{\"axis\":{\"matches\":true},\"label\":\"Population\",\"values\":[4490967,4513751,4538159,4564855,4591910,4623291,4660677,4709153,4768212,4828726,4889252,4953088,5018573,5079623,5137232,5188607,5234519,5276968,5311916,5347896,5379475]}],\"hovertemplate\":\"area=Norway<br>%{xaxis.title.text}=%{x}<br>%{yaxis.title.text}=%{y}<extra></extra>\",\"legendgroup\":\"Norway\",\"marker\":{\"color\":\"#440154\",\"symbol\":\"circle\"},\"name\":\"Norway\",\"showlegend\":true,\"type\":\"splom\"},{\"dimensions\":[{\"axis\":{\"matches\":true},\"label\":\"year_pc\",\"values\":[2000,2001,2002,2003,2004,2005,2006,2007,2008,2009,2010,2011,2012,2013,2014,2015,2016,2017,2018,2019,2020]},{\"axis\":{\"matches\":true},\"label\":\"total_kgs_CO2_9\",\"values\":[0.0,0.0,0.0,24872.4,28933.2,10591.92,8781.48,16107.84,19119.6,19458.0,19266.6348,19458.0,20304.0,21150.0,27918.0,27918.0,27918.0,27918.0,26546.1264,26970.9876,27539.1612]},{\"axis\":{\"matches\":true},\"label\":\"Population\",\"values\":[2344253,2374653,2403659,2431600,2468855,2515192,2560649,2605700,2651028,2697537,2881914,3206870,3535579,3816680,4009267,4191776,4398070,4541854,4601157,4602768,4543399]}],\"hovertemplate\":\"area=Oman<br>%{xaxis.title.text}=%{x}<br>%{yaxis.title.text}=%{y}<extra></extra>\",\"legendgroup\":\"Oman\",\"marker\":{\"color\":\"#482878\",\"symbol\":\"circle\"},\"name\":\"Oman\",\"showlegend\":true,\"type\":\"splom\"},{\"dimensions\":[{\"axis\":{\"matches\":true},\"label\":\"year_pc\",\"values\":[2000,2001,2002,2003,2004,2005,2006,2007,2008,2009,2010,2011,2012,2013,2014,2015,2016,2017,2018,2019,2020]},{\"axis\":{\"matches\":true},\"label\":\"total_kgs_CO2_9\",\"values\":[807720192.0,762606396.0,843709032.0,918431136.0,946538640.0,824682492.0,780071220.0,958561992.0,1126601280.0,872757288.0,861750828.0,970252020.0,1025707320.0,1179545584.0,1105729716.0,1145980365.0,1329544092.0,1459954653.0,1178189954.0,1160958694.0,1410269547.0]},{\"axis\":{\"matches\":true},\"label\":\"Population\",\"values\":[154369924,159217727,163262807,166876680,170648620,174372098,178069984,181924521,185931955,190123222,194454498,198602738,202205861,205337562,208251628,210969298,213524840,216379655,219731479,223293280,227196741]}],\"hovertemplate\":\"area=Pakistan<br>%{xaxis.title.text}=%{x}<br>%{yaxis.title.text}=%{y}<extra></extra>\",\"legendgroup\":\"Pakistan\",\"marker\":{\"color\":\"#3e4989\",\"symbol\":\"circle\"},\"name\":\"Pakistan\",\"showlegend\":true,\"type\":\"splom\"},{\"dimensions\":[{\"axis\":{\"matches\":true},\"label\":\"year_pc\",\"values\":[2000,2001,2002,2003,2004,2005,2006,2007,2008,2009,2010,2011,2012,2013,2014,2015,2016,2017,2018,2019,2020]},{\"axis\":{\"matches\":true},\"label\":\"total_kgs_CO2_9\",\"values\":[25293657.24,29813479.92,27627974.28,30600885.96,30815566.92,30863298.24,31366752.84,30206937.6,30907154.88,33270455.88,38732621.04,39292740.72,39590380.44,43140179.52,41323022.28,41463035.28,46365165.36,46659488.76,50663200.68,46291580.28,48123457.92]},{\"axis\":{\"matches\":true},\"label\":\"Population\",\"values\":[3001731,3061024,3120990,3181608,3243311,3305868,3368573,3431614,3495276,3559343,3623617,3688674,3754862,3821556,3888793,3957099,4026336,4096063,4165255,4232532,4294396]}],\"hovertemplate\":\"area=Panama<br>%{xaxis.title.text}=%{x}<br>%{yaxis.title.text}=%{y}<extra></extra>\",\"legendgroup\":\"Panama\",\"marker\":{\"color\":\"#31688e\",\"symbol\":\"circle\"},\"name\":\"Panama\",\"showlegend\":true,\"type\":\"splom\"},{\"dimensions\":[{\"axis\":{\"matches\":true},\"label\":\"year_pc\",\"values\":[2000,2001,2002,2003,2004,2005,2006,2007,2008,2009,2010,2011,2012,2013,2014,2015,2016,2017,2018,2019,2020]},{\"axis\":{\"matches\":true},\"label\":\"total_kgs_CO2_9\",\"values\":[6751080.0,7935480.0,7512480.0,7800120.0,7732440.0,6480360.0,5668200.0,5685120.0,5837400.0,5820480.0,6666480.0,6666480.0,6497280.0,5651280.0,6158880.0,6158880.0,6175800.0,6175800.0,6175800.0,6175800.0,6185906.485]},{\"axis\":{\"matches\":true},\"label\":\"Population\",\"values\":[5508297,5698489,5892596,6090980,6293166,6498818,6708217,6921066,7137988,7358890,7583269,7806637,8026545,8245627,8464153,8682174,8899169,9114796,9329227,9542486,9749640]}],\"hovertemplate\":\"area=Papua New Guinea<br>%{xaxis.title.text}=%{x}<br>%{yaxis.title.text}=%{y}<extra></extra>\",\"legendgroup\":\"Papua New Guinea\",\"marker\":{\"color\":\"#26828e\",\"symbol\":\"circle\"},\"name\":\"Papua New Guinea\",\"showlegend\":true,\"type\":\"splom\"},{\"dimensions\":[{\"axis\":{\"matches\":true},\"label\":\"year_pc\",\"values\":[2000,2001,2002,2003,2004,2005,2006,2007,2008,2009,2010,2011,2012,2013,2014,2015,2016,2017,2018,2019,2020]},{\"axis\":{\"matches\":true},\"label\":\"total_kgs_CO2_9\",\"values\":[38711098.8,41370753.6,51323266.8,56131677.0,62653084.92,52238266.56,55300140.22,70234920.0,86793035.04,82095840.0,87695361.72,91215889.2,71706960.0,94697805.24,108660240.0,114234246.4,114345360.0,112653360.0,105073200.0,99311940.0,126611937.0]},{\"axis\":{\"matches\":true},\"label\":\"Population\",\"values\":[5123819,5211541,5286512,5353254,5416324,5476878,5534675,5590145,5645148,5702574,5768613,5843939,5923322,6005652,6090721,6177950,6266615,6355404,6443328,6530026,6618695]}],\"hovertemplate\":\"area=Paraguay<br>%{xaxis.title.text}=%{x}<br>%{yaxis.title.text}=%{y}<extra></extra>\",\"legendgroup\":\"Paraguay\",\"marker\":{\"color\":\"#1f9e89\",\"symbol\":\"circle\"},\"name\":\"Paraguay\",\"showlegend\":true,\"type\":\"splom\"},{\"dimensions\":[{\"axis\":{\"matches\":true},\"label\":\"year_pc\",\"values\":[2000,2001,2002,2003,2004,2005,2006,2007,2008,2009,2010,2011,2012,2013,2014,2015,2016,2017,2018,2019,2020]},{\"axis\":{\"matches\":true},\"label\":\"total_kgs_CO2_9\",\"values\":[132993738.0,137592594.0,156422185.2,164529403.2,132430691.2,121047811.9,129036319.2,145657901.2,165747626.3,174816509.4,173936940.1,174528717.1,182886012.7,193433500.8,200241719.6,180229403.5,174487939.9,167670719.6,183855731.8,193360169.5,186268896.0]},{\"axis\":{\"matches\":true},\"label\":\"Population\",\"values\":[26654439,27014909,27334503,27623341,27893911,28147267,28381078,28600387,28806185,29009326,29229572,29477721,29749589,30038809,30353951,30711863,31132779,31605486,32203944,32824861,33304756]}],\"hovertemplate\":\"area=Peru<br>%{xaxis.title.text}=%{x}<br>%{yaxis.title.text}=%{y}<extra></extra>\",\"legendgroup\":\"Peru\",\"marker\":{\"color\":\"#35b779\",\"symbol\":\"circle\"},\"name\":\"Peru\",\"showlegend\":true,\"type\":\"splom\"},{\"dimensions\":[{\"axis\":{\"matches\":true},\"label\":\"year_pc\",\"values\":[2000,2001,2002,2003,2004,2005,2006,2007,2008,2009,2010,2011,2012,2013,2014,2015,2016,2017,2018,2019,2020]},{\"axis\":{\"matches\":true},\"label\":\"total_kgs_CO2_9\",\"values\":[373533331.0,381067536.2,377185513.0,422667928.1,449703380.9,402995044.1,425962793.5,392227528.3,467979857.3,404672560.6,319437248.4,498116644.6,462929744.9,432641726.6,440087169.6,405410577.1,400116478.3,514586166.5,438411074.4,370366820.6,432626498.6]},{\"axis\":{\"matches\":true},\"label\":\"Population\",\"values\":[77958223,79626086,81285572,82942837,84607501,86261250,87901835,89561377,91252326,92946951,94636700,96337913,98032317,99700107,101325201,103031365,104875266,106738501,108568836,110380804,112190977]}],\"hovertemplate\":\"area=Philippines<br>%{xaxis.title.text}=%{x}<br>%{yaxis.title.text}=%{y}<extra></extra>\",\"legendgroup\":\"Philippines\",\"marker\":{\"color\":\"#6ece58\",\"symbol\":\"circle\"},\"name\":\"Philippines\",\"showlegend\":true,\"type\":\"splom\"},{\"dimensions\":[{\"axis\":{\"matches\":true},\"label\":\"year_pc\",\"values\":[2000,2001,2002,2003,2004,2005,2006,2007,2008,2009,2010,2011,2012,2013,2014,2015,2016,2017,2018,2019,2020]},{\"axis\":{\"matches\":true},\"label\":\"total_kgs_CO2_9\",\"values\":[7580160.0,6683400.0,7749360.0,6598800.0,6514200.0,6514200.0,6260400.0,7241760.0,4568400.0,5583600.0,5414400.0,5752800.0,5922000.0,5414400.0,5922000.0,5922000.0,8290800.0,8967600.0,8933760.0,6851683.613,6993301.644]},{\"axis\":{\"matches\":true},\"label\":\"Population\",\"values\":[38258629,38248076,38230364,38204570,38182222,38165445,38141267,38120560,38125759,38151603,38042794,38063255,38063164,38040196,38011735,37986412,37970087,37974826,37974750,37965475,37899070]}],\"hovertemplate\":\"area=Poland<br>%{xaxis.title.text}=%{x}<br>%{yaxis.title.text}=%{y}<extra></extra>\",\"legendgroup\":\"Poland\",\"marker\":{\"color\":\"#b5de2b\",\"symbol\":\"circle\"},\"name\":\"Poland\",\"showlegend\":true,\"type\":\"splom\"},{\"dimensions\":[{\"axis\":{\"matches\":true},\"label\":\"year_pc\",\"values\":[2000,2001,2002,2003,2004,2005,2006,2007,2008,2009,2010,2011,2012,2013,2014,2015,2016,2017,2018,2019,2020]},{\"axis\":{\"matches\":true},\"label\":\"total_kgs_CO2_9\",\"values\":[461695.194,308874.6,615849.084,481090.59,601302.96,582500.61,359430.714,305002.458,206643.96,97221.474,97415.5464,99016.0092,101028.3048,103350.2364,100753.524,100256.4144,104394.5388,105567.7716,25.7184,0.0,0.0]},{\"axis\":{\"matches\":true},\"label\":\"Population\",\"values\":[10289898,10362722,10419631,10458821,10483861,10503330,10522288,10542964,10558177,10568247,10573100,10557560,10514844,10457295,10401062,10358076,10325452,10300300,10283822,10286263,10297081]}],\"hovertemplate\":\"area=Portugal<br>%{xaxis.title.text}=%{x}<br>%{yaxis.title.text}=%{y}<extra></extra>\",\"legendgroup\":\"Portugal\",\"marker\":{\"color\":\"#fde725\",\"symbol\":\"circle\"},\"name\":\"Portugal\",\"showlegend\":true,\"type\":\"splom\"},{\"dimensions\":[{\"axis\":{\"matches\":true},\"label\":\"year_pc\",\"values\":[2000,2001,2002,2003,2004,2005,2006,2007,2008,2009,2010,2011,2012,2013,2014,2015,2016,2017,2018,2019,2020]},{\"axis\":{\"matches\":true},\"label\":\"total_kgs_CO2_9\",\"values\":[1103251.68,293020.56,690894.36,0.0,0.0,0.0,0.0,0.0,0.0,0.0,0.0,0.0,0.0,0.0,0.0,0.0,0.0,0.0,0.0,0.0,0.0]},{\"axis\":{\"matches\":true},\"label\":\"Population\",\"values\":[3810605,3818774,3823701,3826095,3826878,3821362,3805214,3782995,3760866,3740410,3721525,3678732,3634488,3593077,3534874,3473232,3406672,3325286,3193354,3193694,3281538]}],\"hovertemplate\":\"area=Puerto Rico<br>%{xaxis.title.text}=%{x}<br>%{yaxis.title.text}=%{y}<extra></extra>\",\"legendgroup\":\"Puerto Rico\",\"marker\":{\"color\":\"#440154\",\"symbol\":\"circle\"},\"name\":\"Puerto Rico\",\"showlegend\":true,\"type\":\"splom\"},{\"dimensions\":[{\"axis\":{\"matches\":true},\"label\":\"year_pc\",\"values\":[2000,2001,2002,2003,2004,2005,2006,2007,2008,2009,2010,2011,2012,2013,2014,2015,2016,2017,2018,2019,2020]},{\"axis\":{\"matches\":true},\"label\":\"total_kgs_CO2_9\",\"values\":[0.0,0.0,0.0,0.0,0.0,0.0,0.0,0.0,0.0,0.0,0.0,0.0,0.0,0.0,0.0,0.0,0.0,0.0,0.0,0.0,0.0]},{\"axis\":{\"matches\":true},\"label\":\"Population\",\"values\":[645937,678831,713186,748525,777943,848710,1015060,1231893,1444277,1610274,1713504,1804171,1905660,2035501,2214465,2414573,2595166,2711755,2766732,2807235,2760385]}],\"hovertemplate\":\"area=Qatar<br>%{xaxis.title.text}=%{x}<br>%{yaxis.title.text}=%{y}<extra></extra>\",\"legendgroup\":\"Qatar\",\"marker\":{\"color\":\"#482878\",\"symbol\":\"circle\"},\"name\":\"Qatar\",\"showlegend\":true,\"type\":\"splom\"},{\"dimensions\":[{\"axis\":{\"matches\":true},\"label\":\"year_pc\",\"values\":[2000,2001,2002,2003,2004,2005,2006,2007,2008,2009,2010,2011,2012,2013,2014,2015,2016,2017,2018,2019,2020]},{\"axis\":{\"matches\":true},\"label\":\"total_kgs_CO2_9\",\"values\":[287640.0,541440.0,439920.0,321480.0,253800.0,389160.0,575280.0,609120.0,761400.0,710640.0,791822.16,764124.12,753126.12,910126.8,1318068.0,846000.0,930600.0,1015200.0,727560.0,930600.0,846000.0]},{\"axis\":{\"matches\":true},\"label\":\"Population\",\"values\":[22442971,22131970,21730496,21574326,21451748,21319685,21193760,20882982,20537875,20367487,20246871,20147528,20058035,19983693,19908979,19815616,19702267,19588715,19473970,19371648,19265250]}],\"hovertemplate\":\"area=Romania<br>%{xaxis.title.text}=%{x}<br>%{yaxis.title.text}=%{y}<extra></extra>\",\"legendgroup\":\"Romania\",\"marker\":{\"color\":\"#3e4989\",\"symbol\":\"circle\"},\"name\":\"Romania\",\"showlegend\":true,\"type\":\"splom\"},{\"dimensions\":[{\"axis\":{\"matches\":true},\"label\":\"year_pc\",\"values\":[2000,2001,2002,2003,2004,2005,2006,2007,2008,2009,2010,2011,2012,2013,2014,2015,2016,2017,2018,2019,2020]},{\"axis\":{\"matches\":true},\"label\":\"total_kgs_CO2_9\",\"values\":[9729000.0,10101240.0,10236600.0,13366800.0,12859200.0,13197600.0,18612000.0,16852320.0,17359920.0,14297400.0,11945520.0,22842000.0,22503600.0,20405520.0,18916560.0,21996000.0,27748800.0,28764000.0,26756949.6,27674605.8,20727000.0]},{\"axis\":{\"matches\":true},\"label\":\"Population\",\"values\":[146596869,145976482,145306497,144648618,144067316,143518814,143049637,142805114,142742366,142785349,142849468,142960908,143201721,143506995,143819667,144096870,144342397,144496739,144477859,144406261,144073139]}],\"hovertemplate\":\"area=Russian Federation<br>%{xaxis.title.text}=%{x}<br>%{yaxis.title.text}=%{y}<extra></extra>\",\"legendgroup\":\"Russian Federation\",\"marker\":{\"color\":\"#31688e\",\"symbol\":\"circle\"},\"name\":\"Russian Federation\",\"showlegend\":true,\"type\":\"splom\"},{\"dimensions\":[{\"axis\":{\"matches\":true},\"label\":\"year_pc\",\"values\":[2000,2001,2002,2003,2004,2005,2006,2007,2008,2009,2010,2011,2012,2013,2014,2015,2016,2017,2018,2019,2020]},{\"axis\":{\"matches\":true},\"label\":\"total_kgs_CO2_9\",\"values\":[700488.0,700488.0,788049.0,875610.0,1050732.0,1027353.298,1015900.15,1698858.522,1103268.6,1762830.504,2013834.136,1674140.094,1692518.26,1724692.147,1766535.646,1793663.482,1640364.39,1738169.942,1732859.431,1705805.028,1725977.559]},{\"axis\":{\"matches\":true},\"label\":\"Population\",\"values\":[8109989,8223941,8372306,8567992,8791853,9026299,9270066,9523168,9781996,10043737,10309031,10576932,10840334,11101350,11368451,11642959,11930899,12230339,12531808,12835028,13146362]}],\"hovertemplate\":\"area=Rwanda<br>%{xaxis.title.text}=%{x}<br>%{yaxis.title.text}=%{y}<extra></extra>\",\"legendgroup\":\"Rwanda\",\"marker\":{\"color\":\"#26828e\",\"symbol\":\"circle\"},\"name\":\"Rwanda\",\"showlegend\":true,\"type\":\"splom\"},{\"dimensions\":[{\"axis\":{\"matches\":true},\"label\":\"year_pc\",\"values\":[2000,2001,2002,2003,2004,2005,2006,2007,2008,2009,2010,2011,2012,2013,2014,2015,2016,2017,2018,2019,2020]},{\"axis\":{\"matches\":true},\"label\":\"total_kgs_CO2_9\",\"values\":[203.04,203.04,203.04,203.04,203.04,203.04,203.04,203.04,203.04,203.04,203.04,203.04,203.04,203.04,202.0248,202.194,201.8556,201.6864,201.8556,202.3632,202.194]},{\"axis\":{\"matches\":true},\"label\":\"Population\",\"values\":[184008,185530,186630,187440,188073,188626,189379,190478,191787,193176,194672,196351,198124,199939,201757,203571,205544,207630,209701,211905,214929]}],\"hovertemplate\":\"area=Samoa<br>%{xaxis.title.text}=%{x}<br>%{yaxis.title.text}=%{y}<extra></extra>\",\"legendgroup\":\"Samoa\",\"marker\":{\"color\":\"#1f9e89\",\"symbol\":\"circle\"},\"name\":\"Samoa\",\"showlegend\":true,\"type\":\"splom\"},{\"dimensions\":[{\"axis\":{\"matches\":true},\"label\":\"year_pc\",\"values\":[2000,2001,2002,2003,2004,2005,2006,2007,2008,2009,2010,2011,2012,2013,2014,2015,2016,2017,2018,2019,2020]},{\"axis\":{\"matches\":true},\"label\":\"total_kgs_CO2_9\",\"values\":[0.0,0.0,0.0,0.0,0.0,0.0,0.0,0.0,0.0,0.0,0.0,0.0,0.0,0.0,0.0,0.0,0.0,0.0,0.0,0.0,0.0]},{\"axis\":{\"matches\":true},\"label\":\"Population\",\"values\":[143714,146258,149841,153762,157697,161680,165725,169845,174004,178128,182138,186044,189924,193757,197497,201124,204632,208036,211344,214599,218641]}],\"hovertemplate\":\"area=Sao Tome and Principe<br>%{xaxis.title.text}=%{x}<br>%{yaxis.title.text}=%{y}<extra></extra>\",\"legendgroup\":\"Sao Tome and Principe\",\"marker\":{\"color\":\"#35b779\",\"symbol\":\"circle\"},\"name\":\"Sao Tome and Principe\",\"showlegend\":true,\"type\":\"splom\"},{\"dimensions\":[{\"axis\":{\"matches\":true},\"label\":\"year_pc\",\"values\":[2000,2001,2002,2003,2004,2005,2006,2007,2008,2009,2010,2011,2012,2013,2014,2015,2016,2017,2018,2019,2020]},{\"axis\":{\"matches\":true},\"label\":\"total_kgs_CO2_9\",\"values\":[0.0,0.0,0.0,0.0,0.0,0.0,0.0,0.0,0.0,0.0,0.0,0.0,0.0,0.0,0.0,0.0,0.0,0.0,0.0,0.0,0.0]},{\"axis\":{\"matches\":true},\"label\":\"Population\",\"values\":[21547390,22085929,22623415,23150847,23661808,24397644,25382870,26400068,27437353,28483797,29411929,30150945,30821543,31482498,32125564,32749848,33416270,34193122,35018133,35827362,35997107]}],\"hovertemplate\":\"area=Saudi Arabia<br>%{xaxis.title.text}=%{x}<br>%{yaxis.title.text}=%{y}<extra></extra>\",\"legendgroup\":\"Saudi Arabia\",\"marker\":{\"color\":\"#6ece58\",\"symbol\":\"circle\"},\"name\":\"Saudi Arabia\",\"showlegend\":true,\"type\":\"splom\"},{\"dimensions\":[{\"axis\":{\"matches\":true},\"label\":\"year_pc\",\"values\":[2000,2001,2002,2003,2004,2005,2006,2007,2008,2009,2010,2011,2012,2013,2014,2015,2016,2017,2018,2019,2020]},{\"axis\":{\"matches\":true},\"label\":\"total_kgs_CO2_9\",\"values\":[14957280.0,14783230.05,14424325.72,14598375.67,14579529.49,14587747.2,14596545.6,14710924.8,14710924.8,14710924.8,15870960.0,16395480.0,16750800.0,16581600.0,17420709.33,20151720.0,21065400.0,23603400.0,23992560.0,24195600.0,24060240.0]},{\"axis\":{\"matches\":true},\"label\":\"Population\",\"values\":[9704287,9938027,10180950,10434504,10698691,10974057,11263387,11563869,11872929,12195029,12530121,12875880,13231833,13595566,13970308,14356181,14751356,15157793,15574909,16000781,16436120]}],\"hovertemplate\":\"area=Senegal<br>%{xaxis.title.text}=%{x}<br>%{yaxis.title.text}=%{y}<extra></extra>\",\"legendgroup\":\"Senegal\",\"marker\":{\"color\":\"#b5de2b\",\"symbol\":\"circle\"},\"name\":\"Senegal\",\"showlegend\":true,\"type\":\"splom\"},{\"dimensions\":[{\"axis\":{\"matches\":true},\"label\":\"year_pc\",\"values\":[2006,2007,2008,2009,2010,2011,2012,2013,2014,2015,2016,2017,2018,2019,2020]},{\"axis\":{\"matches\":true},\"label\":\"total_kgs_CO2_9\",\"values\":[2774880.0,2656440.0,2571840.0,2030400.0,2893320.0,2318040.0,2030400.0,2791800.0,3299400.0,1692000.0,2707200.0,2030400.0,2098080.0,1133640.0,1235160.0]},{\"axis\":{\"matches\":true},\"label\":\"Population\",\"values\":[7411569,7381579,7350222,7320807,7291436,7234099,7199077,7164132,7130576,7095383,7058322,7020858,6982604,6945235,6899126]}],\"hovertemplate\":\"area=Serbia<br>%{xaxis.title.text}=%{x}<br>%{yaxis.title.text}=%{y}<extra></extra>\",\"legendgroup\":\"Serbia\",\"marker\":{\"color\":\"#fde725\",\"symbol\":\"circle\"},\"name\":\"Serbia\",\"showlegend\":true,\"type\":\"splom\"},{\"dimensions\":[{\"axis\":{\"matches\":true},\"label\":\"year_pc\",\"values\":[2000,2001,2002,2003,2004,2005,2006,2007,2008,2009,2010,2011,2012,2013,2014,2015,2016,2017,2018,2019,2020]},{\"axis\":{\"matches\":true},\"label\":\"total_kgs_CO2_9\",\"values\":[0.0,0.0,0.0,0.0,0.0,0.0,0.0,0.0,0.0,0.0,0.0,0.0,0.0,0.0,0.0,0.0,0.0,0.0,0.0,0.0,0.0]},{\"axis\":{\"matches\":true},\"label\":\"Population\",\"values\":[81131,81202,83723,82781,82475,82858,84600,85033,86956,87298,89770,87441,88303,89949,91359,93419,94677,95843,96762,97625,98462]}],\"hovertemplate\":\"area=Seychelles<br>%{xaxis.title.text}=%{x}<br>%{yaxis.title.text}=%{y}<extra></extra>\",\"legendgroup\":\"Seychelles\",\"marker\":{\"color\":\"#440154\",\"symbol\":\"circle\"},\"name\":\"Seychelles\",\"showlegend\":true,\"type\":\"splom\"},{\"dimensions\":[{\"axis\":{\"matches\":true},\"label\":\"year_pc\",\"values\":[2000,2001,2002,2003,2004,2005,2006,2007,2008,2009,2010,2011,2012,2013,2014,2015,2016,2017,2018,2019,2020]},{\"axis\":{\"matches\":true},\"label\":\"total_kgs_CO2_9\",\"values\":[1432193.4,1220016.6,1220016.6,1220016.6,1237698.0,1237698.0,1237698.0,1237698.0,1237698.0,1237698.0,1319760.0,1336680.0,1336680.0,1336680.0,1351008.533,1369636.945,1382693.602,1394165.869,1438290.353,1419493.925,1425490.373]},{\"axis\":{\"matches\":true},\"label\":\"Population\",\"values\":[4584067,4857096,5140113,5350907,5533329,5683334,5809774,5939163,6090860,6259842,6436698,6612385,6788587,6964859,7140688,7314773,7493913,7677565,7861281,8046828,8233970]}],\"hovertemplate\":\"area=Sierra Leone<br>%{xaxis.title.text}=%{x}<br>%{yaxis.title.text}=%{y}<extra></extra>\",\"legendgroup\":\"Sierra Leone\",\"marker\":{\"color\":\"#482878\",\"symbol\":\"circle\"},\"name\":\"Sierra Leone\",\"showlegend\":true,\"type\":\"splom\"},{\"dimensions\":[{\"axis\":{\"matches\":true},\"label\":\"year_pc\",\"values\":[2000,2001,2002,2003,2004,2005,2006,2007,2008,2009,2010,2011,2012,2013,2014,2015,2016,2017,2018,2019,2020]},{\"axis\":{\"matches\":true},\"label\":\"total_kgs_CO2_9\",\"values\":[0.0,0.0,0.0,0.0,0.0,0.0,0.0,0.0,0.0,0.0,0.0,0.0,0.0,0.0,0.0,0.0,0.0,0.0,0.0,0.0,0.0]},{\"axis\":{\"matches\":true},\"label\":\"Population\",\"values\":[4027887,4138012,4175950,4114826,4166664,4265762,4401365,4588599,4839396,4987573,5076732,5183688,5312437,5399162,5469724,5535002,5607283,5612253,5638676,5703569,5685807]}],\"hovertemplate\":\"area=Singapore<br>%{xaxis.title.text}=%{x}<br>%{yaxis.title.text}=%{y}<extra></extra>\",\"legendgroup\":\"Singapore\",\"marker\":{\"color\":\"#3e4989\",\"symbol\":\"circle\"},\"name\":\"Singapore\",\"showlegend\":true,\"type\":\"splom\"},{\"dimensions\":[{\"axis\":{\"matches\":true},\"label\":\"year_pc\",\"values\":[2000,2001,2002,2003,2004,2005,2006,2007,2008,2009,2010,2011,2012,2013,2014,2015,2016,2017,2018,2019,2020]},{\"axis\":{\"matches\":true},\"label\":\"total_kgs_CO2_9\",\"values\":[727560.0,947520.0,998280.0,1167480.0,1099800.0,1099800.0,896760.0,642960.0,456840.0,676800.0,609120.0,659880.0,659880.0,778320.0,812160.0,795240.0,846000.0,795240.0,778320.0,761400.0,744480.0]},{\"axis\":{\"matches\":true},\"label\":\"Population\",\"values\":[5388720,5378867,5376912,5373374,5372280,5372807,5373054,5374622,5379233,5386406,5391428,5398384,5407579,5413393,5418649,5423801,5430798,5439232,5446771,5454147,5458827]}],\"hovertemplate\":\"area=Slovakia<br>%{xaxis.title.text}=%{x}<br>%{yaxis.title.text}=%{y}<extra></extra>\",\"legendgroup\":\"Slovakia\",\"marker\":{\"color\":\"#31688e\",\"symbol\":\"circle\"},\"name\":\"Slovakia\",\"showlegend\":true,\"type\":\"splom\"},{\"dimensions\":[{\"axis\":{\"matches\":true},\"label\":\"year_pc\",\"values\":[2000,2001,2002,2003,2004,2005,2006,2007,2008,2009,2010,2011,2012,2013,2014,2015,2016,2017,2018,2019,2020]},{\"axis\":{\"matches\":true},\"label\":\"total_kgs_CO2_9\",\"values\":[236880.0,118440.0,152280.0,169200.0,186120.0,186120.0,270720.0,0.0,0.0,0.0,0.0,0.0,0.0,0.0,0.0,0.0,0.0,0.0,0.0,0.0,0.0]},{\"axis\":{\"matches\":true},\"label\":\"Population\",\"values\":[1988925,1992060,1994530,1995733,1997012,2000474,2006868,2018122,2021316,2039669,2048583,2052843,2057159,2059953,2061980,2063531,2065042,2066388,2073894,2088385,2102419]}],\"hovertemplate\":\"area=Slovenia<br>%{xaxis.title.text}=%{x}<br>%{yaxis.title.text}=%{y}<extra></extra>\",\"legendgroup\":\"Slovenia\",\"marker\":{\"color\":\"#26828e\",\"symbol\":\"circle\"},\"name\":\"Slovenia\",\"showlegend\":true,\"type\":\"splom\"},{\"dimensions\":[{\"axis\":{\"matches\":true},\"label\":\"year_pc\",\"values\":[2000,2001,2002,2003,2004,2005,2006,2007,2008,2009,2010,2011,2012,2013,2014,2015,2016,2017,2018,2019,2020]},{\"axis\":{\"matches\":true},\"label\":\"total_kgs_CO2_9\",\"values\":[0.0,0.0,0.0,0.0,0.0,0.0,0.0,0.0,0.0,0.0,0.0,0.0,0.0,0.0,0.0,0.0,0.0,0.0,0.0,0.0,0.0]},{\"axis\":{\"matches\":true},\"label\":\"Population\",\"values\":[429978,440395,450760,461216,471785,482486,493430,504619,516001,527833,540394,553721,567763,582365,597375,612660,628102,643634,659249,674993,691191]}],\"hovertemplate\":\"area=Solomon Islands<br>%{xaxis.title.text}=%{x}<br>%{yaxis.title.text}=%{y}<extra></extra>\",\"legendgroup\":\"Solomon Islands\",\"marker\":{\"color\":\"#1f9e89\",\"symbol\":\"circle\"},\"name\":\"Solomon Islands\",\"showlegend\":true,\"type\":\"splom\"},{\"dimensions\":[{\"axis\":{\"matches\":true},\"label\":\"year_pc\",\"values\":[2000,2001,2002,2003,2004,2005,2006,2007,2008,2009,2010,2011,2012,2013,2014,2015,2016,2017,2018,2019,2020]},{\"axis\":{\"matches\":true},\"label\":\"total_kgs_CO2_9\",\"values\":[3823920.0,3477060.0,3650490.0,3998534.4,3502440.0,2656440.0,3502440.0,3502440.0,3502440.0,4010040.0,4010040.0,4010040.0,3823920.0,3823920.0,3993120.0,3993120.0,3823920.0,3823920.0,3993120.0,4043880.0,3705480.0]},{\"axis\":{\"matches\":true},\"label\":\"Population\",\"values\":[8721465,9070747,9411103,9758281,10117354,10467292,10784973,11118092,11444870,11730037,12026649,12216837,12440326,12852485,13309235,13763906,14292847,14864221,15411094,15981300,16537016]}],\"hovertemplate\":\"area=Somalia<br>%{xaxis.title.text}=%{x}<br>%{yaxis.title.text}=%{y}<extra></extra>\",\"legendgroup\":\"Somalia\",\"marker\":{\"color\":\"#35b779\",\"symbol\":\"circle\"},\"name\":\"Somalia\",\"showlegend\":true,\"type\":\"splom\"},{\"dimensions\":[{\"axis\":{\"matches\":true},\"label\":\"year_pc\",\"values\":[2000,2001,2002,2003,2004,2005,2006,2007,2008,2009,2010,2011,2012,2013,2014,2015,2016,2017,2018,2019,2020]},{\"axis\":{\"matches\":true},\"label\":\"total_kgs_CO2_9\",\"values\":[419178821.0,373196589.1,404600413.7,359616529.4,337042339.2,371432340.7,358341979.7,348956658.7,340657195.7,330043009.0,283150261.1,296223109.9,304864560.0,353001418.6,313113669.1,261353104.9,267414001.2,308589937.9,341812561.0,340887240.0,323679600.0]},{\"axis\":{\"matches\":true},\"label\":\"Population\",\"values\":[46813266,47229714,47661514,48104048,48556071,49017147,49491756,49996094,50565812,51170779,51784921,52443325,53145033,53873616,54729551,55876504,56422274,56641209,57339635,58087055,58801927]}],\"hovertemplate\":\"area=South Africa<br>%{xaxis.title.text}=%{x}<br>%{yaxis.title.text}=%{y}<extra></extra>\",\"legendgroup\":\"South Africa\",\"marker\":{\"color\":\"#6ece58\",\"symbol\":\"circle\"},\"name\":\"South Africa\",\"showlegend\":true,\"type\":\"splom\"},{\"dimensions\":[{\"axis\":{\"matches\":true},\"label\":\"year_pc\",\"values\":[2012,2013,2014,2015,2016,2017,2018,2019,2020]},{\"axis\":{\"matches\":true},\"label\":\"total_kgs_CO2_9\",\"values\":[0.0,0.0,0.0,0.0,0.0,0.0,0.0,0.0,0.0]},{\"axis\":{\"matches\":true},\"label\":\"Population\",\"values\":[10701604,11106031,11213284,11194299,11066105,10658226,10395329,10447666,10606227]}],\"hovertemplate\":\"area=South Sudan<br>%{xaxis.title.text}=%{x}<br>%{yaxis.title.text}=%{y}<extra></extra>\",\"legendgroup\":\"South Sudan\",\"marker\":{\"color\":\"#b5de2b\",\"symbol\":\"circle\"},\"name\":\"South Sudan\",\"showlegend\":true,\"type\":\"splom\"},{\"dimensions\":[{\"axis\":{\"matches\":true},\"label\":\"year_pc\",\"values\":[2000,2001,2002,2003,2004,2005,2006,2007,2008,2009,2010,2011,2012,2013,2014,2015,2016,2017,2018,2019,2020]},{\"axis\":{\"matches\":true},\"label\":\"total_kgs_CO2_9\",\"values\":[7603881.84,7137617.4,7370419.68,6367825.08,6629425.2,6419532.6,5692311.0,2716032.24,3045600.0,2878892.147,2710922.4,2708892.0,2238262.2,2036998.8,2542370.944,2458663.981,2123121.6,2421252.0,2115000.0,2402640.0,2098080.0]},{\"axis\":{\"matches\":true},\"label\":\"Population\",\"values\":[40567864,40850412,41431558,42187645,42921895,43653155,44397319,45226803,45954106,46362946,46576897,46742697,46773055,46620045,46480882,46444832,46484062,46593236,46797754,47134837,47365655]}],\"hovertemplate\":\"area=Spain<br>%{xaxis.title.text}=%{x}<br>%{yaxis.title.text}=%{y}<extra></extra>\",\"legendgroup\":\"Spain\",\"marker\":{\"color\":\"#fde725\",\"symbol\":\"circle\"},\"name\":\"Spain\",\"showlegend\":true,\"type\":\"splom\"},{\"dimensions\":[{\"axis\":{\"matches\":true},\"label\":\"year_pc\",\"values\":[2000,2001,2002,2003,2004,2005,2006,2007,2008,2009,2010,2011,2012,2013,2014,2015,2016,2017,2018,2019,2020]},{\"axis\":{\"matches\":true},\"label\":\"total_kgs_CO2_9\",\"values\":[18567788.04,17420722.02,16609544.23,17637748.09,17263866.01,17233866.85,19705040.46,13507663.23,13848089.74,15829159.14,15746617.46,12629446.2,11675969.51,16738399.16,16591860.96,12583150.2,14218079.04,11497512.24,11335741.14,11475635.7,14827810.19]},{\"axis\":{\"matches\":true},\"label\":\"Population\",\"values\":[18777606,18911727,19062476,19224036,19387153,19544988,19695977,19842044,19983984,20123508,20261738,20398496,20425000,20585000,20778000,20970000,21203000,21444000,21670000,21803000,21919000]}],\"hovertemplate\":\"area=Sri Lanka<br>%{xaxis.title.text}=%{x}<br>%{yaxis.title.text}=%{y}<extra></extra>\",\"legendgroup\":\"Sri Lanka\",\"marker\":{\"color\":\"#440154\",\"symbol\":\"circle\"},\"name\":\"Sri Lanka\",\"showlegend\":true,\"type\":\"splom\"},{\"dimensions\":[{\"axis\":{\"matches\":true},\"label\":\"year_pc\",\"values\":[2000,2001,2002,2003,2004,2005,2006,2007,2008,2009,2010,2011,2012,2013,2014,2015,2016,2017,2018,2019,2020]},{\"axis\":{\"matches\":true},\"label\":\"total_kgs_CO2_9\",\"values\":[3351607.506,3351829.158,3379854.6,3379854.6,4553166.586,1751220.0,0.0,0.0,0.0,0.0,0.0,0.0,0.0,0.0,0.0,0.0,0.0,0.0,0.0,0.0,0.0]},{\"axis\":{\"matches\":true},\"label\":\"Population\",\"values\":[45461,45986,46264,46431,46580,46725,46874,47015,47156,47286,47403,47581,47727,47767,47789,47790,47788,47785,47761,47712,47642]}],\"hovertemplate\":\"area=Saint Kitts and Nevis<br>%{xaxis.title.text}=%{x}<br>%{yaxis.title.text}=%{y}<extra></extra>\",\"legendgroup\":\"Saint Kitts and Nevis\",\"marker\":{\"color\":\"#482878\",\"symbol\":\"circle\"},\"name\":\"Saint Kitts and Nevis\",\"showlegend\":true,\"type\":\"splom\"},{\"dimensions\":[{\"axis\":{\"matches\":true},\"label\":\"year_pc\",\"values\":[2000,2001,2002,2003,2004,2005,2006,2007,2008,2009,2010,2011,2012,2013,2014,2015,2016,2017,2018,2019,2020]},{\"axis\":{\"matches\":true},\"label\":\"total_kgs_CO2_9\",\"values\":[0.0,0.0,0.0,0.0,0.0,0.0,0.0,0.0,0.0,0.0,0.0,0.0,0.0,0.0,0.0,0.0,0.0,0.0,0.0,0.0,0.0]},{\"axis\":{\"matches\":true},\"label\":\"Population\",\"values\":[159500,160594,161799,163047,164239,165386,166470,167518,168576,169688,170935,172145,173124,173978,174804,175623,176413,177163,177888,178583,179237]}],\"hovertemplate\":\"area=Saint Lucia<br>%{xaxis.title.text}=%{x}<br>%{yaxis.title.text}=%{y}<extra></extra>\",\"legendgroup\":\"Saint Lucia\",\"marker\":{\"color\":\"#3e4989\",\"symbol\":\"circle\"},\"name\":\"Saint Lucia\",\"showlegend\":true,\"type\":\"splom\"},{\"dimensions\":[{\"axis\":{\"matches\":true},\"label\":\"year_pc\",\"values\":[2000,2001,2002,2003,2004,2005,2006,2007,2008,2009,2010,2011,2012,2013,2014,2015,2016,2017,2018,2019,2020]},{\"axis\":{\"matches\":true},\"label\":\"total_kgs_CO2_9\",\"values\":[18019.8,17258.4,17681.4,17258.4,17512.2,19458.0,19458.0,19458.0,19458.0,19458.0,15228.0,15228.0,15312.6,15312.6,16111.0548,16115.454,16119.3456,16122.222,0.0,0.0,0.0]},{\"axis\":{\"matches\":true},\"label\":\"Population\",\"values\":[113813,113641,113450,113108,112608,112043,111427,110824,110316,109840,109308,108703,108083,107450,106912,106482,105963,105549,105281,104924,104632]}],\"hovertemplate\":\"area=Saint Vincent and the Grenadines<br>%{xaxis.title.text}=%{x}<br>%{yaxis.title.text}=%{y}<extra></extra>\",\"legendgroup\":\"Saint Vincent and the Grenadines\",\"marker\":{\"color\":\"#31688e\",\"symbol\":\"circle\"},\"name\":\"Saint Vincent and the Grenadines\",\"showlegend\":true,\"type\":\"splom\"},{\"dimensions\":[{\"axis\":{\"matches\":true},\"label\":\"year_pc\",\"values\":[2012,2013,2014,2015,2016,2017,2018,2019,2020]},{\"axis\":{\"matches\":true},\"label\":\"total_kgs_CO2_9\",\"values\":[110617393.3,121280868.0,104523300.0,106088400.0,107780400.0,115935840.0,109286280.0,98542080.0,93243785.04]},{\"axis\":{\"matches\":true},\"label\":\"Population\",\"values\":[35159792,35990704,37003245,38171178,39377169,40679828,41999059,43232093,44440486]}],\"hovertemplate\":\"area=Sudan<br>%{xaxis.title.text}=%{x}<br>%{yaxis.title.text}=%{y}<extra></extra>\",\"legendgroup\":\"Sudan\",\"marker\":{\"color\":\"#26828e\",\"symbol\":\"circle\"},\"name\":\"Sudan\",\"showlegend\":true,\"type\":\"splom\"},{\"dimensions\":[{\"axis\":{\"matches\":true},\"label\":\"year_pc\",\"values\":[2000,2001,2002,2003,2004,2005,2006,2007,2008,2009,2010,2011,2012,2013,2014,2015,2016,2017,2018,2019,2020]},{\"axis\":{\"matches\":true},\"label\":\"total_kgs_CO2_9\",\"values\":[2115000.0,2115000.0,2115000.0,1226700.0,1226700.0,1226700.0,2089620.0,2089620.0,2082852.0,2082852.0,2081160.0,2081160.0,2082852.0,2082852.0,2102173.963,2097120.805,2123225.996,1902348.763,1760111.798,1373377.111,1286731.145]},{\"axis\":{\"matches\":true},\"label\":\"Population\",\"values\":[478998,487394,495666,503780,510572,516220,522023,527946,533938,539987,546080,552146,558111,563947,569682,575475,581453,587559,593715,600301,607065]}],\"hovertemplate\":\"area=Suriname<br>%{xaxis.title.text}=%{x}<br>%{yaxis.title.text}=%{y}<extra></extra>\",\"legendgroup\":\"Suriname\",\"marker\":{\"color\":\"#1f9e89\",\"symbol\":\"circle\"},\"name\":\"Suriname\",\"showlegend\":true,\"type\":\"splom\"},{\"dimensions\":[{\"axis\":{\"matches\":true},\"label\":\"year_pc\",\"values\":[2000,2001,2002,2003,2004,2005,2006,2007,2008,2009,2010,2011,2012,2013,2014,2015,2016,2017,2018,2019,2020]},{\"axis\":{\"matches\":true},\"label\":\"total_kgs_CO2_9\",\"values\":[1319760.0,1302840.0,1353600.0,1285920.0,1099800.0,1150560.0,913680.0,947520.0,846000.0,930600.0,812160.0,930600.0,846000.0,846000.0,846000.0,434152.9872,763450.0272,719393.2236,709183.8648,743086.638,742889.1816]},{\"axis\":{\"matches\":true},\"label\":\"Population\",\"values\":[8872109,8895960,8924958,8958229,8993531,9029572,9080505,9148092,9219637,9298515,9378126,9449213,9519374,9600379,9696110,9799186,9923085,10057698,10175214,10278887,10353442]}],\"hovertemplate\":\"area=Sweden<br>%{xaxis.title.text}=%{x}<br>%{yaxis.title.text}=%{y}<extra></extra>\",\"legendgroup\":\"Sweden\",\"marker\":{\"color\":\"#35b779\",\"symbol\":\"circle\"},\"name\":\"Sweden\",\"showlegend\":true,\"type\":\"splom\"},{\"dimensions\":[{\"axis\":{\"matches\":true},\"label\":\"year_pc\",\"values\":[2000,2001,2002,2003,2004,2005,2006,2007,2008,2009,2010,2011,2012,2013,2014,2015,2016,2017,2018,2019,2020]},{\"axis\":{\"matches\":true},\"label\":\"total_kgs_CO2_9\",\"values\":[710640.0,558360.0,710640.0,761400.0,795240.0,812160.0,642960.0,727560.0,896760.0,896760.0,744480.0,1015200.0,896760.0,693720.0,947520.0,761400.0,642960.0,766545.8796,606219.4044,1099800.0,964440.0]},{\"axis\":{\"matches\":true},\"label\":\"Population\",\"values\":[7184250,7229854,7284753,7339001,7389625,7437115,7483934,7551117,7647675,7743831,7824909,7912398,7996861,8089346,8188649,8282396,8373338,8451840,8514329,8575280,8638167]}],\"hovertemplate\":\"area=Switzerland<br>%{xaxis.title.text}=%{x}<br>%{yaxis.title.text}=%{y}<extra></extra>\",\"legendgroup\":\"Switzerland\",\"marker\":{\"color\":\"#6ece58\",\"symbol\":\"circle\"},\"name\":\"Switzerland\",\"showlegend\":true,\"type\":\"splom\"},{\"dimensions\":[{\"axis\":{\"matches\":true},\"label\":\"year_pc\",\"values\":[2000,2001,2002,2003,2004,2005,2006,2007,2008,2009,2010,2011,2012,2013,2014,2015,2016,2017,2018,2019,2020]},{\"axis\":{\"matches\":true},\"label\":\"total_kgs_CO2_9\",\"values\":[841330.08,1013626.44,1330216.56,969431.4,967485.6,897149.16,1153656.36,1083387.6,801094.32,690995.88,1293077.16,964440.0,676800.0,338400.0,338400.0,253800.0,236880.0,169200.0,169200.0,169200.0,169200.0]},{\"axis\":{\"matches\":true},\"label\":\"Population\",\"values\":[16307654,16727948,17164021,17611356,18084007,18583557,19432009,20703005,21474059,21827220,22337563,22730733,22605577,21495821,20072232,19205178,18964252,18983373,19333463,20098251,20772595]}],\"hovertemplate\":\"area=Syrian Arab Republic<br>%{xaxis.title.text}=%{x}<br>%{yaxis.title.text}=%{y}<extra></extra>\",\"legendgroup\":\"Syrian Arab Republic\",\"marker\":{\"color\":\"#b5de2b\",\"symbol\":\"circle\"},\"name\":\"Syrian Arab Republic\",\"showlegend\":true,\"type\":\"splom\"},{\"dimensions\":[{\"axis\":{\"matches\":true},\"label\":\"year_pc\",\"values\":[2000,2001,2002,2003,2004,2005,2006,2007,2008,2009,2010,2011,2012,2013,2014,2015,2016,2017,2018,2019,2020]},{\"axis\":{\"matches\":true},\"label\":\"total_kgs_CO2_9\",\"values\":[0.0,0.0,0.0,0.0,0.0,0.0,0.0,0.0,0.0,0.0,0.0,0.0,0.0,0.0,0.0,0.0,0.0,0.0,0.0,0.0,0.0]},{\"axis\":{\"matches\":true},\"label\":\"Population\",\"values\":[6272998,6408810,6541755,6672492,6801204,6929145,7057417,7188391,7324627,7468596,7621779,7784819,7956382,8136610,8326348,8524063,8725318,8925525,9128132,9337003,9543207]}],\"hovertemplate\":\"area=Tajikistan<br>%{xaxis.title.text}=%{x}<br>%{yaxis.title.text}=%{y}<extra></extra>\",\"legendgroup\":\"Tajikistan\",\"marker\":{\"color\":\"#fde725\",\"symbol\":\"circle\"},\"name\":\"Tajikistan\",\"showlegend\":true,\"type\":\"splom\"},{\"dimensions\":[{\"axis\":{\"matches\":true},\"label\":\"year_pc\",\"values\":[2000,2001,2002,2003,2004,2005,2006,2007,2008,2009,2010,2011,2012,2013,2014,2015,2016,2017,2018,2019,2020]},{\"axis\":{\"matches\":true},\"label\":\"total_kgs_CO2_9\",\"values\":[23666850.0,26209080.0,30581208.0,34959258.0,34956297.0,40209957.0,43341426.0,42617250.0,43632450.0,47016450.0,48771297.82,52601367.39,47296746.21,51959751.18,48709451.16,51211169.43,52853941.37,53350335.25,54405843.94,62379882.25,62727347.99]},{\"axis\":{\"matches\":true},\"label\":\"Population\",\"values\":[34463704,35414469,36353531,37333918,38360879,39439505,40562052,41716497,42870884,43957933,45110527,46416031,47786137,49253643,50814552,52542823,54401802,56267032,58090443,59872579,61704518]}],\"hovertemplate\":\"area=United Republic of Tanzania<br>%{xaxis.title.text}=%{x}<br>%{yaxis.title.text}=%{y}<extra></extra>\",\"legendgroup\":\"United Republic of Tanzania\",\"marker\":{\"color\":\"#440154\",\"symbol\":\"circle\"},\"name\":\"United Republic of Tanzania\",\"showlegend\":true,\"type\":\"splom\"},{\"dimensions\":[{\"axis\":{\"matches\":true},\"label\":\"year_pc\",\"values\":[2000,2001,2002,2003,2004,2005,2006,2007,2008,2009,2010,2011,2012,2013,2014,2015,2016,2017,2018,2019,2020]},{\"axis\":{\"matches\":true},\"label\":\"total_kgs_CO2_9\",\"values\":[955525258.1,876944785.0,1062846314.0,1316283278.0,1149641921.0,878255611.2,842279224.3,1140162322.0,1298671081.0,1177741100.0,1214649576.0,1695221839.0,1739197731.0,1770451001.0,1827190969.0,1670434851.0,1665578811.0,1640351091.0,2377865567.0,2315978738.0,1325801624.0]},{\"axis\":{\"matches\":true},\"label\":\"Population\",\"values\":[63066603,63649892,64222580,64776956,65311166,65821360,66319525,66826754,67328239,67813654,68270489,68712846,69157023,69578602,69960943,70294397,70607037,70898202,71127802,71307763,71475664]}],\"hovertemplate\":\"area=Thailand<br>%{xaxis.title.text}=%{x}<br>%{yaxis.title.text}=%{y}<extra></extra>\",\"legendgroup\":\"Thailand\",\"marker\":{\"color\":\"#482878\",\"symbol\":\"circle\"},\"name\":\"Thailand\",\"showlegend\":true,\"type\":\"splom\"},{\"dimensions\":[{\"axis\":{\"matches\":true},\"label\":\"year_pc\",\"values\":[2002,2003,2004,2005,2006,2007,2008,2009,2010,2011,2012,2013,2014,2015,2016,2017,2018,2019,2020]},{\"axis\":{\"matches\":true},\"label\":\"total_kgs_CO2_9\",\"values\":[0.0,0.0,0.0,0.0,0.0,0.0,0.0,0.0,0.0,0.0,0.0,0.0,0.0,0.0,0.0,0.0,0.0,0.0,0.0]},{\"axis\":{\"matches\":true},\"label\":\"Population\",\"values\":[909639,926721,945989,969313,994564,1019362,1043076,1065540,1088486,1112976,1137676,1161555,1184830,1205813,1224562,1243235,1261845,1280438,1299995]}],\"hovertemplate\":\"area=Timor-Leste<br>%{xaxis.title.text}=%{x}<br>%{yaxis.title.text}=%{y}<extra></extra>\",\"legendgroup\":\"Timor-Leste\",\"marker\":{\"color\":\"#3e4989\",\"symbol\":\"circle\"},\"name\":\"Timor-Leste\",\"showlegend\":true,\"type\":\"splom\"},{\"dimensions\":[{\"axis\":{\"matches\":true},\"label\":\"year_pc\",\"values\":[2000,2001,2002,2003,2004,2005,2006,2007,2008,2009,2010,2011,2012,2013,2014,2015,2016,2017,2018,2019,2020]},{\"axis\":{\"matches\":true},\"label\":\"total_kgs_CO2_9\",\"values\":[0.0,0.0,0.0,0.0,0.0,0.0,0.0,0.0,0.0,0.0,0.0,0.0,0.0,0.0,0.0,0.0,0.0,0.0,0.0,0.0,0.0]},{\"axis\":{\"matches\":true},\"label\":\"Population\",\"values\":[5008035,5145426,5281538,5421001,5565218,5711597,5874240,6047537,6222482,6398624,6571855,6748672,6926635,7106229,7288383,7473229,7661354,7852795,8046679,8243094,8442580]}],\"hovertemplate\":\"area=Togo<br>%{xaxis.title.text}=%{x}<br>%{yaxis.title.text}=%{y}<extra></extra>\",\"legendgroup\":\"Togo\",\"marker\":{\"color\":\"#31688e\",\"symbol\":\"circle\"},\"name\":\"Togo\",\"showlegend\":true,\"type\":\"splom\"},{\"dimensions\":[{\"axis\":{\"matches\":true},\"label\":\"year_pc\",\"values\":[2000,2001,2002,2003,2004,2005,2006,2007,2008,2009,2010,2011,2012,2013,2014,2015,2016,2017,2018,2019,2020]},{\"axis\":{\"matches\":true},\"label\":\"total_kgs_CO2_9\",\"values\":[0.0,0.0,0.0,0.0,0.0,0.0,0.0,0.0,0.0,0.0,0.0,0.0,0.0,0.0,0.0,0.0,0.0,0.0,0.0,0.0,0.0]},{\"axis\":{\"matches\":true},\"label\":\"Population\",\"values\":[102603,103210,103804,104410,105036,105633,106190,106638,106932,107144,107383,107611,107502,107089,106626,106122,105707,105415,105150,104951,105254]}],\"hovertemplate\":\"area=Tonga<br>%{xaxis.title.text}=%{x}<br>%{yaxis.title.text}=%{y}<extra></extra>\",\"legendgroup\":\"Tonga\",\"marker\":{\"color\":\"#26828e\",\"symbol\":\"circle\"},\"name\":\"Tonga\",\"showlegend\":true,\"type\":\"splom\"},{\"dimensions\":[{\"axis\":{\"matches\":true},\"label\":\"year_pc\",\"values\":[2000,2001,2002,2003,2004,2005,2006,2007,2008,2009,2010,2011,2012,2013,2014,2015,2016,2017,2018,2019,2020]},{\"axis\":{\"matches\":true},\"label\":\"total_kgs_CO2_9\",\"values\":[24201454.32,18076295.88,23619203.28,15191706.6,9407520.0,7529400.0,15228000.0,14348160.0,0.0,0.0,0.0,0.0,0.0,0.0,0.0,0.0,0.0,0.0,0.0,0.0,0.0]},{\"axis\":{\"matches\":true},\"label\":\"Population\",\"values\":[1332203,1338567,1345964,1353548,1361172,1369075,1376919,1384861,1392803,1401191,1410296,1420020,1430377,1440729,1450661,1460177,1469330,1478607,1504709,1519955,1518147]}],\"hovertemplate\":\"area=Trinidad and Tobago<br>%{xaxis.title.text}=%{x}<br>%{yaxis.title.text}=%{y}<extra></extra>\",\"legendgroup\":\"Trinidad and Tobago\",\"marker\":{\"color\":\"#1f9e89\",\"symbol\":\"circle\"},\"name\":\"Trinidad and Tobago\",\"showlegend\":true,\"type\":\"splom\"},{\"dimensions\":[{\"axis\":{\"matches\":true},\"label\":\"year_pc\",\"values\":[2000,2001,2002,2003,2004,2005,2006,2007,2008,2009,2010,2011,2012,2013,2014,2015,2016,2017,2018,2019,2020]},{\"axis\":{\"matches\":true},\"label\":\"total_kgs_CO2_9\",\"values\":[17512.2,0.0,0.0,0.0,0.0,0.0,0.0,0.0,0.0,0.0,0.0,0.0,50760.0,50760.0,50760.0,118440.0,118440.0,118440.0,118440.0,118440.0,84600.0]},{\"axis\":{\"matches\":true},\"label\":\"Population\",\"values\":[9893316,9995123,10094561,10193798,10292225,10388344,10483558,10580395,10680380,10784504,10895063,11032528,11174383,11300284,11428948,11557779,11685667,11811443,11933041,12049314,12161723]}],\"hovertemplate\":\"area=Tunisia<br>%{xaxis.title.text}=%{x}<br>%{yaxis.title.text}=%{y}<extra></extra>\",\"legendgroup\":\"Tunisia\",\"marker\":{\"color\":\"#35b779\",\"symbol\":\"circle\"},\"name\":\"Tunisia\",\"showlegend\":true,\"type\":\"splom\"},{\"dimensions\":[{\"axis\":{\"matches\":true},\"label\":\"year_pc\",\"values\":[2000,2001,2002,2003,2004,2005,2006,2007,2008,2009,2010,2011,2012,2013,2014,2015,2016,2017,2018,2019,2020]},{\"axis\":{\"matches\":true},\"label\":\"total_kgs_CO2_9\",\"values\":[12909960.0,9153720.0,11894760.0,8933760.0,9525960.0,10101240.0,7732440.0,8138520.0,9915120.0,11471760.0,10304280.0,10152000.0,9390600.0,10676520.0,11268720.0,11099520.0,14263560.0,14517360.0,13536000.0,15058800.0,16074000.0]},{\"axis\":{\"matches\":true},\"label\":\"Population\",\"values\":[64113547,65072018,65988663,66867327,67785075,68704715,69601333,70468869,71320726,72225639,73195345,74173854,75277439,76576117,78112073,79646178,81019394,82089826,82809304,83481684,84135428]}],\"hovertemplate\":\"area=Turkey<br>%{xaxis.title.text}=%{x}<br>%{yaxis.title.text}=%{y}<extra></extra>\",\"legendgroup\":\"Turkey\",\"marker\":{\"color\":\"#6ece58\",\"symbol\":\"circle\"},\"name\":\"Turkey\",\"showlegend\":true,\"type\":\"splom\"},{\"dimensions\":[{\"axis\":{\"matches\":true},\"label\":\"year_pc\",\"values\":[2000,2001,2002,2003,2004,2005,2006,2007,2008,2009,2010,2011,2012,2013,2014,2015,2016,2017,2018,2019,2020]},{\"axis\":{\"matches\":true},\"label\":\"total_kgs_CO2_9\",\"values\":[162939.6,163701.0,163701.0,190350.0,167508.0,167508.0,167508.0,167508.0,167508.0,167508.0,50239.0332,50386.7448,50386.7448,50386.7448,167508.0,146584.2204,150772.2588,146584.2204,83762.46,62821.7604,62821.7604]},{\"axis\":{\"matches\":true},\"label\":\"Population\",\"values\":[4569132,4635094,4698968,4758988,4819792,4885775,4954029,5024894,5100083,5180957,5267970,5360811,5458682,5560095,5663152,5766431,5868561,5968383,6065066,6158420,6250438]}],\"hovertemplate\":\"area=Turkmenistan<br>%{xaxis.title.text}=%{x}<br>%{yaxis.title.text}=%{y}<extra></extra>\",\"legendgroup\":\"Turkmenistan\",\"marker\":{\"color\":\"#b5de2b\",\"symbol\":\"circle\"},\"name\":\"Turkmenistan\",\"showlegend\":true,\"type\":\"splom\"},{\"dimensions\":[{\"axis\":{\"matches\":true},\"label\":\"year_pc\",\"values\":[2000,2001,2002,2003,2004,2005,2006,2007,2008,2009,2010,2011,2012,2013,2014,2015,2016,2017,2018,2019,2020]},{\"axis\":{\"matches\":true},\"label\":\"total_kgs_CO2_9\",\"values\":[0.0,0.0,0.0,0.0,0.0,0.0,0.0,0.0,0.0,0.0,0.0,0.0,0.0,0.0,0.0,0.0,0.0,0.0,0.0,0.0,0.0]},{\"axis\":{\"matches\":true},\"label\":\"Population\",\"values\":[9638,9621,9609,9668,9791,9912,10030,10149,10272,10408,10550,10700,10854,10918,10899,10877,10852,10828,10865,10956,11069]}],\"hovertemplate\":\"area=Tuvalu<br>%{xaxis.title.text}=%{x}<br>%{yaxis.title.text}=%{y}<extra></extra>\",\"legendgroup\":\"Tuvalu\",\"marker\":{\"color\":\"#fde725\",\"symbol\":\"circle\"},\"name\":\"Tuvalu\",\"showlegend\":true,\"type\":\"splom\"},{\"dimensions\":[{\"axis\":{\"matches\":true},\"label\":\"year_pc\",\"values\":[2000,2001,2002,2003,2004,2005,2006,2007,2008,2009,2010,2011,2012,2013,2014,2015,2016,2017,2018,2019,2020]},{\"axis\":{\"matches\":true},\"label\":\"total_kgs_CO2_9\",\"values\":[25908157.8,26997535.08,32401800.0,37477800.0,41014080.0,41149440.0,43027560.0,41318640.0,48188160.0,57528000.0,58069440.0,63483840.0,65615760.0,80116200.0,81216000.0,91114200.0,91029600.0,93432240.0,96494760.0,96782400.0,94447440.0]},{\"axis\":{\"matches\":true},\"label\":\"Population\",\"values\":[24020697,24763325,25545090,26354736,27146084,27946588,28773227,29629804,30509862,31412520,32341728,33295738,34273295,35273570,36336539,37477356,38748299,40127085,41515395,42949080,44404611]}],\"hovertemplate\":\"area=Uganda<br>%{xaxis.title.text}=%{x}<br>%{yaxis.title.text}=%{y}<extra></extra>\",\"legendgroup\":\"Uganda\",\"marker\":{\"color\":\"#440154\",\"symbol\":\"circle\"},\"name\":\"Uganda\",\"showlegend\":true,\"type\":\"splom\"},{\"dimensions\":[{\"axis\":{\"matches\":true},\"label\":\"year_pc\",\"values\":[2000,2001,2002,2003,2004,2005,2006,2007,2008,2009,2010,2011,2012,2013,2014,2015,2016,2017,2018,2019,2020]},{\"axis\":{\"matches\":true},\"label\":\"total_kgs_CO2_9\",\"values\":[11336400.0,12267000.0,11014920.0,11336400.0,12859200.0,13282200.0,14720400.0,10490400.0,7969320.0,6175800.0,11031840.0,14551200.0,13705200.0,7952400.0,13536000.0,9199348.164,12588639.05,12876530.31,11054243.77,9392631.415,7375556.93]},{\"axis\":{\"matches\":true},\"label\":\"Population\",\"values\":[49176500,48662400,48202470,47812949,47451626,47105171,46787786,46509355,46258189,46053331,45870741,45706086,45593342,45489648,45272155,45154036,45004673,44831135,44622518,44386203,44132049]}],\"hovertemplate\":\"area=Ukraine<br>%{xaxis.title.text}=%{x}<br>%{yaxis.title.text}=%{y}<extra></extra>\",\"legendgroup\":\"Ukraine\",\"marker\":{\"color\":\"#482878\",\"symbol\":\"circle\"},\"name\":\"Ukraine\",\"showlegend\":true,\"type\":\"splom\"},{\"dimensions\":[{\"axis\":{\"matches\":true},\"label\":\"year_pc\",\"values\":[2000,2001,2002,2003,2004,2005,2006,2007,2008,2009,2010,2011,2012,2013,2014,2015,2016,2017,2018,2019,2020]},{\"axis\":{\"matches\":true},\"label\":\"total_kgs_CO2_9\",\"values\":[0.0,0.0,0.0,0.0,0.0,0.0,0.0,0.0,0.0,0.0,0.0,0.0,0.0,0.0,0.0,0.0,0.0,0.0,0.0,0.0,0.0]},{\"axis\":{\"matches\":true},\"label\":\"Population\",\"values\":[3275333,3454198,3633655,3813443,3993339,4280993,4898954,5872624,6988685,7992644,8481771,8575205,8664969,8751847,8835951,8916899,8994263,9068296,9140169,9211657,9287289]}],\"hovertemplate\":\"area=United Arab Emirates<br>%{xaxis.title.text}=%{x}<br>%{yaxis.title.text}=%{y}<extra></extra>\",\"legendgroup\":\"United Arab Emirates\",\"marker\":{\"color\":\"#3e4989\",\"symbol\":\"circle\"},\"name\":\"United Arab Emirates\",\"showlegend\":true,\"type\":\"splom\"},{\"dimensions\":[{\"axis\":{\"matches\":true},\"label\":\"year_pc\",\"values\":[2000,2001,2002,2003,2004,2005,2006,2007,2008,2009,2010,2011,2012,2013,2014,2015,2016,2017,2018,2019,2020]},{\"axis\":{\"matches\":true},\"label\":\"total_kgs_CO2_9\",\"values\":[5668200.0,5583600.0,6260400.0,6175800.0,6091200.0,5668200.0,4906800.0,4991400.0,5076000.0,5499000.0,4653000.0,5499000.0,5076000.0,5499000.0,5922000.0,4230000.0,3891600.0,5499000.0,4568400.0,4771440.0,3637800.0]},{\"axis\":{\"matches\":true},\"label\":\"Population\",\"values\":[59350446,59581124,59836028,60117709,60462626,60880638,61330963,61811468,62301072,62775390,63269151,63764312,64208822,64639915,65116534,65633375,66131384,66581314,66986767,67366625,67614237]}],\"hovertemplate\":\"area=United Kingdom of Great Britain and Northern Ireland<br>%{xaxis.title.text}=%{x}<br>%{yaxis.title.text}=%{y}<extra></extra>\",\"legendgroup\":\"United Kingdom of Great Britain and Northern Ireland\",\"marker\":{\"color\":\"#31688e\",\"symbol\":\"circle\"},\"name\":\"United Kingdom of Great Britain and Northern Ireland\",\"showlegend\":true,\"type\":\"splom\"},{\"dimensions\":[{\"axis\":{\"matches\":true},\"label\":\"year_pc\",\"values\":[2000,2001,2002,2003,2004,2005,2006,2007,2008,2009,2010,2011,2012,2013,2014,2015,2016,2017,2018,2019,2020]},{\"axis\":{\"matches\":true},\"label\":\"total_kgs_CO2_9\",\"values\":[651876840.0,620879400.0,638171640.0,611302680.0,525636720.0,484419600.0,538546680.0,507051792.0,456671138.4,503123814.0,457272712.1,484717358.2,528899572.8,511253197.2,503627014.8,528810742.8,532336498.6,549460249.2,569053101.6,529185859.2,586876460.4]},{\"axis\":{\"matches\":true},\"label\":\"Population\",\"values\":[282461167,285268282,287923095,290403882,293098826,295807308,298667484,301515403,304374614,307048531,309600984,311855960,314150104,316332137,318657945,321009854,323341682,325390926,327105605,328595756,331766087]}],\"hovertemplate\":\"area=United States of America<br>%{xaxis.title.text}=%{x}<br>%{yaxis.title.text}=%{y}<extra></extra>\",\"legendgroup\":\"United States of America\",\"marker\":{\"color\":\"#26828e\",\"symbol\":\"circle\"},\"name\":\"United States of America\",\"showlegend\":true,\"type\":\"splom\"},{\"dimensions\":[{\"axis\":{\"matches\":true},\"label\":\"year_pc\",\"values\":[2000,2001,2002,2003,2004,2005,2006,2007,2008,2009,2010,2011,2012,2013,2014,2015,2016,2017,2018,2019,2020]},{\"axis\":{\"matches\":true},\"label\":\"total_kgs_CO2_9\",\"values\":[2614140.0,3054060.0,3226644.0,1999944.0,2642904.0,2947464.0,2481216.48,4999014.0,5695272.0,5050620.0,5334876.0,7140240.0,6260400.0,6260400.0,8189280.0,7529400.0,6306084.0,5967684.0,6116580.0,7138548.0,6887789.37]},{\"axis\":{\"matches\":true},\"label\":\"Population\",\"values\":[3292224,3300939,3306441,3310202,3313801,3317665,3322282,3328651,3336126,3344156,3352651,3361637,3371133,3381180,3391662,3402818,3413766,3422200,3427042,3428409,3429086]}],\"hovertemplate\":\"area=Uruguay<br>%{xaxis.title.text}=%{x}<br>%{yaxis.title.text}=%{y}<extra></extra>\",\"legendgroup\":\"Uruguay\",\"marker\":{\"color\":\"#1f9e89\",\"symbol\":\"circle\"},\"name\":\"Uruguay\",\"showlegend\":true,\"type\":\"splom\"},{\"dimensions\":[{\"axis\":{\"matches\":true},\"label\":\"year_pc\",\"values\":[2000,2001,2002,2003,2004,2005,2006,2007,2008,2009,2010,2011,2012,2013,2014,2015,2016,2017,2018,2019,2020]},{\"axis\":{\"matches\":true},\"label\":\"total_kgs_CO2_9\",\"values\":[52790.4,29102.4,0.0,0.0,0.0,0.0,0.0,0.0,0.0,0.0,0.0,0.0,0.0,0.0,0.0,0.0,0.0,0.0,0.0,0.0,0.0]},{\"axis\":{\"matches\":true},\"label\":\"Population\",\"values\":[24650400,24964450,25271850,25567650,25864350,26167000,26488250,26868000,27302800,27767400,28562400,29339400,29774500,30243200,30757700,31298900,31847900,32388600,32956100,33580350,34232050]}],\"hovertemplate\":\"area=Uzbekistan<br>%{xaxis.title.text}=%{x}<br>%{yaxis.title.text}=%{y}<extra></extra>\",\"legendgroup\":\"Uzbekistan\",\"marker\":{\"color\":\"#35b779\",\"symbol\":\"circle\"},\"name\":\"Uzbekistan\",\"showlegend\":true,\"type\":\"splom\"},{\"dimensions\":[{\"axis\":{\"matches\":true},\"label\":\"year_pc\",\"values\":[2000,2001,2002,2003,2004,2005,2006,2007,2008,2009,2010,2011,2012,2013,2014,2015,2016,2017,2018,2019,2020]},{\"axis\":{\"matches\":true},\"label\":\"total_kgs_CO2_9\",\"values\":[0.0,0.0,0.0,0.0,0.0,0.0,0.0,0.0,0.0,0.0,0.0,0.0,0.0,0.0,0.0,0.0,0.0,0.0,0.0,0.0,0.0]},{\"axis\":{\"matches\":true},\"label\":\"Population\",\"values\":[192074,197034,202125,207258,212422,217632,222923,228345,233952,239689,245453,251294,257313,263534,269927,276438,283218,290239,297298,304404,311685]}],\"hovertemplate\":\"area=Vanuatu<br>%{xaxis.title.text}=%{x}<br>%{yaxis.title.text}=%{y}<extra></extra>\",\"legendgroup\":\"Vanuatu\",\"marker\":{\"color\":\"#6ece58\",\"symbol\":\"circle\"},\"name\":\"Vanuatu\",\"showlegend\":true,\"type\":\"splom\"},{\"dimensions\":[{\"axis\":{\"matches\":true},\"label\":\"year_pc\",\"values\":[2000,2001,2002,2003,2004,2005,2006,2007,2008,2009,2010,2011,2012,2013,2014,2015,2016,2017,2018,2019,2020]},{\"axis\":{\"matches\":true},\"label\":\"total_kgs_CO2_9\",\"values\":[154505369.2,154454541.5,149239679.0,173291137.6,154527923.6,168931479.6,163810150.9,170034240.6,153484687.0,143657872.5,119902954.0,117741457.8,128072369.8,124339784.0,114685282.8,97385496.48,64723262.49,69999266.19,57279107.82,54688355.82,58121722.8]},{\"axis\":{\"matches\":true},\"label\":\"Population\",\"values\":[24427729,24880203,25330929,25782029,26226927,26668785,27102081,27525097,27933833,28327892,28715022,29096159,29470426,29838021,30193258,30529716,30741464,30563433,29825653,28971683,28490453]}],\"hovertemplate\":\"area=Venezuela (Bolivarian Republic of)<br>%{xaxis.title.text}=%{x}<br>%{yaxis.title.text}=%{y}<extra></extra>\",\"legendgroup\":\"Venezuela (Bolivarian Republic of)\",\"marker\":{\"color\":\"#b5de2b\",\"symbol\":\"circle\"},\"name\":\"Venezuela (Bolivarian Republic of)\",\"showlegend\":true,\"type\":\"splom\"},{\"dimensions\":[{\"axis\":{\"matches\":true},\"label\":\"year_pc\",\"values\":[2000,2001,2002,2003,2004,2005,2006,2007,2008,2009,2010,2011,2012,2013,2014,2015,2016,2017,2018,2019,2020]},{\"axis\":{\"matches\":true},\"label\":\"total_kgs_CO2_9\",\"values\":[260979156.0,253832148.0,296015400.0,292541724.0,270166716.0,258008004.0,287293140.0,300781764.0,279442260.0,269506836.0,278870364.0,304214358.2,330366925.4,350727709.0,345723855.8,319571897.8,284140013.4,319050254.2,312008251.7,273183856.6,202356245.9]},{\"axis\":{\"matches\":true},\"label\":\"Population\",\"values\":[79001142,79817777,80642308,81475825,82311227,83142095,83951800,84762269,85597241,86482923,87411012,88349117,89301326,90267739,91235504,92191398,93126529,94033048,94914330,95776716,96648685]}],\"hovertemplate\":\"area=Viet Nam<br>%{xaxis.title.text}=%{x}<br>%{yaxis.title.text}=%{y}<extra></extra>\",\"legendgroup\":\"Viet Nam\",\"marker\":{\"color\":\"#fde725\",\"symbol\":\"circle\"},\"name\":\"Viet Nam\",\"showlegend\":true,\"type\":\"splom\"},{\"dimensions\":[{\"axis\":{\"matches\":true},\"label\":\"year_pc\",\"values\":[2000,2001,2002,2003,2004,2005,2006,2007,2008,2009,2010,2011,2012,2013,2014,2015,2016,2017,2018,2019,2020]},{\"axis\":{\"matches\":true},\"label\":\"total_kgs_CO2_9\",\"values\":[0.0,0.0,0.0,0.0,0.0,0.0,0.0,0.0,0.0,0.0,0.0,0.0,0.0,0.0,0.0,0.0,0.0,0.0,0.0,0.0,0.0]},{\"axis\":{\"matches\":true},\"label\":\"Population\",\"values\":[2922153,2997784,3075373,3154969,3236626,3320396,3406334,3494496,3591977,3689099,3786161,3882986,3979998,4076708,4173398,4270092,4367088,4454805,4569087,4685306,4803269]}],\"hovertemplate\":\"area=Palestine<br>%{xaxis.title.text}=%{x}<br>%{yaxis.title.text}=%{y}<extra></extra>\",\"legendgroup\":\"Palestine\",\"marker\":{\"color\":\"#440154\",\"symbol\":\"circle\"},\"name\":\"Palestine\",\"showlegend\":true,\"type\":\"splom\"},{\"dimensions\":[{\"axis\":{\"matches\":true},\"label\":\"year_pc\",\"values\":[2000,2001,2002,2003,2004,2005,2006,2007,2008,2009,2010,2011,2012,2013,2014,2015,2016,2017,2018,2019,2020]},{\"axis\":{\"matches\":true},\"label\":\"total_kgs_CO2_9\",\"values\":[0.0,0.0,0.0,0.0,0.0,0.0,0.0,0.0,0.0,0.0,0.0,0.0,0.0,0.0,0.0,0.0,0.0,0.0,0.0,0.0,0.0]},{\"axis\":{\"matches\":true},\"label\":\"Population\",\"values\":[18628700,19143457,19660653,20188799,20733406,21320671,21966298,22641538,23329004,24029589,24743946,25475610,26223391,26984002,27753304,28516545,29274002,30034389,30790513,31546691,32284046]}],\"hovertemplate\":\"area=Yemen<br>%{xaxis.title.text}=%{x}<br>%{yaxis.title.text}=%{y}<extra></extra>\",\"legendgroup\":\"Yemen\",\"marker\":{\"color\":\"#482878\",\"symbol\":\"circle\"},\"name\":\"Yemen\",\"showlegend\":true,\"type\":\"splom\"},{\"dimensions\":[{\"axis\":{\"matches\":true},\"label\":\"year_pc\",\"values\":[2000,2001,2002,2003,2004,2005,2006,2007,2008,2009,2010,2011,2012,2013,2014,2015,2016,2017,2018,2019,2020]},{\"axis\":{\"matches\":true},\"label\":\"total_kgs_CO2_9\",\"values\":[27951840.0,34939800.0,40168080.0,40168080.0,41115600.0,40269600.0,42858360.0,42519960.0,35870400.0,55971360.0,64634400.0,73043640.0,74871000.0,79997760.0,80065440.0,72417600.0,71283960.0,76509659.7,80708400.0,81639000.0,84062324.7]},{\"axis\":{\"matches\":true},\"label\":\"Population\",\"values\":[9891136,10191964,10508294,10837973,11188040,11564870,11971567,12402073,12852966,13318087,13792086,14265814,14744658,15234976,15737793,16248230,16767761,17298054,17835893,18380477,18927715]}],\"hovertemplate\":\"area=Zambia<br>%{xaxis.title.text}=%{x}<br>%{yaxis.title.text}=%{y}<extra></extra>\",\"legendgroup\":\"Zambia\",\"marker\":{\"color\":\"#3e4989\",\"symbol\":\"circle\"},\"name\":\"Zambia\",\"showlegend\":true,\"type\":\"splom\"},{\"dimensions\":[{\"axis\":{\"matches\":true},\"label\":\"year_pc\",\"values\":[2000,2001,2002,2003,2004,2005,2006,2007,2008,2009,2010,2011,2012,2013,2014,2015,2016,2017,2018,2019,2020]},{\"axis\":{\"matches\":true},\"label\":\"total_kgs_CO2_9\",\"values\":[74236500.0,80962200.0,64591473.96,79287120.0,72206100.0,61710793.2,64495385.28,50830201.08,45382824.0,41086836.0,47147598.95,53660514.38,68957906.35,69453803.97,67950720.0,59101560.0,61165800.0,54443405.83,62907162.07,62314043.31,62145496.93]},{\"axis\":{\"matches\":true},\"label\":\"Population\",\"values\":[11834676,11910978,11984644,12075828,12160881,12224753,12330490,12450568,12550347,12679810,12839771,13025785,13265331,13555422,13855753,14154937,14452704,14751101,15052184,15354608,15669666]}],\"hovertemplate\":\"area=Zimbabwe<br>%{xaxis.title.text}=%{x}<br>%{yaxis.title.text}=%{y}<extra></extra>\",\"legendgroup\":\"Zimbabwe\",\"marker\":{\"color\":\"#31688e\",\"symbol\":\"circle\"},\"name\":\"Zimbabwe\",\"showlegend\":true,\"type\":\"splom\"},{\"dimensions\":[{\"axis\":{\"matches\":true},\"label\":\"year_pc\",\"values\":[2000,2001,2002,2003,2004,2005,2006,2007,2008,2009,2010,2011,2012,2013,2014,2015,2016,2017,2018,2019,2020]},{\"axis\":{\"matches\":true},\"label\":\"total_kgs_CO2_9\",\"values\":[52701231.6,40117133.88,36458048.52,31527036.0,21117006.0,16500587.04,12660508.44,13754555.64,13459893.84,11764002.24,12562812.36,12158035.2,9940787.64,9198354.96,9342699.48,11419494.12,9838049.4,8624208.6,10657417.32,9870231.24,9116428.32]},{\"axis\":{\"matches\":true},\"label\":\"Population\",\"values\":[21194731,22333125,22469616,22593681,22703099,22796306,22874975,22942308,22998321,23044082,23083083,23143071,23234058,23330334,23422513,23512136,23594471,23665024,23726185,23777737,23821464]}],\"hovertemplate\":\"area=China, Taiwan Province of<br>%{xaxis.title.text}=%{x}<br>%{yaxis.title.text}=%{y}<extra></extra>\",\"legendgroup\":\"China, Taiwan Province of\",\"marker\":{\"color\":\"#26828e\",\"symbol\":\"circle\"},\"name\":\"China, Taiwan Province of\",\"showlegend\":true,\"type\":\"splom\"},{\"dimensions\":[{\"axis\":{\"matches\":true},\"label\":\"year_pc\",\"values\":[2000,2001,2002,2003,2004,2005,2006,2007,2008,2009,2010,2011,2012,2013,2014,2015,2016,2017,2018,2019,2020]},{\"axis\":{\"matches\":true},\"label\":\"total_kgs_CO2_9\",\"values\":[0.0,0.0,0.0,0.0,0.0,0.0,0.0,0.0,0.0,0.0,0.0,0.0,0.0,0.0,0.0,0.0,0.0,0.0,0.0,0.0,0.0]},{\"axis\":{\"matches\":true},\"label\":\"Population\",\"values\":[17930,18025,18278,18608,18904,19074,19092,19001,18818,18602,18391,18195,18011,17833,17691,17586,17524,17507,17518,17548,17564]}],\"hovertemplate\":\"area=Cook Islands<br>%{xaxis.title.text}=%{x}<br>%{yaxis.title.text}=%{y}<extra></extra>\",\"legendgroup\":\"Cook Islands\",\"marker\":{\"color\":\"#1f9e89\",\"symbol\":\"circle\"},\"name\":\"Cook Islands\",\"showlegend\":true,\"type\":\"splom\"},{\"dimensions\":[{\"axis\":{\"matches\":true},\"label\":\"year_pc\",\"values\":[2000,2001,2002,2003,2004,2005,2006,2007,2008,2009,2010,2011,2012,2013,2014,2015,2016,2017,2018,2019,2020]},{\"axis\":{\"matches\":true},\"label\":\"total_kgs_CO2_9\",\"values\":[104904.0,89676.0,90522.0,103212.0,90522.0,90522.0,117881.64,0.0,0.0,0.0,0.0,0.0,0.0,0.0,0.0,0.0,0.0,0.0,0.0,0.0,0.0]},{\"axis\":{\"matches\":true},\"label\":\"Population\",\"values\":[162018,168614,176638,184792,193167,199206,205954,213031,219266,224469,229040,237549,239648,244118,252338,259865,269352,268700,276128,281678,286032]}],\"hovertemplate\":\"area=French Guyana<br>%{xaxis.title.text}=%{x}<br>%{yaxis.title.text}=%{y}<extra></extra>\",\"legendgroup\":\"French Guyana\",\"marker\":{\"color\":\"#35b779\",\"symbol\":\"circle\"},\"name\":\"French Guyana\",\"showlegend\":true,\"type\":\"splom\"},{\"dimensions\":[{\"axis\":{\"matches\":true},\"label\":\"year_pc\",\"values\":[2000,2001,2002,2003,2004,2005,2006,2007,2008,2009,2010,2011,2012,2013,2014,2015,2016,2017,2018,2019,2020]},{\"axis\":{\"matches\":true},\"label\":\"total_kgs_CO2_9\",\"values\":[13171069.44,10417525.56,13174131.96,11267332.56,15793178.76,15637853.16,13743879.12,0.0,0.0,0.0,0.0,0.0,0.0,0.0,0.0,0.0,0.0,0.0,0.0,0.0,0.0]},{\"axis\":{\"matches\":true},\"label\":\"Population\",\"values\":[422051,420238,416136,410860,406063,402904,401813,402895,403965,405448,406071,405640,404448,402829,401314,400255,399763,399672,399848,400056,400124]}],\"hovertemplate\":\"area=Guadeloupe<br>%{xaxis.title.text}=%{x}<br>%{yaxis.title.text}=%{y}<extra></extra>\",\"legendgroup\":\"Guadeloupe\",\"marker\":{\"color\":\"#6ece58\",\"symbol\":\"circle\"},\"name\":\"Guadeloupe\",\"showlegend\":true,\"type\":\"splom\"},{\"dimensions\":[{\"axis\":{\"matches\":true},\"label\":\"year_pc\",\"values\":[2000,2001,2002,2003,2004,2005,2006,2007,2008,2009,2010,2011,2012,2013,2014,2015,2016,2017,2018,2019,2020]},{\"axis\":{\"matches\":true},\"label\":\"total_kgs_CO2_9\",\"values\":[4036655.16,3552675.48,4169646.36,3164276.88,3888080.64,3674076.48,2861188.92,0.0,0.0,0.0,0.0,0.0,0.0,0.0,0.0,0.0,0.0,0.0,0.0,0.0,0.0]},{\"axis\":{\"matches\":true},\"label\":\"Population\",\"values\":[387004,389987,392500,394534,396103,397190,397847,398046,397668,396565,394663,391878,388357,384576,381138,378478,376791,375948,375673,375554,375265]}],\"hovertemplate\":\"area=Martinique<br>%{xaxis.title.text}=%{x}<br>%{yaxis.title.text}=%{y}<extra></extra>\",\"legendgroup\":\"Martinique\",\"marker\":{\"color\":\"#b5de2b\",\"symbol\":\"circle\"},\"name\":\"Martinique\",\"showlegend\":true,\"type\":\"splom\"},{\"dimensions\":[{\"axis\":{\"matches\":true},\"label\":\"year_pc\",\"values\":[2000,2001,2002,2003,2004,2005,2006,2007,2008,2009,2010,2011,2012,2013,2014,2015,2016,2017,2018,2019,2020]},{\"axis\":{\"matches\":true},\"label\":\"total_kgs_CO2_9\",\"values\":[0.0,0.0,0.0,0.0,0.0,0.0,0.0,0.0,0.0,0.0,0.0,0.0,0.0,0.0,0.0,0.0,0.0,0.0,0.0,0.0,0.0]},{\"axis\":{\"matches\":true},\"label\":\"Population\",\"values\":[1899,1854,1791,1755,1715,1683,1661,1643,1635,1628,1618,1620,1610,1612,1609,1619,1614,1609,1620,1615,1626]}],\"hovertemplate\":\"area=Niue<br>%{xaxis.title.text}=%{x}<br>%{yaxis.title.text}=%{y}<extra></extra>\",\"legendgroup\":\"Niue\",\"marker\":{\"color\":\"#fde725\",\"symbol\":\"circle\"},\"name\":\"Niue\",\"showlegend\":true,\"type\":\"splom\"},{\"dimensions\":[{\"axis\":{\"matches\":true},\"label\":\"year_pc\",\"values\":[2000,2001,2002,2003,2004,2005,2006,2007,2008,2009,2010,2011,2012,2013,2014,2015,2016,2017,2018,2019,2020]},{\"axis\":{\"matches\":true},\"label\":\"total_kgs_CO2_9\",\"values\":[32333680.08,32172821.64,32056496.64,33616486.8,34548778.8,31808754.0,32981496.12,0.0,0.0,0.0,0.0,0.0,0.0,0.0,0.0,0.0,0.0,0.0,0.0,0.0,0.0]},{\"axis\":{\"matches\":true},\"label\":\"Population\",\"values\":[736710,748658,760258,771384,781864,791598,800540,808730,816318,823522,830519,837335,843984,850514,856961,863363,869743,876134,882526,888927,895312]}],\"hovertemplate\":\"area=Reunion<br>%{xaxis.title.text}=%{x}<br>%{yaxis.title.text}=%{y}<extra></extra>\",\"legendgroup\":\"Reunion\",\"marker\":{\"color\":\"#440154\",\"symbol\":\"circle\"},\"name\":\"Reunion\",\"showlegend\":true,\"type\":\"splom\"},{\"dimensions\":[{\"axis\":{\"matches\":true},\"label\":\"year_pc\",\"values\":[2000,2001,2002,2003,2004,2005]},{\"axis\":{\"matches\":true},\"label\":\"total_kgs_CO2_9\",\"values\":[651778.5348,1100329.596,1277948.65,1058653.606,1609846.463,1866446.046]},{\"axis\":{\"matches\":true},\"label\":\"Population\",\"values\":[8121296,8110822,8106350,8092858,8076510,8055030]}],\"hovertemplate\":\"area=Serbia and Montenegro<br>%{xaxis.title.text}=%{x}<br>%{yaxis.title.text}=%{y}<extra></extra>\",\"legendgroup\":\"Serbia and Montenegro\",\"marker\":{\"color\":\"#482878\",\"symbol\":\"circle\"},\"name\":\"Serbia and Montenegro\",\"showlegend\":true,\"type\":\"splom\"},{\"dimensions\":[{\"axis\":{\"matches\":true},\"label\":\"year_pc\",\"values\":[2000,2001,2002,2003,2004,2005,2006,2007,2008,2009,2010,2011]},{\"axis\":{\"matches\":true},\"label\":\"total_kgs_CO2_9\",\"values\":[88606334.52,97717906.8,106325280.0,114852960.0,123076080.0,126527760.0,122957640.0,130825440.0,130341528.0,131750964.0,118372320.0,108206784.0]},{\"axis\":{\"matches\":true},\"label\":\"Population\",\"values\":[26298773,26947253,27570318,28188977,28831550,29540577,30332968,31191163,32065241,32948155,33739933,34419624]}],\"hovertemplate\":\"area=Sudan (former)<br>%{xaxis.title.text}=%{x}<br>%{yaxis.title.text}=%{y}<extra></extra>\",\"legendgroup\":\"Sudan (former)\",\"marker\":{\"color\":\"#3e4989\",\"symbol\":\"circle\"},\"name\":\"Sudan (former)\",\"showlegend\":true,\"type\":\"splom\"}],                        {\"template\":{\"data\":{\"bar\":[{\"error_x\":{\"color\":\"#2a3f5f\"},\"error_y\":{\"color\":\"#2a3f5f\"},\"marker\":{\"line\":{\"color\":\"#E5ECF6\",\"width\":0.5},\"pattern\":{\"fillmode\":\"overlay\",\"size\":10,\"solidity\":0.2}},\"type\":\"bar\"}],\"barpolar\":[{\"marker\":{\"line\":{\"color\":\"#E5ECF6\",\"width\":0.5},\"pattern\":{\"fillmode\":\"overlay\",\"size\":10,\"solidity\":0.2}},\"type\":\"barpolar\"}],\"carpet\":[{\"aaxis\":{\"endlinecolor\":\"#2a3f5f\",\"gridcolor\":\"white\",\"linecolor\":\"white\",\"minorgridcolor\":\"white\",\"startlinecolor\":\"#2a3f5f\"},\"baxis\":{\"endlinecolor\":\"#2a3f5f\",\"gridcolor\":\"white\",\"linecolor\":\"white\",\"minorgridcolor\":\"white\",\"startlinecolor\":\"#2a3f5f\"},\"type\":\"carpet\"}],\"choropleth\":[{\"colorbar\":{\"outlinewidth\":0,\"ticks\":\"\"},\"type\":\"choropleth\"}],\"contour\":[{\"colorbar\":{\"outlinewidth\":0,\"ticks\":\"\"},\"colorscale\":[[0.0,\"#0d0887\"],[0.1111111111111111,\"#46039f\"],[0.2222222222222222,\"#7201a8\"],[0.3333333333333333,\"#9c179e\"],[0.4444444444444444,\"#bd3786\"],[0.5555555555555556,\"#d8576b\"],[0.6666666666666666,\"#ed7953\"],[0.7777777777777778,\"#fb9f3a\"],[0.8888888888888888,\"#fdca26\"],[1.0,\"#f0f921\"]],\"type\":\"contour\"}],\"contourcarpet\":[{\"colorbar\":{\"outlinewidth\":0,\"ticks\":\"\"},\"type\":\"contourcarpet\"}],\"heatmap\":[{\"colorbar\":{\"outlinewidth\":0,\"ticks\":\"\"},\"colorscale\":[[0.0,\"#0d0887\"],[0.1111111111111111,\"#46039f\"],[0.2222222222222222,\"#7201a8\"],[0.3333333333333333,\"#9c179e\"],[0.4444444444444444,\"#bd3786\"],[0.5555555555555556,\"#d8576b\"],[0.6666666666666666,\"#ed7953\"],[0.7777777777777778,\"#fb9f3a\"],[0.8888888888888888,\"#fdca26\"],[1.0,\"#f0f921\"]],\"type\":\"heatmap\"}],\"heatmapgl\":[{\"colorbar\":{\"outlinewidth\":0,\"ticks\":\"\"},\"colorscale\":[[0.0,\"#0d0887\"],[0.1111111111111111,\"#46039f\"],[0.2222222222222222,\"#7201a8\"],[0.3333333333333333,\"#9c179e\"],[0.4444444444444444,\"#bd3786\"],[0.5555555555555556,\"#d8576b\"],[0.6666666666666666,\"#ed7953\"],[0.7777777777777778,\"#fb9f3a\"],[0.8888888888888888,\"#fdca26\"],[1.0,\"#f0f921\"]],\"type\":\"heatmapgl\"}],\"histogram\":[{\"marker\":{\"pattern\":{\"fillmode\":\"overlay\",\"size\":10,\"solidity\":0.2}},\"type\":\"histogram\"}],\"histogram2d\":[{\"colorbar\":{\"outlinewidth\":0,\"ticks\":\"\"},\"colorscale\":[[0.0,\"#0d0887\"],[0.1111111111111111,\"#46039f\"],[0.2222222222222222,\"#7201a8\"],[0.3333333333333333,\"#9c179e\"],[0.4444444444444444,\"#bd3786\"],[0.5555555555555556,\"#d8576b\"],[0.6666666666666666,\"#ed7953\"],[0.7777777777777778,\"#fb9f3a\"],[0.8888888888888888,\"#fdca26\"],[1.0,\"#f0f921\"]],\"type\":\"histogram2d\"}],\"histogram2dcontour\":[{\"colorbar\":{\"outlinewidth\":0,\"ticks\":\"\"},\"colorscale\":[[0.0,\"#0d0887\"],[0.1111111111111111,\"#46039f\"],[0.2222222222222222,\"#7201a8\"],[0.3333333333333333,\"#9c179e\"],[0.4444444444444444,\"#bd3786\"],[0.5555555555555556,\"#d8576b\"],[0.6666666666666666,\"#ed7953\"],[0.7777777777777778,\"#fb9f3a\"],[0.8888888888888888,\"#fdca26\"],[1.0,\"#f0f921\"]],\"type\":\"histogram2dcontour\"}],\"mesh3d\":[{\"colorbar\":{\"outlinewidth\":0,\"ticks\":\"\"},\"type\":\"mesh3d\"}],\"parcoords\":[{\"line\":{\"colorbar\":{\"outlinewidth\":0,\"ticks\":\"\"}},\"type\":\"parcoords\"}],\"pie\":[{\"automargin\":true,\"type\":\"pie\"}],\"scatter\":[{\"marker\":{\"colorbar\":{\"outlinewidth\":0,\"ticks\":\"\"}},\"type\":\"scatter\"}],\"scatter3d\":[{\"line\":{\"colorbar\":{\"outlinewidth\":0,\"ticks\":\"\"}},\"marker\":{\"colorbar\":{\"outlinewidth\":0,\"ticks\":\"\"}},\"type\":\"scatter3d\"}],\"scattercarpet\":[{\"marker\":{\"colorbar\":{\"outlinewidth\":0,\"ticks\":\"\"}},\"type\":\"scattercarpet\"}],\"scattergeo\":[{\"marker\":{\"colorbar\":{\"outlinewidth\":0,\"ticks\":\"\"}},\"type\":\"scattergeo\"}],\"scattergl\":[{\"marker\":{\"colorbar\":{\"outlinewidth\":0,\"ticks\":\"\"}},\"type\":\"scattergl\"}],\"scattermapbox\":[{\"marker\":{\"colorbar\":{\"outlinewidth\":0,\"ticks\":\"\"}},\"type\":\"scattermapbox\"}],\"scatterpolar\":[{\"marker\":{\"colorbar\":{\"outlinewidth\":0,\"ticks\":\"\"}},\"type\":\"scatterpolar\"}],\"scatterpolargl\":[{\"marker\":{\"colorbar\":{\"outlinewidth\":0,\"ticks\":\"\"}},\"type\":\"scatterpolargl\"}],\"scatterternary\":[{\"marker\":{\"colorbar\":{\"outlinewidth\":0,\"ticks\":\"\"}},\"type\":\"scatterternary\"}],\"surface\":[{\"colorbar\":{\"outlinewidth\":0,\"ticks\":\"\"},\"colorscale\":[[0.0,\"#0d0887\"],[0.1111111111111111,\"#46039f\"],[0.2222222222222222,\"#7201a8\"],[0.3333333333333333,\"#9c179e\"],[0.4444444444444444,\"#bd3786\"],[0.5555555555555556,\"#d8576b\"],[0.6666666666666666,\"#ed7953\"],[0.7777777777777778,\"#fb9f3a\"],[0.8888888888888888,\"#fdca26\"],[1.0,\"#f0f921\"]],\"type\":\"surface\"}],\"table\":[{\"cells\":{\"fill\":{\"color\":\"#EBF0F8\"},\"line\":{\"color\":\"white\"}},\"header\":{\"fill\":{\"color\":\"#C8D4E3\"},\"line\":{\"color\":\"white\"}},\"type\":\"table\"}]},\"layout\":{\"annotationdefaults\":{\"arrowcolor\":\"#2a3f5f\",\"arrowhead\":0,\"arrowwidth\":1},\"autotypenumbers\":\"strict\",\"coloraxis\":{\"colorbar\":{\"outlinewidth\":0,\"ticks\":\"\"}},\"colorscale\":{\"diverging\":[[0,\"#8e0152\"],[0.1,\"#c51b7d\"],[0.2,\"#de77ae\"],[0.3,\"#f1b6da\"],[0.4,\"#fde0ef\"],[0.5,\"#f7f7f7\"],[0.6,\"#e6f5d0\"],[0.7,\"#b8e186\"],[0.8,\"#7fbc41\"],[0.9,\"#4d9221\"],[1,\"#276419\"]],\"sequential\":[[0.0,\"#0d0887\"],[0.1111111111111111,\"#46039f\"],[0.2222222222222222,\"#7201a8\"],[0.3333333333333333,\"#9c179e\"],[0.4444444444444444,\"#bd3786\"],[0.5555555555555556,\"#d8576b\"],[0.6666666666666666,\"#ed7953\"],[0.7777777777777778,\"#fb9f3a\"],[0.8888888888888888,\"#fdca26\"],[1.0,\"#f0f921\"]],\"sequentialminus\":[[0.0,\"#0d0887\"],[0.1111111111111111,\"#46039f\"],[0.2222222222222222,\"#7201a8\"],[0.3333333333333333,\"#9c179e\"],[0.4444444444444444,\"#bd3786\"],[0.5555555555555556,\"#d8576b\"],[0.6666666666666666,\"#ed7953\"],[0.7777777777777778,\"#fb9f3a\"],[0.8888888888888888,\"#fdca26\"],[1.0,\"#f0f921\"]]},\"colorway\":[\"#636efa\",\"#EF553B\",\"#00cc96\",\"#ab63fa\",\"#FFA15A\",\"#19d3f3\",\"#FF6692\",\"#B6E880\",\"#FF97FF\",\"#FECB52\"],\"font\":{\"color\":\"#2a3f5f\"},\"geo\":{\"bgcolor\":\"white\",\"lakecolor\":\"white\",\"landcolor\":\"#E5ECF6\",\"showlakes\":true,\"showland\":true,\"subunitcolor\":\"white\"},\"hoverlabel\":{\"align\":\"left\"},\"hovermode\":\"closest\",\"mapbox\":{\"style\":\"light\"},\"paper_bgcolor\":\"white\",\"plot_bgcolor\":\"#E5ECF6\",\"polar\":{\"angularaxis\":{\"gridcolor\":\"white\",\"linecolor\":\"white\",\"ticks\":\"\"},\"bgcolor\":\"#E5ECF6\",\"radialaxis\":{\"gridcolor\":\"white\",\"linecolor\":\"white\",\"ticks\":\"\"}},\"scene\":{\"xaxis\":{\"backgroundcolor\":\"#E5ECF6\",\"gridcolor\":\"white\",\"gridwidth\":2,\"linecolor\":\"white\",\"showbackground\":true,\"ticks\":\"\",\"zerolinecolor\":\"white\"},\"yaxis\":{\"backgroundcolor\":\"#E5ECF6\",\"gridcolor\":\"white\",\"gridwidth\":2,\"linecolor\":\"white\",\"showbackground\":true,\"ticks\":\"\",\"zerolinecolor\":\"white\"},\"zaxis\":{\"backgroundcolor\":\"#E5ECF6\",\"gridcolor\":\"white\",\"gridwidth\":2,\"linecolor\":\"white\",\"showbackground\":true,\"ticks\":\"\",\"zerolinecolor\":\"white\"}},\"shapedefaults\":{\"line\":{\"color\":\"#2a3f5f\"}},\"ternary\":{\"aaxis\":{\"gridcolor\":\"white\",\"linecolor\":\"white\",\"ticks\":\"\"},\"baxis\":{\"gridcolor\":\"white\",\"linecolor\":\"white\",\"ticks\":\"\"},\"bgcolor\":\"#E5ECF6\",\"caxis\":{\"gridcolor\":\"white\",\"linecolor\":\"white\",\"ticks\":\"\"}},\"title\":{\"x\":0.05},\"xaxis\":{\"automargin\":true,\"gridcolor\":\"white\",\"linecolor\":\"white\",\"ticks\":\"\",\"title\":{\"standoff\":15},\"zerolinecolor\":\"white\",\"zerolinewidth\":2},\"yaxis\":{\"automargin\":true,\"gridcolor\":\"white\",\"linecolor\":\"white\",\"ticks\":\"\",\"title\":{\"standoff\":15},\"zerolinecolor\":\"white\",\"zerolinewidth\":2}}},\"legend\":{\"title\":{\"text\":\"area\"},\"tracegroupgap\":0},\"margin\":{\"t\":60},\"dragmode\":\"select\"},                        {\"responsive\": true}                    ).then(function(){\n",
       "                            \n",
       "var gd = document.getElementById('c46abdfb-7ae2-4f59-b661-9c607b458b98');\n",
       "var x = new MutationObserver(function (mutations, observer) {{\n",
       "        var display = window.getComputedStyle(gd).display;\n",
       "        if (!display || display === 'none') {{\n",
       "            console.log([gd, 'removed!']);\n",
       "            Plotly.purge(gd);\n",
       "            observer.disconnect();\n",
       "        }}\n",
       "}});\n",
       "\n",
       "// Listen for the removal of the full notebook cells\n",
       "var notebookContainer = gd.closest('#notebook-container');\n",
       "if (notebookContainer) {{\n",
       "    x.observe(notebookContainer, {childList: true});\n",
       "}}\n",
       "\n",
       "// Listen for the clearing of the current output cell\n",
       "var outputEl = gd.closest('.output');\n",
       "if (outputEl) {{\n",
       "    x.observe(outputEl, {childList: true});\n",
       "}}\n",
       "\n",
       "                        })                };                });            </script>        </div>"
      ]
     },
     "metadata": {},
     "output_type": "display_data"
    }
   ],
   "source": [
    "fig = px.scatter_matrix(cane_sugar, dimensions=[\"year_pc\", \"total_kgs_CO2_9\", \"Population\"], color=\"area\", color_discrete_sequence =px.colors.sequential.Viridis)\n",
    "fig.show()"
   ]
  },
  {
   "cell_type": "markdown",
   "id": "c86f45f0",
   "metadata": {},
   "source": [
    "Throughout the data the structure of the emissions over years was consistent with a gradual increase in other corresponding factors. Looking at the 43 food product categories that were broken down and evaluated a similar trend was seen among all points. Since 2000 when our data began there has been a gradual linear increase in the over all CO2 production from all factors of query.\n",
    "\n",
    "Utilizing a matrix through Plotly Ex became instrumental in comparing the data in a comparative and visually appealing manor. With 220 individual countries x the 43 food product categories x the 20 years of data per country there is 189,200 factors. Through the matrix scatter plot we are able to individually group points of query and how they interact while keeping data integrity across the set. This code block as well as others was utilized for all 43 Products and see unknown trends. Another notable finding was in the production of barley (beer), it was one of the higher producing foods but was not a cornered industry like sugar cane being predominantly from Brazil and India. There was a fairly even country wide distribution of barely production and corresponding CO2 emission. People like beer!\n"
   ]
  },
  {
   "attachments": {},
   "cell_type": "markdown",
   "id": "da31943a",
   "metadata": {},
   "source": [
    "### Machine Learning \n",
    "### Extra Trees Regressor\n",
    "\n",
    "\n",
    "\n",
    "1. **Does the amount of agricultural production predict the CO2 emissions of a country?**\n",
    "\n",
    "Three different models were tested for performance in their ability to predict overall CO2 emissions based on CO2 emissions of individual products. The Extra Trees Regressor model had the highest R2 value and lowest MSE and MAE values. Also, no predicted values differed dramatically from actual values. For these reasons we decided to use the ExtraTreesRegressor for our machine learning model.\n"
   ]
  },
  {
   "cell_type": "code",
   "execution_count": 31,
   "id": "987f4ff2",
   "metadata": {},
   "outputs": [
    {
     "data": {
      "image/png": "[encoded data removed]",
      "text/plain": [
       "<Figure size 360x360 with 1 Axes>"
      ]
     },
     "metadata": {
      "needs_background": "light"
     },
     "output_type": "display_data"
    }
   ],
   "source": [
    "# Plot real values vs predicted for Extra Trees Regressor\n",
    "plt.figure(figsize=(5,5))\n",
    "plt.scatter(pred_df['Real Values'], pred_df['Predicted Values'])\n",
    "plt.xlabel(\"Real Values\")\n",
    "plt.ylabel(\"Predicted Values\")\n",
    "plt.show() "
   ]
  },
  {
   "cell_type": "code",
   "execution_count": 30,
   "id": "94dc61e7",
   "metadata": {},
   "outputs": [
    {
     "data": {
      "text/plain": [
       "<AxesSubplot:>"
      ]
     },
     "execution_count": 30,
     "metadata": {},
     "output_type": "execute_result"
    },
    {
     "data": {
      "image/png": "[encoded data removed]",
      "text/plain": [
       "<Figure size 432x288 with 1 Axes>"
      ]
     },
     "metadata": {
      "needs_background": "light"
     },
     "output_type": "display_data"
    }
   ],
   "source": [
    "feat_importances = pd.Series(etr.feature_importances_, index=X.columns)\n",
    "feat_importances.nlargest(20).plot(kind='barh')"
   ]
  },
  {
   "cell_type": "markdown",
   "id": "c9eb48d0",
   "metadata": {},
   "source": [
    "Another reason for choosing this model was that it allowed us to sort features based on importance. This will help us tune the model by excluding unimportant features and provides us with insightful information about the data by telling us which features are most important in predicting overall CO2 levels.\n",
    "\n",
    "This model appeared to tell us that categories 3, 19, and 32 were the most significant features. These correspond to barley, maize, and poultry meat respectively with maize being the most important feature in predicting CO2 emissions by far. This does not mean that maize production emmits the most CO2 but that the amount of CO2 produced by maize production in any given country during any given year between 2000 and 2020 correlates very closely with the overall C02 emissions of that country during that year."
   ]
  },
  {
   "cell_type": "markdown",
   "id": "ed6efff5",
   "metadata": {},
   "source": [
    "Noteworthy further research directions should someone widen the scope of the project:\n",
    "\n",
    "Study other  greenhouse gases in the light of their effects on global warming.\n",
    "Fun fact: methane—CH4—is 20X more powerful than CO2 in furthering global warming.\n",
    "This has many implications for the rise in Earth’s mean temperature, especially in the short term—accelerating us toward a “tipping point.”\n",
    "So why are we so interested in CO2?\n",
    "Because, even so, methane is only 25% of global warming.\n",
    "CO2 is 74%—almost 3X as much.\n"
   ]
  }
 ],
 "metadata": {
  "kernelspec": {
   "display_name": "Python 3 (ipykernel)",
   "language": "python",
   "name": "python3"
  },
  "language_info": {
   "codemirror_mode": {
    "name": "ipython",
    "version": 3
   },
   "file_extension": ".py",
   "mimetype": "text/x-python",
   "name": "python",
   "nbconvert_exporter": "python",
   "pygments_lexer": "ipython3",
   "version": "3.9.12"
  }
 },
 "nbformat": 4,
 "nbformat_minor": 5
}
